{
  "cells": [
    {
      "cell_type": "markdown",
      "metadata": {
        "nteract": {
          "transient": {
            "deleting": false
          }
        }
      },
      "source": [
        "Notebook: GSA_SAM_Initial_Delta_Table_Creation_PUBLIC<br>\n",
        "Created by: Joshua Wilshere<br>\n",
        "Created On: 4/3/24<br><br>\n",
        "Synapse Spark Pool Version: 3.4<br><br>\n",
        "Dependencies:<br> \n",
        "1. Unzipped pipe-delimited SAM monthly file in source_dir\n",
        "    - Historical Public Files available here: https://sam.gov/data-services/Entity%20Registration/Public%20-%20Historical?privacy=Public\n",
        "    - Current Public Files available here: https://sam.gov/data-services/Entity%20Registration/Public%20V2?privacy=Public\n",
        "2. Accurate list of SAM column headers in GSA_SAM_COLUMN_HEADERS_PUBLIC.csv<br><br></ol>\n",
        "Purpose: Write initial monthly SAM file to target data source to serve as a base for future daily and monthly file incremental loads"
      ]
    },
    {
      "cell_type": "code",
      "execution_count": null,
      "metadata": {
        "jupyter": {
          "outputs_hidden": false,
          "source_hidden": false
        },
        "nteract": {
          "transient": {
            "deleting": false
          }
        }
      },
      "outputs": [],
      "source": [
        "# Processes in this notebook\n",
        "# 1. Load SAM file column headers into Pandas dataframe\n",
        "# 2. Create dictionary of column headers with all dtypes set to string\n",
        "# 3. Load initial monthly SAM file into Pandas dataframe using dictionary of column headers and datatypes\n",
        "# 4. Convert Pandas dataframe to Spark dataframe\n",
        "# 5. Combine composite key columns into single unique entity key\n",
        "# 6. Add initial audit columns\n",
        "# 7. Convert NullType() Columns to StringType()\n",
        "# 8. Create hash code of fields to track changes in (AUD_HASH_CODE)\n",
        "# 9. Create surrogate unique key (AUD_SEQ_ID) and derive partition key\n",
        "# 10. Update spark dataframe with final column order\n",
        "# 11. Write initial data to silver delta file\n",
        "# 12 (optional). Run Z-Order clustering on data\n",
        "\n",
        "# Adapted from: https://iterationinsights.com/article/how-to-implement-slowly-changing-dimensions-scd-type-2-using-delta-table/"
      ]
    },
    {
      "cell_type": "markdown",
      "metadata": {
        "nteract": {
          "transient": {
            "deleting": false
          }
        }
      },
      "source": [
        "# <font size=\"5\">0. Initialize packages, file names, and file paths"
      ]
    },
    {
      "cell_type": "code",
      "execution_count": 1,
      "metadata": {
        "jupyter": {
          "outputs_hidden": false
        }
      },
      "outputs": [
        {
          "data": {
            "application/vnd.livy.statement-meta+json": {
              "execution_finish_time": "2025-06-12T02:05:34.9203428Z",
              "execution_start_time": "2025-06-12T02:05:25.7577775Z",
              "livy_statement_state": "available",
              "normalized_state": "finished",
              "parent_msg_id": "e2bc318b-38b0-482a-8603-c45493964c6b",
              "queued_time": "2025-06-12T02:02:26.8593072Z",
              "session_id": "2",
              "session_start_time": "2025-06-12T02:02:26.8612625Z",
              "spark_jobs": null,
              "spark_pool": "spk3u4py3u10",
              "state": "finished",
              "statement_id": 2,
              "statement_ids": [
                2
              ]
            },
            "text/plain": [
              "StatementMeta(spk3u4py3u10, 2, 2, Finished, Available, Finished)"
            ]
          },
          "metadata": {},
          "output_type": "display_data"
        }
      ],
      "source": [
        "import pandas as pd\n",
        "import os\n",
        "\n",
        "# https://spark.apache.org/docs/latest/api/python/reference/pyspark.sql/functions.html\n",
        "#from pyspark.sql.functions import concat, col, coalesce, lit, sha2, concat_ws, row_number, cast, window\n",
        "from delta.tables import *\n",
        "from pyspark.sql.functions import *\n",
        "from pyspark.sql.window import Window"
      ]
    },
    {
      "cell_type": "code",
      "execution_count": 2,
      "metadata": {
        "jupyter": {
          "outputs_hidden": false,
          "source_hidden": false
        },
        "nteract": {
          "transient": {
            "deleting": false
          }
        }
      },
      "outputs": [
        {
          "data": {
            "application/vnd.livy.statement-meta+json": {
              "execution_finish_time": "2025-06-12T02:05:44.3956556Z",
              "execution_start_time": "2025-06-12T02:05:44.1221742Z",
              "livy_statement_state": "available",
              "normalized_state": "finished",
              "parent_msg_id": "bbfb796e-30cf-4e35-9561-1a8fd410de81",
              "queued_time": "2025-06-12T02:05:44.1187345Z",
              "session_id": "2",
              "session_start_time": null,
              "spark_jobs": null,
              "spark_pool": "spk3u4py3u10",
              "state": "finished",
              "statement_id": 3,
              "statement_ids": [
                3
              ]
            },
            "text/plain": [
              "StatementMeta(spk3u4py3u10, 2, 3, Finished, Available, Finished)"
            ]
          },
          "metadata": {},
          "output_type": "display_data"
        }
      ],
      "source": [
        "# Set the file name of column header definitions\n",
        "header_csv = 'GSA_SAM_COLUMN_HEADERS_PUBLIC.csv'\n",
        "\n",
        "# Set the source file to be loaded\n",
        "source_file = 'SAM_PUBLIC_MONTHLY_V2_20241103.dat'\n",
        "\n",
        "# Set the source_date as the file date\n",
        "source_date = source_file[-12:-4]"
      ]
    },
    {
      "cell_type": "code",
      "execution_count": null,
      "metadata": {
        "jupyter": {
          "outputs_hidden": false,
          "source_hidden": false
        },
        "nteract": {
          "transient": {
            "deleting": false
          }
        }
      },
      "outputs": [
        {
          "data": {
            "application/vnd.livy.statement-meta+json": {
              "execution_finish_time": "2025-06-12T02:05:44.7331625Z",
              "execution_start_time": "2025-06-12T02:05:44.4078378Z",
              "livy_statement_state": "available",
              "normalized_state": "finished",
              "parent_msg_id": "0d93376f-721b-4ec3-8eb9-ddc829a0bad5",
              "queued_time": "2025-06-12T02:05:44.1847064Z",
              "session_id": "2",
              "session_start_time": null,
              "spark_jobs": null,
              "spark_pool": "spk3u4py3u10",
              "state": "finished",
              "statement_id": 4,
              "statement_ids": [
                4
              ]
            },
            "text/plain": [
              "StatementMeta(spk3u4py3u10, 2, 4, Finished, Available, Finished)"
            ]
          },
          "metadata": {},
          "output_type": "display_data"
        }
      ],
      "source": [
        "source_dir = 'abfss://bronze@<storage account name>.dfs.core.usgovcloudapi.net/GSA_SAM_PUBLIC/'\n",
        "silver_path = 'abfss://silver@<storage account name>.dfs.core.usgovcloudapi.net/GSA_SAM_PUBLIC/'\n",
        "gold_path = 'abfss://gold@<storage account name>.dfs.core.usgovcloudapi.net/GSA_SAM_PUBLIC/'"
      ]
    },
    {
      "cell_type": "markdown",
      "metadata": {
        "nteract": {
          "transient": {
            "deleting": false
          }
        }
      },
      "source": [
        "# <font size=\"5\">1. Load SAM file column headers into Pandas dataframe"
      ]
    },
    {
      "cell_type": "code",
      "execution_count": null,
      "metadata": {
        "jupyter": {
          "outputs_hidden": false,
          "source_hidden": false
        },
        "nteract": {
          "transient": {
            "deleting": false
          }
        }
      },
      "outputs": [
        {
          "data": {
            "application/vnd.livy.statement-meta+json": {
              "execution_finish_time": "2025-06-12T02:05:46.789027Z",
              "execution_start_time": "2025-06-12T02:05:44.7479382Z",
              "livy_statement_state": "available",
              "normalized_state": "finished",
              "parent_msg_id": "1329e0ad-d940-4b8c-b635-90b613f83dc8",
              "queued_time": "2025-06-12T02:05:44.2665027Z",
              "session_id": "2",
              "session_start_time": null,
              "spark_jobs": null,
              "spark_pool": "spk3u4py3u10",
              "state": "finished",
              "statement_id": 5,
              "statement_ids": [
                5
              ]
            },
            "text/plain": [
              "StatementMeta(spk3u4py3u10, 2, 5, Finished, Available, Finished)"
            ]
          },
          "metadata": {},
          "output_type": "display_data"
        }
      ],
      "source": [
        "# Create dataframe with column names\n",
        "#col_df = pd.read_csv(source_dir + header_csv,\n",
        "col_df = pd.read_csv(os.path.join(source_dir + header_csv),\n",
        "    storage_options = {'linked_service' : '<linked service name>'})"
      ]
    },
    {
      "cell_type": "code",
      "execution_count": 5,
      "metadata": {
        "jupyter": {
          "outputs_hidden": false,
          "source_hidden": false
        },
        "nteract": {
          "transient": {
            "deleting": false
          }
        }
      },
      "outputs": [
        {
          "data": {
            "application/vnd.livy.statement-meta+json": {
              "execution_finish_time": "2025-06-12T02:05:47.0688803Z",
              "execution_start_time": "2025-06-12T02:05:46.8038182Z",
              "livy_statement_state": "available",
              "normalized_state": "finished",
              "parent_msg_id": "1b5639ca-00bc-48fc-bfcd-f5f66ac98d37",
              "queued_time": "2025-06-12T02:05:44.3464028Z",
              "session_id": "2",
              "session_start_time": null,
              "spark_jobs": null,
              "spark_pool": "spk3u4py3u10",
              "state": "finished",
              "statement_id": 6,
              "statement_ids": [
                6
              ]
            },
            "text/plain": [
              "StatementMeta(spk3u4py3u10, 2, 6, Finished, Available, Finished)"
            ]
          },
          "metadata": {},
          "output_type": "display_data"
        }
      ],
      "source": [
        "#col_df"
      ]
    },
    {
      "cell_type": "markdown",
      "metadata": {
        "nteract": {
          "transient": {
            "deleting": false
          }
        }
      },
      "source": [
        "# <font size=\"5\">2. Create dictionary of column headers with all dtypes set to string"
      ]
    },
    {
      "cell_type": "code",
      "execution_count": 6,
      "metadata": {
        "jupyter": {
          "outputs_hidden": true,
          "source_hidden": false
        },
        "nteract": {
          "transient": {
            "deleting": false
          }
        }
      },
      "outputs": [
        {
          "data": {
            "application/vnd.livy.statement-meta+json": {
              "execution_finish_time": "2025-06-12T02:05:47.4078527Z",
              "execution_start_time": "2025-06-12T02:05:47.0874025Z",
              "livy_statement_state": "available",
              "normalized_state": "finished",
              "parent_msg_id": "598e3d58-282e-4a0e-bf63-b8a5982ecb78",
              "queued_time": "2025-06-12T02:05:44.5966046Z",
              "session_id": "2",
              "session_start_time": null,
              "spark_jobs": null,
              "spark_pool": "spk3u4py3u10",
              "state": "finished",
              "statement_id": 7,
              "statement_ids": [
                7
              ]
            },
            "text/plain": [
              "StatementMeta(spk3u4py3u10, 2, 7, Finished, Available, Finished)"
            ]
          },
          "metadata": {},
          "output_type": "display_data"
        }
      ],
      "source": [
        "# Create list of column names and dictionary of column names with all datatypes set to 'str'\n",
        "var_dict = {}\n",
        "var_list = []\n",
        "for i in range(col_df.shape[1]):\n",
        "    #var_str = ''\n",
        "    #var_str = \"'{}':'object'\".format(col_df.columns[i])\n",
        "    var_dict[col_df.columns[i]] = 'str'\n",
        "    var_list.append(col_df.columns[i])"
      ]
    },
    {
      "cell_type": "code",
      "execution_count": 7,
      "metadata": {
        "jupyter": {
          "outputs_hidden": true,
          "source_hidden": false
        },
        "nteract": {
          "transient": {
            "deleting": false
          }
        }
      },
      "outputs": [
        {
          "data": {
            "application/vnd.livy.statement-meta+json": {
              "execution_finish_time": "2025-06-12T02:05:47.6815556Z",
              "execution_start_time": "2025-06-12T02:05:47.4208691Z",
              "livy_statement_state": "available",
              "normalized_state": "finished",
              "parent_msg_id": "65ec3540-8253-4011-b964-b5bb9dad8f8b",
              "queued_time": "2025-06-12T02:05:44.95535Z",
              "session_id": "2",
              "session_start_time": null,
              "spark_jobs": null,
              "spark_pool": "spk3u4py3u10",
              "state": "finished",
              "statement_id": 8,
              "statement_ids": [
                8
              ]
            },
            "text/plain": [
              "StatementMeta(spk3u4py3u10, 2, 8, Finished, Available, Finished)"
            ]
          },
          "metadata": {},
          "output_type": "display_data"
        }
      ],
      "source": [
        "#print(var_dict)"
      ]
    },
    {
      "cell_type": "code",
      "execution_count": 8,
      "metadata": {
        "jupyter": {
          "outputs_hidden": false,
          "source_hidden": false
        },
        "nteract": {
          "transient": {
            "deleting": false
          }
        }
      },
      "outputs": [
        {
          "data": {
            "application/vnd.livy.statement-meta+json": {
              "execution_finish_time": "2025-06-12T02:05:47.9656737Z",
              "execution_start_time": "2025-06-12T02:05:47.6954177Z",
              "livy_statement_state": "available",
              "normalized_state": "finished",
              "parent_msg_id": "dec9fd61-1abf-4bc5-b551-24c02b42216e",
              "queued_time": "2025-06-12T02:05:45.2830495Z",
              "session_id": "2",
              "session_start_time": null,
              "spark_jobs": null,
              "spark_pool": "spk3u4py3u10",
              "state": "finished",
              "statement_id": 9,
              "statement_ids": [
                9
              ]
            },
            "text/plain": [
              "StatementMeta(spk3u4py3u10, 2, 9, Finished, Available, Finished)"
            ]
          },
          "metadata": {},
          "output_type": "display_data"
        }
      ],
      "source": [
        "#print(var_list)"
      ]
    },
    {
      "cell_type": "code",
      "execution_count": null,
      "metadata": {
        "jupyter": {
          "outputs_hidden": false,
          "source_hidden": false
        },
        "nteract": {
          "transient": {
            "deleting": false
          }
        }
      },
      "outputs": [],
      "source": [
        "source_path = os.path.join(source_dir,source_file)\n",
        "print(source_path)"
      ]
    },
    {
      "cell_type": "markdown",
      "metadata": {
        "nteract": {
          "transient": {
            "deleting": false
          }
        }
      },
      "source": [
        "# <font size=\"5\">3. Load initial monthly SAM file into Pandas dataframe using dictionary of column headers and datatypes"
      ]
    },
    {
      "cell_type": "code",
      "execution_count": null,
      "metadata": {
        "jupyter": {
          "outputs_hidden": false,
          "source_hidden": false
        },
        "nteract": {
          "transient": {
            "deleting": false
          }
        }
      },
      "outputs": [
        {
          "data": {
            "application/vnd.livy.statement-meta+json": {
              "execution_finish_time": "2025-06-12T02:06:58.1186019Z",
              "execution_start_time": "2025-06-12T02:05:48.3239746Z",
              "livy_statement_state": "available",
              "normalized_state": "finished",
              "parent_msg_id": "bab50a1a-8d22-4d06-93ed-c6ad740ad5cc",
              "queued_time": "2025-06-12T02:05:45.5486611Z",
              "session_id": "2",
              "session_start_time": null,
              "spark_jobs": null,
              "spark_pool": "spk3u4py3u10",
              "state": "finished",
              "statement_id": 11,
              "statement_ids": [
                11
              ]
            },
            "text/plain": [
              "StatementMeta(spk3u4py3u10, 2, 11, Finished, Available, Finished)"
            ]
          },
          "metadata": {},
          "output_type": "display_data"
        }
      ],
      "source": [
        "# Create dataframe from datafile using columns and datatypes set above\n",
        "pdf = pd.read_csv(source_path,\n",
        "    #delimiter='|',\n",
        "    sep='|',\n",
        "    names=var_list,\n",
        "    dtype=var_dict,\n",
        "    quoting=3, #3 = QUOTE_NONE\n",
        "    doublequote=False,\n",
        "    # skip garbage header and footer rows\n",
        "    skiprows=1,\n",
        "    skipfooter=1,\n",
        "    # python engine must be specified for skipfooter to work\n",
        "    engine='python',\n",
        "    ### for testing errors/rejected records ###\n",
        "    # 'error', raise an Exception when a bad line is encountered.\n",
        "    # 'warn', raise a warning when a bad line is encountered and skip that line.\n",
        "    # 'skip', skip bad lines without raising or warning when they are encountered.\n",
        "    on_bad_lines = 'warn',\n",
        "\n",
        "    storage_options = {'linked_service' : '<linked service name>'})"
      ]
    },
    {
      "cell_type": "code",
      "execution_count": 11,
      "metadata": {},
      "outputs": [
        {
          "data": {
            "application/vnd.livy.statement-meta+json": {
              "execution_finish_time": "2025-06-12T02:06:58.4342726Z",
              "execution_start_time": "2025-06-12T02:06:58.1494138Z",
              "livy_statement_state": "available",
              "normalized_state": "finished",
              "parent_msg_id": "61d10a58-87f1-4c54-8347-6aadd4c83ab8",
              "queued_time": "2025-06-12T02:05:45.6274709Z",
              "session_id": "2",
              "session_start_time": null,
              "spark_jobs": null,
              "spark_pool": "spk3u4py3u10",
              "state": "finished",
              "statement_id": 12,
              "statement_ids": [
                12
              ]
            },
            "text/plain": [
              "StatementMeta(spk3u4py3u10, 2, 12, Finished, Available, Finished)"
            ]
          },
          "metadata": {},
          "output_type": "display_data"
        }
      ],
      "source": [
        "# Increase number of rows/columns data frames will display in a print command\n",
        "# Reference: https://pandas.pydata.org/docs/user_guide/options.html\n",
        "# Also recommended - enable output scrolling by opening VSCode User Settings, searching for notebook.output.scrolling and checking the box\n",
        "pd.options.display.max_rows = 999\n",
        "pd.options.display.max_columns = None"
      ]
    },
    {
      "cell_type": "code",
      "execution_count": 12,
      "metadata": {
        "jupyter": {
          "outputs_hidden": false,
          "source_hidden": false
        },
        "nteract": {
          "transient": {
            "deleting": false
          }
        }
      },
      "outputs": [
        {
          "data": {
            "application/vnd.livy.statement-meta+json": {
              "execution_finish_time": "2025-06-12T02:06:58.7915936Z",
              "execution_start_time": "2025-06-12T02:06:58.447603Z",
              "livy_statement_state": "available",
              "normalized_state": "finished",
              "parent_msg_id": "ef89b952-1b61-40b1-8a75-2d1077eb339e",
              "queued_time": "2025-06-12T02:05:45.8905586Z",
              "session_id": "2",
              "session_start_time": null,
              "spark_jobs": null,
              "spark_pool": "spk3u4py3u10",
              "state": "finished",
              "statement_id": 13,
              "statement_ids": [
                13
              ]
            },
            "text/plain": [
              "StatementMeta(spk3u4py3u10, 2, 13, Finished, Available, Finished)"
            ]
          },
          "metadata": {},
          "output_type": "display_data"
        },
        {
          "data": {
            "text/html": [
              "<div>\n",
              "<style scoped>\n",
              "    .dataframe tbody tr th:only-of-type {\n",
              "        vertical-align: middle;\n",
              "    }\n",
              "\n",
              "    .dataframe tbody tr th {\n",
              "        vertical-align: top;\n",
              "    }\n",
              "\n",
              "    .dataframe thead th {\n",
              "        text-align: right;\n",
              "    }\n",
              "</style>\n",
              "<table border=\"1\" class=\"dataframe\">\n",
              "  <thead>\n",
              "    <tr style=\"text-align: right;\">\n",
              "      <th></th>\n",
              "      <th>UNIQUE_ENTITY_ID</th>\n",
              "      <th>BLANK_DEPRECATED</th>\n",
              "      <th>ENTITY_EFT_INDICATOR</th>\n",
              "      <th>CAGE_CODE</th>\n",
              "      <th>DODAAC</th>\n",
              "      <th>SAM_EXTRACT_CODE</th>\n",
              "      <th>PURPOSE_OF_REGISTRATION</th>\n",
              "      <th>INITIAL_REGISTRATION_DATE</th>\n",
              "      <th>REGISTRATION_EXPIRATION_DATE</th>\n",
              "      <th>LAST_UPDATE_DATE</th>\n",
              "      <th>ACTIVATION_DATE</th>\n",
              "      <th>LEGAL_BUSINESS_NAME</th>\n",
              "      <th>DBA_NAME</th>\n",
              "      <th>ENTITY_DIVISION_NAME</th>\n",
              "      <th>ENTITY_DIVISION_NUMBER</th>\n",
              "      <th>PHYSICAL_ADDRESS_LINE_1</th>\n",
              "      <th>PHYSICAL_ADDRESS_LINE_2</th>\n",
              "      <th>PHYSICAL_ADDRESS_CITY</th>\n",
              "      <th>PHYSICAL_ADDRESS_PROVINCE_OR_STATE</th>\n",
              "      <th>PHYSICAL_ADDRESS_ZIP/POSTAL_CODE</th>\n",
              "      <th>PHYSICAL_ADDRESS_ZIP_CODE_4</th>\n",
              "      <th>PHYSICAL_ADDRESS_COUNTRY_CODE</th>\n",
              "      <th>PHYSICAL_ADDRESS_CONGRESSIONAL_DISTRICT</th>\n",
              "      <th>D&amp;B_OPEN_DATA_FLAG</th>\n",
              "      <th>ENTITY_START_DATE</th>\n",
              "      <th>FISCAL_YEAR_END_CLOSE_DATE</th>\n",
              "      <th>ENTITY_URL</th>\n",
              "      <th>ENTITY_STRUCTURE</th>\n",
              "      <th>STATE_OF_INCORPORATION</th>\n",
              "      <th>COUNTRY_OF_INCORPORATION</th>\n",
              "      <th>BUSINESS_TYPE_COUNTER</th>\n",
              "      <th>BUS_TYPE_STRING</th>\n",
              "      <th>PRIMARY_NAICS</th>\n",
              "      <th>NAICS_CODE_COUNTER</th>\n",
              "      <th>NAICS_CODE_STRING</th>\n",
              "      <th>PSC_CODE_COUNTER</th>\n",
              "      <th>PSC_CODE_STRING</th>\n",
              "      <th>CREDIT_CARD_USAGE</th>\n",
              "      <th>CORRESPONDENCE_FLAG</th>\n",
              "      <th>MAILING_ADDRESS_LINE_1</th>\n",
              "      <th>MAILING_ADDRESS_LINE_2</th>\n",
              "      <th>MAILING_ADDRESS_CITY</th>\n",
              "      <th>MAILING_ADDRESS_ZIP/POSTAL_CODE</th>\n",
              "      <th>MAILING_ADDRESS_ZIP_CODE_4</th>\n",
              "      <th>MAILING_ADDRESS_COUNTRY</th>\n",
              "      <th>MAILING_ADDRESS_STATE_OR_PROVINCE</th>\n",
              "      <th>GOVT_BUS_POC_FIRST_NAME</th>\n",
              "      <th>GOVT_BUS_POC_MIDDLE_INITIAL</th>\n",
              "      <th>GOVT_BUS_POC_LAST_NAME</th>\n",
              "      <th>GOVT_BUS_POC_TITLE</th>\n",
              "      <th>GOVT_BUS_POC_ST_ADD_1</th>\n",
              "      <th>GOVT_BUS_POC_ST_ADD_2</th>\n",
              "      <th>GOVT_BUS_POC_CITY</th>\n",
              "      <th>GOVT_BUS_POC_ZIP/POSTAL_CODE</th>\n",
              "      <th>GOVT_BUS_POC_ZIP_CODE_4</th>\n",
              "      <th>GOVT_BUS_POC_COUNTRY_CODE</th>\n",
              "      <th>GOVT_BUS_POC_STATE_OR_PROVINCE</th>\n",
              "      <th>ALT_GOVT_BUS_POC_FIRST_NAME</th>\n",
              "      <th>ALT_GOVT_BUS_POC_MIDDLE_INITIAL</th>\n",
              "      <th>ALT_GOVT_BUS_POC_LAST_NAME</th>\n",
              "      <th>ALT_GOVT_BUS_POC_TITLE</th>\n",
              "      <th>ALT_GOVT_BUS_POC_ST_ADD_1</th>\n",
              "      <th>ALT_GOVT_BUS_POC_ST_ADD_2</th>\n",
              "      <th>ALT_GOVT_BUS_POC_CITY</th>\n",
              "      <th>ALT_GOVT_BUS_POC_ZIP/POSTAL_CODE</th>\n",
              "      <th>ALT_GOVT_BUS_POC_ZIP_CODE_4</th>\n",
              "      <th>ALT_GOVT_BUS_POC_COUNTRY_CODE</th>\n",
              "      <th>ALT_GOVT_BUS_POC_STATE_OR_PROVINCE</th>\n",
              "      <th>PAST_PERF_POC_POC_FIRST_NAME</th>\n",
              "      <th>PAST_PERF_POC_POC_MIDDLE_INITIAL</th>\n",
              "      <th>PAST_PERF_POC_POC_LAST_NAME</th>\n",
              "      <th>PAST_PERF_POC_POC_TITLE</th>\n",
              "      <th>PAST_PERF_POC_ST_ADD_1</th>\n",
              "      <th>PAST_PERF_POC_ST_ADD_2</th>\n",
              "      <th>PAST_PERF_POC_CITY</th>\n",
              "      <th>PAST_PERF_POC_ZIP/POSTAL_CODE</th>\n",
              "      <th>PAST_PERF_POC_ZIP_CODE_4</th>\n",
              "      <th>PAST_PERF_POC_COUNTRY_CODE</th>\n",
              "      <th>PAST_PERF_POC_STATE_OR_PROVINCE</th>\n",
              "      <th>ALT_PAST_PERF_POC_FIRST_NAME</th>\n",
              "      <th>ALT_PAST_PERF_POC_MIDDLE_INITIAL</th>\n",
              "      <th>ALT_PAST_PERF_POC_LAST_NAME</th>\n",
              "      <th>ALT_PAST_PERF_POC_TITLE</th>\n",
              "      <th>ALT_PAST_PERF_POC_ST_ADD_1</th>\n",
              "      <th>ALT_PAST_PERF_POC_ST_ADD_2</th>\n",
              "      <th>ALT_PAST_PERF_POC_CITY</th>\n",
              "      <th>ALT_PAST_PERF_POC_ZIP/POSTAL_CODE</th>\n",
              "      <th>ALT_PAST_PERF_POC_ZIP_CODE_4</th>\n",
              "      <th>ALT_PAST_PERF_POC_COUNTRY_CODE</th>\n",
              "      <th>ALT_PAST_PERF_POC_STATE_OR_PROVINCE</th>\n",
              "      <th>ELEC_BUS_POC_FIRST_NAME</th>\n",
              "      <th>ELEC_BUS_POC_MIDDLE_INITIAL</th>\n",
              "      <th>ELEC_BUS_POC_LAST_NAME</th>\n",
              "      <th>ELEC_BUS_POC_TITLE</th>\n",
              "      <th>ELEC_BUS_POC_ST_ADD_1</th>\n",
              "      <th>ELEC_BUS_POC_ST_ADD_2</th>\n",
              "      <th>ELEC_BUS_POC_CITY</th>\n",
              "      <th>ELEC_BUS_POC_ZIP/POSTAL_CODE</th>\n",
              "      <th>ELEC_BUS_POC_ZIP_CODE_4</th>\n",
              "      <th>ELEC_BUS_POC_COUNTRY_CODE</th>\n",
              "      <th>ELEC_BUS_POC_STATE_OR_PROVINCE</th>\n",
              "      <th>ALT_ELEC_POC_BUS_POC_FIRST_NAME</th>\n",
              "      <th>ALT_ELEC_POC_BUS_POC_MIDDLE_INITIAL</th>\n",
              "      <th>ALT_ELEC_POC_BUS_POC_LAST_NAME</th>\n",
              "      <th>ALT_ELEC_POC_BUS_POC_TITLE</th>\n",
              "      <th>ALT_ELEC_POC_BUS_ST_ADD_1</th>\n",
              "      <th>ALT_ELEC_POC_BUS_ST_ADD_2</th>\n",
              "      <th>ALT_ELEC_POC_BUS_CITY</th>\n",
              "      <th>ALT_ELEC_POC_BUS_ZIP/POSTAL_CODE</th>\n",
              "      <th>ALT_ELEC_POC_BUS_ZIP_CODE_4</th>\n",
              "      <th>ALT_ELEC_POC_BUS_COUNTRY_CODE</th>\n",
              "      <th>ALT_ELEC_POC_BUS_STATE_OR_PROVINCE</th>\n",
              "      <th>NAICS_EXCEPTION_COUNTER</th>\n",
              "      <th>NAICS_EXCEPTION_STRING</th>\n",
              "      <th>DEBT_SUBJECT_TO_OFFSET_FLAG</th>\n",
              "      <th>EXCLUSION_STATUS_FLAG</th>\n",
              "      <th>SBA_BUSINESS_TYPES_COUNTER</th>\n",
              "      <th>SBA_BUSINESS_TYPES_STRING</th>\n",
              "      <th>NO_PUBLIC_DISPLAY_FLAG</th>\n",
              "      <th>DISASTER_RESPONSE_COUNTER</th>\n",
              "      <th>DISASTER_RESPONSE_STRING</th>\n",
              "      <th>ENTITY_EVS_SOURCE</th>\n",
              "      <th>FLEX_FIELD_1</th>\n",
              "      <th>FLEX_FIELD_2</th>\n",
              "      <th>FLEX_FIELD_3</th>\n",
              "      <th>FLEX_FIELD_4</th>\n",
              "      <th>FLEX_FIELD_5</th>\n",
              "      <th>FLEX_FIELD_6</th>\n",
              "      <th>FLEX_FIELD_7</th>\n",
              "      <th>FLEX_FIELD_8</th>\n",
              "      <th>FLEX_FIELD_9</th>\n",
              "      <th>FLEX_FIELD_10</th>\n",
              "      <th>FLEX_FIELD_11</th>\n",
              "      <th>FLEX_FIELD_12</th>\n",
              "      <th>FLEX_FIELD_13</th>\n",
              "      <th>FLEX_FIELD_14</th>\n",
              "      <th>FLEX_FIELD_15</th>\n",
              "      <th>FLEX_FIELD_16</th>\n",
              "      <th>FLEX_FIELD_17</th>\n",
              "      <th>FLEX_FIELD_18</th>\n",
              "      <th>FLEX_FIELD_19</th>\n",
              "      <th>END_OF_RECORD_INDICATOR</th>\n",
              "    </tr>\n",
              "  </thead>\n",
              "  <tbody>\n",
              "    <tr>\n",
              "      <th>0</th>\n",
              "      <td>C111ATT311C8</td>\n",
              "      <td>NaN</td>\n",
              "      <td>NaN</td>\n",
              "      <td>53YC5</td>\n",
              "      <td>NaN</td>\n",
              "      <td>A</td>\n",
              "      <td>Z2</td>\n",
              "      <td>20131112</td>\n",
              "      <td>20250625</td>\n",
              "      <td>20240627</td>\n",
              "      <td>20240627</td>\n",
              "      <td>K &amp; K CONSTRUCTION SUPPLY INC</td>\n",
              "      <td>NaN</td>\n",
              "      <td>NaN</td>\n",
              "      <td>NaN</td>\n",
              "      <td>11400 WHITE ROCK RD</td>\n",
              "      <td>NaN</td>\n",
              "      <td>RANCHO CORDOVA</td>\n",
              "      <td>CA</td>\n",
              "      <td>95742</td>\n",
              "      <td>6600</td>\n",
              "      <td>USA</td>\n",
              "      <td>06</td>\n",
              "      <td>NaN</td>\n",
              "      <td>20060525</td>\n",
              "      <td>1215</td>\n",
              "      <td>www.kkconstructionsupply.com</td>\n",
              "      <td>2L</td>\n",
              "      <td>NV</td>\n",
              "      <td>USA</td>\n",
              "      <td>0005</td>\n",
              "      <td>2X~8W~A2~HQ~XS</td>\n",
              "      <td>423390</td>\n",
              "      <td>0009</td>\n",
              "      <td>423310Y~423320Y~423390Y~423510Y~423710Y~423990...</td>\n",
              "      <td>0001</td>\n",
              "      <td>5680</td>\n",
              "      <td>Y</td>\n",
              "      <td>NaN</td>\n",
              "      <td>11400 WHITE ROCK ROAD</td>\n",
              "      <td>NaN</td>\n",
              "      <td>RANCHO CORDOVA</td>\n",
              "      <td>95742</td>\n",
              "      <td>7518</td>\n",
              "      <td>USA</td>\n",
              "      <td>CA</td>\n",
              "      <td>TRACY</td>\n",
              "      <td>NaN</td>\n",
              "      <td>LOVELAND</td>\n",
              "      <td>DIRECTOR</td>\n",
              "      <td>11400 WHITE ROCK ROAD</td>\n",
              "      <td>NaN</td>\n",
              "      <td>RANCHO CORDOVA</td>\n",
              "      <td>95742</td>\n",
              "      <td>NaN</td>\n",
              "      <td>USA</td>\n",
              "      <td>CA</td>\n",
              "      <td>NaN</td>\n",
              "      <td>NaN</td>\n",
              "      <td>NaN</td>\n",
              "      <td>NaN</td>\n",
              "      <td>NaN</td>\n",
              "      <td>NaN</td>\n",
              "      <td>NaN</td>\n",
              "      <td>NaN</td>\n",
              "      <td>NaN</td>\n",
              "      <td>NaN</td>\n",
              "      <td>NaN</td>\n",
              "      <td>NaN</td>\n",
              "      <td>NaN</td>\n",
              "      <td>NaN</td>\n",
              "      <td>NaN</td>\n",
              "      <td>NaN</td>\n",
              "      <td>NaN</td>\n",
              "      <td>NaN</td>\n",
              "      <td>NaN</td>\n",
              "      <td>NaN</td>\n",
              "      <td>NaN</td>\n",
              "      <td>NaN</td>\n",
              "      <td>NaN</td>\n",
              "      <td>NaN</td>\n",
              "      <td>NaN</td>\n",
              "      <td>NaN</td>\n",
              "      <td>NaN</td>\n",
              "      <td>NaN</td>\n",
              "      <td>NaN</td>\n",
              "      <td>NaN</td>\n",
              "      <td>NaN</td>\n",
              "      <td>NaN</td>\n",
              "      <td>NaN</td>\n",
              "      <td>TRACY</td>\n",
              "      <td>NaN</td>\n",
              "      <td>LOVELAND</td>\n",
              "      <td>PRESIDENT</td>\n",
              "      <td>11400 WHITE ROCK ROAD</td>\n",
              "      <td>NaN</td>\n",
              "      <td>RANCHO CORDOVA</td>\n",
              "      <td>95742</td>\n",
              "      <td>NaN</td>\n",
              "      <td>USA</td>\n",
              "      <td>CA</td>\n",
              "      <td>NaN</td>\n",
              "      <td>NaN</td>\n",
              "      <td>NaN</td>\n",
              "      <td>NaN</td>\n",
              "      <td>NaN</td>\n",
              "      <td>NaN</td>\n",
              "      <td>NaN</td>\n",
              "      <td>NaN</td>\n",
              "      <td>NaN</td>\n",
              "      <td>NaN</td>\n",
              "      <td>NaN</td>\n",
              "      <td>0000</td>\n",
              "      <td>NaN</td>\n",
              "      <td>N</td>\n",
              "      <td>NaN</td>\n",
              "      <td>0000</td>\n",
              "      <td>NaN</td>\n",
              "      <td>NaN</td>\n",
              "      <td>0000</td>\n",
              "      <td>NaN</td>\n",
              "      <td>E&amp;Y</td>\n",
              "      <td>NaN</td>\n",
              "      <td>NaN</td>\n",
              "      <td>NaN</td>\n",
              "      <td>NaN</td>\n",
              "      <td>NaN</td>\n",
              "      <td>NaN</td>\n",
              "      <td>NaN</td>\n",
              "      <td>NaN</td>\n",
              "      <td>NaN</td>\n",
              "      <td>NaN</td>\n",
              "      <td>NaN</td>\n",
              "      <td>NaN</td>\n",
              "      <td>NaN</td>\n",
              "      <td>NaN</td>\n",
              "      <td>NaN</td>\n",
              "      <td>NaN</td>\n",
              "      <td>NaN</td>\n",
              "      <td>NaN</td>\n",
              "      <td>NaN</td>\n",
              "      <td>!end</td>\n",
              "    </tr>\n",
              "    <tr>\n",
              "      <th>1</th>\n",
              "      <td>C111BG66D155</td>\n",
              "      <td>NaN</td>\n",
              "      <td>NaN</td>\n",
              "      <td>6M9A6</td>\n",
              "      <td>NaN</td>\n",
              "      <td>A</td>\n",
              "      <td>Z1</td>\n",
              "      <td>20111228</td>\n",
              "      <td>20250724</td>\n",
              "      <td>20240729</td>\n",
              "      <td>20240726</td>\n",
              "      <td>NEW ADVANCES FOR PEOPLE WITH DISABILITIES</td>\n",
              "      <td>NAPD</td>\n",
              "      <td>NAPD</td>\n",
              "      <td>NaN</td>\n",
              "      <td>3400 N SILLECT AVE</td>\n",
              "      <td>NaN</td>\n",
              "      <td>BAKERSFIELD</td>\n",
              "      <td>CA</td>\n",
              "      <td>93308</td>\n",
              "      <td>6363</td>\n",
              "      <td>USA</td>\n",
              "      <td>20</td>\n",
              "      <td>NaN</td>\n",
              "      <td>19750301</td>\n",
              "      <td>0922</td>\n",
              "      <td>www.napd-bak.org</td>\n",
              "      <td>8H</td>\n",
              "      <td>CA</td>\n",
              "      <td>USA</td>\n",
              "      <td>0001</td>\n",
              "      <td>A8</td>\n",
              "      <td>NaN</td>\n",
              "      <td>0000</td>\n",
              "      <td>NaN</td>\n",
              "      <td>0000</td>\n",
              "      <td>NaN</td>\n",
              "      <td>Y</td>\n",
              "      <td>NaN</td>\n",
              "      <td>3400 N. SILLECT AVENUE</td>\n",
              "      <td>NaN</td>\n",
              "      <td>BAKERSFIELD</td>\n",
              "      <td>93308</td>\n",
              "      <td>1815</td>\n",
              "      <td>USA</td>\n",
              "      <td>CA</td>\n",
              "      <td>RICHARD</td>\n",
              "      <td>NaN</td>\n",
              "      <td>BARENCHI</td>\n",
              "      <td>DIRECTOR OF OPERATIONS &amp; FINANCE</td>\n",
              "      <td>3400 N. SILLECT AVENUE</td>\n",
              "      <td>NaN</td>\n",
              "      <td>BAKERSFIELD</td>\n",
              "      <td>93308</td>\n",
              "      <td>NaN</td>\n",
              "      <td>USA</td>\n",
              "      <td>CA</td>\n",
              "      <td>NaN</td>\n",
              "      <td>NaN</td>\n",
              "      <td>NaN</td>\n",
              "      <td>NaN</td>\n",
              "      <td>NaN</td>\n",
              "      <td>NaN</td>\n",
              "      <td>NaN</td>\n",
              "      <td>NaN</td>\n",
              "      <td>NaN</td>\n",
              "      <td>NaN</td>\n",
              "      <td>NaN</td>\n",
              "      <td>NaN</td>\n",
              "      <td>NaN</td>\n",
              "      <td>NaN</td>\n",
              "      <td>NaN</td>\n",
              "      <td>NaN</td>\n",
              "      <td>NaN</td>\n",
              "      <td>NaN</td>\n",
              "      <td>NaN</td>\n",
              "      <td>NaN</td>\n",
              "      <td>NaN</td>\n",
              "      <td>NaN</td>\n",
              "      <td>NaN</td>\n",
              "      <td>NaN</td>\n",
              "      <td>NaN</td>\n",
              "      <td>NaN</td>\n",
              "      <td>NaN</td>\n",
              "      <td>NaN</td>\n",
              "      <td>NaN</td>\n",
              "      <td>NaN</td>\n",
              "      <td>NaN</td>\n",
              "      <td>NaN</td>\n",
              "      <td>NaN</td>\n",
              "      <td>RICHARD</td>\n",
              "      <td>NaN</td>\n",
              "      <td>BARENCHI</td>\n",
              "      <td>DIRECTOR OF OPERATIONS &amp; FINANCE</td>\n",
              "      <td>3400 N. SILLECT AVENUE</td>\n",
              "      <td>NaN</td>\n",
              "      <td>BAKERSFIELD</td>\n",
              "      <td>93308</td>\n",
              "      <td>NaN</td>\n",
              "      <td>USA</td>\n",
              "      <td>CA</td>\n",
              "      <td>NaN</td>\n",
              "      <td>NaN</td>\n",
              "      <td>NaN</td>\n",
              "      <td>NaN</td>\n",
              "      <td>NaN</td>\n",
              "      <td>NaN</td>\n",
              "      <td>NaN</td>\n",
              "      <td>NaN</td>\n",
              "      <td>NaN</td>\n",
              "      <td>NaN</td>\n",
              "      <td>NaN</td>\n",
              "      <td>0000</td>\n",
              "      <td>NaN</td>\n",
              "      <td>N</td>\n",
              "      <td>NaN</td>\n",
              "      <td>0000</td>\n",
              "      <td>NaN</td>\n",
              "      <td>NaN</td>\n",
              "      <td>0000</td>\n",
              "      <td>NaN</td>\n",
              "      <td>E&amp;Y</td>\n",
              "      <td>NaN</td>\n",
              "      <td>NaN</td>\n",
              "      <td>NaN</td>\n",
              "      <td>NaN</td>\n",
              "      <td>NaN</td>\n",
              "      <td>NaN</td>\n",
              "      <td>NaN</td>\n",
              "      <td>NaN</td>\n",
              "      <td>NaN</td>\n",
              "      <td>NaN</td>\n",
              "      <td>NaN</td>\n",
              "      <td>NaN</td>\n",
              "      <td>NaN</td>\n",
              "      <td>NaN</td>\n",
              "      <td>NaN</td>\n",
              "      <td>NaN</td>\n",
              "      <td>NaN</td>\n",
              "      <td>NaN</td>\n",
              "      <td>NaN</td>\n",
              "      <td>!end</td>\n",
              "    </tr>\n",
              "  </tbody>\n",
              "</table>\n",
              "</div>"
            ],
            "text/plain": [
              "  UNIQUE_ENTITY_ID BLANK_DEPRECATED ENTITY_EFT_INDICATOR CAGE_CODE DODAAC  \\\n",
              "0     C111ATT311C8              NaN                  NaN     53YC5    NaN   \n",
              "1     C111BG66D155              NaN                  NaN     6M9A6    NaN   \n",
              "\n",
              "  SAM_EXTRACT_CODE PURPOSE_OF_REGISTRATION INITIAL_REGISTRATION_DATE  \\\n",
              "0                A                      Z2                  20131112   \n",
              "1                A                      Z1                  20111228   \n",
              "\n",
              "  REGISTRATION_EXPIRATION_DATE LAST_UPDATE_DATE ACTIVATION_DATE  \\\n",
              "0                     20250625         20240627        20240627   \n",
              "1                     20250724         20240729        20240726   \n",
              "\n",
              "                         LEGAL_BUSINESS_NAME DBA_NAME ENTITY_DIVISION_NAME  \\\n",
              "0              K & K CONSTRUCTION SUPPLY INC      NaN                  NaN   \n",
              "1  NEW ADVANCES FOR PEOPLE WITH DISABILITIES     NAPD                 NAPD   \n",
              "\n",
              "  ENTITY_DIVISION_NUMBER PHYSICAL_ADDRESS_LINE_1 PHYSICAL_ADDRESS_LINE_2  \\\n",
              "0                    NaN     11400 WHITE ROCK RD                     NaN   \n",
              "1                    NaN      3400 N SILLECT AVE                     NaN   \n",
              "\n",
              "  PHYSICAL_ADDRESS_CITY PHYSICAL_ADDRESS_PROVINCE_OR_STATE  \\\n",
              "0        RANCHO CORDOVA                                 CA   \n",
              "1           BAKERSFIELD                                 CA   \n",
              "\n",
              "  PHYSICAL_ADDRESS_ZIP/POSTAL_CODE PHYSICAL_ADDRESS_ZIP_CODE_4  \\\n",
              "0                            95742                        6600   \n",
              "1                            93308                        6363   \n",
              "\n",
              "  PHYSICAL_ADDRESS_COUNTRY_CODE PHYSICAL_ADDRESS_CONGRESSIONAL_DISTRICT  \\\n",
              "0                           USA                                      06   \n",
              "1                           USA                                      20   \n",
              "\n",
              "  D&B_OPEN_DATA_FLAG ENTITY_START_DATE FISCAL_YEAR_END_CLOSE_DATE  \\\n",
              "0                NaN          20060525                       1215   \n",
              "1                NaN          19750301                       0922   \n",
              "\n",
              "                     ENTITY_URL ENTITY_STRUCTURE STATE_OF_INCORPORATION  \\\n",
              "0  www.kkconstructionsupply.com               2L                     NV   \n",
              "1              www.napd-bak.org               8H                     CA   \n",
              "\n",
              "  COUNTRY_OF_INCORPORATION BUSINESS_TYPE_COUNTER BUS_TYPE_STRING  \\\n",
              "0                      USA                  0005  2X~8W~A2~HQ~XS   \n",
              "1                      USA                  0001              A8   \n",
              "\n",
              "  PRIMARY_NAICS NAICS_CODE_COUNTER  \\\n",
              "0        423390               0009   \n",
              "1           NaN               0000   \n",
              "\n",
              "                                   NAICS_CODE_STRING PSC_CODE_COUNTER  \\\n",
              "0  423310Y~423320Y~423390Y~423510Y~423710Y~423990...             0001   \n",
              "1                                                NaN             0000   \n",
              "\n",
              "  PSC_CODE_STRING CREDIT_CARD_USAGE CORRESPONDENCE_FLAG  \\\n",
              "0            5680                 Y                 NaN   \n",
              "1             NaN                 Y                 NaN   \n",
              "\n",
              "   MAILING_ADDRESS_LINE_1 MAILING_ADDRESS_LINE_2 MAILING_ADDRESS_CITY  \\\n",
              "0   11400 WHITE ROCK ROAD                    NaN       RANCHO CORDOVA   \n",
              "1  3400 N. SILLECT AVENUE                    NaN          BAKERSFIELD   \n",
              "\n",
              "  MAILING_ADDRESS_ZIP/POSTAL_CODE MAILING_ADDRESS_ZIP_CODE_4  \\\n",
              "0                           95742                       7518   \n",
              "1                           93308                       1815   \n",
              "\n",
              "  MAILING_ADDRESS_COUNTRY MAILING_ADDRESS_STATE_OR_PROVINCE  \\\n",
              "0                     USA                                CA   \n",
              "1                     USA                                CA   \n",
              "\n",
              "  GOVT_BUS_POC_FIRST_NAME GOVT_BUS_POC_MIDDLE_INITIAL GOVT_BUS_POC_LAST_NAME  \\\n",
              "0                   TRACY                         NaN               LOVELAND   \n",
              "1                 RICHARD                         NaN               BARENCHI   \n",
              "\n",
              "                 GOVT_BUS_POC_TITLE   GOVT_BUS_POC_ST_ADD_1  \\\n",
              "0                          DIRECTOR   11400 WHITE ROCK ROAD   \n",
              "1  DIRECTOR OF OPERATIONS & FINANCE  3400 N. SILLECT AVENUE   \n",
              "\n",
              "  GOVT_BUS_POC_ST_ADD_2 GOVT_BUS_POC_CITY GOVT_BUS_POC_ZIP/POSTAL_CODE  \\\n",
              "0                   NaN    RANCHO CORDOVA                        95742   \n",
              "1                   NaN       BAKERSFIELD                        93308   \n",
              "\n",
              "  GOVT_BUS_POC_ZIP_CODE_4 GOVT_BUS_POC_COUNTRY_CODE  \\\n",
              "0                     NaN                       USA   \n",
              "1                     NaN                       USA   \n",
              "\n",
              "  GOVT_BUS_POC_STATE_OR_PROVINCE ALT_GOVT_BUS_POC_FIRST_NAME  \\\n",
              "0                             CA                         NaN   \n",
              "1                             CA                         NaN   \n",
              "\n",
              "  ALT_GOVT_BUS_POC_MIDDLE_INITIAL ALT_GOVT_BUS_POC_LAST_NAME  \\\n",
              "0                             NaN                        NaN   \n",
              "1                             NaN                        NaN   \n",
              "\n",
              "  ALT_GOVT_BUS_POC_TITLE ALT_GOVT_BUS_POC_ST_ADD_1 ALT_GOVT_BUS_POC_ST_ADD_2  \\\n",
              "0                    NaN                       NaN                       NaN   \n",
              "1                    NaN                       NaN                       NaN   \n",
              "\n",
              "  ALT_GOVT_BUS_POC_CITY ALT_GOVT_BUS_POC_ZIP/POSTAL_CODE  \\\n",
              "0                   NaN                              NaN   \n",
              "1                   NaN                              NaN   \n",
              "\n",
              "  ALT_GOVT_BUS_POC_ZIP_CODE_4 ALT_GOVT_BUS_POC_COUNTRY_CODE  \\\n",
              "0                         NaN                           NaN   \n",
              "1                         NaN                           NaN   \n",
              "\n",
              "  ALT_GOVT_BUS_POC_STATE_OR_PROVINCE PAST_PERF_POC_POC_FIRST_NAME  \\\n",
              "0                                NaN                          NaN   \n",
              "1                                NaN                          NaN   \n",
              "\n",
              "  PAST_PERF_POC_POC_MIDDLE_INITIAL PAST_PERF_POC_POC_LAST_NAME  \\\n",
              "0                              NaN                         NaN   \n",
              "1                              NaN                         NaN   \n",
              "\n",
              "  PAST_PERF_POC_POC_TITLE PAST_PERF_POC_ST_ADD_1 PAST_PERF_POC_ST_ADD_2  \\\n",
              "0                     NaN                    NaN                    NaN   \n",
              "1                     NaN                    NaN                    NaN   \n",
              "\n",
              "  PAST_PERF_POC_CITY PAST_PERF_POC_ZIP/POSTAL_CODE PAST_PERF_POC_ZIP_CODE_4  \\\n",
              "0                NaN                           NaN                      NaN   \n",
              "1                NaN                           NaN                      NaN   \n",
              "\n",
              "  PAST_PERF_POC_COUNTRY_CODE PAST_PERF_POC_STATE_OR_PROVINCE  \\\n",
              "0                        NaN                             NaN   \n",
              "1                        NaN                             NaN   \n",
              "\n",
              "  ALT_PAST_PERF_POC_FIRST_NAME ALT_PAST_PERF_POC_MIDDLE_INITIAL  \\\n",
              "0                          NaN                              NaN   \n",
              "1                          NaN                              NaN   \n",
              "\n",
              "  ALT_PAST_PERF_POC_LAST_NAME ALT_PAST_PERF_POC_TITLE  \\\n",
              "0                         NaN                     NaN   \n",
              "1                         NaN                     NaN   \n",
              "\n",
              "  ALT_PAST_PERF_POC_ST_ADD_1 ALT_PAST_PERF_POC_ST_ADD_2  \\\n",
              "0                        NaN                        NaN   \n",
              "1                        NaN                        NaN   \n",
              "\n",
              "  ALT_PAST_PERF_POC_CITY ALT_PAST_PERF_POC_ZIP/POSTAL_CODE  \\\n",
              "0                    NaN                               NaN   \n",
              "1                    NaN                               NaN   \n",
              "\n",
              "  ALT_PAST_PERF_POC_ZIP_CODE_4 ALT_PAST_PERF_POC_COUNTRY_CODE  \\\n",
              "0                          NaN                            NaN   \n",
              "1                          NaN                            NaN   \n",
              "\n",
              "  ALT_PAST_PERF_POC_STATE_OR_PROVINCE ELEC_BUS_POC_FIRST_NAME  \\\n",
              "0                                 NaN                   TRACY   \n",
              "1                                 NaN                 RICHARD   \n",
              "\n",
              "  ELEC_BUS_POC_MIDDLE_INITIAL ELEC_BUS_POC_LAST_NAME  \\\n",
              "0                         NaN               LOVELAND   \n",
              "1                         NaN               BARENCHI   \n",
              "\n",
              "                 ELEC_BUS_POC_TITLE   ELEC_BUS_POC_ST_ADD_1  \\\n",
              "0                         PRESIDENT   11400 WHITE ROCK ROAD   \n",
              "1  DIRECTOR OF OPERATIONS & FINANCE  3400 N. SILLECT AVENUE   \n",
              "\n",
              "  ELEC_BUS_POC_ST_ADD_2 ELEC_BUS_POC_CITY ELEC_BUS_POC_ZIP/POSTAL_CODE  \\\n",
              "0                   NaN    RANCHO CORDOVA                        95742   \n",
              "1                   NaN       BAKERSFIELD                        93308   \n",
              "\n",
              "  ELEC_BUS_POC_ZIP_CODE_4 ELEC_BUS_POC_COUNTRY_CODE  \\\n",
              "0                     NaN                       USA   \n",
              "1                     NaN                       USA   \n",
              "\n",
              "  ELEC_BUS_POC_STATE_OR_PROVINCE ALT_ELEC_POC_BUS_POC_FIRST_NAME  \\\n",
              "0                             CA                             NaN   \n",
              "1                             CA                             NaN   \n",
              "\n",
              "  ALT_ELEC_POC_BUS_POC_MIDDLE_INITIAL ALT_ELEC_POC_BUS_POC_LAST_NAME  \\\n",
              "0                                 NaN                            NaN   \n",
              "1                                 NaN                            NaN   \n",
              "\n",
              "  ALT_ELEC_POC_BUS_POC_TITLE ALT_ELEC_POC_BUS_ST_ADD_1  \\\n",
              "0                        NaN                       NaN   \n",
              "1                        NaN                       NaN   \n",
              "\n",
              "  ALT_ELEC_POC_BUS_ST_ADD_2 ALT_ELEC_POC_BUS_CITY  \\\n",
              "0                       NaN                   NaN   \n",
              "1                       NaN                   NaN   \n",
              "\n",
              "  ALT_ELEC_POC_BUS_ZIP/POSTAL_CODE ALT_ELEC_POC_BUS_ZIP_CODE_4  \\\n",
              "0                              NaN                         NaN   \n",
              "1                              NaN                         NaN   \n",
              "\n",
              "  ALT_ELEC_POC_BUS_COUNTRY_CODE ALT_ELEC_POC_BUS_STATE_OR_PROVINCE  \\\n",
              "0                           NaN                                NaN   \n",
              "1                           NaN                                NaN   \n",
              "\n",
              "  NAICS_EXCEPTION_COUNTER NAICS_EXCEPTION_STRING DEBT_SUBJECT_TO_OFFSET_FLAG  \\\n",
              "0                    0000                    NaN                           N   \n",
              "1                    0000                    NaN                           N   \n",
              "\n",
              "  EXCLUSION_STATUS_FLAG SBA_BUSINESS_TYPES_COUNTER SBA_BUSINESS_TYPES_STRING  \\\n",
              "0                   NaN                       0000                       NaN   \n",
              "1                   NaN                       0000                       NaN   \n",
              "\n",
              "  NO_PUBLIC_DISPLAY_FLAG DISASTER_RESPONSE_COUNTER DISASTER_RESPONSE_STRING  \\\n",
              "0                    NaN                      0000                      NaN   \n",
              "1                    NaN                      0000                      NaN   \n",
              "\n",
              "  ENTITY_EVS_SOURCE FLEX_FIELD_1 FLEX_FIELD_2 FLEX_FIELD_3 FLEX_FIELD_4  \\\n",
              "0               E&Y          NaN          NaN          NaN          NaN   \n",
              "1               E&Y          NaN          NaN          NaN          NaN   \n",
              "\n",
              "  FLEX_FIELD_5 FLEX_FIELD_6 FLEX_FIELD_7 FLEX_FIELD_8 FLEX_FIELD_9  \\\n",
              "0          NaN          NaN          NaN          NaN          NaN   \n",
              "1          NaN          NaN          NaN          NaN          NaN   \n",
              "\n",
              "  FLEX_FIELD_10 FLEX_FIELD_11 FLEX_FIELD_12 FLEX_FIELD_13 FLEX_FIELD_14  \\\n",
              "0           NaN           NaN           NaN           NaN           NaN   \n",
              "1           NaN           NaN           NaN           NaN           NaN   \n",
              "\n",
              "  FLEX_FIELD_15 FLEX_FIELD_16 FLEX_FIELD_17 FLEX_FIELD_18 FLEX_FIELD_19  \\\n",
              "0           NaN           NaN           NaN           NaN           NaN   \n",
              "1           NaN           NaN           NaN           NaN           NaN   \n",
              "\n",
              "  END_OF_RECORD_INDICATOR  \n",
              "0                    !end  \n",
              "1                    !end  "
            ]
          },
          "execution_count": 27,
          "metadata": {},
          "output_type": "execute_result"
        }
      ],
      "source": [
        "pdf.head(2)"
      ]
    },
    {
      "cell_type": "code",
      "execution_count": 13,
      "metadata": {
        "jupyter": {
          "outputs_hidden": false,
          "source_hidden": false
        },
        "nteract": {
          "transient": {
            "deleting": false
          }
        }
      },
      "outputs": [
        {
          "data": {
            "application/vnd.livy.statement-meta+json": {
              "execution_finish_time": "2025-06-12T02:06:59.0624441Z",
              "execution_start_time": "2025-06-12T02:06:58.8073002Z",
              "livy_statement_state": "available",
              "normalized_state": "finished",
              "parent_msg_id": "e23b4e93-fce3-4272-92a3-eead5b2eaa19",
              "queued_time": "2025-06-12T02:05:46.0878304Z",
              "session_id": "2",
              "session_start_time": null,
              "spark_jobs": null,
              "spark_pool": "spk3u4py3u10",
              "state": "finished",
              "statement_id": 14,
              "statement_ids": [
                14
              ]
            },
            "text/plain": [
              "StatementMeta(spk3u4py3u10, 2, 14, Finished, Available, Finished)"
            ]
          },
          "metadata": {},
          "output_type": "display_data"
        },
        {
          "data": {
            "text/plain": [
              "848539"
            ]
          },
          "execution_count": 29,
          "metadata": {},
          "output_type": "execute_result"
        }
      ],
      "source": [
        "pdf.shape[0]"
      ]
    },
    {
      "cell_type": "markdown",
      "metadata": {
        "nteract": {
          "transient": {
            "deleting": false
          }
        }
      },
      "source": [
        "# <font size=\"5\">4. Convert Pandas dataframe to Spark dataframe"
      ]
    },
    {
      "cell_type": "code",
      "execution_count": 14,
      "metadata": {
        "jupyter": {
          "outputs_hidden": false,
          "source_hidden": false
        },
        "nteract": {
          "transient": {
            "deleting": false
          }
        }
      },
      "outputs": [
        {
          "data": {
            "application/vnd.livy.statement-meta+json": {
              "execution_finish_time": "2025-06-12T02:07:23.0790908Z",
              "execution_start_time": "2025-06-12T02:06:59.0758786Z",
              "livy_statement_state": "available",
              "normalized_state": "finished",
              "parent_msg_id": "8689d278-c79d-43ad-8c7c-4b36c51f0d16",
              "queued_time": "2025-06-12T02:05:46.1813839Z",
              "session_id": "2",
              "session_start_time": null,
              "spark_jobs": null,
              "spark_pool": "spk3u4py3u10",
              "state": "finished",
              "statement_id": 15,
              "statement_ids": [
                15
              ]
            },
            "text/plain": [
              "StatementMeta(spk3u4py3u10, 2, 15, Finished, Available, Finished)"
            ]
          },
          "metadata": {},
          "output_type": "display_data"
        }
      ],
      "source": [
        "# Convert pandas dataframe to spark dataframe\n",
        "sam_main_df = spark.createDataFrame(pdf)"
      ]
    },
    {
      "cell_type": "code",
      "execution_count": 15,
      "metadata": {
        "jupyter": {
          "outputs_hidden": false,
          "source_hidden": false
        },
        "nteract": {
          "transient": {
            "deleting": false
          }
        }
      },
      "outputs": [
        {
          "data": {
            "application/vnd.livy.statement-meta+json": {
              "execution_finish_time": "2025-06-12T02:07:23.3783559Z",
              "execution_start_time": "2025-06-12T02:07:23.1196158Z",
              "livy_statement_state": "available",
              "normalized_state": "finished",
              "parent_msg_id": "90aa544a-3d90-4deb-80cd-52356fc3f5d6",
              "queued_time": "2025-06-12T02:05:46.250376Z",
              "session_id": "2",
              "session_start_time": null,
              "spark_jobs": null,
              "spark_pool": "spk3u4py3u10",
              "state": "finished",
              "statement_id": 16,
              "statement_ids": [
                16
              ]
            },
            "text/plain": [
              "StatementMeta(spk3u4py3u10, 2, 16, Finished, Available, Finished)"
            ]
          },
          "metadata": {},
          "output_type": "display_data"
        }
      ],
      "source": [
        "base_cols = sam_main_df.columns"
      ]
    },
    {
      "cell_type": "code",
      "execution_count": 16,
      "metadata": {
        "collapsed": false,
        "jupyter": {
          "outputs_hidden": false,
          "source_hidden": false
        },
        "nteract": {
          "transient": {
            "deleting": false
          }
        }
      },
      "outputs": [
        {
          "data": {
            "application/vnd.livy.statement-meta+json": {
              "execution_finish_time": "2025-06-12T02:07:32.7722558Z",
              "execution_start_time": "2025-06-12T02:07:23.3910621Z",
              "livy_statement_state": "available",
              "normalized_state": "finished",
              "parent_msg_id": "e8a9c029-2478-4118-b67a-e308c5892e4b",
              "queued_time": "2025-06-12T02:05:46.3881367Z",
              "session_id": "2",
              "session_start_time": null,
              "spark_jobs": null,
              "spark_pool": "spk3u4py3u10",
              "state": "finished",
              "statement_id": 17,
              "statement_ids": [
                17
              ]
            },
            "text/plain": [
              "StatementMeta(spk3u4py3u10, 2, 17, Finished, Available, Finished)"
            ]
          },
          "metadata": {},
          "output_type": "display_data"
        },
        {
          "data": {
            "application/vnd.synapse.widget-view+json": {
              "widget_id": "ceb40075-1e2a-4f6e-af57-f53be17b840d",
              "widget_type": "Synapse.DataFrame"
            },
            "text/plain": [
              "SynapseWidget(Synapse.DataFrame, ceb40075-1e2a-4f6e-af57-f53be17b840d)"
            ]
          },
          "metadata": {},
          "output_type": "display_data"
        }
      ],
      "source": [
        "display(sam_main_df.limit(10))"
      ]
    },
    {
      "cell_type": "markdown",
      "metadata": {
        "nteract": {
          "transient": {
            "deleting": false
          }
        }
      },
      "source": [
        "# <font size=\"5\">5. Combine composite key columns into single unique entity key"
      ]
    },
    {
      "cell_type": "code",
      "execution_count": 17,
      "metadata": {
        "jupyter": {
          "outputs_hidden": false,
          "source_hidden": false
        },
        "nteract": {
          "transient": {
            "deleting": false
          }
        }
      },
      "outputs": [
        {
          "data": {
            "application/vnd.livy.statement-meta+json": {
              "execution_finish_time": "2025-06-12T02:07:33.1165096Z",
              "execution_start_time": "2025-06-12T02:07:32.8183335Z",
              "livy_statement_state": "available",
              "normalized_state": "finished",
              "parent_msg_id": "428cd320-1141-404d-ae32-55c03bd06ced",
              "queued_time": "2025-06-12T02:05:46.4859048Z",
              "session_id": "2",
              "session_start_time": null,
              "spark_jobs": null,
              "spark_pool": "spk3u4py3u10",
              "state": "finished",
              "statement_id": 18,
              "statement_ids": [
                18
              ]
            },
            "text/plain": [
              "StatementMeta(spk3u4py3u10, 2, 18, Finished, Available, Finished)"
            ]
          },
          "metadata": {},
          "output_type": "display_data"
        }
      ],
      "source": [
        "# Create unique entity key by concatenating UNIQUE_ENTITY_ID,CAGE_CODE,DODAAC\n",
        "\n",
        "# Add column entityKey to dataframe\n",
        "# Replace null/undefined values with '' in concat expression\n",
        "sam_main_df= sam_main_df.withColumn(\"entityKey\",concat(coalesce(col(\"UNIQUE_ENTITY_ID\"),lit('')),\n",
        "    coalesce(col(\"CAGE_CODE\"),lit('')),\n",
        "    coalesce(col(\"DODAAC\"),lit(''))))"
      ]
    },
    {
      "cell_type": "code",
      "execution_count": 18,
      "metadata": {
        "jupyter": {
          "outputs_hidden": false,
          "source_hidden": false
        },
        "nteract": {
          "transient": {
            "deleting": false
          }
        }
      },
      "outputs": [
        {
          "data": {
            "application/vnd.livy.statement-meta+json": {
              "execution_finish_time": "2025-06-12T02:07:33.4539917Z",
              "execution_start_time": "2025-06-12T02:07:33.1605858Z",
              "livy_statement_state": "available",
              "normalized_state": "finished",
              "parent_msg_id": "04e4ba46-a08a-42ec-8c21-2b203f9c34a7",
              "queued_time": "2025-06-12T02:05:46.5808505Z",
              "session_id": "2",
              "session_start_time": null,
              "spark_jobs": null,
              "spark_pool": "spk3u4py3u10",
              "state": "finished",
              "statement_id": 19,
              "statement_ids": [
                19
              ]
            },
            "text/plain": [
              "StatementMeta(spk3u4py3u10, 2, 19, Finished, Available, Finished)"
            ]
          },
          "metadata": {},
          "output_type": "display_data"
        },
        {
          "data": {
            "text/plain": [
              "['UNIQUE_ENTITY_ID',\n",
              " 'BLANK_DEPRECATED',\n",
              " 'ENTITY_EFT_INDICATOR',\n",
              " 'CAGE_CODE',\n",
              " 'DODAAC',\n",
              " 'SAM_EXTRACT_CODE',\n",
              " 'PURPOSE_OF_REGISTRATION',\n",
              " 'INITIAL_REGISTRATION_DATE',\n",
              " 'REGISTRATION_EXPIRATION_DATE',\n",
              " 'LAST_UPDATE_DATE',\n",
              " 'ACTIVATION_DATE',\n",
              " 'LEGAL_BUSINESS_NAME',\n",
              " 'DBA_NAME',\n",
              " 'ENTITY_DIVISION_NAME',\n",
              " 'ENTITY_DIVISION_NUMBER',\n",
              " 'PHYSICAL_ADDRESS_LINE_1',\n",
              " 'PHYSICAL_ADDRESS_LINE_2',\n",
              " 'PHYSICAL_ADDRESS_CITY',\n",
              " 'PHYSICAL_ADDRESS_PROVINCE_OR_STATE',\n",
              " 'PHYSICAL_ADDRESS_ZIP/POSTAL_CODE',\n",
              " 'PHYSICAL_ADDRESS_ZIP_CODE_4',\n",
              " 'PHYSICAL_ADDRESS_COUNTRY_CODE',\n",
              " 'PHYSICAL_ADDRESS_CONGRESSIONAL_DISTRICT',\n",
              " 'D&B_OPEN_DATA_FLAG',\n",
              " 'ENTITY_START_DATE',\n",
              " 'FISCAL_YEAR_END_CLOSE_DATE',\n",
              " 'ENTITY_URL',\n",
              " 'ENTITY_STRUCTURE',\n",
              " 'STATE_OF_INCORPORATION',\n",
              " 'COUNTRY_OF_INCORPORATION',\n",
              " 'BUSINESS_TYPE_COUNTER',\n",
              " 'BUS_TYPE_STRING',\n",
              " 'PRIMARY_NAICS',\n",
              " 'NAICS_CODE_COUNTER',\n",
              " 'NAICS_CODE_STRING',\n",
              " 'PSC_CODE_COUNTER',\n",
              " 'PSC_CODE_STRING',\n",
              " 'CREDIT_CARD_USAGE',\n",
              " 'CORRESPONDENCE_FLAG',\n",
              " 'MAILING_ADDRESS_LINE_1',\n",
              " 'MAILING_ADDRESS_LINE_2',\n",
              " 'MAILING_ADDRESS_CITY',\n",
              " 'MAILING_ADDRESS_ZIP/POSTAL_CODE',\n",
              " 'MAILING_ADDRESS_ZIP_CODE_4',\n",
              " 'MAILING_ADDRESS_COUNTRY',\n",
              " 'MAILING_ADDRESS_STATE_OR_PROVINCE',\n",
              " 'GOVT_BUS_POC_FIRST_NAME',\n",
              " 'GOVT_BUS_POC_MIDDLE_INITIAL',\n",
              " 'GOVT_BUS_POC_LAST_NAME',\n",
              " 'GOVT_BUS_POC_TITLE',\n",
              " 'GOVT_BUS_POC_ST_ADD_1',\n",
              " 'GOVT_BUS_POC_ST_ADD_2',\n",
              " 'GOVT_BUS_POC_CITY',\n",
              " 'GOVT_BUS_POC_ZIP/POSTAL_CODE',\n",
              " 'GOVT_BUS_POC_ZIP_CODE_4',\n",
              " 'GOVT_BUS_POC_COUNTRY_CODE',\n",
              " 'GOVT_BUS_POC_STATE_OR_PROVINCE',\n",
              " 'ALT_GOVT_BUS_POC_FIRST_NAME',\n",
              " 'ALT_GOVT_BUS_POC_MIDDLE_INITIAL',\n",
              " 'ALT_GOVT_BUS_POC_LAST_NAME',\n",
              " 'ALT_GOVT_BUS_POC_TITLE',\n",
              " 'ALT_GOVT_BUS_POC_ST_ADD_1',\n",
              " 'ALT_GOVT_BUS_POC_ST_ADD_2',\n",
              " 'ALT_GOVT_BUS_POC_CITY',\n",
              " 'ALT_GOVT_BUS_POC_ZIP/POSTAL_CODE',\n",
              " 'ALT_GOVT_BUS_POC_ZIP_CODE_4',\n",
              " 'ALT_GOVT_BUS_POC_COUNTRY_CODE',\n",
              " 'ALT_GOVT_BUS_POC_STATE_OR_PROVINCE',\n",
              " 'PAST_PERF_POC_POC_FIRST_NAME',\n",
              " 'PAST_PERF_POC_POC_MIDDLE_INITIAL',\n",
              " 'PAST_PERF_POC_POC_LAST_NAME',\n",
              " 'PAST_PERF_POC_POC_TITLE',\n",
              " 'PAST_PERF_POC_ST_ADD_1',\n",
              " 'PAST_PERF_POC_ST_ADD_2',\n",
              " 'PAST_PERF_POC_CITY',\n",
              " 'PAST_PERF_POC_ZIP/POSTAL_CODE',\n",
              " 'PAST_PERF_POC_ZIP_CODE_4',\n",
              " 'PAST_PERF_POC_COUNTRY_CODE',\n",
              " 'PAST_PERF_POC_STATE_OR_PROVINCE',\n",
              " 'ALT_PAST_PERF_POC_FIRST_NAME',\n",
              " 'ALT_PAST_PERF_POC_MIDDLE_INITIAL',\n",
              " 'ALT_PAST_PERF_POC_LAST_NAME',\n",
              " 'ALT_PAST_PERF_POC_TITLE',\n",
              " 'ALT_PAST_PERF_POC_ST_ADD_1',\n",
              " 'ALT_PAST_PERF_POC_ST_ADD_2',\n",
              " 'ALT_PAST_PERF_POC_CITY',\n",
              " 'ALT_PAST_PERF_POC_ZIP/POSTAL_CODE',\n",
              " 'ALT_PAST_PERF_POC_ZIP_CODE_4',\n",
              " 'ALT_PAST_PERF_POC_COUNTRY_CODE',\n",
              " 'ALT_PAST_PERF_POC_STATE_OR_PROVINCE',\n",
              " 'ELEC_BUS_POC_FIRST_NAME',\n",
              " 'ELEC_BUS_POC_MIDDLE_INITIAL',\n",
              " 'ELEC_BUS_POC_LAST_NAME',\n",
              " 'ELEC_BUS_POC_TITLE',\n",
              " 'ELEC_BUS_POC_ST_ADD_1',\n",
              " 'ELEC_BUS_POC_ST_ADD_2',\n",
              " 'ELEC_BUS_POC_CITY',\n",
              " 'ELEC_BUS_POC_ZIP/POSTAL_CODE',\n",
              " 'ELEC_BUS_POC_ZIP_CODE_4',\n",
              " 'ELEC_BUS_POC_COUNTRY_CODE',\n",
              " 'ELEC_BUS_POC_STATE_OR_PROVINCE',\n",
              " 'ALT_ELEC_POC_BUS_POC_FIRST_NAME',\n",
              " 'ALT_ELEC_POC_BUS_POC_MIDDLE_INITIAL',\n",
              " 'ALT_ELEC_POC_BUS_POC_LAST_NAME',\n",
              " 'ALT_ELEC_POC_BUS_POC_TITLE',\n",
              " 'ALT_ELEC_POC_BUS_ST_ADD_1',\n",
              " 'ALT_ELEC_POC_BUS_ST_ADD_2',\n",
              " 'ALT_ELEC_POC_BUS_CITY',\n",
              " 'ALT_ELEC_POC_BUS_ZIP/POSTAL_CODE',\n",
              " 'ALT_ELEC_POC_BUS_ZIP_CODE_4',\n",
              " 'ALT_ELEC_POC_BUS_COUNTRY_CODE',\n",
              " 'ALT_ELEC_POC_BUS_STATE_OR_PROVINCE',\n",
              " 'NAICS_EXCEPTION_COUNTER',\n",
              " 'NAICS_EXCEPTION_STRING',\n",
              " 'DEBT_SUBJECT_TO_OFFSET_FLAG',\n",
              " 'EXCLUSION_STATUS_FLAG',\n",
              " 'SBA_BUSINESS_TYPES_COUNTER',\n",
              " 'SBA_BUSINESS_TYPES_STRING',\n",
              " 'NO_PUBLIC_DISPLAY_FLAG',\n",
              " 'DISASTER_RESPONSE_COUNTER',\n",
              " 'DISASTER_RESPONSE_STRING',\n",
              " 'ENTITY_EVS_SOURCE',\n",
              " 'FLEX_FIELD_1',\n",
              " 'FLEX_FIELD_2',\n",
              " 'FLEX_FIELD_3',\n",
              " 'FLEX_FIELD_4',\n",
              " 'FLEX_FIELD_5',\n",
              " 'FLEX_FIELD_6',\n",
              " 'FLEX_FIELD_7',\n",
              " 'FLEX_FIELD_8',\n",
              " 'FLEX_FIELD_9',\n",
              " 'FLEX_FIELD_10',\n",
              " 'FLEX_FIELD_11',\n",
              " 'FLEX_FIELD_12',\n",
              " 'FLEX_FIELD_13',\n",
              " 'FLEX_FIELD_14',\n",
              " 'FLEX_FIELD_15',\n",
              " 'FLEX_FIELD_16',\n",
              " 'FLEX_FIELD_17',\n",
              " 'FLEX_FIELD_18',\n",
              " 'FLEX_FIELD_19',\n",
              " 'END_OF_RECORD_INDICATOR',\n",
              " 'entityKey']"
            ]
          },
          "execution_count": 39,
          "metadata": {},
          "output_type": "execute_result"
        }
      ],
      "source": [
        "# Confirm column was added\n",
        "sam_main_df.columns"
      ]
    },
    {
      "cell_type": "code",
      "execution_count": 19,
      "metadata": {
        "collapsed": false,
        "jupyter": {
          "outputs_hidden": false,
          "source_hidden": false
        },
        "nteract": {
          "transient": {
            "deleting": false
          }
        }
      },
      "outputs": [
        {
          "data": {
            "application/vnd.livy.statement-meta+json": {
              "execution_finish_time": "2025-06-12T02:07:34.8074929Z",
              "execution_start_time": "2025-06-12T02:07:33.4667653Z",
              "livy_statement_state": "available",
              "normalized_state": "finished",
              "parent_msg_id": "7eccc109-6d7e-4f6f-9f73-a738e5e6b178",
              "queued_time": "2025-06-12T02:05:46.675292Z",
              "session_id": "2",
              "session_start_time": null,
              "spark_jobs": null,
              "spark_pool": "spk3u4py3u10",
              "state": "finished",
              "statement_id": 20,
              "statement_ids": [
                20
              ]
            },
            "text/plain": [
              "StatementMeta(spk3u4py3u10, 2, 20, Finished, Available, Finished)"
            ]
          },
          "metadata": {},
          "output_type": "display_data"
        },
        {
          "data": {
            "application/vnd.synapse.widget-view+json": {
              "widget_id": "03ca53e5-1420-49ed-8dcc-a43461b06ab7",
              "widget_type": "Synapse.DataFrame"
            },
            "text/plain": [
              "SynapseWidget(Synapse.DataFrame, 03ca53e5-1420-49ed-8dcc-a43461b06ab7)"
            ]
          },
          "metadata": {},
          "output_type": "display_data"
        }
      ],
      "source": [
        "# Confirm contents of entityKey\n",
        "display(sam_main_df.limit(10).select('entityKey', 'UNIQUE_ENTITY_ID','CAGE_CODE','DODAAC'))"
      ]
    },
    {
      "cell_type": "markdown",
      "metadata": {
        "nteract": {
          "transient": {
            "deleting": false
          }
        }
      },
      "source": [
        "# <font size=\"5\">6. Add initial audit columns"
      ]
    },
    {
      "cell_type": "code",
      "execution_count": 20,
      "metadata": {
        "jupyter": {
          "outputs_hidden": false,
          "source_hidden": false
        },
        "nteract": {
          "transient": {
            "deleting": false
          }
        }
      },
      "outputs": [
        {
          "data": {
            "application/vnd.livy.statement-meta+json": {
              "execution_finish_time": "2025-06-12T02:07:35.1521718Z",
              "execution_start_time": "2025-06-12T02:07:34.8224051Z",
              "livy_statement_state": "available",
              "normalized_state": "finished",
              "parent_msg_id": "a7b8d478-68df-4e32-a16e-c0bd26a9cb68",
              "queued_time": "2025-06-12T02:05:46.78035Z",
              "session_id": "2",
              "session_start_time": null,
              "spark_jobs": null,
              "spark_pool": "spk3u4py3u10",
              "state": "finished",
              "statement_id": 21,
              "statement_ids": [
                21
              ]
            },
            "text/plain": [
              "StatementMeta(spk3u4py3u10, 2, 21, Finished, Available, Finished)"
            ]
          },
          "metadata": {},
          "output_type": "display_data"
        }
      ],
      "source": [
        "# Add audit directory and filename columns\n",
        "# Spark SQL date/time patterns: https://spark.apache.org/docs/latest/sql-ref-datetime-pattern.html\n",
        "sam_main_df = sam_main_df.withColumn(\"AUD_DIRECTORY\",lit(source_dir)).\\\n",
        "                withColumn(\"AUD_FILENAME\",lit(source_file)).\\\n",
        "                withColumn(\"AUD_ACTIVE_FLAG\", lit(\"Y\")).\\\n",
        "                withColumn(\"EffectiveFromDate\", to_date(lit(source_date), \"yyyyMMdd\")).\\\n",
        "                withColumn(\"EffectiveToDate\", lit(None).cast(\"date\"))\n"
      ]
    },
    {
      "cell_type": "code",
      "execution_count": 21,
      "metadata": {
        "jupyter": {
          "outputs_hidden": true,
          "source_hidden": false
        },
        "nteract": {
          "transient": {
            "deleting": false
          }
        }
      },
      "outputs": [
        {
          "data": {
            "application/vnd.livy.statement-meta+json": {
              "execution_finish_time": "2025-06-12T02:07:35.4330468Z",
              "execution_start_time": "2025-06-12T02:07:35.1666482Z",
              "livy_statement_state": "available",
              "normalized_state": "finished",
              "parent_msg_id": "e9c2ee7a-b1db-4b9e-85c1-ad1c8944adf5",
              "queued_time": "2025-06-12T02:05:46.8849706Z",
              "session_id": "2",
              "session_start_time": null,
              "spark_jobs": null,
              "spark_pool": "spk3u4py3u10",
              "state": "finished",
              "statement_id": 22,
              "statement_ids": [
                22
              ]
            },
            "text/plain": [
              "StatementMeta(spk3u4py3u10, 2, 22, Finished, Available, Finished)"
            ]
          },
          "metadata": {},
          "output_type": "display_data"
        }
      ],
      "source": [
        "# Confirm column was added\n",
        "#sam_main_df.columns"
      ]
    },
    {
      "cell_type": "code",
      "execution_count": 22,
      "metadata": {
        "jupyter": {
          "outputs_hidden": false,
          "source_hidden": false
        },
        "nteract": {
          "transient": {
            "deleting": false
          }
        }
      },
      "outputs": [
        {
          "data": {
            "application/vnd.livy.statement-meta+json": {
              "execution_finish_time": "2025-06-12T02:07:35.7027559Z",
              "execution_start_time": "2025-06-12T02:07:35.4477123Z",
              "livy_statement_state": "available",
              "normalized_state": "finished",
              "parent_msg_id": "108e191c-b51c-488a-bdd2-f67d80ece882",
              "queued_time": "2025-06-12T02:05:46.9768834Z",
              "session_id": "2",
              "session_start_time": null,
              "spark_jobs": null,
              "spark_pool": "spk3u4py3u10",
              "state": "finished",
              "statement_id": 23,
              "statement_ids": [
                23
              ]
            },
            "text/plain": [
              "StatementMeta(spk3u4py3u10, 2, 23, Finished, Available, Finished)"
            ]
          },
          "metadata": {},
          "output_type": "display_data"
        }
      ],
      "source": [
        "# Create list of audit columns shared across tables\n",
        "aud_cols = ['AUD_DIRECTORY', 'AUD_FILENAME', 'AUD_ACTIVE_FLAG', 'EffectiveFromDate', 'EffectiveToDate']"
      ]
    },
    {
      "cell_type": "code",
      "execution_count": 23,
      "metadata": {
        "collapsed": false,
        "jupyter": {
          "outputs_hidden": false,
          "source_hidden": false
        },
        "nteract": {
          "transient": {
            "deleting": false
          }
        }
      },
      "outputs": [
        {
          "data": {
            "application/vnd.livy.statement-meta+json": {
              "execution_finish_time": "2025-06-12T02:07:39.9675843Z",
              "execution_start_time": "2025-06-12T02:07:35.7281486Z",
              "livy_statement_state": "available",
              "normalized_state": "finished",
              "parent_msg_id": "9bf30adb-0cee-4064-82b8-2cdee1ec09cf",
              "queued_time": "2025-06-12T02:05:47.3549341Z",
              "session_id": "2",
              "session_start_time": null,
              "spark_jobs": null,
              "spark_pool": "spk3u4py3u10",
              "state": "finished",
              "statement_id": 24,
              "statement_ids": [
                24
              ]
            },
            "text/plain": [
              "StatementMeta(spk3u4py3u10, 2, 24, Finished, Available, Finished)"
            ]
          },
          "metadata": {},
          "output_type": "display_data"
        },
        {
          "data": {
            "application/vnd.synapse.widget-view+json": {
              "widget_id": "3f676005-0cff-4d70-ba36-874357162397",
              "widget_type": "Synapse.DataFrame"
            },
            "text/plain": [
              "SynapseWidget(Synapse.DataFrame, 3f676005-0cff-4d70-ba36-874357162397)"
            ]
          },
          "metadata": {},
          "output_type": "display_data"
        }
      ],
      "source": [
        "# Confirm column contents\n",
        "display(sam_main_df.limit(2).select(*aud_cols))"
      ]
    },
    {
      "cell_type": "markdown",
      "metadata": {
        "nteract": {
          "transient": {
            "deleting": false
          }
        }
      },
      "source": [
        "# <font size=\"5\">7. Convert NullType() Columns to StringType()"
      ]
    },
    {
      "cell_type": "code",
      "execution_count": 24,
      "metadata": {
        "jupyter": {
          "outputs_hidden": false,
          "source_hidden": false
        },
        "nteract": {
          "transient": {
            "deleting": false
          }
        }
      },
      "outputs": [
        {
          "data": {
            "application/vnd.livy.statement-meta+json": {
              "execution_finish_time": "2025-06-12T02:07:40.2667614Z",
              "execution_start_time": "2025-06-12T02:07:39.985686Z",
              "livy_statement_state": "available",
              "normalized_state": "finished",
              "parent_msg_id": "af1f722f-ab54-458c-ad6b-00c41b509f49",
              "queued_time": "2025-06-12T02:05:47.6469969Z",
              "session_id": "2",
              "session_start_time": null,
              "spark_jobs": null,
              "spark_pool": "spk3u4py3u10",
              "state": "finished",
              "statement_id": 25,
              "statement_ids": [
                25
              ]
            },
            "text/plain": [
              "StatementMeta(spk3u4py3u10, 2, 25, Finished, Available, Finished)"
            ]
          },
          "metadata": {},
          "output_type": "display_data"
        }
      ],
      "source": [
        "# Assign the spark dataframe schema to variable schemaStruct\n",
        "# .schema returns a StructType object\n",
        "schemaStruct = sam_main_df.schema"
      ]
    },
    {
      "cell_type": "code",
      "execution_count": 25,
      "metadata": {
        "jupyter": {
          "outputs_hidden": false,
          "source_hidden": false
        },
        "nteract": {
          "transient": {
            "deleting": false
          }
        }
      },
      "outputs": [
        {
          "data": {
            "application/vnd.livy.statement-meta+json": {
              "execution_finish_time": "2025-06-12T02:07:40.6107043Z",
              "execution_start_time": "2025-06-12T02:07:40.3095238Z",
              "livy_statement_state": "available",
              "normalized_state": "finished",
              "parent_msg_id": "ba9f7d15-9753-4dbb-922c-253f3ecc9e1e",
              "queued_time": "2025-06-12T02:05:48.0331068Z",
              "session_id": "2",
              "session_start_time": null,
              "spark_jobs": null,
              "spark_pool": "spk3u4py3u10",
              "state": "finished",
              "statement_id": 26,
              "statement_ids": [
                26
              ]
            },
            "text/plain": [
              "StatementMeta(spk3u4py3u10, 2, 26, Finished, Available, Finished)"
            ]
          },
          "metadata": {},
          "output_type": "display_data"
        },
        {
          "data": {
            "text/html": [
              "<div>\n",
              "<style scoped>\n",
              "    .dataframe tbody tr th:only-of-type {\n",
              "        vertical-align: middle;\n",
              "    }\n",
              "\n",
              "    .dataframe tbody tr th {\n",
              "        vertical-align: top;\n",
              "    }\n",
              "\n",
              "    .dataframe thead th {\n",
              "        text-align: right;\n",
              "    }\n",
              "</style>\n",
              "<table border=\"1\" class=\"dataframe\">\n",
              "  <thead>\n",
              "    <tr style=\"text-align: right;\">\n",
              "      <th></th>\n",
              "      <th>fieldname</th>\n",
              "      <th>datatype</th>\n",
              "      <th>nullable</th>\n",
              "    </tr>\n",
              "  </thead>\n",
              "  <tbody>\n",
              "    <tr>\n",
              "      <th>0</th>\n",
              "      <td>UNIQUE_ENTITY_ID</td>\n",
              "      <td>StringType()</td>\n",
              "      <td>True</td>\n",
              "    </tr>\n",
              "    <tr>\n",
              "      <th>1</th>\n",
              "      <td>BLANK_DEPRECATED</td>\n",
              "      <td>NullType()</td>\n",
              "      <td>True</td>\n",
              "    </tr>\n",
              "    <tr>\n",
              "      <th>2</th>\n",
              "      <td>ENTITY_EFT_INDICATOR</td>\n",
              "      <td>StringType()</td>\n",
              "      <td>True</td>\n",
              "    </tr>\n",
              "    <tr>\n",
              "      <th>3</th>\n",
              "      <td>CAGE_CODE</td>\n",
              "      <td>StringType()</td>\n",
              "      <td>True</td>\n",
              "    </tr>\n",
              "    <tr>\n",
              "      <th>4</th>\n",
              "      <td>DODAAC</td>\n",
              "      <td>StringType()</td>\n",
              "      <td>True</td>\n",
              "    </tr>\n",
              "    <tr>\n",
              "      <th>5</th>\n",
              "      <td>SAM_EXTRACT_CODE</td>\n",
              "      <td>StringType()</td>\n",
              "      <td>True</td>\n",
              "    </tr>\n",
              "    <tr>\n",
              "      <th>6</th>\n",
              "      <td>PURPOSE_OF_REGISTRATION</td>\n",
              "      <td>StringType()</td>\n",
              "      <td>True</td>\n",
              "    </tr>\n",
              "    <tr>\n",
              "      <th>7</th>\n",
              "      <td>INITIAL_REGISTRATION_DATE</td>\n",
              "      <td>StringType()</td>\n",
              "      <td>True</td>\n",
              "    </tr>\n",
              "    <tr>\n",
              "      <th>8</th>\n",
              "      <td>REGISTRATION_EXPIRATION_DATE</td>\n",
              "      <td>StringType()</td>\n",
              "      <td>True</td>\n",
              "    </tr>\n",
              "    <tr>\n",
              "      <th>9</th>\n",
              "      <td>LAST_UPDATE_DATE</td>\n",
              "      <td>StringType()</td>\n",
              "      <td>True</td>\n",
              "    </tr>\n",
              "    <tr>\n",
              "      <th>10</th>\n",
              "      <td>ACTIVATION_DATE</td>\n",
              "      <td>StringType()</td>\n",
              "      <td>True</td>\n",
              "    </tr>\n",
              "    <tr>\n",
              "      <th>11</th>\n",
              "      <td>LEGAL_BUSINESS_NAME</td>\n",
              "      <td>StringType()</td>\n",
              "      <td>True</td>\n",
              "    </tr>\n",
              "    <tr>\n",
              "      <th>12</th>\n",
              "      <td>DBA_NAME</td>\n",
              "      <td>StringType()</td>\n",
              "      <td>True</td>\n",
              "    </tr>\n",
              "    <tr>\n",
              "      <th>13</th>\n",
              "      <td>ENTITY_DIVISION_NAME</td>\n",
              "      <td>StringType()</td>\n",
              "      <td>True</td>\n",
              "    </tr>\n",
              "    <tr>\n",
              "      <th>14</th>\n",
              "      <td>ENTITY_DIVISION_NUMBER</td>\n",
              "      <td>StringType()</td>\n",
              "      <td>True</td>\n",
              "    </tr>\n",
              "    <tr>\n",
              "      <th>15</th>\n",
              "      <td>PHYSICAL_ADDRESS_LINE_1</td>\n",
              "      <td>StringType()</td>\n",
              "      <td>True</td>\n",
              "    </tr>\n",
              "    <tr>\n",
              "      <th>16</th>\n",
              "      <td>PHYSICAL_ADDRESS_LINE_2</td>\n",
              "      <td>StringType()</td>\n",
              "      <td>True</td>\n",
              "    </tr>\n",
              "    <tr>\n",
              "      <th>17</th>\n",
              "      <td>PHYSICAL_ADDRESS_CITY</td>\n",
              "      <td>StringType()</td>\n",
              "      <td>True</td>\n",
              "    </tr>\n",
              "    <tr>\n",
              "      <th>18</th>\n",
              "      <td>PHYSICAL_ADDRESS_PROVINCE_OR_STATE</td>\n",
              "      <td>StringType()</td>\n",
              "      <td>True</td>\n",
              "    </tr>\n",
              "    <tr>\n",
              "      <th>19</th>\n",
              "      <td>PHYSICAL_ADDRESS_ZIP/POSTAL_CODE</td>\n",
              "      <td>StringType()</td>\n",
              "      <td>True</td>\n",
              "    </tr>\n",
              "    <tr>\n",
              "      <th>20</th>\n",
              "      <td>PHYSICAL_ADDRESS_ZIP_CODE_4</td>\n",
              "      <td>StringType()</td>\n",
              "      <td>True</td>\n",
              "    </tr>\n",
              "    <tr>\n",
              "      <th>21</th>\n",
              "      <td>PHYSICAL_ADDRESS_COUNTRY_CODE</td>\n",
              "      <td>StringType()</td>\n",
              "      <td>True</td>\n",
              "    </tr>\n",
              "    <tr>\n",
              "      <th>22</th>\n",
              "      <td>PHYSICAL_ADDRESS_CONGRESSIONAL_DISTRICT</td>\n",
              "      <td>StringType()</td>\n",
              "      <td>True</td>\n",
              "    </tr>\n",
              "    <tr>\n",
              "      <th>23</th>\n",
              "      <td>D&amp;B_OPEN_DATA_FLAG</td>\n",
              "      <td>NullType()</td>\n",
              "      <td>True</td>\n",
              "    </tr>\n",
              "    <tr>\n",
              "      <th>24</th>\n",
              "      <td>ENTITY_START_DATE</td>\n",
              "      <td>StringType()</td>\n",
              "      <td>True</td>\n",
              "    </tr>\n",
              "    <tr>\n",
              "      <th>25</th>\n",
              "      <td>FISCAL_YEAR_END_CLOSE_DATE</td>\n",
              "      <td>StringType()</td>\n",
              "      <td>True</td>\n",
              "    </tr>\n",
              "    <tr>\n",
              "      <th>26</th>\n",
              "      <td>ENTITY_URL</td>\n",
              "      <td>StringType()</td>\n",
              "      <td>True</td>\n",
              "    </tr>\n",
              "    <tr>\n",
              "      <th>27</th>\n",
              "      <td>ENTITY_STRUCTURE</td>\n",
              "      <td>StringType()</td>\n",
              "      <td>True</td>\n",
              "    </tr>\n",
              "    <tr>\n",
              "      <th>28</th>\n",
              "      <td>STATE_OF_INCORPORATION</td>\n",
              "      <td>StringType()</td>\n",
              "      <td>True</td>\n",
              "    </tr>\n",
              "    <tr>\n",
              "      <th>29</th>\n",
              "      <td>COUNTRY_OF_INCORPORATION</td>\n",
              "      <td>StringType()</td>\n",
              "      <td>True</td>\n",
              "    </tr>\n",
              "    <tr>\n",
              "      <th>30</th>\n",
              "      <td>BUSINESS_TYPE_COUNTER</td>\n",
              "      <td>StringType()</td>\n",
              "      <td>True</td>\n",
              "    </tr>\n",
              "    <tr>\n",
              "      <th>31</th>\n",
              "      <td>BUS_TYPE_STRING</td>\n",
              "      <td>StringType()</td>\n",
              "      <td>True</td>\n",
              "    </tr>\n",
              "    <tr>\n",
              "      <th>32</th>\n",
              "      <td>PRIMARY_NAICS</td>\n",
              "      <td>StringType()</td>\n",
              "      <td>True</td>\n",
              "    </tr>\n",
              "    <tr>\n",
              "      <th>33</th>\n",
              "      <td>NAICS_CODE_COUNTER</td>\n",
              "      <td>StringType()</td>\n",
              "      <td>True</td>\n",
              "    </tr>\n",
              "    <tr>\n",
              "      <th>34</th>\n",
              "      <td>NAICS_CODE_STRING</td>\n",
              "      <td>StringType()</td>\n",
              "      <td>True</td>\n",
              "    </tr>\n",
              "    <tr>\n",
              "      <th>35</th>\n",
              "      <td>PSC_CODE_COUNTER</td>\n",
              "      <td>StringType()</td>\n",
              "      <td>True</td>\n",
              "    </tr>\n",
              "    <tr>\n",
              "      <th>36</th>\n",
              "      <td>PSC_CODE_STRING</td>\n",
              "      <td>StringType()</td>\n",
              "      <td>True</td>\n",
              "    </tr>\n",
              "    <tr>\n",
              "      <th>37</th>\n",
              "      <td>CREDIT_CARD_USAGE</td>\n",
              "      <td>StringType()</td>\n",
              "      <td>True</td>\n",
              "    </tr>\n",
              "    <tr>\n",
              "      <th>38</th>\n",
              "      <td>CORRESPONDENCE_FLAG</td>\n",
              "      <td>NullType()</td>\n",
              "      <td>True</td>\n",
              "    </tr>\n",
              "    <tr>\n",
              "      <th>39</th>\n",
              "      <td>MAILING_ADDRESS_LINE_1</td>\n",
              "      <td>StringType()</td>\n",
              "      <td>True</td>\n",
              "    </tr>\n",
              "    <tr>\n",
              "      <th>40</th>\n",
              "      <td>MAILING_ADDRESS_LINE_2</td>\n",
              "      <td>StringType()</td>\n",
              "      <td>True</td>\n",
              "    </tr>\n",
              "    <tr>\n",
              "      <th>41</th>\n",
              "      <td>MAILING_ADDRESS_CITY</td>\n",
              "      <td>StringType()</td>\n",
              "      <td>True</td>\n",
              "    </tr>\n",
              "    <tr>\n",
              "      <th>42</th>\n",
              "      <td>MAILING_ADDRESS_ZIP/POSTAL_CODE</td>\n",
              "      <td>StringType()</td>\n",
              "      <td>True</td>\n",
              "    </tr>\n",
              "    <tr>\n",
              "      <th>43</th>\n",
              "      <td>MAILING_ADDRESS_ZIP_CODE_4</td>\n",
              "      <td>StringType()</td>\n",
              "      <td>True</td>\n",
              "    </tr>\n",
              "    <tr>\n",
              "      <th>44</th>\n",
              "      <td>MAILING_ADDRESS_COUNTRY</td>\n",
              "      <td>StringType()</td>\n",
              "      <td>True</td>\n",
              "    </tr>\n",
              "    <tr>\n",
              "      <th>45</th>\n",
              "      <td>MAILING_ADDRESS_STATE_OR_PROVINCE</td>\n",
              "      <td>StringType()</td>\n",
              "      <td>True</td>\n",
              "    </tr>\n",
              "    <tr>\n",
              "      <th>46</th>\n",
              "      <td>GOVT_BUS_POC_FIRST_NAME</td>\n",
              "      <td>StringType()</td>\n",
              "      <td>True</td>\n",
              "    </tr>\n",
              "    <tr>\n",
              "      <th>47</th>\n",
              "      <td>GOVT_BUS_POC_MIDDLE_INITIAL</td>\n",
              "      <td>StringType()</td>\n",
              "      <td>True</td>\n",
              "    </tr>\n",
              "    <tr>\n",
              "      <th>48</th>\n",
              "      <td>GOVT_BUS_POC_LAST_NAME</td>\n",
              "      <td>StringType()</td>\n",
              "      <td>True</td>\n",
              "    </tr>\n",
              "    <tr>\n",
              "      <th>49</th>\n",
              "      <td>GOVT_BUS_POC_TITLE</td>\n",
              "      <td>StringType()</td>\n",
              "      <td>True</td>\n",
              "    </tr>\n",
              "    <tr>\n",
              "      <th>50</th>\n",
              "      <td>GOVT_BUS_POC_ST_ADD_1</td>\n",
              "      <td>StringType()</td>\n",
              "      <td>True</td>\n",
              "    </tr>\n",
              "    <tr>\n",
              "      <th>51</th>\n",
              "      <td>GOVT_BUS_POC_ST_ADD_2</td>\n",
              "      <td>StringType()</td>\n",
              "      <td>True</td>\n",
              "    </tr>\n",
              "    <tr>\n",
              "      <th>52</th>\n",
              "      <td>GOVT_BUS_POC_CITY</td>\n",
              "      <td>StringType()</td>\n",
              "      <td>True</td>\n",
              "    </tr>\n",
              "    <tr>\n",
              "      <th>53</th>\n",
              "      <td>GOVT_BUS_POC_ZIP/POSTAL_CODE</td>\n",
              "      <td>StringType()</td>\n",
              "      <td>True</td>\n",
              "    </tr>\n",
              "    <tr>\n",
              "      <th>54</th>\n",
              "      <td>GOVT_BUS_POC_ZIP_CODE_4</td>\n",
              "      <td>StringType()</td>\n",
              "      <td>True</td>\n",
              "    </tr>\n",
              "    <tr>\n",
              "      <th>55</th>\n",
              "      <td>GOVT_BUS_POC_COUNTRY_CODE</td>\n",
              "      <td>StringType()</td>\n",
              "      <td>True</td>\n",
              "    </tr>\n",
              "    <tr>\n",
              "      <th>56</th>\n",
              "      <td>GOVT_BUS_POC_STATE_OR_PROVINCE</td>\n",
              "      <td>StringType()</td>\n",
              "      <td>True</td>\n",
              "    </tr>\n",
              "    <tr>\n",
              "      <th>57</th>\n",
              "      <td>ALT_GOVT_BUS_POC_FIRST_NAME</td>\n",
              "      <td>StringType()</td>\n",
              "      <td>True</td>\n",
              "    </tr>\n",
              "    <tr>\n",
              "      <th>58</th>\n",
              "      <td>ALT_GOVT_BUS_POC_MIDDLE_INITIAL</td>\n",
              "      <td>StringType()</td>\n",
              "      <td>True</td>\n",
              "    </tr>\n",
              "    <tr>\n",
              "      <th>59</th>\n",
              "      <td>ALT_GOVT_BUS_POC_LAST_NAME</td>\n",
              "      <td>StringType()</td>\n",
              "      <td>True</td>\n",
              "    </tr>\n",
              "    <tr>\n",
              "      <th>60</th>\n",
              "      <td>ALT_GOVT_BUS_POC_TITLE</td>\n",
              "      <td>StringType()</td>\n",
              "      <td>True</td>\n",
              "    </tr>\n",
              "    <tr>\n",
              "      <th>61</th>\n",
              "      <td>ALT_GOVT_BUS_POC_ST_ADD_1</td>\n",
              "      <td>StringType()</td>\n",
              "      <td>True</td>\n",
              "    </tr>\n",
              "    <tr>\n",
              "      <th>62</th>\n",
              "      <td>ALT_GOVT_BUS_POC_ST_ADD_2</td>\n",
              "      <td>StringType()</td>\n",
              "      <td>True</td>\n",
              "    </tr>\n",
              "    <tr>\n",
              "      <th>63</th>\n",
              "      <td>ALT_GOVT_BUS_POC_CITY</td>\n",
              "      <td>StringType()</td>\n",
              "      <td>True</td>\n",
              "    </tr>\n",
              "    <tr>\n",
              "      <th>64</th>\n",
              "      <td>ALT_GOVT_BUS_POC_ZIP/POSTAL_CODE</td>\n",
              "      <td>StringType()</td>\n",
              "      <td>True</td>\n",
              "    </tr>\n",
              "    <tr>\n",
              "      <th>65</th>\n",
              "      <td>ALT_GOVT_BUS_POC_ZIP_CODE_4</td>\n",
              "      <td>StringType()</td>\n",
              "      <td>True</td>\n",
              "    </tr>\n",
              "    <tr>\n",
              "      <th>66</th>\n",
              "      <td>ALT_GOVT_BUS_POC_COUNTRY_CODE</td>\n",
              "      <td>StringType()</td>\n",
              "      <td>True</td>\n",
              "    </tr>\n",
              "    <tr>\n",
              "      <th>67</th>\n",
              "      <td>ALT_GOVT_BUS_POC_STATE_OR_PROVINCE</td>\n",
              "      <td>StringType()</td>\n",
              "      <td>True</td>\n",
              "    </tr>\n",
              "    <tr>\n",
              "      <th>68</th>\n",
              "      <td>PAST_PERF_POC_POC_FIRST_NAME</td>\n",
              "      <td>StringType()</td>\n",
              "      <td>True</td>\n",
              "    </tr>\n",
              "    <tr>\n",
              "      <th>69</th>\n",
              "      <td>PAST_PERF_POC_POC_MIDDLE_INITIAL</td>\n",
              "      <td>StringType()</td>\n",
              "      <td>True</td>\n",
              "    </tr>\n",
              "    <tr>\n",
              "      <th>70</th>\n",
              "      <td>PAST_PERF_POC_POC_LAST_NAME</td>\n",
              "      <td>StringType()</td>\n",
              "      <td>True</td>\n",
              "    </tr>\n",
              "    <tr>\n",
              "      <th>71</th>\n",
              "      <td>PAST_PERF_POC_POC_TITLE</td>\n",
              "      <td>StringType()</td>\n",
              "      <td>True</td>\n",
              "    </tr>\n",
              "    <tr>\n",
              "      <th>72</th>\n",
              "      <td>PAST_PERF_POC_ST_ADD_1</td>\n",
              "      <td>StringType()</td>\n",
              "      <td>True</td>\n",
              "    </tr>\n",
              "    <tr>\n",
              "      <th>73</th>\n",
              "      <td>PAST_PERF_POC_ST_ADD_2</td>\n",
              "      <td>StringType()</td>\n",
              "      <td>True</td>\n",
              "    </tr>\n",
              "    <tr>\n",
              "      <th>74</th>\n",
              "      <td>PAST_PERF_POC_CITY</td>\n",
              "      <td>StringType()</td>\n",
              "      <td>True</td>\n",
              "    </tr>\n",
              "    <tr>\n",
              "      <th>75</th>\n",
              "      <td>PAST_PERF_POC_ZIP/POSTAL_CODE</td>\n",
              "      <td>StringType()</td>\n",
              "      <td>True</td>\n",
              "    </tr>\n",
              "    <tr>\n",
              "      <th>76</th>\n",
              "      <td>PAST_PERF_POC_ZIP_CODE_4</td>\n",
              "      <td>StringType()</td>\n",
              "      <td>True</td>\n",
              "    </tr>\n",
              "    <tr>\n",
              "      <th>77</th>\n",
              "      <td>PAST_PERF_POC_COUNTRY_CODE</td>\n",
              "      <td>StringType()</td>\n",
              "      <td>True</td>\n",
              "    </tr>\n",
              "    <tr>\n",
              "      <th>78</th>\n",
              "      <td>PAST_PERF_POC_STATE_OR_PROVINCE</td>\n",
              "      <td>StringType()</td>\n",
              "      <td>True</td>\n",
              "    </tr>\n",
              "    <tr>\n",
              "      <th>79</th>\n",
              "      <td>ALT_PAST_PERF_POC_FIRST_NAME</td>\n",
              "      <td>StringType()</td>\n",
              "      <td>True</td>\n",
              "    </tr>\n",
              "    <tr>\n",
              "      <th>80</th>\n",
              "      <td>ALT_PAST_PERF_POC_MIDDLE_INITIAL</td>\n",
              "      <td>StringType()</td>\n",
              "      <td>True</td>\n",
              "    </tr>\n",
              "    <tr>\n",
              "      <th>81</th>\n",
              "      <td>ALT_PAST_PERF_POC_LAST_NAME</td>\n",
              "      <td>StringType()</td>\n",
              "      <td>True</td>\n",
              "    </tr>\n",
              "    <tr>\n",
              "      <th>82</th>\n",
              "      <td>ALT_PAST_PERF_POC_TITLE</td>\n",
              "      <td>StringType()</td>\n",
              "      <td>True</td>\n",
              "    </tr>\n",
              "    <tr>\n",
              "      <th>83</th>\n",
              "      <td>ALT_PAST_PERF_POC_ST_ADD_1</td>\n",
              "      <td>StringType()</td>\n",
              "      <td>True</td>\n",
              "    </tr>\n",
              "    <tr>\n",
              "      <th>84</th>\n",
              "      <td>ALT_PAST_PERF_POC_ST_ADD_2</td>\n",
              "      <td>StringType()</td>\n",
              "      <td>True</td>\n",
              "    </tr>\n",
              "    <tr>\n",
              "      <th>85</th>\n",
              "      <td>ALT_PAST_PERF_POC_CITY</td>\n",
              "      <td>StringType()</td>\n",
              "      <td>True</td>\n",
              "    </tr>\n",
              "    <tr>\n",
              "      <th>86</th>\n",
              "      <td>ALT_PAST_PERF_POC_ZIP/POSTAL_CODE</td>\n",
              "      <td>StringType()</td>\n",
              "      <td>True</td>\n",
              "    </tr>\n",
              "    <tr>\n",
              "      <th>87</th>\n",
              "      <td>ALT_PAST_PERF_POC_ZIP_CODE_4</td>\n",
              "      <td>StringType()</td>\n",
              "      <td>True</td>\n",
              "    </tr>\n",
              "    <tr>\n",
              "      <th>88</th>\n",
              "      <td>ALT_PAST_PERF_POC_COUNTRY_CODE</td>\n",
              "      <td>StringType()</td>\n",
              "      <td>True</td>\n",
              "    </tr>\n",
              "    <tr>\n",
              "      <th>89</th>\n",
              "      <td>ALT_PAST_PERF_POC_STATE_OR_PROVINCE</td>\n",
              "      <td>StringType()</td>\n",
              "      <td>True</td>\n",
              "    </tr>\n",
              "    <tr>\n",
              "      <th>90</th>\n",
              "      <td>ELEC_BUS_POC_FIRST_NAME</td>\n",
              "      <td>StringType()</td>\n",
              "      <td>True</td>\n",
              "    </tr>\n",
              "    <tr>\n",
              "      <th>91</th>\n",
              "      <td>ELEC_BUS_POC_MIDDLE_INITIAL</td>\n",
              "      <td>StringType()</td>\n",
              "      <td>True</td>\n",
              "    </tr>\n",
              "    <tr>\n",
              "      <th>92</th>\n",
              "      <td>ELEC_BUS_POC_LAST_NAME</td>\n",
              "      <td>StringType()</td>\n",
              "      <td>True</td>\n",
              "    </tr>\n",
              "    <tr>\n",
              "      <th>93</th>\n",
              "      <td>ELEC_BUS_POC_TITLE</td>\n",
              "      <td>StringType()</td>\n",
              "      <td>True</td>\n",
              "    </tr>\n",
              "    <tr>\n",
              "      <th>94</th>\n",
              "      <td>ELEC_BUS_POC_ST_ADD_1</td>\n",
              "      <td>StringType()</td>\n",
              "      <td>True</td>\n",
              "    </tr>\n",
              "    <tr>\n",
              "      <th>95</th>\n",
              "      <td>ELEC_BUS_POC_ST_ADD_2</td>\n",
              "      <td>StringType()</td>\n",
              "      <td>True</td>\n",
              "    </tr>\n",
              "    <tr>\n",
              "      <th>96</th>\n",
              "      <td>ELEC_BUS_POC_CITY</td>\n",
              "      <td>StringType()</td>\n",
              "      <td>True</td>\n",
              "    </tr>\n",
              "    <tr>\n",
              "      <th>97</th>\n",
              "      <td>ELEC_BUS_POC_ZIP/POSTAL_CODE</td>\n",
              "      <td>StringType()</td>\n",
              "      <td>True</td>\n",
              "    </tr>\n",
              "    <tr>\n",
              "      <th>98</th>\n",
              "      <td>ELEC_BUS_POC_ZIP_CODE_4</td>\n",
              "      <td>StringType()</td>\n",
              "      <td>True</td>\n",
              "    </tr>\n",
              "    <tr>\n",
              "      <th>99</th>\n",
              "      <td>ELEC_BUS_POC_COUNTRY_CODE</td>\n",
              "      <td>StringType()</td>\n",
              "      <td>True</td>\n",
              "    </tr>\n",
              "    <tr>\n",
              "      <th>100</th>\n",
              "      <td>ELEC_BUS_POC_STATE_OR_PROVINCE</td>\n",
              "      <td>StringType()</td>\n",
              "      <td>True</td>\n",
              "    </tr>\n",
              "    <tr>\n",
              "      <th>101</th>\n",
              "      <td>ALT_ELEC_POC_BUS_POC_FIRST_NAME</td>\n",
              "      <td>StringType()</td>\n",
              "      <td>True</td>\n",
              "    </tr>\n",
              "    <tr>\n",
              "      <th>102</th>\n",
              "      <td>ALT_ELEC_POC_BUS_POC_MIDDLE_INITIAL</td>\n",
              "      <td>StringType()</td>\n",
              "      <td>True</td>\n",
              "    </tr>\n",
              "    <tr>\n",
              "      <th>103</th>\n",
              "      <td>ALT_ELEC_POC_BUS_POC_LAST_NAME</td>\n",
              "      <td>StringType()</td>\n",
              "      <td>True</td>\n",
              "    </tr>\n",
              "    <tr>\n",
              "      <th>104</th>\n",
              "      <td>ALT_ELEC_POC_BUS_POC_TITLE</td>\n",
              "      <td>StringType()</td>\n",
              "      <td>True</td>\n",
              "    </tr>\n",
              "    <tr>\n",
              "      <th>105</th>\n",
              "      <td>ALT_ELEC_POC_BUS_ST_ADD_1</td>\n",
              "      <td>StringType()</td>\n",
              "      <td>True</td>\n",
              "    </tr>\n",
              "    <tr>\n",
              "      <th>106</th>\n",
              "      <td>ALT_ELEC_POC_BUS_ST_ADD_2</td>\n",
              "      <td>StringType()</td>\n",
              "      <td>True</td>\n",
              "    </tr>\n",
              "    <tr>\n",
              "      <th>107</th>\n",
              "      <td>ALT_ELEC_POC_BUS_CITY</td>\n",
              "      <td>StringType()</td>\n",
              "      <td>True</td>\n",
              "    </tr>\n",
              "    <tr>\n",
              "      <th>108</th>\n",
              "      <td>ALT_ELEC_POC_BUS_ZIP/POSTAL_CODE</td>\n",
              "      <td>StringType()</td>\n",
              "      <td>True</td>\n",
              "    </tr>\n",
              "    <tr>\n",
              "      <th>109</th>\n",
              "      <td>ALT_ELEC_POC_BUS_ZIP_CODE_4</td>\n",
              "      <td>StringType()</td>\n",
              "      <td>True</td>\n",
              "    </tr>\n",
              "    <tr>\n",
              "      <th>110</th>\n",
              "      <td>ALT_ELEC_POC_BUS_COUNTRY_CODE</td>\n",
              "      <td>StringType()</td>\n",
              "      <td>True</td>\n",
              "    </tr>\n",
              "    <tr>\n",
              "      <th>111</th>\n",
              "      <td>ALT_ELEC_POC_BUS_STATE_OR_PROVINCE</td>\n",
              "      <td>StringType()</td>\n",
              "      <td>True</td>\n",
              "    </tr>\n",
              "    <tr>\n",
              "      <th>112</th>\n",
              "      <td>NAICS_EXCEPTION_COUNTER</td>\n",
              "      <td>StringType()</td>\n",
              "      <td>True</td>\n",
              "    </tr>\n",
              "    <tr>\n",
              "      <th>113</th>\n",
              "      <td>NAICS_EXCEPTION_STRING</td>\n",
              "      <td>StringType()</td>\n",
              "      <td>True</td>\n",
              "    </tr>\n",
              "    <tr>\n",
              "      <th>114</th>\n",
              "      <td>DEBT_SUBJECT_TO_OFFSET_FLAG</td>\n",
              "      <td>StringType()</td>\n",
              "      <td>True</td>\n",
              "    </tr>\n",
              "    <tr>\n",
              "      <th>115</th>\n",
              "      <td>EXCLUSION_STATUS_FLAG</td>\n",
              "      <td>StringType()</td>\n",
              "      <td>True</td>\n",
              "    </tr>\n",
              "    <tr>\n",
              "      <th>116</th>\n",
              "      <td>SBA_BUSINESS_TYPES_COUNTER</td>\n",
              "      <td>StringType()</td>\n",
              "      <td>True</td>\n",
              "    </tr>\n",
              "    <tr>\n",
              "      <th>117</th>\n",
              "      <td>SBA_BUSINESS_TYPES_STRING</td>\n",
              "      <td>StringType()</td>\n",
              "      <td>True</td>\n",
              "    </tr>\n",
              "    <tr>\n",
              "      <th>118</th>\n",
              "      <td>NO_PUBLIC_DISPLAY_FLAG</td>\n",
              "      <td>StringType()</td>\n",
              "      <td>True</td>\n",
              "    </tr>\n",
              "    <tr>\n",
              "      <th>119</th>\n",
              "      <td>DISASTER_RESPONSE_COUNTER</td>\n",
              "      <td>StringType()</td>\n",
              "      <td>True</td>\n",
              "    </tr>\n",
              "    <tr>\n",
              "      <th>120</th>\n",
              "      <td>DISASTER_RESPONSE_STRING</td>\n",
              "      <td>StringType()</td>\n",
              "      <td>True</td>\n",
              "    </tr>\n",
              "    <tr>\n",
              "      <th>121</th>\n",
              "      <td>ENTITY_EVS_SOURCE</td>\n",
              "      <td>StringType()</td>\n",
              "      <td>True</td>\n",
              "    </tr>\n",
              "    <tr>\n",
              "      <th>122</th>\n",
              "      <td>FLEX_FIELD_1</td>\n",
              "      <td>NullType()</td>\n",
              "      <td>True</td>\n",
              "    </tr>\n",
              "    <tr>\n",
              "      <th>123</th>\n",
              "      <td>FLEX_FIELD_2</td>\n",
              "      <td>NullType()</td>\n",
              "      <td>True</td>\n",
              "    </tr>\n",
              "    <tr>\n",
              "      <th>124</th>\n",
              "      <td>FLEX_FIELD_3</td>\n",
              "      <td>NullType()</td>\n",
              "      <td>True</td>\n",
              "    </tr>\n",
              "    <tr>\n",
              "      <th>125</th>\n",
              "      <td>FLEX_FIELD_4</td>\n",
              "      <td>NullType()</td>\n",
              "      <td>True</td>\n",
              "    </tr>\n",
              "    <tr>\n",
              "      <th>126</th>\n",
              "      <td>FLEX_FIELD_5</td>\n",
              "      <td>NullType()</td>\n",
              "      <td>True</td>\n",
              "    </tr>\n",
              "    <tr>\n",
              "      <th>127</th>\n",
              "      <td>FLEX_FIELD_6</td>\n",
              "      <td>NullType()</td>\n",
              "      <td>True</td>\n",
              "    </tr>\n",
              "    <tr>\n",
              "      <th>128</th>\n",
              "      <td>FLEX_FIELD_7</td>\n",
              "      <td>NullType()</td>\n",
              "      <td>True</td>\n",
              "    </tr>\n",
              "    <tr>\n",
              "      <th>129</th>\n",
              "      <td>FLEX_FIELD_8</td>\n",
              "      <td>NullType()</td>\n",
              "      <td>True</td>\n",
              "    </tr>\n",
              "    <tr>\n",
              "      <th>130</th>\n",
              "      <td>FLEX_FIELD_9</td>\n",
              "      <td>NullType()</td>\n",
              "      <td>True</td>\n",
              "    </tr>\n",
              "    <tr>\n",
              "      <th>131</th>\n",
              "      <td>FLEX_FIELD_10</td>\n",
              "      <td>NullType()</td>\n",
              "      <td>True</td>\n",
              "    </tr>\n",
              "    <tr>\n",
              "      <th>132</th>\n",
              "      <td>FLEX_FIELD_11</td>\n",
              "      <td>NullType()</td>\n",
              "      <td>True</td>\n",
              "    </tr>\n",
              "    <tr>\n",
              "      <th>133</th>\n",
              "      <td>FLEX_FIELD_12</td>\n",
              "      <td>NullType()</td>\n",
              "      <td>True</td>\n",
              "    </tr>\n",
              "    <tr>\n",
              "      <th>134</th>\n",
              "      <td>FLEX_FIELD_13</td>\n",
              "      <td>NullType()</td>\n",
              "      <td>True</td>\n",
              "    </tr>\n",
              "    <tr>\n",
              "      <th>135</th>\n",
              "      <td>FLEX_FIELD_14</td>\n",
              "      <td>NullType()</td>\n",
              "      <td>True</td>\n",
              "    </tr>\n",
              "    <tr>\n",
              "      <th>136</th>\n",
              "      <td>FLEX_FIELD_15</td>\n",
              "      <td>NullType()</td>\n",
              "      <td>True</td>\n",
              "    </tr>\n",
              "    <tr>\n",
              "      <th>137</th>\n",
              "      <td>FLEX_FIELD_16</td>\n",
              "      <td>NullType()</td>\n",
              "      <td>True</td>\n",
              "    </tr>\n",
              "    <tr>\n",
              "      <th>138</th>\n",
              "      <td>FLEX_FIELD_17</td>\n",
              "      <td>NullType()</td>\n",
              "      <td>True</td>\n",
              "    </tr>\n",
              "    <tr>\n",
              "      <th>139</th>\n",
              "      <td>FLEX_FIELD_18</td>\n",
              "      <td>NullType()</td>\n",
              "      <td>True</td>\n",
              "    </tr>\n",
              "    <tr>\n",
              "      <th>140</th>\n",
              "      <td>FLEX_FIELD_19</td>\n",
              "      <td>NullType()</td>\n",
              "      <td>True</td>\n",
              "    </tr>\n",
              "    <tr>\n",
              "      <th>141</th>\n",
              "      <td>END_OF_RECORD_INDICATOR</td>\n",
              "      <td>StringType()</td>\n",
              "      <td>True</td>\n",
              "    </tr>\n",
              "    <tr>\n",
              "      <th>142</th>\n",
              "      <td>entityKey</td>\n",
              "      <td>StringType()</td>\n",
              "      <td>False</td>\n",
              "    </tr>\n",
              "    <tr>\n",
              "      <th>143</th>\n",
              "      <td>AUD_DIRECTORY</td>\n",
              "      <td>StringType()</td>\n",
              "      <td>False</td>\n",
              "    </tr>\n",
              "    <tr>\n",
              "      <th>144</th>\n",
              "      <td>AUD_FILENAME</td>\n",
              "      <td>StringType()</td>\n",
              "      <td>False</td>\n",
              "    </tr>\n",
              "    <tr>\n",
              "      <th>145</th>\n",
              "      <td>AUD_ACTIVE_FLAG</td>\n",
              "      <td>StringType()</td>\n",
              "      <td>False</td>\n",
              "    </tr>\n",
              "    <tr>\n",
              "      <th>146</th>\n",
              "      <td>EffectiveFromDate</td>\n",
              "      <td>DateType()</td>\n",
              "      <td>True</td>\n",
              "    </tr>\n",
              "    <tr>\n",
              "      <th>147</th>\n",
              "      <td>EffectiveToDate</td>\n",
              "      <td>DateType()</td>\n",
              "      <td>True</td>\n",
              "    </tr>\n",
              "  </tbody>\n",
              "</table>\n",
              "</div>"
            ],
            "text/plain": [
              "                                   fieldname      datatype  nullable\n",
              "0                           UNIQUE_ENTITY_ID  StringType()      True\n",
              "1                           BLANK_DEPRECATED    NullType()      True\n",
              "2                       ENTITY_EFT_INDICATOR  StringType()      True\n",
              "3                                  CAGE_CODE  StringType()      True\n",
              "4                                     DODAAC  StringType()      True\n",
              "5                           SAM_EXTRACT_CODE  StringType()      True\n",
              "6                    PURPOSE_OF_REGISTRATION  StringType()      True\n",
              "7                  INITIAL_REGISTRATION_DATE  StringType()      True\n",
              "8               REGISTRATION_EXPIRATION_DATE  StringType()      True\n",
              "9                           LAST_UPDATE_DATE  StringType()      True\n",
              "10                           ACTIVATION_DATE  StringType()      True\n",
              "11                       LEGAL_BUSINESS_NAME  StringType()      True\n",
              "12                                  DBA_NAME  StringType()      True\n",
              "13                      ENTITY_DIVISION_NAME  StringType()      True\n",
              "14                    ENTITY_DIVISION_NUMBER  StringType()      True\n",
              "15                   PHYSICAL_ADDRESS_LINE_1  StringType()      True\n",
              "16                   PHYSICAL_ADDRESS_LINE_2  StringType()      True\n",
              "17                     PHYSICAL_ADDRESS_CITY  StringType()      True\n",
              "18        PHYSICAL_ADDRESS_PROVINCE_OR_STATE  StringType()      True\n",
              "19          PHYSICAL_ADDRESS_ZIP/POSTAL_CODE  StringType()      True\n",
              "20               PHYSICAL_ADDRESS_ZIP_CODE_4  StringType()      True\n",
              "21             PHYSICAL_ADDRESS_COUNTRY_CODE  StringType()      True\n",
              "22   PHYSICAL_ADDRESS_CONGRESSIONAL_DISTRICT  StringType()      True\n",
              "23                        D&B_OPEN_DATA_FLAG    NullType()      True\n",
              "24                         ENTITY_START_DATE  StringType()      True\n",
              "25                FISCAL_YEAR_END_CLOSE_DATE  StringType()      True\n",
              "26                                ENTITY_URL  StringType()      True\n",
              "27                          ENTITY_STRUCTURE  StringType()      True\n",
              "28                    STATE_OF_INCORPORATION  StringType()      True\n",
              "29                  COUNTRY_OF_INCORPORATION  StringType()      True\n",
              "30                     BUSINESS_TYPE_COUNTER  StringType()      True\n",
              "31                           BUS_TYPE_STRING  StringType()      True\n",
              "32                             PRIMARY_NAICS  StringType()      True\n",
              "33                        NAICS_CODE_COUNTER  StringType()      True\n",
              "34                         NAICS_CODE_STRING  StringType()      True\n",
              "35                          PSC_CODE_COUNTER  StringType()      True\n",
              "36                           PSC_CODE_STRING  StringType()      True\n",
              "37                         CREDIT_CARD_USAGE  StringType()      True\n",
              "38                       CORRESPONDENCE_FLAG    NullType()      True\n",
              "39                    MAILING_ADDRESS_LINE_1  StringType()      True\n",
              "40                    MAILING_ADDRESS_LINE_2  StringType()      True\n",
              "41                      MAILING_ADDRESS_CITY  StringType()      True\n",
              "42           MAILING_ADDRESS_ZIP/POSTAL_CODE  StringType()      True\n",
              "43                MAILING_ADDRESS_ZIP_CODE_4  StringType()      True\n",
              "44                   MAILING_ADDRESS_COUNTRY  StringType()      True\n",
              "45         MAILING_ADDRESS_STATE_OR_PROVINCE  StringType()      True\n",
              "46                   GOVT_BUS_POC_FIRST_NAME  StringType()      True\n",
              "47               GOVT_BUS_POC_MIDDLE_INITIAL  StringType()      True\n",
              "48                    GOVT_BUS_POC_LAST_NAME  StringType()      True\n",
              "49                        GOVT_BUS_POC_TITLE  StringType()      True\n",
              "50                     GOVT_BUS_POC_ST_ADD_1  StringType()      True\n",
              "51                     GOVT_BUS_POC_ST_ADD_2  StringType()      True\n",
              "52                         GOVT_BUS_POC_CITY  StringType()      True\n",
              "53              GOVT_BUS_POC_ZIP/POSTAL_CODE  StringType()      True\n",
              "54                   GOVT_BUS_POC_ZIP_CODE_4  StringType()      True\n",
              "55                 GOVT_BUS_POC_COUNTRY_CODE  StringType()      True\n",
              "56            GOVT_BUS_POC_STATE_OR_PROVINCE  StringType()      True\n",
              "57               ALT_GOVT_BUS_POC_FIRST_NAME  StringType()      True\n",
              "58           ALT_GOVT_BUS_POC_MIDDLE_INITIAL  StringType()      True\n",
              "59                ALT_GOVT_BUS_POC_LAST_NAME  StringType()      True\n",
              "60                    ALT_GOVT_BUS_POC_TITLE  StringType()      True\n",
              "61                 ALT_GOVT_BUS_POC_ST_ADD_1  StringType()      True\n",
              "62                 ALT_GOVT_BUS_POC_ST_ADD_2  StringType()      True\n",
              "63                     ALT_GOVT_BUS_POC_CITY  StringType()      True\n",
              "64          ALT_GOVT_BUS_POC_ZIP/POSTAL_CODE  StringType()      True\n",
              "65               ALT_GOVT_BUS_POC_ZIP_CODE_4  StringType()      True\n",
              "66             ALT_GOVT_BUS_POC_COUNTRY_CODE  StringType()      True\n",
              "67        ALT_GOVT_BUS_POC_STATE_OR_PROVINCE  StringType()      True\n",
              "68              PAST_PERF_POC_POC_FIRST_NAME  StringType()      True\n",
              "69          PAST_PERF_POC_POC_MIDDLE_INITIAL  StringType()      True\n",
              "70               PAST_PERF_POC_POC_LAST_NAME  StringType()      True\n",
              "71                   PAST_PERF_POC_POC_TITLE  StringType()      True\n",
              "72                    PAST_PERF_POC_ST_ADD_1  StringType()      True\n",
              "73                    PAST_PERF_POC_ST_ADD_2  StringType()      True\n",
              "74                        PAST_PERF_POC_CITY  StringType()      True\n",
              "75             PAST_PERF_POC_ZIP/POSTAL_CODE  StringType()      True\n",
              "76                  PAST_PERF_POC_ZIP_CODE_4  StringType()      True\n",
              "77                PAST_PERF_POC_COUNTRY_CODE  StringType()      True\n",
              "78           PAST_PERF_POC_STATE_OR_PROVINCE  StringType()      True\n",
              "79              ALT_PAST_PERF_POC_FIRST_NAME  StringType()      True\n",
              "80          ALT_PAST_PERF_POC_MIDDLE_INITIAL  StringType()      True\n",
              "81               ALT_PAST_PERF_POC_LAST_NAME  StringType()      True\n",
              "82                   ALT_PAST_PERF_POC_TITLE  StringType()      True\n",
              "83                ALT_PAST_PERF_POC_ST_ADD_1  StringType()      True\n",
              "84                ALT_PAST_PERF_POC_ST_ADD_2  StringType()      True\n",
              "85                    ALT_PAST_PERF_POC_CITY  StringType()      True\n",
              "86         ALT_PAST_PERF_POC_ZIP/POSTAL_CODE  StringType()      True\n",
              "87              ALT_PAST_PERF_POC_ZIP_CODE_4  StringType()      True\n",
              "88            ALT_PAST_PERF_POC_COUNTRY_CODE  StringType()      True\n",
              "89       ALT_PAST_PERF_POC_STATE_OR_PROVINCE  StringType()      True\n",
              "90                   ELEC_BUS_POC_FIRST_NAME  StringType()      True\n",
              "91               ELEC_BUS_POC_MIDDLE_INITIAL  StringType()      True\n",
              "92                    ELEC_BUS_POC_LAST_NAME  StringType()      True\n",
              "93                        ELEC_BUS_POC_TITLE  StringType()      True\n",
              "94                     ELEC_BUS_POC_ST_ADD_1  StringType()      True\n",
              "95                     ELEC_BUS_POC_ST_ADD_2  StringType()      True\n",
              "96                         ELEC_BUS_POC_CITY  StringType()      True\n",
              "97              ELEC_BUS_POC_ZIP/POSTAL_CODE  StringType()      True\n",
              "98                   ELEC_BUS_POC_ZIP_CODE_4  StringType()      True\n",
              "99                 ELEC_BUS_POC_COUNTRY_CODE  StringType()      True\n",
              "100           ELEC_BUS_POC_STATE_OR_PROVINCE  StringType()      True\n",
              "101          ALT_ELEC_POC_BUS_POC_FIRST_NAME  StringType()      True\n",
              "102      ALT_ELEC_POC_BUS_POC_MIDDLE_INITIAL  StringType()      True\n",
              "103           ALT_ELEC_POC_BUS_POC_LAST_NAME  StringType()      True\n",
              "104               ALT_ELEC_POC_BUS_POC_TITLE  StringType()      True\n",
              "105                ALT_ELEC_POC_BUS_ST_ADD_1  StringType()      True\n",
              "106                ALT_ELEC_POC_BUS_ST_ADD_2  StringType()      True\n",
              "107                    ALT_ELEC_POC_BUS_CITY  StringType()      True\n",
              "108         ALT_ELEC_POC_BUS_ZIP/POSTAL_CODE  StringType()      True\n",
              "109              ALT_ELEC_POC_BUS_ZIP_CODE_4  StringType()      True\n",
              "110            ALT_ELEC_POC_BUS_COUNTRY_CODE  StringType()      True\n",
              "111       ALT_ELEC_POC_BUS_STATE_OR_PROVINCE  StringType()      True\n",
              "112                  NAICS_EXCEPTION_COUNTER  StringType()      True\n",
              "113                   NAICS_EXCEPTION_STRING  StringType()      True\n",
              "114              DEBT_SUBJECT_TO_OFFSET_FLAG  StringType()      True\n",
              "115                    EXCLUSION_STATUS_FLAG  StringType()      True\n",
              "116               SBA_BUSINESS_TYPES_COUNTER  StringType()      True\n",
              "117                SBA_BUSINESS_TYPES_STRING  StringType()      True\n",
              "118                   NO_PUBLIC_DISPLAY_FLAG  StringType()      True\n",
              "119                DISASTER_RESPONSE_COUNTER  StringType()      True\n",
              "120                 DISASTER_RESPONSE_STRING  StringType()      True\n",
              "121                        ENTITY_EVS_SOURCE  StringType()      True\n",
              "122                             FLEX_FIELD_1    NullType()      True\n",
              "123                             FLEX_FIELD_2    NullType()      True\n",
              "124                             FLEX_FIELD_3    NullType()      True\n",
              "125                             FLEX_FIELD_4    NullType()      True\n",
              "126                             FLEX_FIELD_5    NullType()      True\n",
              "127                             FLEX_FIELD_6    NullType()      True\n",
              "128                             FLEX_FIELD_7    NullType()      True\n",
              "129                             FLEX_FIELD_8    NullType()      True\n",
              "130                             FLEX_FIELD_9    NullType()      True\n",
              "131                            FLEX_FIELD_10    NullType()      True\n",
              "132                            FLEX_FIELD_11    NullType()      True\n",
              "133                            FLEX_FIELD_12    NullType()      True\n",
              "134                            FLEX_FIELD_13    NullType()      True\n",
              "135                            FLEX_FIELD_14    NullType()      True\n",
              "136                            FLEX_FIELD_15    NullType()      True\n",
              "137                            FLEX_FIELD_16    NullType()      True\n",
              "138                            FLEX_FIELD_17    NullType()      True\n",
              "139                            FLEX_FIELD_18    NullType()      True\n",
              "140                            FLEX_FIELD_19    NullType()      True\n",
              "141                  END_OF_RECORD_INDICATOR  StringType()      True\n",
              "142                                entityKey  StringType()     False\n",
              "143                            AUD_DIRECTORY  StringType()     False\n",
              "144                             AUD_FILENAME  StringType()     False\n",
              "145                          AUD_ACTIVE_FLAG  StringType()     False\n",
              "146                        EffectiveFromDate    DateType()      True\n",
              "147                          EffectiveToDate    DateType()      True"
            ]
          },
          "execution_count": 53,
          "metadata": {},
          "output_type": "execute_result"
        }
      ],
      "source": [
        "# Convert the spark dataframe schema into its own dataframe\n",
        "# This loop iterates over the object and extracts the necessary elements\n",
        "# https://spark.apache.org/docs/3.1.3/api/python/reference/api/pyspark.sql.types.StructType.html\n",
        "# https://spark.apache.org/docs/3.1.3/api/python/reference/api/pyspark.sql.types.StructField.html#pyspark.sql.types.StructField\n",
        "schemaList = []\n",
        "for i in schemaStruct.fieldNames():\n",
        "    schemaList.append(\n",
        "        {\n",
        "            'fieldname' : schemaStruct[i].name,\n",
        "            'datatype': str(schemaStruct[i].dataType),\n",
        "            'nullable': schemaStruct[i].nullable\n",
        "        }\n",
        "    )\n",
        "\n",
        "schema_df = pd.DataFrame(schemaList)\n",
        "schema_df"
      ]
    },
    {
      "cell_type": "code",
      "execution_count": 26,
      "metadata": {
        "jupyter": {
          "outputs_hidden": false,
          "source_hidden": false
        },
        "nteract": {
          "transient": {
            "deleting": false
          }
        }
      },
      "outputs": [
        {
          "data": {
            "application/vnd.livy.statement-meta+json": {
              "execution_finish_time": "2025-06-12T02:07:40.9281742Z",
              "execution_start_time": "2025-06-12T02:07:40.6515528Z",
              "livy_statement_state": "available",
              "normalized_state": "finished",
              "parent_msg_id": "279b919e-67c1-4722-bf68-e6e6ad6f5c38",
              "queued_time": "2025-06-12T02:05:48.3548603Z",
              "session_id": "2",
              "session_start_time": null,
              "spark_jobs": null,
              "spark_pool": "spk3u4py3u10",
              "state": "finished",
              "statement_id": 27,
              "statement_ids": [
                27
              ]
            },
            "text/plain": [
              "StatementMeta(spk3u4py3u10, 2, 27, Finished, Available, Finished)"
            ]
          },
          "metadata": {},
          "output_type": "display_data"
        },
        {
          "data": {
            "text/html": [
              "<div>\n",
              "<style scoped>\n",
              "    .dataframe tbody tr th:only-of-type {\n",
              "        vertical-align: middle;\n",
              "    }\n",
              "\n",
              "    .dataframe tbody tr th {\n",
              "        vertical-align: top;\n",
              "    }\n",
              "\n",
              "    .dataframe thead th {\n",
              "        text-align: right;\n",
              "    }\n",
              "</style>\n",
              "<table border=\"1\" class=\"dataframe\">\n",
              "  <thead>\n",
              "    <tr style=\"text-align: right;\">\n",
              "      <th></th>\n",
              "      <th>fieldname</th>\n",
              "      <th>datatype</th>\n",
              "      <th>nullable</th>\n",
              "    </tr>\n",
              "  </thead>\n",
              "  <tbody>\n",
              "    <tr>\n",
              "      <th>1</th>\n",
              "      <td>BLANK_DEPRECATED</td>\n",
              "      <td>NullType()</td>\n",
              "      <td>True</td>\n",
              "    </tr>\n",
              "    <tr>\n",
              "      <th>23</th>\n",
              "      <td>D&amp;B_OPEN_DATA_FLAG</td>\n",
              "      <td>NullType()</td>\n",
              "      <td>True</td>\n",
              "    </tr>\n",
              "    <tr>\n",
              "      <th>38</th>\n",
              "      <td>CORRESPONDENCE_FLAG</td>\n",
              "      <td>NullType()</td>\n",
              "      <td>True</td>\n",
              "    </tr>\n",
              "    <tr>\n",
              "      <th>122</th>\n",
              "      <td>FLEX_FIELD_1</td>\n",
              "      <td>NullType()</td>\n",
              "      <td>True</td>\n",
              "    </tr>\n",
              "    <tr>\n",
              "      <th>123</th>\n",
              "      <td>FLEX_FIELD_2</td>\n",
              "      <td>NullType()</td>\n",
              "      <td>True</td>\n",
              "    </tr>\n",
              "    <tr>\n",
              "      <th>124</th>\n",
              "      <td>FLEX_FIELD_3</td>\n",
              "      <td>NullType()</td>\n",
              "      <td>True</td>\n",
              "    </tr>\n",
              "    <tr>\n",
              "      <th>125</th>\n",
              "      <td>FLEX_FIELD_4</td>\n",
              "      <td>NullType()</td>\n",
              "      <td>True</td>\n",
              "    </tr>\n",
              "    <tr>\n",
              "      <th>126</th>\n",
              "      <td>FLEX_FIELD_5</td>\n",
              "      <td>NullType()</td>\n",
              "      <td>True</td>\n",
              "    </tr>\n",
              "    <tr>\n",
              "      <th>127</th>\n",
              "      <td>FLEX_FIELD_6</td>\n",
              "      <td>NullType()</td>\n",
              "      <td>True</td>\n",
              "    </tr>\n",
              "    <tr>\n",
              "      <th>128</th>\n",
              "      <td>FLEX_FIELD_7</td>\n",
              "      <td>NullType()</td>\n",
              "      <td>True</td>\n",
              "    </tr>\n",
              "    <tr>\n",
              "      <th>129</th>\n",
              "      <td>FLEX_FIELD_8</td>\n",
              "      <td>NullType()</td>\n",
              "      <td>True</td>\n",
              "    </tr>\n",
              "    <tr>\n",
              "      <th>130</th>\n",
              "      <td>FLEX_FIELD_9</td>\n",
              "      <td>NullType()</td>\n",
              "      <td>True</td>\n",
              "    </tr>\n",
              "    <tr>\n",
              "      <th>131</th>\n",
              "      <td>FLEX_FIELD_10</td>\n",
              "      <td>NullType()</td>\n",
              "      <td>True</td>\n",
              "    </tr>\n",
              "    <tr>\n",
              "      <th>132</th>\n",
              "      <td>FLEX_FIELD_11</td>\n",
              "      <td>NullType()</td>\n",
              "      <td>True</td>\n",
              "    </tr>\n",
              "    <tr>\n",
              "      <th>133</th>\n",
              "      <td>FLEX_FIELD_12</td>\n",
              "      <td>NullType()</td>\n",
              "      <td>True</td>\n",
              "    </tr>\n",
              "    <tr>\n",
              "      <th>134</th>\n",
              "      <td>FLEX_FIELD_13</td>\n",
              "      <td>NullType()</td>\n",
              "      <td>True</td>\n",
              "    </tr>\n",
              "    <tr>\n",
              "      <th>135</th>\n",
              "      <td>FLEX_FIELD_14</td>\n",
              "      <td>NullType()</td>\n",
              "      <td>True</td>\n",
              "    </tr>\n",
              "    <tr>\n",
              "      <th>136</th>\n",
              "      <td>FLEX_FIELD_15</td>\n",
              "      <td>NullType()</td>\n",
              "      <td>True</td>\n",
              "    </tr>\n",
              "    <tr>\n",
              "      <th>137</th>\n",
              "      <td>FLEX_FIELD_16</td>\n",
              "      <td>NullType()</td>\n",
              "      <td>True</td>\n",
              "    </tr>\n",
              "    <tr>\n",
              "      <th>138</th>\n",
              "      <td>FLEX_FIELD_17</td>\n",
              "      <td>NullType()</td>\n",
              "      <td>True</td>\n",
              "    </tr>\n",
              "    <tr>\n",
              "      <th>139</th>\n",
              "      <td>FLEX_FIELD_18</td>\n",
              "      <td>NullType()</td>\n",
              "      <td>True</td>\n",
              "    </tr>\n",
              "    <tr>\n",
              "      <th>140</th>\n",
              "      <td>FLEX_FIELD_19</td>\n",
              "      <td>NullType()</td>\n",
              "      <td>True</td>\n",
              "    </tr>\n",
              "  </tbody>\n",
              "</table>\n",
              "</div>"
            ],
            "text/plain": [
              "               fieldname    datatype  nullable\n",
              "1       BLANK_DEPRECATED  NullType()      True\n",
              "23    D&B_OPEN_DATA_FLAG  NullType()      True\n",
              "38   CORRESPONDENCE_FLAG  NullType()      True\n",
              "122         FLEX_FIELD_1  NullType()      True\n",
              "123         FLEX_FIELD_2  NullType()      True\n",
              "124         FLEX_FIELD_3  NullType()      True\n",
              "125         FLEX_FIELD_4  NullType()      True\n",
              "126         FLEX_FIELD_5  NullType()      True\n",
              "127         FLEX_FIELD_6  NullType()      True\n",
              "128         FLEX_FIELD_7  NullType()      True\n",
              "129         FLEX_FIELD_8  NullType()      True\n",
              "130         FLEX_FIELD_9  NullType()      True\n",
              "131        FLEX_FIELD_10  NullType()      True\n",
              "132        FLEX_FIELD_11  NullType()      True\n",
              "133        FLEX_FIELD_12  NullType()      True\n",
              "134        FLEX_FIELD_13  NullType()      True\n",
              "135        FLEX_FIELD_14  NullType()      True\n",
              "136        FLEX_FIELD_15  NullType()      True\n",
              "137        FLEX_FIELD_16  NullType()      True\n",
              "138        FLEX_FIELD_17  NullType()      True\n",
              "139        FLEX_FIELD_18  NullType()      True\n",
              "140        FLEX_FIELD_19  NullType()      True"
            ]
          },
          "execution_count": 55,
          "metadata": {},
          "output_type": "execute_result"
        }
      ],
      "source": [
        "# Check to see if any of the columns are are NullType() prior to writing spark dataframe to delta lake\n",
        "# NullType() columns will not be written to the delta table, so must be converted to another data type\n",
        "schema_df.loc[schema_df['datatype']==r'NullType()']"
      ]
    },
    {
      "cell_type": "code",
      "execution_count": 27,
      "metadata": {
        "jupyter": {
          "outputs_hidden": false,
          "source_hidden": false
        },
        "nteract": {
          "transient": {
            "deleting": false
          }
        }
      },
      "outputs": [
        {
          "data": {
            "application/vnd.livy.statement-meta+json": {
              "execution_finish_time": "2025-06-12T02:07:42.2208601Z",
              "execution_start_time": "2025-06-12T02:07:40.9441175Z",
              "livy_statement_state": "available",
              "normalized_state": "finished",
              "parent_msg_id": "1a545c87-b2bc-4fb8-a4a1-f251d1b88152",
              "queued_time": "2025-06-12T02:05:48.7170095Z",
              "session_id": "2",
              "session_start_time": null,
              "spark_jobs": null,
              "spark_pool": "spk3u4py3u10",
              "state": "finished",
              "statement_id": 28,
              "statement_ids": [
                28
              ]
            },
            "text/plain": [
              "StatementMeta(spk3u4py3u10, 2, 28, Finished, Available, Finished)"
            ]
          },
          "metadata": {},
          "output_type": "display_data"
        }
      ],
      "source": [
        "# Iterates over the dataframe's schema and casts any NullType() columns to StringType()\n",
        "for i in schemaStruct.fieldNames():\n",
        "    if str(schemaStruct[i].dataType) == 'NullType()':\n",
        "        sam_main_df = sam_main_df.withColumn(i,col(i).cast('string'))"
      ]
    },
    {
      "cell_type": "code",
      "execution_count": 28,
      "metadata": {
        "jupyter": {
          "outputs_hidden": true,
          "source_hidden": false
        },
        "nteract": {
          "transient": {
            "deleting": false
          }
        }
      },
      "outputs": [
        {
          "data": {
            "application/vnd.livy.statement-meta+json": {
              "execution_finish_time": "2025-06-12T02:07:42.572922Z",
              "execution_start_time": "2025-06-12T02:07:42.2367698Z",
              "livy_statement_state": "available",
              "normalized_state": "finished",
              "parent_msg_id": "7ebbc949-ecb8-4fd0-be26-9b391844b102",
              "queued_time": "2025-06-12T02:05:49.0494255Z",
              "session_id": "2",
              "session_start_time": null,
              "spark_jobs": null,
              "spark_pool": "spk3u4py3u10",
              "state": "finished",
              "statement_id": 29,
              "statement_ids": [
                29
              ]
            },
            "text/plain": [
              "StatementMeta(spk3u4py3u10, 2, 29, Finished, Available, Finished)"
            ]
          },
          "metadata": {},
          "output_type": "display_data"
        },
        {
          "data": {
            "text/plain": [
              "['UNIQUE_ENTITY_ID',\n",
              " 'BLANK_DEPRECATED',\n",
              " 'ENTITY_EFT_INDICATOR',\n",
              " 'CAGE_CODE',\n",
              " 'DODAAC',\n",
              " 'SAM_EXTRACT_CODE',\n",
              " 'PURPOSE_OF_REGISTRATION',\n",
              " 'INITIAL_REGISTRATION_DATE',\n",
              " 'REGISTRATION_EXPIRATION_DATE',\n",
              " 'LAST_UPDATE_DATE',\n",
              " 'ACTIVATION_DATE',\n",
              " 'LEGAL_BUSINESS_NAME',\n",
              " 'DBA_NAME',\n",
              " 'ENTITY_DIVISION_NAME',\n",
              " 'ENTITY_DIVISION_NUMBER',\n",
              " 'PHYSICAL_ADDRESS_LINE_1',\n",
              " 'PHYSICAL_ADDRESS_LINE_2',\n",
              " 'PHYSICAL_ADDRESS_CITY',\n",
              " 'PHYSICAL_ADDRESS_PROVINCE_OR_STATE',\n",
              " 'PHYSICAL_ADDRESS_ZIP/POSTAL_CODE',\n",
              " 'PHYSICAL_ADDRESS_ZIP_CODE_4',\n",
              " 'PHYSICAL_ADDRESS_COUNTRY_CODE',\n",
              " 'PHYSICAL_ADDRESS_CONGRESSIONAL_DISTRICT',\n",
              " 'D&B_OPEN_DATA_FLAG',\n",
              " 'ENTITY_START_DATE',\n",
              " 'FISCAL_YEAR_END_CLOSE_DATE',\n",
              " 'ENTITY_URL',\n",
              " 'ENTITY_STRUCTURE',\n",
              " 'STATE_OF_INCORPORATION',\n",
              " 'COUNTRY_OF_INCORPORATION',\n",
              " 'BUSINESS_TYPE_COUNTER',\n",
              " 'BUS_TYPE_STRING',\n",
              " 'PRIMARY_NAICS',\n",
              " 'NAICS_CODE_COUNTER',\n",
              " 'NAICS_CODE_STRING',\n",
              " 'PSC_CODE_COUNTER',\n",
              " 'PSC_CODE_STRING',\n",
              " 'CREDIT_CARD_USAGE',\n",
              " 'CORRESPONDENCE_FLAG',\n",
              " 'MAILING_ADDRESS_LINE_1',\n",
              " 'MAILING_ADDRESS_LINE_2',\n",
              " 'MAILING_ADDRESS_CITY',\n",
              " 'MAILING_ADDRESS_ZIP/POSTAL_CODE',\n",
              " 'MAILING_ADDRESS_ZIP_CODE_4',\n",
              " 'MAILING_ADDRESS_COUNTRY',\n",
              " 'MAILING_ADDRESS_STATE_OR_PROVINCE',\n",
              " 'GOVT_BUS_POC_FIRST_NAME',\n",
              " 'GOVT_BUS_POC_MIDDLE_INITIAL',\n",
              " 'GOVT_BUS_POC_LAST_NAME',\n",
              " 'GOVT_BUS_POC_TITLE',\n",
              " 'GOVT_BUS_POC_ST_ADD_1',\n",
              " 'GOVT_BUS_POC_ST_ADD_2',\n",
              " 'GOVT_BUS_POC_CITY',\n",
              " 'GOVT_BUS_POC_ZIP/POSTAL_CODE',\n",
              " 'GOVT_BUS_POC_ZIP_CODE_4',\n",
              " 'GOVT_BUS_POC_COUNTRY_CODE',\n",
              " 'GOVT_BUS_POC_STATE_OR_PROVINCE',\n",
              " 'ALT_GOVT_BUS_POC_FIRST_NAME',\n",
              " 'ALT_GOVT_BUS_POC_MIDDLE_INITIAL',\n",
              " 'ALT_GOVT_BUS_POC_LAST_NAME',\n",
              " 'ALT_GOVT_BUS_POC_TITLE',\n",
              " 'ALT_GOVT_BUS_POC_ST_ADD_1',\n",
              " 'ALT_GOVT_BUS_POC_ST_ADD_2',\n",
              " 'ALT_GOVT_BUS_POC_CITY',\n",
              " 'ALT_GOVT_BUS_POC_ZIP/POSTAL_CODE',\n",
              " 'ALT_GOVT_BUS_POC_ZIP_CODE_4',\n",
              " 'ALT_GOVT_BUS_POC_COUNTRY_CODE',\n",
              " 'ALT_GOVT_BUS_POC_STATE_OR_PROVINCE',\n",
              " 'PAST_PERF_POC_POC_FIRST_NAME',\n",
              " 'PAST_PERF_POC_POC_MIDDLE_INITIAL',\n",
              " 'PAST_PERF_POC_POC_LAST_NAME',\n",
              " 'PAST_PERF_POC_POC_TITLE',\n",
              " 'PAST_PERF_POC_ST_ADD_1',\n",
              " 'PAST_PERF_POC_ST_ADD_2',\n",
              " 'PAST_PERF_POC_CITY',\n",
              " 'PAST_PERF_POC_ZIP/POSTAL_CODE',\n",
              " 'PAST_PERF_POC_ZIP_CODE_4',\n",
              " 'PAST_PERF_POC_COUNTRY_CODE',\n",
              " 'PAST_PERF_POC_STATE_OR_PROVINCE',\n",
              " 'ALT_PAST_PERF_POC_FIRST_NAME',\n",
              " 'ALT_PAST_PERF_POC_MIDDLE_INITIAL',\n",
              " 'ALT_PAST_PERF_POC_LAST_NAME',\n",
              " 'ALT_PAST_PERF_POC_TITLE',\n",
              " 'ALT_PAST_PERF_POC_ST_ADD_1',\n",
              " 'ALT_PAST_PERF_POC_ST_ADD_2',\n",
              " 'ALT_PAST_PERF_POC_CITY',\n",
              " 'ALT_PAST_PERF_POC_ZIP/POSTAL_CODE',\n",
              " 'ALT_PAST_PERF_POC_ZIP_CODE_4',\n",
              " 'ALT_PAST_PERF_POC_COUNTRY_CODE',\n",
              " 'ALT_PAST_PERF_POC_STATE_OR_PROVINCE',\n",
              " 'ELEC_BUS_POC_FIRST_NAME',\n",
              " 'ELEC_BUS_POC_MIDDLE_INITIAL',\n",
              " 'ELEC_BUS_POC_LAST_NAME',\n",
              " 'ELEC_BUS_POC_TITLE',\n",
              " 'ELEC_BUS_POC_ST_ADD_1',\n",
              " 'ELEC_BUS_POC_ST_ADD_2',\n",
              " 'ELEC_BUS_POC_CITY',\n",
              " 'ELEC_BUS_POC_ZIP/POSTAL_CODE',\n",
              " 'ELEC_BUS_POC_ZIP_CODE_4',\n",
              " 'ELEC_BUS_POC_COUNTRY_CODE',\n",
              " 'ELEC_BUS_POC_STATE_OR_PROVINCE',\n",
              " 'ALT_ELEC_POC_BUS_POC_FIRST_NAME',\n",
              " 'ALT_ELEC_POC_BUS_POC_MIDDLE_INITIAL',\n",
              " 'ALT_ELEC_POC_BUS_POC_LAST_NAME',\n",
              " 'ALT_ELEC_POC_BUS_POC_TITLE',\n",
              " 'ALT_ELEC_POC_BUS_ST_ADD_1',\n",
              " 'ALT_ELEC_POC_BUS_ST_ADD_2',\n",
              " 'ALT_ELEC_POC_BUS_CITY',\n",
              " 'ALT_ELEC_POC_BUS_ZIP/POSTAL_CODE',\n",
              " 'ALT_ELEC_POC_BUS_ZIP_CODE_4',\n",
              " 'ALT_ELEC_POC_BUS_COUNTRY_CODE',\n",
              " 'ALT_ELEC_POC_BUS_STATE_OR_PROVINCE',\n",
              " 'NAICS_EXCEPTION_COUNTER',\n",
              " 'NAICS_EXCEPTION_STRING',\n",
              " 'DEBT_SUBJECT_TO_OFFSET_FLAG',\n",
              " 'EXCLUSION_STATUS_FLAG',\n",
              " 'SBA_BUSINESS_TYPES_COUNTER',\n",
              " 'SBA_BUSINESS_TYPES_STRING',\n",
              " 'NO_PUBLIC_DISPLAY_FLAG',\n",
              " 'DISASTER_RESPONSE_COUNTER',\n",
              " 'DISASTER_RESPONSE_STRING',\n",
              " 'ENTITY_EVS_SOURCE',\n",
              " 'FLEX_FIELD_1',\n",
              " 'FLEX_FIELD_2',\n",
              " 'FLEX_FIELD_3',\n",
              " 'FLEX_FIELD_4',\n",
              " 'FLEX_FIELD_5',\n",
              " 'FLEX_FIELD_6',\n",
              " 'FLEX_FIELD_7',\n",
              " 'FLEX_FIELD_8',\n",
              " 'FLEX_FIELD_9',\n",
              " 'FLEX_FIELD_10',\n",
              " 'FLEX_FIELD_11',\n",
              " 'FLEX_FIELD_12',\n",
              " 'FLEX_FIELD_13',\n",
              " 'FLEX_FIELD_14',\n",
              " 'FLEX_FIELD_15',\n",
              " 'FLEX_FIELD_16',\n",
              " 'FLEX_FIELD_17',\n",
              " 'FLEX_FIELD_18',\n",
              " 'FLEX_FIELD_19',\n",
              " 'END_OF_RECORD_INDICATOR',\n",
              " 'entityKey',\n",
              " 'AUD_DIRECTORY',\n",
              " 'AUD_FILENAME',\n",
              " 'AUD_ACTIVE_FLAG',\n",
              " 'EffectiveFromDate',\n",
              " 'EffectiveToDate']"
            ]
          },
          "execution_count": 59,
          "metadata": {},
          "output_type": "execute_result"
        }
      ],
      "source": [
        "sam_main_df.columns"
      ]
    },
    {
      "cell_type": "markdown",
      "metadata": {
        "nteract": {
          "transient": {
            "deleting": false
          }
        }
      },
      "source": [
        "# <font size=\"5\">8. Create hash code of fields to track changes in (AUD_HASH_CODE)"
      ]
    },
    {
      "cell_type": "code",
      "execution_count": 29,
      "metadata": {
        "jupyter": {
          "outputs_hidden": false,
          "source_hidden": false
        },
        "nteract": {
          "transient": {
            "deleting": false
          }
        }
      },
      "outputs": [
        {
          "data": {
            "application/vnd.livy.statement-meta+json": {
              "execution_finish_time": "2025-06-12T02:07:42.908638Z",
              "execution_start_time": "2025-06-12T02:07:42.5870273Z",
              "livy_statement_state": "available",
              "normalized_state": "finished",
              "parent_msg_id": "93741bea-c599-432b-82a7-0a005cb1fa9d",
              "queued_time": "2025-06-12T02:05:49.2162457Z",
              "session_id": "2",
              "session_start_time": null,
              "spark_jobs": null,
              "spark_pool": "spk3u4py3u10",
              "state": "finished",
              "statement_id": 30,
              "statement_ids": [
                30
              ]
            },
            "text/plain": [
              "StatementMeta(spk3u4py3u10, 2, 30, Finished, Available, Finished)"
            ]
          },
          "metadata": {},
          "output_type": "display_data"
        }
      ],
      "source": [
        "# Compile list of columns to not include the AUD_HASH_CODE column of the sam_main table\n",
        "key_list = ['UNIQUE_ENTITY_ID', 'CAGE_CODE', 'DODAAC', 'END_OF_RECORD_INDICATOR']\n",
        "remove_list = ['SAM_EXTRACT_CODE', 'END_OF_RECORD_INDICATOR']\n",
        "remove_list.extend(key_list)"
      ]
    },
    {
      "cell_type": "code",
      "execution_count": 30,
      "metadata": {
        "jupyter": {
          "outputs_hidden": true,
          "source_hidden": false
        },
        "nteract": {
          "transient": {
            "deleting": false
          }
        }
      },
      "outputs": [
        {
          "data": {
            "application/vnd.livy.statement-meta+json": {
              "execution_finish_time": "2025-06-12T02:07:43.2612536Z",
              "execution_start_time": "2025-06-12T02:07:42.9234516Z",
              "livy_statement_state": "available",
              "normalized_state": "finished",
              "parent_msg_id": "83c7e7b8-a07e-4624-baf7-973d7bd9a390",
              "queued_time": "2025-06-12T02:05:49.3380446Z",
              "session_id": "2",
              "session_start_time": null,
              "spark_jobs": null,
              "spark_pool": "spk3u4py3u10",
              "state": "finished",
              "statement_id": 31,
              "statement_ids": [
                31
              ]
            },
            "text/plain": [
              "StatementMeta(spk3u4py3u10, 2, 31, Finished, Available, Finished)"
            ]
          },
          "metadata": {},
          "output_type": "display_data"
        }
      ],
      "source": [
        "#print(remove_list)"
      ]
    },
    {
      "cell_type": "code",
      "execution_count": 31,
      "metadata": {
        "jupyter": {
          "outputs_hidden": false,
          "source_hidden": false
        },
        "nteract": {
          "transient": {
            "deleting": false
          }
        }
      },
      "outputs": [
        {
          "data": {
            "application/vnd.livy.statement-meta+json": {
              "execution_finish_time": "2025-06-12T02:07:43.6001773Z",
              "execution_start_time": "2025-06-12T02:07:43.2790628Z",
              "livy_statement_state": "available",
              "normalized_state": "finished",
              "parent_msg_id": "c16273b8-81d9-4987-b2f5-21c1b3ac0848",
              "queued_time": "2025-06-12T02:05:49.4210184Z",
              "session_id": "2",
              "session_start_time": null,
              "spark_jobs": null,
              "spark_pool": "spk3u4py3u10",
              "state": "finished",
              "statement_id": 32,
              "statement_ids": [
                32
              ]
            },
            "text/plain": [
              "StatementMeta(spk3u4py3u10, 2, 32, Finished, Available, Finished)"
            ]
          },
          "metadata": {},
          "output_type": "display_data"
        }
      ],
      "source": [
        "# Create list of columns (hash_cols) that should have changes tracked in sam_main\n",
        "hash_cols = var_list.copy()\n",
        "for i in remove_list:\n",
        "    if i in hash_cols:\n",
        "        hash_cols.remove(i)"
      ]
    },
    {
      "cell_type": "code",
      "execution_count": 32,
      "metadata": {
        "jupyter": {
          "outputs_hidden": true,
          "source_hidden": false
        },
        "nteract": {
          "transient": {
            "deleting": false
          }
        }
      },
      "outputs": [
        {
          "data": {
            "application/vnd.livy.statement-meta+json": {
              "execution_finish_time": "2025-06-12T02:07:43.9486097Z",
              "execution_start_time": "2025-06-12T02:07:43.6248649Z",
              "livy_statement_state": "available",
              "normalized_state": "finished",
              "parent_msg_id": "4b933e12-d875-41a0-84dc-f065ca60788e",
              "queued_time": "2025-06-12T02:05:49.5137124Z",
              "session_id": "2",
              "session_start_time": null,
              "spark_jobs": null,
              "spark_pool": "spk3u4py3u10",
              "state": "finished",
              "statement_id": 33,
              "statement_ids": [
                33
              ]
            },
            "text/plain": [
              "StatementMeta(spk3u4py3u10, 2, 33, Finished, Available, Finished)"
            ]
          },
          "metadata": {},
          "output_type": "display_data"
        }
      ],
      "source": [
        "#print(hash_cols)"
      ]
    },
    {
      "cell_type": "code",
      "execution_count": 33,
      "metadata": {
        "jupyter": {
          "outputs_hidden": false,
          "source_hidden": false
        },
        "nteract": {
          "transient": {
            "deleting": false
          }
        }
      },
      "outputs": [
        {
          "data": {
            "application/vnd.livy.statement-meta+json": {
              "execution_finish_time": "2025-06-12T02:07:44.7298895Z",
              "execution_start_time": "2025-06-12T02:07:43.9636873Z",
              "livy_statement_state": "available",
              "normalized_state": "finished",
              "parent_msg_id": "856165e8-7bc2-4c29-b5f8-23baf9abba10",
              "queued_time": "2025-06-12T02:05:49.6297843Z",
              "session_id": "2",
              "session_start_time": null,
              "spark_jobs": null,
              "spark_pool": "spk3u4py3u10",
              "state": "finished",
              "statement_id": 34,
              "statement_ids": [
                34
              ]
            },
            "text/plain": [
              "StatementMeta(spk3u4py3u10, 2, 34, Finished, Available, Finished)"
            ]
          },
          "metadata": {},
          "output_type": "display_data"
        }
      ],
      "source": [
        "# Create the audit hash code of change-tracked columns for sam_main and sam_login_info\n",
        "sam_main_df = sam_main_df.withColumn(\"AUD_HASH_CODE\",lit(sha2(concat_ws(\"~\", *hash_cols), 256)))"
      ]
    },
    {
      "cell_type": "markdown",
      "metadata": {
        "nteract": {
          "transient": {
            "deleting": false
          }
        }
      },
      "source": [
        "# <font size=\"5\">9. Create surrogate unique key (AUD_SEQ_ID)"
      ]
    },
    {
      "cell_type": "code",
      "execution_count": 34,
      "metadata": {
        "jupyter": {
          "outputs_hidden": false,
          "source_hidden": false
        },
        "nteract": {
          "transient": {
            "deleting": false
          }
        }
      },
      "outputs": [
        {
          "data": {
            "application/vnd.livy.statement-meta+json": {
              "execution_finish_time": "2025-06-12T02:07:45.0494714Z",
              "execution_start_time": "2025-06-12T02:07:44.7773063Z",
              "livy_statement_state": "available",
              "normalized_state": "finished",
              "parent_msg_id": "6f363dfe-be25-46f8-84fb-a79a274e6223",
              "queued_time": "2025-06-12T02:05:49.7277112Z",
              "session_id": "2",
              "session_start_time": null,
              "spark_jobs": null,
              "spark_pool": "spk3u4py3u10",
              "state": "finished",
              "statement_id": 35,
              "statement_ids": [
                35
              ]
            },
            "text/plain": [
              "StatementMeta(spk3u4py3u10, 2, 35, Finished, Available, Finished)"
            ]
          },
          "metadata": {},
          "output_type": "display_data"
        }
      ],
      "source": [
        "# Create the temporary surrogate key/sequence id for the record in sam_main\n",
        "window_sort = ['entityKey','AUD_HASH_CODE']\n",
        "w = Window().orderBy(*window_sort)\n",
        "sam_main_df = sam_main_df.withColumn(\"AUD_SEQ_ID\", row_number().over(w))\n",
        "sam_main_df = sam_main_df.withColumn(\"AUD_SEQ_ID\",col(\"AUD_SEQ_ID\").cast('long'))"
      ]
    },
    {
      "cell_type": "code",
      "execution_count": 35,
      "metadata": {
        "jupyter": {
          "outputs_hidden": false,
          "source_hidden": false
        },
        "nteract": {
          "transient": {
            "deleting": false
          }
        }
      },
      "outputs": [
        {
          "data": {
            "application/vnd.livy.statement-meta+json": {
              "execution_finish_time": "2025-06-12T02:07:45.3294251Z",
              "execution_start_time": "2025-06-12T02:07:45.063627Z",
              "livy_statement_state": "available",
              "normalized_state": "finished",
              "parent_msg_id": "46f869e4-3a07-42ba-a3be-f849c78f84c2",
              "queued_time": "2025-06-12T02:05:49.8223596Z",
              "session_id": "2",
              "session_start_time": null,
              "spark_jobs": null,
              "spark_pool": "spk3u4py3u10",
              "state": "finished",
              "statement_id": 36,
              "statement_ids": [
                36
              ]
            },
            "text/plain": [
              "StatementMeta(spk3u4py3u10, 2, 36, Finished, Available, Finished)"
            ]
          },
          "metadata": {},
          "output_type": "display_data"
        }
      ],
      "source": [
        "# Create list with order of audit columns to appear at beginning of the table\n",
        "initial_aud_cols = ['entityKey','AUD_HASH_CODE', 'AUD_SEQ_ID',  'AUD_ACTIVE_FLAG', 'AUD_DIRECTORY', 'AUD_FILENAME','EffectiveFromDate', 'EffectiveToDate']"
      ]
    },
    {
      "cell_type": "markdown",
      "metadata": {
        "nteract": {
          "transient": {
            "deleting": false
          }
        }
      },
      "source": [
        "# <font size=\"5\">10. Update spark dataframe with final column order"
      ]
    },
    {
      "cell_type": "code",
      "execution_count": 36,
      "metadata": {
        "jupyter": {
          "outputs_hidden": false,
          "source_hidden": false
        },
        "nteract": {
          "transient": {
            "deleting": false
          }
        }
      },
      "outputs": [
        {
          "data": {
            "application/vnd.livy.statement-meta+json": {
              "execution_finish_time": "2025-06-12T02:07:46.0993457Z",
              "execution_start_time": "2025-06-12T02:07:45.341862Z",
              "livy_statement_state": "available",
              "normalized_state": "finished",
              "parent_msg_id": "18517070-a8b9-46f8-9b0e-198c85942234",
              "queued_time": "2025-06-12T02:05:49.9022856Z",
              "session_id": "2",
              "session_start_time": null,
              "spark_jobs": null,
              "spark_pool": "spk3u4py3u10",
              "state": "finished",
              "statement_id": 37,
              "statement_ids": [
                37
              ]
            },
            "text/plain": [
              "StatementMeta(spk3u4py3u10, 2, 37, Finished, Available, Finished)"
            ]
          },
          "metadata": {},
          "output_type": "display_data"
        }
      ],
      "source": [
        "# After generating all audit columns, reorder column list\n",
        "# Delta Lake \"indexes\" on initial 32 columns in table, so join conditions should be up front\n",
        "sam_main_df = sam_main_df.select(*initial_aud_cols,*base_cols)"
      ]
    },
    {
      "cell_type": "code",
      "execution_count": 37,
      "metadata": {
        "collapsed": false,
        "jupyter": {
          "outputs_hidden": false,
          "source_hidden": false
        },
        "nteract": {
          "transient": {
            "deleting": false
          }
        }
      },
      "outputs": [
        {
          "data": {
            "application/vnd.livy.statement-meta+json": {
              "execution_finish_time": "2025-06-12T02:07:53.3046325Z",
              "execution_start_time": "2025-06-12T02:07:46.1144379Z",
              "livy_statement_state": "available",
              "normalized_state": "finished",
              "parent_msg_id": "bd02d61d-1507-442d-845b-b16e21dab538",
              "queued_time": "2025-06-12T02:05:50.0162676Z",
              "session_id": "2",
              "session_start_time": null,
              "spark_jobs": null,
              "spark_pool": "spk3u4py3u10",
              "state": "finished",
              "statement_id": 38,
              "statement_ids": [
                38
              ]
            },
            "text/plain": [
              "StatementMeta(spk3u4py3u10, 2, 38, Finished, Available, Finished)"
            ]
          },
          "metadata": {},
          "output_type": "display_data"
        },
        {
          "data": {
            "application/vnd.synapse.widget-view+json": {
              "widget_id": "8cca1d57-a47e-4b5f-b2ab-4aba14ee448c",
              "widget_type": "Synapse.DataFrame"
            },
            "text/plain": [
              "SynapseWidget(Synapse.DataFrame, 8cca1d57-a47e-4b5f-b2ab-4aba14ee448c)"
            ]
          },
          "metadata": {},
          "output_type": "display_data"
        }
      ],
      "source": [
        "display(sam_main_df.limit(2).select(\"entityKey\", \"AUD_SEQ_ID\", \"AUD_HASH_CODE\", \"AUD_DIRECTORY\", \"AUD_FILENAME\", \"AUD_ACTIVE_FLAG\", \"EffectiveFromDate\", \"EffectiveToDate\"))"
      ]
    },
    {
      "cell_type": "code",
      "execution_count": 38,
      "metadata": {
        "collapsed": false
      },
      "outputs": [
        {
          "data": {
            "application/vnd.livy.statement-meta+json": {
              "execution_finish_time": "2025-06-12T02:07:54.5977298Z",
              "execution_start_time": "2025-06-12T02:07:53.3308388Z",
              "livy_statement_state": "available",
              "normalized_state": "finished",
              "parent_msg_id": "3437901c-e342-457d-85bf-b9e91eae095f",
              "queued_time": "2025-06-12T02:05:50.1047724Z",
              "session_id": "2",
              "session_start_time": null,
              "spark_jobs": null,
              "spark_pool": "spk3u4py3u10",
              "state": "finished",
              "statement_id": 39,
              "statement_ids": [
                39
              ]
            },
            "text/plain": [
              "StatementMeta(spk3u4py3u10, 2, 39, Finished, Available, Finished)"
            ]
          },
          "metadata": {},
          "output_type": "display_data"
        },
        {
          "data": {
            "application/vnd.synapse.widget-view+json": {
              "widget_id": "d514dfae-b181-4030-9129-355844cc9f99",
              "widget_type": "Synapse.DataFrame"
            },
            "text/plain": [
              "SynapseWidget(Synapse.DataFrame, d514dfae-b181-4030-9129-355844cc9f99)"
            ]
          },
          "metadata": {},
          "output_type": "display_data"
        }
      ],
      "source": [
        "# Convert INITIAL_REGISTRATION_DATE to date type\n",
        "sam_main_df = sam_main_df.withColumn(\"INITIAL_REGISTRATION_DATE\",to_date(col(\"INITIAL_REGISTRATION_DATE\"), \"yyyyMMdd\"))\n",
        "display(sam_main_df.limit(2).select(\"INITIAL_REGISTRATION_DATE\"))"
      ]
    },
    {
      "cell_type": "code",
      "execution_count": 39,
      "metadata": {
        "jupyter": {
          "outputs_hidden": false,
          "source_hidden": false
        },
        "nteract": {
          "transient": {
            "deleting": false
          }
        }
      },
      "outputs": [
        {
          "data": {
            "application/vnd.livy.statement-meta+json": {
              "execution_finish_time": "2025-06-12T02:07:54.8820648Z",
              "execution_start_time": "2025-06-12T02:07:54.6189967Z",
              "livy_statement_state": "available",
              "normalized_state": "finished",
              "parent_msg_id": "4a445e09-7ee1-4cbc-a55b-c3e3db66bae1",
              "queued_time": "2025-06-12T02:05:50.2181507Z",
              "session_id": "2",
              "session_start_time": null,
              "spark_jobs": null,
              "spark_pool": "spk3u4py3u10",
              "state": "finished",
              "statement_id": 40,
              "statement_ids": [
                40
              ]
            },
            "text/plain": [
              "StatementMeta(spk3u4py3u10, 2, 40, Finished, Available, Finished)"
            ]
          },
          "metadata": {},
          "output_type": "display_data"
        }
      ],
      "source": [
        "# Ensure no columns in sam_main_df are NullType() - final check prior to writing data to delta file\n",
        "# This cell will only print output if NullType() columns are found\n",
        "for i in sam_main_df.schema.fieldNames():\n",
        "    if str(sam_main_df.schema[i].dataType) == 'NullType()':\n",
        "        print('sam_main_df column {} is NullType()'.format(i))"
      ]
    },
    {
      "cell_type": "markdown",
      "metadata": {
        "nteract": {
          "transient": {
            "deleting": false
          }
        }
      },
      "source": [
        "# <font size=\"5\">11. Write initial data to silver delta file"
      ]
    },
    {
      "cell_type": "code",
      "execution_count": 40,
      "metadata": {},
      "outputs": [
        {
          "data": {
            "application/vnd.livy.statement-meta+json": {
              "execution_finish_time": "2025-06-12T02:07:55.1610976Z",
              "execution_start_time": "2025-06-12T02:07:54.896001Z",
              "livy_statement_state": "available",
              "normalized_state": "finished",
              "parent_msg_id": "bba82874-1cbc-4ee0-b996-6e064f9dae14",
              "queued_time": "2025-06-12T02:05:50.3080218Z",
              "session_id": "2",
              "session_start_time": null,
              "spark_jobs": null,
              "spark_pool": "spk3u4py3u10",
              "state": "finished",
              "statement_id": 41,
              "statement_ids": [
                41
              ]
            },
            "text/plain": [
              "StatementMeta(spk3u4py3u10, 2, 41, Finished, Available, Finished)"
            ]
          },
          "metadata": {},
          "output_type": "display_data"
        }
      ],
      "source": [
        "# Create Partition Key column based on the first letter of the Unique Entity ID, which has a relatively equal distribution across possible values\n",
        "sam_main_df = sam_main_df.withColumn(\"PARTITION_KEY\", substring(col(\"UNIQUE_ENTITY_ID\"), 1, 1))"
      ]
    },
    {
      "cell_type": "code",
      "execution_count": 41,
      "metadata": {
        "jupyter": {
          "outputs_hidden": false,
          "source_hidden": false
        },
        "nteract": {
          "transient": {
            "deleting": false
          }
        }
      },
      "outputs": [
        {
          "data": {
            "application/vnd.livy.statement-meta+json": {
              "execution_finish_time": "2025-06-12T02:08:43.4312847Z",
              "execution_start_time": "2025-06-12T02:07:55.176607Z",
              "livy_statement_state": "available",
              "normalized_state": "finished",
              "parent_msg_id": "76b71030-c3d7-4575-9dbf-0247a92d58b7",
              "queued_time": "2025-06-12T02:05:50.4039662Z",
              "session_id": "2",
              "session_start_time": null,
              "spark_jobs": null,
              "spark_pool": "spk3u4py3u10",
              "state": "finished",
              "statement_id": 42,
              "statement_ids": [
                42
              ]
            },
            "text/plain": [
              "StatementMeta(spk3u4py3u10, 2, 42, Finished, Available, Finished)"
            ]
          },
          "metadata": {},
          "output_type": "display_data"
        }
      ],
      "source": [
        "# Write first sam_main data frame to silver as the baseline\n",
        "# Write Dataframe as Delta Table (silver)\n",
        "# Create partition on PARTITION_KEY\n",
        "sam_main_df.write.format(\"delta\").mode(\"overwrite\").partitionBy(\"PARTITION_KEY\").save(silver_path)"
      ]
    },
    {
      "cell_type": "code",
      "execution_count": 42,
      "metadata": {
        "jupyter": {
          "outputs_hidden": false,
          "source_hidden": false
        },
        "nteract": {
          "transient": {
            "deleting": false
          }
        }
      },
      "outputs": [
        {
          "data": {
            "application/vnd.livy.statement-meta+json": {
              "execution_finish_time": "2025-06-12T02:08:44.2482417Z",
              "execution_start_time": "2025-06-12T02:08:43.4458357Z",
              "livy_statement_state": "available",
              "normalized_state": "finished",
              "parent_msg_id": "16cc8e34-8b3d-4113-a6c0-2b3fdce448d9",
              "queued_time": "2025-06-12T02:05:50.5863829Z",
              "session_id": "2",
              "session_start_time": null,
              "spark_jobs": null,
              "spark_pool": "spk3u4py3u10",
              "state": "finished",
              "statement_id": 43,
              "statement_ids": [
                43
              ]
            },
            "text/plain": [
              "StatementMeta(spk3u4py3u10, 2, 43, Finished, Available, Finished)"
            ]
          },
          "metadata": {},
          "output_type": "display_data"
        },
        {
          "data": {
            "text/plain": [
              "['{\"commitInfo\":{\"timestamp\":1749694120845,\"operation\":\"WRITE\",\"operationParameters\":{\"mode\":\"Overwrite\",\"partitionBy\":\"[\\\\\"PARTITION_KEY\\\\\"]\"},\"isolationLevel\":\"Serializable\",\"isBlindAppend\":false,\"operationMetrics\":{\"numFiles\":\"22\",\"numOutputRows\":\"848539\",\"numOutputBytes\":\"305075978\"},\"engineInfo\":\"Apache-Spark/3.4.3.5.3.20250408.3 Delta-Lake/2.4.0.23\",\"txnId\":\"7873476c-15cf-4531-ba13-3e356d1a27c7\"}}',\n",
              " '{\"protocol\":{\"minReaderVersion\":1,\"minWriterVersion\":2}}',\n",
              " '{\"metaData\":{\"id\":\"4f220f5b-88e8-4dff-93ca-82a0f5463da8\",\"format\":{\"provider\":\"parquet\",\"options\":{}},\"schemaString\":\"{\\\\\"type\\\\\":\\\\\"struct\\\\\",\\\\\"fields\\\\\":[{\\\\\"name\\\\\":\\\\\"entityKey\\\\\",\\\\\"type\\\\\":\\\\\"string\\\\\",\\\\\"nullable\\\\\":true,\\\\\"metadata\\\\\":{}},{\\\\\"name\\\\\":\\\\\"AUD_HASH_CODE\\\\\",\\\\\"type\\\\\":\\\\\"string\\\\\",\\\\\"nullable\\\\\":true,\\\\\"metadata\\\\\":{}},{\\\\\"name\\\\\":\\\\\"AUD_SEQ_ID\\\\\",\\\\\"type\\\\\":\\\\\"long\\\\\",\\\\\"nullable\\\\\":true,\\\\\"metadata\\\\\":{}},{\\\\\"name\\\\\":\\\\\"AUD_ACTIVE_FLAG\\\\\",\\\\\"type\\\\\":\\\\\"string\\\\\",\\\\\"nullable\\\\\":true,\\\\\"metadata\\\\\":{}},{\\\\\"name\\\\\":\\\\\"AUD_DIRECTORY\\\\\",\\\\\"type\\\\\":\\\\\"string\\\\\",\\\\\"nullable\\\\\":true,\\\\\"metadata\\\\\":{}},{\\\\\"name\\\\\":\\\\\"AUD_FILENAME\\\\\",\\\\\"type\\\\\":\\\\\"string\\\\\",\\\\\"nullable\\\\\":true,\\\\\"metadata\\\\\":{}},{\\\\\"name\\\\\":\\\\\"EffectiveFromDate\\\\\",\\\\\"type\\\\\":\\\\\"date\\\\\",\\\\\"nullable\\\\\":true,\\\\\"metadata\\\\\":{}},{\\\\\"name\\\\\":\\\\\"EffectiveToDate\\\\\",\\\\\"type\\\\\":\\\\\"date\\\\\",\\\\\"nullable\\\\\":true,\\\\\"metadata\\\\\":{}},{\\\\\"name\\\\\":\\\\\"UNIQUE_ENTITY_ID\\\\\",\\\\\"type\\\\\":\\\\\"string\\\\\",\\\\\"nullable\\\\\":true,\\\\\"metadata\\\\\":{}},{\\\\\"name\\\\\":\\\\\"BLANK_DEPRECATED\\\\\",\\\\\"type\\\\\":\\\\\"string\\\\\",\\\\\"nullable\\\\\":true,\\\\\"metadata\\\\\":{}},{\\\\\"name\\\\\":\\\\\"ENTITY_EFT_INDICATOR\\\\\",\\\\\"type\\\\\":\\\\\"string\\\\\",\\\\\"nullable\\\\\":true,\\\\\"metadata\\\\\":{}},{\\\\\"name\\\\\":\\\\\"CAGE_CODE\\\\\",\\\\\"type\\\\\":\\\\\"string\\\\\",\\\\\"nullable\\\\\":true,\\\\\"metadata\\\\\":{}},{\\\\\"name\\\\\":\\\\\"DODAAC\\\\\",\\\\\"type\\\\\":\\\\\"string\\\\\",\\\\\"nullable\\\\\":true,\\\\\"metadata\\\\\":{}},{\\\\\"name\\\\\":\\\\\"SAM_EXTRACT_CODE\\\\\",\\\\\"type\\\\\":\\\\\"string\\\\\",\\\\\"nullable\\\\\":true,\\\\\"metadata\\\\\":{}},{\\\\\"name\\\\\":\\\\\"PURPOSE_OF_REGISTRATION\\\\\",\\\\\"type\\\\\":\\\\\"string\\\\\",\\\\\"nullable\\\\\":true,\\\\\"metadata\\\\\":{}},{\\\\\"name\\\\\":\\\\\"INITIAL_REGISTRATION_DATE\\\\\",\\\\\"type\\\\\":\\\\\"date\\\\\",\\\\\"nullable\\\\\":true,\\\\\"metadata\\\\\":{}},{\\\\\"name\\\\\":\\\\\"REGISTRATION_EXPIRATION_DATE\\\\\",\\\\\"type\\\\\":\\\\\"string\\\\\",\\\\\"nullable\\\\\":true,\\\\\"metadata\\\\\":{}},{\\\\\"name\\\\\":\\\\\"LAST_UPDATE_DATE\\\\\",\\\\\"type\\\\\":\\\\\"string\\\\\",\\\\\"nullable\\\\\":true,\\\\\"metadata\\\\\":{}},{\\\\\"name\\\\\":\\\\\"ACTIVATION_DATE\\\\\",\\\\\"type\\\\\":\\\\\"string\\\\\",\\\\\"nullable\\\\\":true,\\\\\"metadata\\\\\":{}},{\\\\\"name\\\\\":\\\\\"LEGAL_BUSINESS_NAME\\\\\",\\\\\"type\\\\\":\\\\\"string\\\\\",\\\\\"nullable\\\\\":true,\\\\\"metadata\\\\\":{}},{\\\\\"name\\\\\":\\\\\"DBA_NAME\\\\\",\\\\\"type\\\\\":\\\\\"string\\\\\",\\\\\"nullable\\\\\":true,\\\\\"metadata\\\\\":{}},{\\\\\"name\\\\\":\\\\\"ENTITY_DIVISION_NAME\\\\\",\\\\\"type\\\\\":\\\\\"string\\\\\",\\\\\"nullable\\\\\":true,\\\\\"metadata\\\\\":{}},{\\\\\"name\\\\\":\\\\\"ENTITY_DIVISION_NUMBER\\\\\",\\\\\"type\\\\\":\\\\\"string\\\\\",\\\\\"nullable\\\\\":true,\\\\\"metadata\\\\\":{}},{\\\\\"name\\\\\":\\\\\"PHYSICAL_ADDRESS_LINE_1\\\\\",\\\\\"type\\\\\":\\\\\"string\\\\\",\\\\\"nullable\\\\\":true,\\\\\"metadata\\\\\":{}},{\\\\\"name\\\\\":\\\\\"PHYSICAL_ADDRESS_LINE_2\\\\\",\\\\\"type\\\\\":\\\\\"string\\\\\",\\\\\"nullable\\\\\":true,\\\\\"metadata\\\\\":{}},{\\\\\"name\\\\\":\\\\\"PHYSICAL_ADDRESS_CITY\\\\\",\\\\\"type\\\\\":\\\\\"string\\\\\",\\\\\"nullable\\\\\":true,\\\\\"metadata\\\\\":{}},{\\\\\"name\\\\\":\\\\\"PHYSICAL_ADDRESS_PROVINCE_OR_STATE\\\\\",\\\\\"type\\\\\":\\\\\"string\\\\\",\\\\\"nullable\\\\\":true,\\\\\"metadata\\\\\":{}},{\\\\\"name\\\\\":\\\\\"PHYSICAL_ADDRESS_ZIP/POSTAL_CODE\\\\\",\\\\\"type\\\\\":\\\\\"string\\\\\",\\\\\"nullable\\\\\":true,\\\\\"metadata\\\\\":{}},{\\\\\"name\\\\\":\\\\\"PHYSICAL_ADDRESS_ZIP_CODE_4\\\\\",\\\\\"type\\\\\":\\\\\"string\\\\\",\\\\\"nullable\\\\\":true,\\\\\"metadata\\\\\":{}},{\\\\\"name\\\\\":\\\\\"PHYSICAL_ADDRESS_COUNTRY_CODE\\\\\",\\\\\"type\\\\\":\\\\\"string\\\\\",\\\\\"nullable\\\\\":true,\\\\\"metadata\\\\\":{}},{\\\\\"name\\\\\":\\\\\"PHYSICAL_ADDRESS_CONGRESSIONAL_DISTRICT\\\\\",\\\\\"type\\\\\":\\\\\"string\\\\\",\\\\\"nullable\\\\\":true,\\\\\"metadata\\\\\":{}},{\\\\\"name\\\\\":\\\\\"D&B_OPEN_DATA_FLAG\\\\\",\\\\\"type\\\\\":\\\\\"string\\\\\",\\\\\"nullable\\\\\":true,\\\\\"metadata\\\\\":{}},{\\\\\"name\\\\\":\\\\\"ENTITY_START_DATE\\\\\",\\\\\"type\\\\\":\\\\\"string\\\\\",\\\\\"nullable\\\\\":true,\\\\\"metadata\\\\\":{}},{\\\\\"name\\\\\":\\\\\"FISCAL_YEAR_END_CLOSE_DATE\\\\\",\\\\\"type\\\\\":\\\\\"string\\\\\",\\\\\"nullable\\\\\":true,\\\\\"metadata\\\\\":{}},{\\\\\"name\\\\\":\\\\\"ENTITY_URL\\\\\",\\\\\"type\\\\\":\\\\\"string\\\\\",\\\\\"nullable\\\\\":true,\\\\\"metadata\\\\\":{}},{\\\\\"name\\\\\":\\\\\"ENTITY_STRUCTURE\\\\\",\\\\\"type\\\\\":\\\\\"string\\\\\",\\\\\"nullable\\\\\":true,\\\\\"metadata\\\\\":{}},{\\\\\"name\\\\\":\\\\\"STATE_OF_INCORPORATION\\\\\",\\\\\"type\\\\\":\\\\\"string\\\\\",\\\\\"nullable\\\\\":true,\\\\\"metadata\\\\\":{}},{\\\\\"name\\\\\":\\\\\"COUNTRY_OF_INCORPORATION\\\\\",\\\\\"type\\\\\":\\\\\"string\\\\\",\\\\\"nullable\\\\\":true,\\\\\"metadata\\\\\":{}},{\\\\\"name\\\\\":\\\\\"BUSINESS_TYPE_COUNTER\\\\\",\\\\\"type\\\\\":\\\\\"string\\\\\",\\\\\"nullable\\\\\":true,\\\\\"metadata\\\\\":{}},{\\\\\"name\\\\\":\\\\\"BUS_TYPE_STRING\\\\\",\\\\\"type\\\\\":\\\\\"string\\\\\",\\\\\"nullable\\\\\":true,\\\\\"metadata\\\\\":{}},{\\\\\"name\\\\\":\\\\\"PRIMARY_NAICS\\\\\",\\\\\"type\\\\\":\\\\\"string\\\\\",\\\\\"nullable\\\\\":true,\\\\\"metadata\\\\\":{}},{\\\\\"name\\\\\":\\\\\"NAICS_CODE_COUNTER\\\\\",\\\\\"type\\\\\":\\\\\"string\\\\\",\\\\\"nullable\\\\\":true,\\\\\"metadata\\\\\":{}},{\\\\\"name\\\\\":\\\\\"NAICS_CODE_STRING\\\\\",\\\\\"type\\\\\":\\\\\"string\\\\\",\\\\\"nullable\\\\\":true,\\\\\"metadata\\\\\":{}},{\\\\\"name\\\\\":\\\\\"PSC_CODE_COUNTER\\\\\",\\\\\"type\\\\\":\\\\\"string\\\\\",\\\\\"nullable\\\\\":true,\\\\\"metadata\\\\\":{}},{\\\\\"name\\\\\":\\\\\"PSC_CODE_STRING\\\\\",\\\\\"type\\\\\":\\\\\"string\\\\\",\\\\\"nullable\\\\\":true,\\\\\"metadata\\\\\":{}},{\\\\\"name\\\\\":\\\\\"CREDIT_CARD_USAGE\\\\\",\\\\\"type\\\\\":\\\\\"string\\\\\",\\\\\"nullable\\\\\":true,\\\\\"metadata\\\\\":{}},{\\\\\"name\\\\\":\\\\\"CORRESPONDENCE_FLAG\\\\\",\\\\\"type\\\\\":\\\\\"string\\\\\",\\\\\"nullable\\\\\":true,\\\\\"metadata\\\\\":{}},{\\\\\"name\\\\\":\\\\\"MAILING_ADDRESS_LINE_1\\\\\",\\\\\"type\\\\\":\\\\\"string\\\\\",\\\\\"nullable\\\\\":true,\\\\\"metadata\\\\\":{}},{\\\\\"name\\\\\":\\\\\"MAILING_ADDRESS_LINE_2\\\\\",\\\\\"type\\\\\":\\\\\"string\\\\\",\\\\\"nullable\\\\\":true,\\\\\"metadata\\\\\":{}},{\\\\\"name\\\\\":\\\\\"MAILING_ADDRESS_CITY\\\\\",\\\\\"type\\\\\":\\\\\"string\\\\\",\\\\\"nullable\\\\\":true,\\\\\"metadata\\\\\":{}},{\\\\\"name\\\\\":\\\\\"MAILING_ADDRESS_ZIP/POSTAL_CODE\\\\\",\\\\\"type\\\\\":\\\\\"string\\\\\",\\\\\"nullable\\\\\":true,\\\\\"metadata\\\\\":{}},{\\\\\"name\\\\\":\\\\\"MAILING_ADDRESS_ZIP_CODE_4\\\\\",\\\\\"type\\\\\":\\\\\"string\\\\\",\\\\\"nullable\\\\\":true,\\\\\"metadata\\\\\":{}},{\\\\\"name\\\\\":\\\\\"MAILING_ADDRESS_COUNTRY\\\\\",\\\\\"type\\\\\":\\\\\"string\\\\\",\\\\\"nullable\\\\\":true,\\\\\"metadata\\\\\":{}},{\\\\\"name\\\\\":\\\\\"MAILING_ADDRESS_STATE_OR_PROVINCE\\\\\",\\\\\"type\\\\\":\\\\\"string\\\\\",\\\\\"nullable\\\\\":true,\\\\\"metadata\\\\\":{}},{\\\\\"name\\\\\":\\\\\"GOVT_BUS_POC_FIRST_NAME\\\\\",\\\\\"type\\\\\":\\\\\"string\\\\\",\\\\\"nullable\\\\\":true,\\\\\"metadata\\\\\":{}},{\\\\\"name\\\\\":\\\\\"GOVT_BUS_POC_MIDDLE_INITIAL\\\\\",\\\\\"type\\\\\":\\\\\"string\\\\\",\\\\\"nullable\\\\\":true,\\\\\"metadata\\\\\":{}},{\\\\\"name\\\\\":\\\\\"GOVT_BUS_POC_LAST_NAME\\\\\",\\\\\"type\\\\\":\\\\\"string\\\\\",\\\\\"nullable\\\\\":true,\\\\\"metadata\\\\\":{}},{\\\\\"name\\\\\":\\\\\"GOVT_BUS_POC_TITLE\\\\\",\\\\\"type\\\\\":\\\\\"string\\\\\",\\\\\"nullable\\\\\":true,\\\\\"metadata\\\\\":{}},{\\\\\"name\\\\\":\\\\\"GOVT_BUS_POC_ST_ADD_1\\\\\",\\\\\"type\\\\\":\\\\\"string\\\\\",\\\\\"nullable\\\\\":true,\\\\\"metadata\\\\\":{}},{\\\\\"name\\\\\":\\\\\"GOVT_BUS_POC_ST_ADD_2\\\\\",\\\\\"type\\\\\":\\\\\"string\\\\\",\\\\\"nullable\\\\\":true,\\\\\"metadata\\\\\":{}},{\\\\\"name\\\\\":\\\\\"GOVT_BUS_POC_CITY\\\\\",\\\\\"type\\\\\":\\\\\"string\\\\\",\\\\\"nullable\\\\\":true,\\\\\"metadata\\\\\":{}},{\\\\\"name\\\\\":\\\\\"GOVT_BUS_POC_ZIP/POSTAL_CODE\\\\\",\\\\\"type\\\\\":\\\\\"string\\\\\",\\\\\"nullable\\\\\":true,\\\\\"metadata\\\\\":{}},{\\\\\"name\\\\\":\\\\\"GOVT_BUS_POC_ZIP_CODE_4\\\\\",\\\\\"type\\\\\":\\\\\"string\\\\\",\\\\\"nullable\\\\\":true,\\\\\"metadata\\\\\":{}},{\\\\\"name\\\\\":\\\\\"GOVT_BUS_POC_COUNTRY_CODE\\\\\",\\\\\"type\\\\\":\\\\\"string\\\\\",\\\\\"nullable\\\\\":true,\\\\\"metadata\\\\\":{}},{\\\\\"name\\\\\":\\\\\"GOVT_BUS_POC_STATE_OR_PROVINCE\\\\\",\\\\\"type\\\\\":\\\\\"string\\\\\",\\\\\"nullable\\\\\":true,\\\\\"metadata\\\\\":{}},{\\\\\"name\\\\\":\\\\\"ALT_GOVT_BUS_POC_FIRST_NAME\\\\\",\\\\\"type\\\\\":\\\\\"string\\\\\",\\\\\"nullable\\\\\":true,\\\\\"metadata\\\\\":{}},{\\\\\"name\\\\\":\\\\\"ALT_GOVT_BUS_POC_MIDDLE_INITIAL\\\\\",\\\\\"type\\\\\":\\\\\"string\\\\\",\\\\\"nullable\\\\\":true,\\\\\"metadata\\\\\":{}},{\\\\\"name\\\\\":\\\\\"ALT_GOVT_BUS_POC_LAST_NAME\\\\\",\\\\\"type\\\\\":\\\\\"string\\\\\",\\\\\"nullable\\\\\":true,\\\\\"metadata\\\\\":{}},{\\\\\"name\\\\\":\\\\\"ALT_GOVT_BUS_POC_TITLE\\\\\",\\\\\"type\\\\\":\\\\\"string\\\\\",\\\\\"nullable\\\\\":true,\\\\\"metadata\\\\\":{}},{\\\\\"name\\\\\":\\\\\"ALT_GOVT_BUS_POC_ST_ADD_1\\\\\",\\\\\"type\\\\\":\\\\\"string\\\\\",\\\\\"nullable\\\\\":true,\\\\\"metadata\\\\\":{}},{\\\\\"name\\\\\":\\\\\"ALT_GOVT_BUS_POC_ST_ADD_2\\\\\",\\\\\"type\\\\\":\\\\\"string\\\\\",\\\\\"nullable\\\\\":true,\\\\\"metadata\\\\\":{}},{\\\\\"name\\\\\":\\\\\"ALT_GOVT_BUS_POC_CITY\\\\\",\\\\\"type\\\\\":\\\\\"string\\\\\",\\\\\"nullable\\\\\":true,\\\\\"metadata\\\\\":{}},{\\\\\"name\\\\\":\\\\\"ALT_GOVT_BUS_POC_ZIP/POSTAL_CODE\\\\\",\\\\\"type\\\\\":\\\\\"string\\\\\",\\\\\"nullable\\\\\":true,\\\\\"metadata\\\\\":{}},{\\\\\"name\\\\\":\\\\\"ALT_GOVT_BUS_POC_ZIP_CODE_4\\\\\",\\\\\"type\\\\\":\\\\\"string\\\\\",\\\\\"nullable\\\\\":true,\\\\\"metadata\\\\\":{}},{\\\\\"name\\\\\":\\\\\"ALT_GOVT_BUS_POC_COUNTRY_CODE\\\\\",\\\\\"type\\\\\":\\\\\"string\\\\\",\\\\\"nullable\\\\\":true,\\\\\"metadata\\\\\":{}},{\\\\\"name\\\\\":\\\\\"ALT_GOVT_BUS_POC_STATE_OR_PROVINCE\\\\\",\\\\\"type\\\\\":\\\\\"string\\\\\",\\\\\"nullable\\\\\":true,\\\\\"metadata\\\\\":{}},{\\\\\"name\\\\\":\\\\\"PAST_PERF_POC_POC_FIRST_NAME\\\\\",\\\\\"type\\\\\":\\\\\"string\\\\\",\\\\\"nullable\\\\\":true,\\\\\"metadata\\\\\":{}},{\\\\\"name\\\\\":\\\\\"PAST_PERF_POC_POC_MIDDLE_INITIAL\\\\\",\\\\\"type\\\\\":\\\\\"string\\\\\",\\\\\"nullable\\\\\":true,\\\\\"metadata\\\\\":{}},{\\\\\"name\\\\\":\\\\\"PAST_PERF_POC_POC_LAST_NAME\\\\\",\\\\\"type\\\\\":\\\\\"string\\\\\",\\\\\"nullable\\\\\":true,\\\\\"metadata\\\\\":{}},{\\\\\"name\\\\\":\\\\\"PAST_PERF_POC_POC_TITLE\\\\\",\\\\\"type\\\\\":\\\\\"string\\\\\",\\\\\"nullable\\\\\":true,\\\\\"metadata\\\\\":{}},{\\\\\"name\\\\\":\\\\\"PAST_PERF_POC_ST_ADD_1\\\\\",\\\\\"type\\\\\":\\\\\"string\\\\\",\\\\\"nullable\\\\\":true,\\\\\"metadata\\\\\":{}},{\\\\\"name\\\\\":\\\\\"PAST_PERF_POC_ST_ADD_2\\\\\",\\\\\"type\\\\\":\\\\\"string\\\\\",\\\\\"nullable\\\\\":true,\\\\\"metadata\\\\\":{}},{\\\\\"name\\\\\":\\\\\"PAST_PERF_POC_CITY\\\\\",\\\\\"type\\\\\":\\\\\"string\\\\\",\\\\\"nullable\\\\\":true,\\\\\"metadata\\\\\":{}},{\\\\\"name\\\\\":\\\\\"PAST_PERF_POC_ZIP/POSTAL_CODE\\\\\",\\\\\"type\\\\\":\\\\\"string\\\\\",\\\\\"nullable\\\\\":true,\\\\\"metadata\\\\\":{}},{\\\\\"name\\\\\":\\\\\"PAST_PERF_POC_ZIP_CODE_4\\\\\",\\\\\"type\\\\\":\\\\\"string\\\\\",\\\\\"nullable\\\\\":true,\\\\\"metadata\\\\\":{}},{\\\\\"name\\\\\":\\\\\"PAST_PERF_POC_COUNTRY_CODE\\\\\",\\\\\"type\\\\\":\\\\\"string\\\\\",\\\\\"nullable\\\\\":true,\\\\\"metadata\\\\\":{}},{\\\\\"name\\\\\":\\\\\"PAST_PERF_POC_STATE_OR_PROVINCE\\\\\",\\\\\"type\\\\\":\\\\\"string\\\\\",\\\\\"nullable\\\\\":true,\\\\\"metadata\\\\\":{}},{\\\\\"name\\\\\":\\\\\"ALT_PAST_PERF_POC_FIRST_NAME\\\\\",\\\\\"type\\\\\":\\\\\"string\\\\\",\\\\\"nullable\\\\\":true,\\\\\"metadata\\\\\":{}},{\\\\\"name\\\\\":\\\\\"ALT_PAST_PERF_POC_MIDDLE_INITIAL\\\\\",\\\\\"type\\\\\":\\\\\"string\\\\\",\\\\\"nullable\\\\\":true,\\\\\"metadata\\\\\":{}},{\\\\\"name\\\\\":\\\\\"ALT_PAST_PERF_POC_LAST_NAME\\\\\",\\\\\"type\\\\\":\\\\\"string\\\\\",\\\\\"nullable\\\\\":true,\\\\\"metadata\\\\\":{}},{\\\\\"name\\\\\":\\\\\"ALT_PAST_PERF_POC_TITLE\\\\\",\\\\\"type\\\\\":\\\\\"string\\\\\",\\\\\"nullable\\\\\":true,\\\\\"metadata\\\\\":{}},{\\\\\"name\\\\\":\\\\\"ALT_PAST_PERF_POC_ST_ADD_1\\\\\",\\\\\"type\\\\\":\\\\\"string\\\\\",\\\\\"nullable\\\\\":true,\\\\\"metadata\\\\\":{}},{\\\\\"name\\\\\":\\\\\"ALT_PAST_PERF_POC_ST_ADD_2\\\\\",\\\\\"type\\\\\":\\\\\"string\\\\\",\\\\\"nullable\\\\\":true,\\\\\"metadata\\\\\":{}},{\\\\\"name\\\\\":\\\\\"ALT_PAST_PERF_POC_CITY\\\\\",\\\\\"type\\\\\":\\\\\"string\\\\\",\\\\\"nullable\\\\\":true,\\\\\"metadata\\\\\":{}},{\\\\\"name\\\\\":\\\\\"ALT_PAST_PERF_POC_ZIP/POSTAL_CODE\\\\\",\\\\\"type\\\\\":\\\\\"string\\\\\",\\\\\"nullable\\\\\":true,\\\\\"metadata\\\\\":{}},{\\\\\"name\\\\\":\\\\\"ALT_PAST_PERF_POC_ZIP_CODE_4\\\\\",\\\\\"type\\\\\":\\\\\"string\\\\\",\\\\\"nullable\\\\\":true,\\\\\"metadata\\\\\":{}},{\\\\\"name\\\\\":\\\\\"ALT_PAST_PERF_POC_COUNTRY_CODE\\\\\",\\\\\"type\\\\\":\\\\\"string\\\\\",\\\\\"nullable\\\\\":true,\\\\\"metadata\\\\\":{}},{\\\\\"name\\\\\":\\\\\"ALT_PAST_PERF_POC_STATE_OR_PROVINCE\\\\\",\\\\\"type\\\\\":\\\\\"string\\\\\",\\\\\"nullable\\\\\":true,\\\\\"metadata\\\\\":{}},{\\\\\"name\\\\\":\\\\\"ELEC_BUS_POC_FIRST_NAME\\\\\",\\\\\"type\\\\\":\\\\\"string\\\\\",\\\\\"nullable\\\\\":true,\\\\\"metadata\\\\\":{}},{\\\\\"name\\\\\":\\\\\"ELEC_BUS_POC_MIDDLE_INITIAL\\\\\",\\\\\"type\\\\\":\\\\\"string\\\\\",\\\\\"nullable\\\\\":true,\\\\\"metadata\\\\\":{}},{\\\\\"name\\\\\":\\\\\"ELEC_BUS_POC_LAST_NAME\\\\\",\\\\\"type\\\\\":\\\\\"string\\\\\",\\\\\"nullable\\\\\":true,\\\\\"metadata\\\\\":{}},{\\\\\"name\\\\\":\\\\\"ELEC_BUS_POC_TITLE\\\\\",\\\\\"type\\\\\":\\\\\"string\\\\\",\\\\\"nullable\\\\\":true,\\\\\"metadata\\\\\":{}},{\\\\\"name\\\\\":\\\\\"ELEC_BUS_POC_ST_ADD_1\\\\\",\\\\\"type\\\\\":\\\\\"string\\\\\",\\\\\"nullable\\\\\":true,\\\\\"metadata\\\\\":{}},{\\\\\"name\\\\\":\\\\\"ELEC_BUS_POC_ST_ADD_2\\\\\",\\\\\"type\\\\\":\\\\\"string\\\\\",\\\\\"nullable\\\\\":true,\\\\\"metadata\\\\\":{}},{\\\\\"name\\\\\":\\\\\"ELEC_BUS_POC_CITY\\\\\",\\\\\"type\\\\\":\\\\\"string\\\\\",\\\\\"nullable\\\\\":true,\\\\\"metadata\\\\\":{}},{\\\\\"name\\\\\":\\\\\"ELEC_BUS_POC_ZIP/POSTAL_CODE\\\\\",\\\\\"type\\\\\":\\\\\"string\\\\\",\\\\\"nullable\\\\\":true,\\\\\"metadata\\\\\":{}},{\\\\\"name\\\\\":\\\\\"ELEC_BUS_POC_ZIP_CODE_4\\\\\",\\\\\"type\\\\\":\\\\\"string\\\\\",\\\\\"nullable\\\\\":true,\\\\\"metadata\\\\\":{}},{\\\\\"name\\\\\":\\\\\"ELEC_BUS_POC_COUNTRY_CODE\\\\\",\\\\\"type\\\\\":\\\\\"string\\\\\",\\\\\"nullable\\\\\":true,\\\\\"metadata\\\\\":{}},{\\\\\"name\\\\\":\\\\\"ELEC_BUS_POC_STATE_OR_PROVINCE\\\\\",\\\\\"type\\\\\":\\\\\"string\\\\\",\\\\\"nullable\\\\\":true,\\\\\"metadata\\\\\":{}},{\\\\\"name\\\\\":\\\\\"ALT_ELEC_POC_BUS_POC_FIRST_NAME\\\\\",\\\\\"type\\\\\":\\\\\"string\\\\\",\\\\\"nullable\\\\\":true,\\\\\"metadata\\\\\":{}},{\\\\\"name\\\\\":\\\\\"ALT_ELEC_POC_BUS_POC_MIDDLE_INITIAL\\\\\",\\\\\"type\\\\\":\\\\\"string\\\\\",\\\\\"nullable\\\\\":true,\\\\\"metadata\\\\\":{}},{\\\\\"name\\\\\":\\\\\"ALT_ELEC_POC_BUS_POC_LAST_NAME\\\\\",\\\\\"type\\\\\":\\\\\"string\\\\\",\\\\\"nullable\\\\\":true,\\\\\"metadata\\\\\":{}},{\\\\\"name\\\\\":\\\\\"ALT_ELEC_POC_BUS_POC_TITLE\\\\\",\\\\\"type\\\\\":\\\\\"string\\\\\",\\\\\"nullable\\\\\":true,\\\\\"metadata\\\\\":{}},{\\\\\"name\\\\\":\\\\\"ALT_ELEC_POC_BUS_ST_ADD_1\\\\\",\\\\\"type\\\\\":\\\\\"string\\\\\",\\\\\"nullable\\\\\":true,\\\\\"metadata\\\\\":{}},{\\\\\"name\\\\\":\\\\\"ALT_ELEC_POC_BUS_ST_ADD_2\\\\\",\\\\\"type\\\\\":\\\\\"string\\\\\",\\\\\"nullable\\\\\":true,\\\\\"metadata\\\\\":{}},{\\\\\"name\\\\\":\\\\\"ALT_ELEC_POC_BUS_CITY\\\\\",\\\\\"type\\\\\":\\\\\"string\\\\\",\\\\\"nullable\\\\\":true,\\\\\"metadata\\\\\":{}},{\\\\\"name\\\\\":\\\\\"ALT_ELEC_POC_BUS_ZIP/POSTAL_CODE\\\\\",\\\\\"type\\\\\":\\\\\"string\\\\\",\\\\\"nullable\\\\\":true,\\\\\"metadata\\\\\":{}},{\\\\\"name\\\\\":\\\\\"ALT_ELEC_POC_BUS_ZIP_CODE_4\\\\\",\\\\\"type\\\\\":\\\\\"string\\\\\",\\\\\"nullable\\\\\":true,\\\\\"metadata\\\\\":{}},{\\\\\"name\\\\\":\\\\\"ALT_ELEC_POC_BUS_COUNTRY_CODE\\\\\",\\\\\"type\\\\\":\\\\\"string\\\\\",\\\\\"nullable\\\\\":true,\\\\\"metadata\\\\\":{}},{\\\\\"name\\\\\":\\\\\"ALT_ELEC_POC_BUS_STATE_OR_PROVINCE\\\\\",\\\\\"type\\\\\":\\\\\"string\\\\\",\\\\\"nullable\\\\\":true,\\\\\"metadata\\\\\":{}},{\\\\\"name\\\\\":\\\\\"NAICS_EXCEPTION_COUNTER\\\\\",\\\\\"type\\\\\":\\\\\"string\\\\\",\\\\\"nullable\\\\\":true,\\\\\"metadata\\\\\":{}},{\\\\\"name\\\\\":\\\\\"NAICS_EXCEPTION_STRING\\\\\",\\\\\"type\\\\\":\\\\\"string\\\\\",\\\\\"nullable\\\\\":true,\\\\\"metadata\\\\\":{}},{\\\\\"name\\\\\":\\\\\"DEBT_SUBJECT_TO_OFFSET_FLAG\\\\\",\\\\\"type\\\\\":\\\\\"string\\\\\",\\\\\"nullable\\\\\":true,\\\\\"metadata\\\\\":{}},{\\\\\"name\\\\\":\\\\\"EXCLUSION_STATUS_FLAG\\\\\",\\\\\"type\\\\\":\\\\\"string\\\\\",\\\\\"nullable\\\\\":true,\\\\\"metadata\\\\\":{}},{\\\\\"name\\\\\":\\\\\"SBA_BUSINESS_TYPES_COUNTER\\\\\",\\\\\"type\\\\\":\\\\\"string\\\\\",\\\\\"nullable\\\\\":true,\\\\\"metadata\\\\\":{}},{\\\\\"name\\\\\":\\\\\"SBA_BUSINESS_TYPES_STRING\\\\\",\\\\\"type\\\\\":\\\\\"string\\\\\",\\\\\"nullable\\\\\":true,\\\\\"metadata\\\\\":{}},{\\\\\"name\\\\\":\\\\\"NO_PUBLIC_DISPLAY_FLAG\\\\\",\\\\\"type\\\\\":\\\\\"string\\\\\",\\\\\"nullable\\\\\":true,\\\\\"metadata\\\\\":{}},{\\\\\"name\\\\\":\\\\\"DISASTER_RESPONSE_COUNTER\\\\\",\\\\\"type\\\\\":\\\\\"string\\\\\",\\\\\"nullable\\\\\":true,\\\\\"metadata\\\\\":{}},{\\\\\"name\\\\\":\\\\\"DISASTER_RESPONSE_STRING\\\\\",\\\\\"type\\\\\":\\\\\"string\\\\\",\\\\\"nullable\\\\\":true,\\\\\"metadata\\\\\":{}},{\\\\\"name\\\\\":\\\\\"ENTITY_EVS_SOURCE\\\\\",\\\\\"type\\\\\":\\\\\"string\\\\\",\\\\\"nullable\\\\\":true,\\\\\"metadata\\\\\":{}},{\\\\\"name\\\\\":\\\\\"FLEX_FIELD_1\\\\\",\\\\\"type\\\\\":\\\\\"string\\\\\",\\\\\"nullable\\\\\":true,\\\\\"metadata\\\\\":{}},{\\\\\"name\\\\\":\\\\\"FLEX_FIELD_2\\\\\",\\\\\"type\\\\\":\\\\\"string\\\\\",\\\\\"nullable\\\\\":true,\\\\\"metadata\\\\\":{}},{\\\\\"name\\\\\":\\\\\"FLEX_FIELD_3\\\\\",\\\\\"type\\\\\":\\\\\"string\\\\\",\\\\\"nullable\\\\\":true,\\\\\"metadata\\\\\":{}},{\\\\\"name\\\\\":\\\\\"FLEX_FIELD_4\\\\\",\\\\\"type\\\\\":\\\\\"string\\\\\",\\\\\"nullable\\\\\":true,\\\\\"metadata\\\\\":{}},{\\\\\"name\\\\\":\\\\\"FLEX_FIELD_5\\\\\",\\\\\"type\\\\\":\\\\\"string\\\\\",\\\\\"nullable\\\\\":true,\\\\\"metadata\\\\\":{}},{\\\\\"name\\\\\":\\\\\"FLEX_FIELD_6\\\\\",\\\\\"type\\\\\":\\\\\"string\\\\\",\\\\\"nullable\\\\\":true,\\\\\"metadata\\\\\":{}},{\\\\\"name\\\\\":\\\\\"FLEX_FIELD_7\\\\\",\\\\\"type\\\\\":\\\\\"string\\\\\",\\\\\"nullable\\\\\":true,\\\\\"metadata\\\\\":{}},{\\\\\"name\\\\\":\\\\\"FLEX_FIELD_8\\\\\",\\\\\"type\\\\\":\\\\\"string\\\\\",\\\\\"nullable\\\\\":true,\\\\\"metadata\\\\\":{}},{\\\\\"name\\\\\":\\\\\"FLEX_FIELD_9\\\\\",\\\\\"type\\\\\":\\\\\"string\\\\\",\\\\\"nullable\\\\\":true,\\\\\"metadata\\\\\":{}},{\\\\\"name\\\\\":\\\\\"FLEX_FIELD_10\\\\\",\\\\\"type\\\\\":\\\\\"string\\\\\",\\\\\"nullable\\\\\":true,\\\\\"metadata\\\\\":{}},{\\\\\"name\\\\\":\\\\\"FLEX_FIELD_11\\\\\",\\\\\"type\\\\\":\\\\\"string\\\\\",\\\\\"nullable\\\\\":true,\\\\\"metadata\\\\\":{}},{\\\\\"name\\\\\":\\\\\"FLEX_FIELD_12\\\\\",\\\\\"type\\\\\":\\\\\"string\\\\\",\\\\\"nullable\\\\\":true,\\\\\"metadata\\\\\":{}},{\\\\\"name\\\\\":\\\\\"FLEX_FIELD_13\\\\\",\\\\\"type\\\\\":\\\\\"string\\\\\",\\\\\"nullable\\\\\":true,\\\\\"metadata\\\\\":{}},{\\\\\"name\\\\\":\\\\\"FLEX_FIELD_14\\\\\",\\\\\"type\\\\\":\\\\\"string\\\\\",\\\\\"nullable\\\\\":true,\\\\\"metadata\\\\\":{}},{\\\\\"name\\\\\":\\\\\"FLEX_FIELD_15\\\\\",\\\\\"type\\\\\":\\\\\"string\\\\\",\\\\\"nullable\\\\\":true,\\\\\"metadata\\\\\":{}},{\\\\\"name\\\\\":\\\\\"FLEX_FIELD_16\\\\\",\\\\\"type\\\\\":\\\\\"string\\\\\",\\\\\"nullable\\\\\":true,\\\\\"metadata\\\\\":{}},{\\\\\"name\\\\\":\\\\\"FLEX_FIELD_17\\\\\",\\\\\"type\\\\\":\\\\\"string\\\\\",\\\\\"nullable\\\\\":true,\\\\\"metadata\\\\\":{}},{\\\\\"name\\\\\":\\\\\"FLEX_FIELD_18\\\\\",\\\\\"type\\\\\":\\\\\"string\\\\\",\\\\\"nullable\\\\\":true,\\\\\"metadata\\\\\":{}},{\\\\\"name\\\\\":\\\\\"FLEX_FIELD_19\\\\\",\\\\\"type\\\\\":\\\\\"string\\\\\",\\\\\"nullable\\\\\":true,\\\\\"metadata\\\\\":{}},{\\\\\"name\\\\\":\\\\\"END_OF_RECORD_INDICATOR\\\\\",\\\\\"type\\\\\":\\\\\"string\\\\\",\\\\\"nullable\\\\\":true,\\\\\"metadata\\\\\":{}},{\\\\\"name\\\\\":\\\\\"PARTITION_KEY\\\\\",\\\\\"type\\\\\":\\\\\"string\\\\\",\\\\\"nullable\\\\\":true,\\\\\"metadata\\\\\":{}}]}\",\"partitionColumns\":[\"PARTITION_KEY\"],\"configuration\":{},\"createdTime\":1749694076974}}',\n",
              " '{\"add\":{\"path\":\"PARTITION_KEY=K/part-00000-9833055f-a933-444a-b527-4f1b39ef3e62.c000.snappy.parquet\",\"partitionValues\":{\"PARTITION_KEY\":\"K\"},\"size\":16915564,\"modificationTime\":1749694114561,\"dataChange\":true,\"stats\":\"{\\\\\"numRecords\\\\\":46962,\\\\\"minValues\\\\\":{\\\\\"entityKey\\\\\":\\\\\"K112M8AAM8U57S2C5\\\\\",\\\\\"AUD_HASH_CODE\\\\\":\\\\\"0001eb504c23df477577c19627df9769\\\\\",\\\\\"AUD_SEQ_ID\\\\\":309113,\\\\\"AUD_ACTIVE_FLAG\\\\\":\\\\\"Y\\\\\",\\\\\"AUD_DIRECTORY\\\\\":\\\\\"abfss://bronze@staaz01synpilot.d\\\\\",\\\\\"AUD_FILENAME\\\\\":\\\\\"SAM_PUBLIC_MONTHLY_V2_20241103.d\\\\\",\\\\\"EffectiveFromDate\\\\\":\\\\\"2024-11-03\\\\\",\\\\\"UNIQUE_ENTITY_ID\\\\\":\\\\\"K112M8AAM8U5\\\\\",\\\\\"ENTITY_EFT_INDICATOR\\\\\":\\\\\"0001\\\\\",\\\\\"CAGE_CODE\\\\\":\\\\\"000K7\\\\\",\\\\\"DODAAC\\\\\":\\\\\"DODF1F3E8\\\\\",\\\\\"SAM_EXTRACT_CODE\\\\\":\\\\\"A\\\\\",\\\\\"PURPOSE_OF_REGISTRATION\\\\\":\\\\\"Z1\\\\\",\\\\\"INITIAL_REGISTRATION_DATE\\\\\":\\\\\"1949-12-14\\\\\",\\\\\"REGISTRATION_EXPIRATION_DATE\\\\\":\\\\\"20240504\\\\\",\\\\\"LAST_UPDATE_DATE\\\\\":\\\\\"20231106\\\\\",\\\\\"ACTIVATION_DATE\\\\\":\\\\\"20200505\\\\\",\\\\\"LEGAL_BUSINESS_NAME\\\\\":\\\\\"\\\\\\\\\\\\\"A-VET ROOFING & CONSTRUCTION, L\\\\\",\\\\\"DBA_NAME\\\\\":\\\\\"1 GREAT TRAINER\\\\\",\\\\\"ENTITY_DIVISION_NAME\\\\\":\\\\\"(2916)\\\\\",\\\\\"ENTITY_DIVISION_NUMBER\\\\\":\\\\\"#10\\\\\",\\\\\"PHYSICAL_ADDRESS_LINE_1\\\\\":\\\\\"#1 ESTATE ANGUILLA\\\\\",\\\\\"PHYSICAL_ADDRESS_LINE_2\\\\\":\\\\\"# 100\\\\\",\\\\\"PHYSICAL_ADDRESS_CITY\\\\\":\\\\\"\\'S-GRAVENHAGE\\\\\",\\\\\"PHYSICAL_ADDRESS_PROVINCE_OR_STATE\\\\\":\\\\\"11222\\\\\",\\\\\"PHYSICAL_ADDRESS_ZIP/POSTAL_CODE\\\\\":\\\\\"00-008\\\\\",\\\\\"PHYSICAL_ADDRESS_ZIP_CODE_4\\\\\":\\\\\"0000\\\\\",\\\\\"PHYSICAL_ADDRESS_COUNTRY_CODE\\\\\":\\\\\"AFG\\\\\",\\\\\"PHYSICAL_ADDRESS_CONGRESSIONAL_DISTRICT\\\\\":\\\\\"00\\\\\"},\\\\\"maxValues\\\\\":{\\\\\"entityKey\\\\\":\\\\\"KZZWZ6BJ19S29MAQ7\\\\\",\\\\\"AUD_HASH_CODE\\\\\":\\\\\"ffffeecf598a02ec56d7db1b776c7df0\\x7f\\\\\",\\\\\"AUD_SEQ_ID\\\\\":356074,\\\\\"AUD_ACTIVE_FLAG\\\\\":\\\\\"Y\\\\\",\\\\\"AUD_DIRECTORY\\\\\":\\\\\"abfss://bronze@staaz01synpilot.d\\x7f\\\\\",\\\\\"AUD_FILENAME\\\\\":\\\\\"SAM_PUBLIC_MONTHLY_V2_20241103.d\\x7f\\\\\",\\\\\"EffectiveFromDate\\\\\":\\\\\"2024-11-03\\\\\",\\\\\"UNIQUE_ENTITY_ID\\\\\":\\\\\"KZZWZ6BJ19S2\\\\\",\\\\\"ENTITY_EFT_INDICATOR\\\\\":\\\\\"XRS4\\\\\",\\\\\"CAGE_CODE\\\\\":\\\\\"ZT810\\\\\",\\\\\"DODAAC\\\\\":\\\\\"DODW91ATL\\\\\",\\\\\"SAM_EXTRACT_CODE\\\\\":\\\\\"E\\\\\",\\\\\"PURPOSE_OF_REGISTRATION\\\\\":\\\\\"Z5\\\\\",\\\\\"INITIAL_REGISTRATION_DATE\\\\\":\\\\\"2024-11-01\\\\\",\\\\\"REGISTRATION_EXPIRATION_DATE\\\\\":\\\\\"20260930\\\\\",\\\\\"LAST_UPDATE_DATE\\\\\":\\\\\"20241103\\\\\",\\\\\"ACTIVATION_DATE\\\\\":\\\\\"20241102\\\\\",\\\\\"LEGAL_BUSINESS_NAME\\\\\":\\\\\"ZZZ GBC, LLC\\\\\",\\\\\"DBA_NAME\\\\\":\\\\\"ZYDECO FOODS\\\\\",\\\\\"ENTITY_DIVISION_NAME\\\\\":\\\\\"{\\\\\\\\\\\\\"BLOCKS\\\\\\\\\\\\\":[{\\\\\\\\\\\\\"KEY\\\\\\\\\\\\\":\\\\\\\\\\\\\"AKL52\\\\\\\\\\\\\",\\\\\\\\\\\\\"TEXT\\\\\\\\\\\\\"\\x7f\\\\\",\\\\\"ENTITY_DIVISION_NUMBER\\\\\":\\\\\"`\\\\\",\\\\\"PHYSICAL_ADDRESS_LINE_1\\\\\":\\\\\"[\\'ADVANCEDAIRANALYSIS.COM\\']\\\\\",\\\\\"PHYSICAL_ADDRESS_LINE_2\\\\\":\\\\\"ZONA INDUSTRIAL (GUARA)\\\\\",\\\\\"PHYSICAL_ADDRESS_CITY\\\\\":\\\\\"ZWOLLE\\\\\",\\\\\"PHYSICAL_ADDRESS_PROVINCE_OR_STATE\\\\\":\\\\\"ZH\\\\\",\\\\\"PHYSICAL_ADDRESS_ZIP/POSTAL_CODE\\\\\":\\\\\"YO10 5DD\\\\\",\\\\\"PHYSICAL_ADDRESS_ZIP_CODE_4\\\\\":\\\\\"9999\\\\\",\\\\\"PHYSICAL_ADDRESS_COUNTRY_CODE\\\\\":\\\\\"ZWE\\\\\",\\\\\"PHYSICAL_ADDRESS_CONGRESSIONAL_DISTRICT\\\\\":\\\\\"98\\\\\"},\\\\\"nullCount\\\\\":{\\\\\"entityKey\\\\\":0,\\\\\"AUD_HASH_CODE\\\\\":0,\\\\\"AUD_SEQ_ID\\\\\":0,\\\\\"AUD_ACTIVE_FLAG\\\\\":0,\\\\\"AUD_DIRECTORY\\\\\":0,\\\\\"AUD_FILENAME\\\\\":0,\\\\\"EffectiveFromDate\\\\\":0,\\\\\"EffectiveToDate\\\\\":46962,\\\\\"UNIQUE_ENTITY_ID\\\\\":0,\\\\\"BLANK_DEPRECATED\\\\\":46962,\\\\\"ENTITY_EFT_INDICATOR\\\\\":46549,\\\\\"CAGE_CODE\\\\\":4047,\\\\\"DODAAC\\\\\":46926,\\\\\"SAM_EXTRACT_CODE\\\\\":0,\\\\\"PURPOSE_OF_REGISTRATION\\\\\":0,\\\\\"INITIAL_REGISTRATION_DATE\\\\\":0,\\\\\"REGISTRATION_EXPIRATION_DATE\\\\\":0,\\\\\"LAST_UPDATE_DATE\\\\\":0,\\\\\"ACTIVATION_DATE\\\\\":0,\\\\\"LEGAL_BUSINESS_NAME\\\\\":0,\\\\\"DBA_NAME\\\\\":36812,\\\\\"ENTITY_DIVISION_NAME\\\\\":34650,\\\\\"ENTITY_DIVISION_NUMBER\\\\\":44098,\\\\\"PHYSICAL_ADDRESS_LINE_1\\\\\":1,\\\\\"PHYSICAL_ADDRESS_LINE_2\\\\\":42747,\\\\\"PHYSICAL_ADDRESS_CITY\\\\\":0,\\\\\"PHYSICAL_ADDRESS_PROVINCE_OR_STATE\\\\\":1791,\\\\\"PHYSICAL_ADDRESS_ZIP/POSTAL_CODE\\\\\":760,\\\\\"PHYSICAL_ADDRESS_ZIP_CODE_4\\\\\":3564,\\\\\"PHYSICAL_ADDRESS_COUNTRY_CODE\\\\\":0,\\\\\"PHYSICAL_ADDRESS_CONGRESSIONAL_DISTRICT\\\\\":2180,\\\\\"D&B_OPEN_DATA_FLAG\\\\\":46962}}\",\"tags\":{}}}',\n",
              " '{\"add\":{\"path\":\"PARTITION_KEY=F/part-00001-6d911158-0df0-4607-90c9-33ed72afdec7.c000.snappy.parquet\",\"partitionValues\":{\"PARTITION_KEY\":\"F\"},\"size\":15263927,\"modificationTime\":1749694114321,\"dataChange\":true,\"stats\":\"{\\\\\"numRecords\\\\\":42592,\\\\\"minValues\\\\\":{\\\\\"entityKey\\\\\":\\\\\"F115H1L6XGB99QPA4\\\\\",\\\\\"AUD_HASH_CODE\\\\\":\\\\\"0003d1822a7cc23f87d15b24269bfd21\\\\\",\\\\\"AUD_SEQ_ID\\\\\":131869,\\\\\"AUD_ACTIVE_FLAG\\\\\":\\\\\"Y\\\\\",\\\\\"AUD_DIRECTORY\\\\\":\\\\\"abfss://bronze@staaz01synpilot.d\\\\\",\\\\\"AUD_FILENAME\\\\\":\\\\\"SAM_PUBLIC_MONTHLY_V2_20241103.d\\\\\",\\\\\"EffectiveFromDate\\\\\":\\\\\"2024-11-03\\\\\",\\\\\"UNIQUE_ENTITY_ID\\\\\":\\\\\"F115H1L6XGB9\\\\\",\\\\\"ENTITY_EFT_INDICATOR\\\\\":\\\\\"0001\\\\\",\\\\\"CAGE_CODE\\\\\":\\\\\"001A9\\\\\",\\\\\"DODAAC\\\\\":\\\\\"DODF1T4AS\\\\\",\\\\\"SAM_EXTRACT_CODE\\\\\":\\\\\"A\\\\\",\\\\\"PURPOSE_OF_REGISTRATION\\\\\":\\\\\"Z1\\\\\",\\\\\"INITIAL_REGISTRATION_DATE\\\\\":\\\\\"1997-08-28\\\\\",\\\\\"REGISTRATION_EXPIRATION_DATE\\\\\":\\\\\"20240504\\\\\",\\\\\"LAST_UPDATE_DATE\\\\\":\\\\\"20231107\\\\\",\\\\\"ACTIVATION_DATE\\\\\":\\\\\"20200607\\\\\",\\\\\"LEGAL_BUSINESS_NAME\\\\\":\\\\\"\\\\\\\\\\\\\"FAIR\\\\\\\\\\\\\" SOCIAL-ECONOMIC DEVELOPME\\\\\",\\\\\"DBA_NAME\\\\\":\\\\\"\\\\\\\\\\\\\"VOCALBOOTH.COM, INC.\\\\\\\\\\\\\"\\\\\",\\\\\"ENTITY_DIVISION_NAME\\\\\":\\\\\"- NONE -\\\\\",\\\\\"ENTITY_DIVISION_NUMBER\\\\\":\\\\\"#1\\\\\",\\\\\"PHYSICAL_ADDRESS_LINE_1\\\\\":\\\\\"# SECRETARY ST\\\\\",\\\\\"PHYSICAL_ADDRESS_LINE_2\\\\\":\\\\\"# 100\\\\\",\\\\\"PHYSICAL_ADDRESS_CITY\\\\\":\\\\\"\\'S-GRAVENHAGE\\\\\",\\\\\"PHYSICAL_ADDRESS_PROVINCE_OR_STATE\\\\\":\\\\\"AB\\\\\",\\\\\"PHYSICAL_ADDRESS_ZIP/POSTAL_CODE\\\\\":\\\\\"00\\\\\",\\\\\"PHYSICAL_ADDRESS_ZIP_CODE_4\\\\\":\\\\\"0000\\\\\",\\\\\"PHYSICAL_ADDRESS_COUNTRY_CODE\\\\\":\\\\\"AFG\\\\\",\\\\\"PHYSICAL_ADDRESS_CONGRESSIONAL_DISTRICT\\\\\":\\\\\"00\\\\\"},\\\\\"maxValues\\\\\":{\\\\\"entityKey\\\\\":\\\\\"FZZYQDFQ76C304P80\\\\\",\\\\\"AUD_HASH_CODE\\\\\":\\\\\"fffd9b99198c2f9dfdb504c47ebea6c7\\x7f\\\\\",\\\\\"AUD_SEQ_ID\\\\\":174460,\\\\\"AUD_ACTIVE_FLAG\\\\\":\\\\\"Y\\\\\",\\\\\"AUD_DIRECTORY\\\\\":\\\\\"abfss://bronze@staaz01synpilot.d\\x7f\\\\\",\\\\\"AUD_FILENAME\\\\\":\\\\\"SAM_PUBLIC_MONTHLY_V2_20241103.d\\x7f\\\\\",\\\\\"EffectiveFromDate\\\\\":\\\\\"2024-11-03\\\\\",\\\\\"UNIQUE_ENTITY_ID\\\\\":\\\\\"FZZYQDFQ76C3\\\\\",\\\\\"ENTITY_EFT_INDICATOR\\\\\":\\\\\"XRS1\\\\\",\\\\\"CAGE_CODE\\\\\":\\\\\"ZBA90\\\\\",\\\\\"DODAAC\\\\\":\\\\\"DODWT5KHZ\\\\\",\\\\\"SAM_EXTRACT_CODE\\\\\":\\\\\"E\\\\\",\\\\\"PURPOSE_OF_REGISTRATION\\\\\":\\\\\"Z5\\\\\",\\\\\"INITIAL_REGISTRATION_DATE\\\\\":\\\\\"2024-10-30\\\\\",\\\\\"REGISTRATION_EXPIRATION_DATE\\\\\":\\\\\"20260930\\\\\",\\\\\"LAST_UPDATE_DATE\\\\\":\\\\\"20241103\\\\\",\\\\\"ACTIVATION_DATE\\\\\":\\\\\"20241102\\\\\",\\\\\"LEGAL_BUSINESS_NAME\\\\\":\\\\\"ZYNUM TECH LLC\\\\\",\\\\\"DBA_NAME\\\\\":\\\\\"ZYMOTECH LLC\\\\\",\\\\\"ENTITY_DIVISION_NAME\\\\\":\\\\\"ZYLPE LLC\\\\\",\\\\\"ENTITY_DIVISION_NUMBER\\\\\":\\\\\"ZORLAND CO\\\\\",\\\\\"PHYSICAL_ADDRESS_LINE_1\\\\\":\\\\\"[\\'WWW.STLOUISPNEUMATICSTORE.COM\\'\\x7f\\\\\",\\\\\"PHYSICAL_ADDRESS_LINE_2\\\\\":\\\\\"ZONGOENE, CHILAULENE, QUARTER MA\\x7f\\\\\",\\\\\"PHYSICAL_ADDRESS_CITY\\\\\":\\\\\"ZWOLLE\\\\\",\\\\\"PHYSICAL_ADDRESS_PROVINCE_OR_STATE\\\\\":\\\\\"ZH\\\\\",\\\\\"PHYSICAL_ADDRESS_ZIP/POSTAL_CODE\\\\\":\\\\\"YO10 5BR\\\\\",\\\\\"PHYSICAL_ADDRESS_ZIP_CODE_4\\\\\":\\\\\"9998\\\\\",\\\\\"PHYSICAL_ADDRESS_COUNTRY_CODE\\\\\":\\\\\"ZWE\\\\\",\\\\\"PHYSICAL_ADDRESS_CONGRESSIONAL_DISTRICT\\\\\":\\\\\"98\\\\\"},\\\\\"nullCount\\\\\":{\\\\\"entityKey\\\\\":0,\\\\\"AUD_HASH_CODE\\\\\":0,\\\\\"AUD_SEQ_ID\\\\\":0,\\\\\"AUD_ACTIVE_FLAG\\\\\":0,\\\\\"AUD_DIRECTORY\\\\\":0,\\\\\"AUD_FILENAME\\\\\":0,\\\\\"EffectiveFromDate\\\\\":0,\\\\\"EffectiveToDate\\\\\":42592,\\\\\"UNIQUE_ENTITY_ID\\\\\":0,\\\\\"BLANK_DEPRECATED\\\\\":42592,\\\\\"ENTITY_EFT_INDICATOR\\\\\":42235,\\\\\"CAGE_CODE\\\\\":3975,\\\\\"DODAAC\\\\\":42555,\\\\\"SAM_EXTRACT_CODE\\\\\":0,\\\\\"PURPOSE_OF_REGISTRATION\\\\\":0,\\\\\"INITIAL_REGISTRATION_DATE\\\\\":0,\\\\\"REGISTRATION_EXPIRATION_DATE\\\\\":0,\\\\\"LAST_UPDATE_DATE\\\\\":0,\\\\\"ACTIVATION_DATE\\\\\":0,\\\\\"LEGAL_BUSINESS_NAME\\\\\":0,\\\\\"DBA_NAME\\\\\":33548,\\\\\"ENTITY_DIVISION_NAME\\\\\":31522,\\\\\"ENTITY_DIVISION_NUMBER\\\\\":39945,\\\\\"PHYSICAL_ADDRESS_LINE_1\\\\\":0,\\\\\"PHYSICAL_ADDRESS_LINE_2\\\\\":38669,\\\\\"PHYSICAL_ADDRESS_CITY\\\\\":0,\\\\\"PHYSICAL_ADDRESS_PROVINCE_OR_STATE\\\\\":1676,\\\\\"PHYSICAL_ADDRESS_ZIP/POSTAL_CODE\\\\\":736,\\\\\"PHYSICAL_ADDRESS_ZIP_CODE_4\\\\\":3170,\\\\\"PHYSICAL_ADDRESS_COUNTRY_CODE\\\\\":0,\\\\\"PHYSICAL_ADDRESS_CONGRESSIONAL_DISTRICT\\\\\":1999,\\\\\"D&B_OPEN_DATA_FLAG\\\\\":42592}}\",\"tags\":{}}}',\n",
              " '{\"add\":{\"path\":\"PARTITION_KEY=Q/part-00002-daa3973a-e5af-483c-a045-76aef2f11748.c000.snappy.parquet\",\"partitionValues\":{\"PARTITION_KEY\":\"Q\"},\"size\":11636015,\"modificationTime\":1749694114246,\"dataChange\":true,\"stats\":\"{\\\\\"numRecords\\\\\":32463,\\\\\"minValues\\\\\":{\\\\\"entityKey\\\\\":\\\\\"Q113AG5FMN986ZDC5\\\\\",\\\\\"AUD_HASH_CODE\\\\\":\\\\\"00020edf7f3f576792248d28d2dec092\\\\\",\\\\\"AUD_SEQ_ID\\\\\":529247,\\\\\"AUD_ACTIVE_FLAG\\\\\":\\\\\"Y\\\\\",\\\\\"AUD_DIRECTORY\\\\\":\\\\\"abfss://bronze@staaz01synpilot.d\\\\\",\\\\\"AUD_FILENAME\\\\\":\\\\\"SAM_PUBLIC_MONTHLY_V2_20241103.d\\\\\",\\\\\"EffectiveFromDate\\\\\":\\\\\"2024-11-03\\\\\",\\\\\"UNIQUE_ENTITY_ID\\\\\":\\\\\"Q113AG5FMN98\\\\\",\\\\\"ENTITY_EFT_INDICATOR\\\\\":\\\\\"0001\\\\\",\\\\\"CAGE_CODE\\\\\":\\\\\"00096\\\\\",\\\\\"DODAAC\\\\\":\\\\\"DODF1V3J2\\\\\",\\\\\"SAM_EXTRACT_CODE\\\\\":\\\\\"A\\\\\",\\\\\"PURPOSE_OF_REGISTRATION\\\\\":\\\\\"Z1\\\\\",\\\\\"INITIAL_REGISTRATION_DATE\\\\\":\\\\\"1997-03-10\\\\\",\\\\\"REGISTRATION_EXPIRATION_DATE\\\\\":\\\\\"20240504\\\\\",\\\\\"LAST_UPDATE_DATE\\\\\":\\\\\"20231107\\\\\",\\\\\"ACTIVATION_DATE\\\\\":\\\\\"20200914\\\\\",\\\\\"LEGAL_BUSINESS_NAME\\\\\":\\\\\"\\\\\\\\\\\\\"FLYSTAR FLIGHT SUPPORT\\\\\\\\\\\\\" DOO POD\\\\\",\\\\\"DBA_NAME\\\\\":\\\\\"\\'NO MO\\'....\\\\\",\\\\\"ENTITY_DIVISION_NAME\\\\\":\\\\\"\\\\\\\\\\\\\"WE ALWAYS SWING\\\\\\\\\\\\\" INC\\\\\",\\\\\"ENTITY_DIVISION_NUMBER\\\\\":\\\\\"% DIANE PA\\\\\",\\\\\"PHYSICAL_ADDRESS_LINE_1\\\\\":\\\\\"# 28 UBIAJA CRESCENT (A03) FLAT \\\\\",\\\\\"PHYSICAL_ADDRESS_LINE_2\\\\\":\\\\\"# 100\\\\\",\\\\\"PHYSICAL_ADDRESS_CITY\\\\\":\\\\\"\\'S-GRAVENHAGE\\\\\",\\\\\"PHYSICAL_ADDRESS_PROVINCE_OR_STATE\\\\\":\\\\\"111 20\\\\\",\\\\\"PHYSICAL_ADDRESS_ZIP/POSTAL_CODE\\\\\":\\\\\"00-124\\\\\",\\\\\"PHYSICAL_ADDRESS_ZIP_CODE_4\\\\\":\\\\\"0000\\\\\",\\\\\"PHYSICAL_ADDRESS_COUNTRY_CODE\\\\\":\\\\\"AFG\\\\\",\\\\\"PHYSICAL_ADDRESS_CONGRESSIONAL_DISTRICT\\\\\":\\\\\"00\\\\\"},\\\\\"maxValues\\\\\":{\\\\\"entityKey\\\\\":\\\\\"QZZXK9XBADN79ACN0\\\\\",\\\\\"AUD_HASH_CODE\\\\\":\\\\\"fffff3fcfdda03f0182beef9042a851d\\x7f\\\\\",\\\\\"AUD_SEQ_ID\\\\\":561709,\\\\\"AUD_ACTIVE_FLAG\\\\\":\\\\\"Y\\\\\",\\\\\"AUD_DIRECTORY\\\\\":\\\\\"abfss://bronze@staaz01synpilot.d\\x7f\\\\\",\\\\\"AUD_FILENAME\\\\\":\\\\\"SAM_PUBLIC_MONTHLY_V2_20241103.d\\x7f\\\\\",\\\\\"EffectiveFromDate\\\\\":\\\\\"2024-11-03\\\\\",\\\\\"UNIQUE_ENTITY_ID\\\\\":\\\\\"QZZXK9XBADN7\\\\\",\\\\\"ENTITY_EFT_INDICATOR\\\\\":\\\\\"XRS4\\\\\",\\\\\"CAGE_CODE\\\\\":\\\\\"Z1HJ7\\\\\",\\\\\"DODAAC\\\\\":\\\\\"DODW91B94\\\\\",\\\\\"SAM_EXTRACT_CODE\\\\\":\\\\\"E\\\\\",\\\\\"PURPOSE_OF_REGISTRATION\\\\\":\\\\\"Z3\\\\\",\\\\\"INITIAL_REGISTRATION_DATE\\\\\":\\\\\"2024-10-31\\\\\",\\\\\"REGISTRATION_EXPIRATION_DATE\\\\\":\\\\\"20260930\\\\\",\\\\\"LAST_UPDATE_DATE\\\\\":\\\\\"20241103\\\\\",\\\\\"ACTIVATION_DATE\\\\\":\\\\\"20241102\\\\\",\\\\\"LEGAL_BUSINESS_NAME\\\\\":\\\\\"`CENTROVISION OPTICAL GROUP, INC\\\\\",\\\\\"DBA_NAME\\\\\":\\\\\"ZWORKSTATIONS INC\\\\\",\\\\\"ENTITY_DIVISION_NAME\\\\\":\\\\\"ZZYZX IMAGING LLC\\\\\",\\\\\"ENTITY_DIVISION_NUMBER\\\\\":\\\\\"ZOLA ELECT\\\\\",\\\\\"PHYSICAL_ADDRESS_LINE_1\\\\\":\\\\\"[\\'WWW.ENDURCOMPANIES.COM\\']\\\\\",\\\\\"PHYSICAL_ADDRESS_LINE_2\\\\\":\\\\\"ZONA PORTUARIA PUERTO NUEVO\\\\\",\\\\\"PHYSICAL_ADDRESS_CITY\\\\\":\\\\\"ZURICH\\\\\",\\\\\"PHYSICAL_ADDRESS_PROVINCE_OR_STATE\\\\\":\\\\\"ZAPORIZHZHYA REGION\\\\\",\\\\\"PHYSICAL_ADDRESS_ZIP/POSTAL_CODE\\\\\":\\\\\"WV10 9RU\\\\\",\\\\\"PHYSICAL_ADDRESS_ZIP_CODE_4\\\\\":\\\\\"9999\\\\\",\\\\\"PHYSICAL_ADDRESS_COUNTRY_CODE\\\\\":\\\\\"ZWE\\\\\",\\\\\"PHYSICAL_ADDRESS_CONGRESSIONAL_DISTRICT\\\\\":\\\\\"98\\\\\"},\\\\\"nullCount\\\\\":{\\\\\"entityKey\\\\\":0,\\\\\"AUD_HASH_CODE\\\\\":0,\\\\\"AUD_SEQ_ID\\\\\":0,\\\\\"AUD_ACTIVE_FLAG\\\\\":0,\\\\\"AUD_DIRECTORY\\\\\":0,\\\\\"AUD_FILENAME\\\\\":0,\\\\\"EffectiveFromDate\\\\\":0,\\\\\"EffectiveToDate\\\\\":32463,\\\\\"UNIQUE_ENTITY_ID\\\\\":0,\\\\\"BLANK_DEPRECATED\\\\\":32463,\\\\\"ENTITY_EFT_INDICATOR\\\\\":32226,\\\\\"CAGE_CODE\\\\\":4039,\\\\\"DODAAC\\\\\":32437,\\\\\"SAM_EXTRACT_CODE\\\\\":0,\\\\\"PURPOSE_OF_REGISTRATION\\\\\":0,\\\\\"INITIAL_REGISTRATION_DATE\\\\\":0,\\\\\"REGISTRATION_EXPIRATION_DATE\\\\\":0,\\\\\"LAST_UPDATE_DATE\\\\\":0,\\\\\"ACTIVATION_DATE\\\\\":0,\\\\\"LEGAL_BUSINESS_NAME\\\\\":0,\\\\\"DBA_NAME\\\\\":26145,\\\\\"ENTITY_DIVISION_NAME\\\\\":24336,\\\\\"ENTITY_DIVISION_NUMBER\\\\\":30754,\\\\\"PHYSICAL_ADDRESS_LINE_1\\\\\":0,\\\\\"PHYSICAL_ADDRESS_LINE_2\\\\\":29699,\\\\\"PHYSICAL_ADDRESS_CITY\\\\\":0,\\\\\"PHYSICAL_ADDRESS_PROVINCE_OR_STATE\\\\\":1302,\\\\\"PHYSICAL_ADDRESS_ZIP/POSTAL_CODE\\\\\":635,\\\\\"PHYSICAL_ADDRESS_ZIP_CODE_4\\\\\":2547,\\\\\"PHYSICAL_ADDRESS_COUNTRY_CODE\\\\\":0,\\\\\"PHYSICAL_ADDRESS_CONGRESSIONAL_DISTRICT\\\\\":1581,\\\\\"D&B_OPEN_DATA_FLAG\\\\\":32463}}\",\"tags\":{}}}',\n",
              " '{\"add\":{\"path\":\"PARTITION_KEY=E/part-00003-3b5fd3ce-b52c-4f22-976d-32e8f1235557.c000.snappy.parquet\",\"partitionValues\":{\"PARTITION_KEY\":\"E\"},\"size\":15490839,\"modificationTime\":1749694114496,\"dataChange\":true,\"stats\":\"{\\\\\"numRecords\\\\\":43048,\\\\\"minValues\\\\\":{\\\\\"entityKey\\\\\":\\\\\"E111VHFKGCB877JE5\\\\\",\\\\\"AUD_HASH_CODE\\\\\":\\\\\"0001340e4a084e24d6b89f29e667f4a0\\\\\",\\\\\"AUD_SEQ_ID\\\\\":88821,\\\\\"AUD_ACTIVE_FLAG\\\\\":\\\\\"Y\\\\\",\\\\\"AUD_DIRECTORY\\\\\":\\\\\"abfss://bronze@staaz01synpilot.d\\\\\",\\\\\"AUD_FILENAME\\\\\":\\\\\"SAM_PUBLIC_MONTHLY_V2_20241103.d\\\\\",\\\\\"EffectiveFromDate\\\\\":\\\\\"2024-11-03\\\\\",\\\\\"UNIQUE_ENTITY_ID\\\\\":\\\\\"E111VHFKGCB8\\\\\",\\\\\"ENTITY_EFT_INDICATOR\\\\\":\\\\\"0001\\\\\",\\\\\"CAGE_CODE\\\\\":\\\\\"001W1\\\\\",\\\\\"DODAAC\\\\\":\\\\\"DOD133FR7\\\\\",\\\\\"SAM_EXTRACT_CODE\\\\\":\\\\\"A\\\\\",\\\\\"PURPOSE_OF_REGISTRATION\\\\\":\\\\\"Z1\\\\\",\\\\\"INITIAL_REGISTRATION_DATE\\\\\":\\\\\"1997-05-13\\\\\",\\\\\"REGISTRATION_EXPIRATION_DATE\\\\\":\\\\\"20240504\\\\\",\\\\\"LAST_UPDATE_DATE\\\\\":\\\\\"20231107\\\\\",\\\\\"ACTIVATION_DATE\\\\\":\\\\\"20200421\\\\\",\\\\\"LEGAL_BUSINESS_NAME\\\\\":\\\\\"\\\\\\\\\\\\\"ARMENIA SWING DANCE\\\\\\\\\\\\\" CULTURAL N\\\\\",\\\\\"DBA_NAME\\\\\":\\\\\"/\\\\\",\\\\\"ENTITY_DIVISION_NAME\\\\\":\\\\\"- CREEK CREEK ENERGY, LLC\\\\\",\\\\\"ENTITY_DIVISION_NUMBER\\\\\":\\\\\"#1\\\\\",\\\\\"PHYSICAL_ADDRESS_LINE_1\\\\\":\\\\\"# 15 2ND ST\\\\\",\\\\\"PHYSICAL_ADDRESS_LINE_2\\\\\":\\\\\"# 100\\\\\",\\\\\"PHYSICAL_ADDRESS_CITY\\\\\":\\\\\"\\'S-GRAVENHAGE\\\\\",\\\\\"PHYSICAL_ADDRESS_PROVINCE_OR_STATE\\\\\":\\\\\"10118\\\\\",\\\\\"PHYSICAL_ADDRESS_ZIP/POSTAL_CODE\\\\\":\\\\\"00-031\\\\\",\\\\\"PHYSICAL_ADDRESS_ZIP_CODE_4\\\\\":\\\\\"0000\\\\\",\\\\\"PHYSICAL_ADDRESS_COUNTRY_CODE\\\\\":\\\\\"AFG\\\\\",\\\\\"PHYSICAL_ADDRESS_CONGRESSIONAL_DISTRICT\\\\\":\\\\\"00\\\\\"},\\\\\"maxValues\\\\\":{\\\\\"entityKey\\\\\":\\\\\"EZZWR8LC6ZU8\\\\\",\\\\\"AUD_HASH_CODE\\\\\":\\\\\"fffeb946a67a75e0e0877a59b4fd24c3\\x7f\\\\\",\\\\\"AUD_SEQ_ID\\\\\":131868,\\\\\"AUD_ACTIVE_FLAG\\\\\":\\\\\"Y\\\\\",\\\\\"AUD_DIRECTORY\\\\\":\\\\\"abfss://bronze@staaz01synpilot.d\\x7f\\\\\",\\\\\"AUD_FILENAME\\\\\":\\\\\"SAM_PUBLIC_MONTHLY_V2_20241103.d\\x7f\\\\\",\\\\\"EffectiveFromDate\\\\\":\\\\\"2024-11-03\\\\\",\\\\\"UNIQUE_ENTITY_ID\\\\\":\\\\\"EZZWR8LC6ZU8\\\\\",\\\\\"ENTITY_EFT_INDICATOR\\\\\":\\\\\"YUW5\\\\\",\\\\\"CAGE_CODE\\\\\":\\\\\"Z7086\\\\\",\\\\\"DODAAC\\\\\":\\\\\"DODW91LMH\\\\\",\\\\\"SAM_EXTRACT_CODE\\\\\":\\\\\"E\\\\\",\\\\\"PURPOSE_OF_REGISTRATION\\\\\":\\\\\"Z5\\\\\",\\\\\"INITIAL_REGISTRATION_DATE\\\\\":\\\\\"2024-10-30\\\\\",\\\\\"REGISTRATION_EXPIRATION_DATE\\\\\":\\\\\"20260930\\\\\",\\\\\"LAST_UPDATE_DATE\\\\\":\\\\\"20241103\\\\\",\\\\\"ACTIVATION_DATE\\\\\":\\\\\"20241101\\\\\",\\\\\"LEGAL_BUSINESS_NAME\\\\\":\\\\\"`AHA PUNANA LEO, INC.\\\\\",\\\\\"DBA_NAME\\\\\":\\\\\"ZYNECT\\\\\",\\\\\"ENTITY_DIVISION_NAME\\\\\":\\\\\"ZYONRHEMA LLC\\\\\",\\\\\"ENTITY_DIVISION_NUMBER\\\\\":\\\\\"ZULA MANUF\\\\\",\\\\\"PHYSICAL_ADDRESS_LINE_1\\\\\":\\\\\"\\\\\\\\\\\\\\\\\\\\\\\\\\\\\"13-35, DEJIMA 2-CHOME, MINAMI-\\x7f\\\\\",\\\\\"PHYSICAL_ADDRESS_LINE_2\\\\\":\\\\\"ZONA RURAL\\\\\",\\\\\"PHYSICAL_ADDRESS_CITY\\\\\":\\\\\"ZYDOWO\\\\\",\\\\\"PHYSICAL_ADDRESS_PROVINCE_OR_STATE\\\\\":\\\\\"ZH\\\\\",\\\\\"PHYSICAL_ADDRESS_ZIP/POSTAL_CODE\\\\\":\\\\\"WV4 6FB\\\\\",\\\\\"PHYSICAL_ADDRESS_ZIP_CODE_4\\\\\":\\\\\"9998\\\\\",\\\\\"PHYSICAL_ADDRESS_COUNTRY_CODE\\\\\":\\\\\"ZWE\\\\\",\\\\\"PHYSICAL_ADDRESS_CONGRESSIONAL_DISTRICT\\\\\":\\\\\"98\\\\\"},\\\\\"nullCount\\\\\":{\\\\\"entityKey\\\\\":0,\\\\\"AUD_HASH_CODE\\\\\":0,\\\\\"AUD_SEQ_ID\\\\\":0,\\\\\"AUD_ACTIVE_FLAG\\\\\":0,\\\\\"AUD_DIRECTORY\\\\\":0,\\\\\"AUD_FILENAME\\\\\":0,\\\\\"EffectiveFromDate\\\\\":0,\\\\\"EffectiveToDate\\\\\":43048,\\\\\"UNIQUE_ENTITY_ID\\\\\":0,\\\\\"BLANK_DEPRECATED\\\\\":43048,\\\\\"ENTITY_EFT_INDICATOR\\\\\":42705,\\\\\"CAGE_CODE\\\\\":3954,\\\\\"DODAAC\\\\\":43023,\\\\\"SAM_EXTRACT_CODE\\\\\":0,\\\\\"PURPOSE_OF_REGISTRATION\\\\\":0,\\\\\"INITIAL_REGISTRATION_DATE\\\\\":0,\\\\\"REGISTRATION_EXPIRATION_DATE\\\\\":0,\\\\\"LAST_UPDATE_DATE\\\\\":0,\\\\\"ACTIVATION_DATE\\\\\":0,\\\\\"LEGAL_BUSINESS_NAME\\\\\":0,\\\\\"DBA_NAME\\\\\":33976,\\\\\"ENTITY_DIVISION_NAME\\\\\":31796,\\\\\"ENTITY_DIVISION_NUMBER\\\\\":40445,\\\\\"PHYSICAL_ADDRESS_LINE_1\\\\\":0,\\\\\"PHYSICAL_ADDRESS_LINE_2\\\\\":39268,\\\\\"PHYSICAL_ADDRESS_CITY\\\\\":0,\\\\\"PHYSICAL_ADDRESS_PROVINCE_OR_STATE\\\\\":1672,\\\\\"PHYSICAL_ADDRESS_ZIP/POSTAL_CODE\\\\\":738,\\\\\"PHYSICAL_ADDRESS_ZIP_CODE_4\\\\\":3303,\\\\\"PHYSICAL_ADDRESS_COUNTRY_CODE\\\\\":0,\\\\\"PHYSICAL_ADDRESS_CONGRESSIONAL_DISTRICT\\\\\":2029,\\\\\"D&B_OPEN_DATA_FLAG\\\\\":43048}}\",\"tags\":{}}}',\n",
              " '{\"add\":{\"path\":\"PARTITION_KEY=T/part-00004-bf78b2b1-43b4-4cf7-88db-dcfe2f656b01.c000.snappy.parquet\",\"partitionValues\":{\"PARTITION_KEY\":\"T\"},\"size\":11476039,\"modificationTime\":1749694114292,\"dataChange\":true,\"stats\":\"{\\\\\"numRecords\\\\\":31915,\\\\\"minValues\\\\\":{\\\\\"entityKey\\\\\":\\\\\"T111KKHHHK87\\\\\",\\\\\"AUD_HASH_CODE\\\\\":\\\\\"00063f38201a82d8c87f7b9f9d674857\\\\\",\\\\\"AUD_SEQ_ID\\\\\":625482,\\\\\"AUD_ACTIVE_FLAG\\\\\":\\\\\"Y\\\\\",\\\\\"AUD_DIRECTORY\\\\\":\\\\\"abfss://bronze@staaz01synpilot.d\\\\\",\\\\\"AUD_FILENAME\\\\\":\\\\\"SAM_PUBLIC_MONTHLY_V2_20241103.d\\\\\",\\\\\"EffectiveFromDate\\\\\":\\\\\"2024-11-03\\\\\",\\\\\"UNIQUE_ENTITY_ID\\\\\":\\\\\"T111KKHHHK87\\\\\",\\\\\"ENTITY_EFT_INDICATOR\\\\\":\\\\\"0001\\\\\",\\\\\"CAGE_CODE\\\\\":\\\\\"00248\\\\\",\\\\\"DODAAC\\\\\":\\\\\"DOD966419\\\\\",\\\\\"SAM_EXTRACT_CODE\\\\\":\\\\\"A\\\\\",\\\\\"PURPOSE_OF_REGISTRATION\\\\\":\\\\\"Z1\\\\\",\\\\\"INITIAL_REGISTRATION_DATE\\\\\":\\\\\"1997-06-03\\\\\",\\\\\"REGISTRATION_EXPIRATION_DATE\\\\\":\\\\\"20240504\\\\\",\\\\\"LAST_UPDATE_DATE\\\\\":\\\\\"20231105\\\\\",\\\\\"ACTIVATION_DATE\\\\\":\\\\\"20200812\\\\\",\\\\\"LEGAL_BUSINESS_NAME\\\\\":\\\\\"\\\\\\\\\\\\\"ALPHAPLAN\\\\\\\\\\\\\" CENTER\\\\\",\\\\\"DBA_NAME\\\\\":\\\\\"\\\\\\\\\\\\\"FAST LANE CONSULTING AND EDUCAT\\\\\",\\\\\"ENTITY_DIVISION_NAME\\\\\":\\\\\"\\\\\\\\\\\\\"NATIONAL CRANE SERVICES\\\\\\\\\\\\\"MAKRIGI\\\\\",\\\\\"ENTITY_DIVISION_NUMBER\\\\\":\\\\\"#3\\\\\",\\\\\"PHYSICAL_ADDRESS_LINE_1\\\\\":\\\\\"# 800 CALLE EL MANGOTIN\\\\\",\\\\\"PHYSICAL_ADDRESS_LINE_2\\\\\":\\\\\"# 10\\\\\",\\\\\"PHYSICAL_ADDRESS_CITY\\\\\":\\\\\"\\'S-GRAVENHAGE\\\\\",\\\\\"PHYSICAL_ADDRESS_PROVINCE_OR_STATE\\\\\":\\\\\"01210\\\\\",\\\\\"PHYSICAL_ADDRESS_ZIP/POSTAL_CODE\\\\\":\\\\\"0\\\\\",\\\\\"PHYSICAL_ADDRESS_ZIP_CODE_4\\\\\":\\\\\"0000\\\\\",\\\\\"PHYSICAL_ADDRESS_COUNTRY_CODE\\\\\":\\\\\"AFG\\\\\",\\\\\"PHYSICAL_ADDRESS_CONGRESSIONAL_DISTRICT\\\\\":\\\\\"00\\\\\"},\\\\\"maxValues\\\\\":{\\\\\"entityKey\\\\\":\\\\\"TZZZNN4A2EH79MTG3\\\\\",\\\\\"AUD_HASH_CODE\\\\\":\\\\\"ffffaf343a83196b78edfa60c3f6bf3d\\x7f\\\\\",\\\\\"AUD_SEQ_ID\\\\\":657396,\\\\\"AUD_ACTIVE_FLAG\\\\\":\\\\\"Y\\\\\",\\\\\"AUD_DIRECTORY\\\\\":\\\\\"abfss://bronze@staaz01synpilot.d\\x7f\\\\\",\\\\\"AUD_FILENAME\\\\\":\\\\\"SAM_PUBLIC_MONTHLY_V2_20241103.d\\x7f\\\\\",\\\\\"EffectiveFromDate\\\\\":\\\\\"2024-11-03\\\\\",\\\\\"UNIQUE_ENTITY_ID\\\\\":\\\\\"TZZZNN4A2EH7\\\\\",\\\\\"ENTITY_EFT_INDICATOR\\\\\":\\\\\"Y3D1\\\\\",\\\\\"CAGE_CODE\\\\\":\\\\\"ZAX67\\\\\",\\\\\"DODAAC\\\\\":\\\\\"DODWF3HB0\\\\\",\\\\\"SAM_EXTRACT_CODE\\\\\":\\\\\"E\\\\\",\\\\\"PURPOSE_OF_REGISTRATION\\\\\":\\\\\"Z5\\\\\",\\\\\"INITIAL_REGISTRATION_DATE\\\\\":\\\\\"2024-10-30\\\\\",\\\\\"REGISTRATION_EXPIRATION_DATE\\\\\":\\\\\"20260930\\\\\",\\\\\"LAST_UPDATE_DATE\\\\\":\\\\\"20241103\\\\\",\\\\\"ACTIVATION_DATE\\\\\":\\\\\"20241102\\\\\",\\\\\"LEGAL_BUSINESS_NAME\\\\\":\\\\\"ZZ APPAREL & FOOTWEAR LLC\\\\\",\\\\\"DBA_NAME\\\\\":\\\\\"ZWINK CONSTRUCTION LLC\\\\\",\\\\\"ENTITY_DIVISION_NAME\\\\\":\\\\\"ZYZON L.L.C.\\\\\",\\\\\"ENTITY_DIVISION_NUMBER\\\\\":\\\\\"ZYLA LIFE\\\\\",\\\\\"PHYSICAL_ADDRESS_LINE_1\\\\\":\\\\\"\\\\\\\\\\\\\\\\\\\\\\\\\\\\\"HARRIN TRUMAN\\\\\\\\\\\\\\\\\\\\\\\\\\\\\" SQUARE, ND. 1,\\x7f\\\\\",\\\\\"PHYSICAL_ADDRESS_LINE_2\\\\\":\\\\\"\\\\\\\\\\\\\\\\\\\\\\\\\\\\\"SAI VILLA\\\\\\\\\\\\\\\\\\\\\\\\\\\\\" DHANAJI NR. NOBEL \\x7f\\\\\",\\\\\"PHYSICAL_ADDRESS_CITY\\\\\":\\\\\"ZWOLLE\\\\\",\\\\\"PHYSICAL_ADDRESS_PROVINCE_OR_STATE\\\\\":\\\\\"ZH\\\\\",\\\\\"PHYSICAL_ADDRESS_ZIP/POSTAL_CODE\\\\\":\\\\\"YO62 6EZ\\\\\",\\\\\"PHYSICAL_ADDRESS_ZIP_CODE_4\\\\\":\\\\\"9997\\\\\",\\\\\"PHYSICAL_ADDRESS_COUNTRY_CODE\\\\\":\\\\\"ZWE\\\\\",\\\\\"PHYSICAL_ADDRESS_CONGRESSIONAL_DISTRICT\\\\\":\\\\\"98\\\\\"},\\\\\"nullCount\\\\\":{\\\\\"entityKey\\\\\":0,\\\\\"AUD_HASH_CODE\\\\\":0,\\\\\"AUD_SEQ_ID\\\\\":0,\\\\\"AUD_ACTIVE_FLAG\\\\\":0,\\\\\"AUD_DIRECTORY\\\\\":0,\\\\\"AUD_FILENAME\\\\\":0,\\\\\"EffectiveFromDate\\\\\":0,\\\\\"EffectiveToDate\\\\\":31915,\\\\\"UNIQUE_ENTITY_ID\\\\\":0,\\\\\"BLANK_DEPRECATED\\\\\":31915,\\\\\"ENTITY_EFT_INDICATOR\\\\\":31697,\\\\\"CAGE_CODE\\\\\":3921,\\\\\"DODAAC\\\\\":31898,\\\\\"SAM_EXTRACT_CODE\\\\\":0,\\\\\"PURPOSE_OF_REGISTRATION\\\\\":0,\\\\\"INITIAL_REGISTRATION_DATE\\\\\":0,\\\\\"REGISTRATION_EXPIRATION_DATE\\\\\":0,\\\\\"LAST_UPDATE_DATE\\\\\":0,\\\\\"ACTIVATION_DATE\\\\\":0,\\\\\"LEGAL_BUSINESS_NAME\\\\\":0,\\\\\"DBA_NAME\\\\\":25518,\\\\\"ENTITY_DIVISION_NAME\\\\\":23808,\\\\\"ENTITY_DIVISION_NUMBER\\\\\":30180,\\\\\"PHYSICAL_ADDRESS_LINE_1\\\\\":0,\\\\\"PHYSICAL_ADDRESS_LINE_2\\\\\":29002,\\\\\"PHYSICAL_ADDRESS_CITY\\\\\":0,\\\\\"PHYSICAL_ADDRESS_PROVINCE_OR_STATE\\\\\":1426,\\\\\"PHYSICAL_ADDRESS_ZIP/POSTAL_CODE\\\\\":659,\\\\\"PHYSICAL_ADDRESS_ZIP_CODE_4\\\\\":2624,\\\\\"PHYSICAL_ADDRESS_COUNTRY_CODE\\\\\":0,\\\\\"PHYSICAL_ADDRESS_CONGRESSIONAL_DISTRICT\\\\\":1681,\\\\\"D&B_OPEN_DATA_FLAG\\\\\":31915}}\",\"tags\":{}}}',\n",
              " '{\"add\":{\"path\":\"PARTITION_KEY=Y/part-00005-5382ccf9-6803-46c1-902d-5b1e35978b54.c000.snappy.parquet\",\"partitionValues\":{\"PARTITION_KEY\":\"Y\"},\"size\":11542888,\"modificationTime\":1749694114320,\"dataChange\":true,\"stats\":\"{\\\\\"numRecords\\\\\":32046,\\\\\"minValues\\\\\":{\\\\\"entityKey\\\\\":\\\\\"Y111NJKAN9Q890LF4\\\\\",\\\\\"AUD_HASH_CODE\\\\\":\\\\\"0000294fc06264599f35a7b72dc44d27\\\\\",\\\\\"AUD_SEQ_ID\\\\\":784797,\\\\\"AUD_ACTIVE_FLAG\\\\\":\\\\\"Y\\\\\",\\\\\"AUD_DIRECTORY\\\\\":\\\\\"abfss://bronze@staaz01synpilot.d\\\\\",\\\\\"AUD_FILENAME\\\\\":\\\\\"SAM_PUBLIC_MONTHLY_V2_20241103.d\\\\\",\\\\\"EffectiveFromDate\\\\\":\\\\\"2024-11-03\\\\\",\\\\\"UNIQUE_ENTITY_ID\\\\\":\\\\\"Y111NJKAN9Q8\\\\\",\\\\\"ENTITY_EFT_INDICATOR\\\\\":\\\\\"0001\\\\\",\\\\\"CAGE_CODE\\\\\":\\\\\"001J6\\\\\",\\\\\"DODAAC\\\\\":\\\\\"DOD75H721\\\\\",\\\\\"SAM_EXTRACT_CODE\\\\\":\\\\\"A\\\\\",\\\\\"PURPOSE_OF_REGISTRATION\\\\\":\\\\\"Z1\\\\\",\\\\\"INITIAL_REGISTRATION_DATE\\\\\":\\\\\"1997-05-02\\\\\",\\\\\"REGISTRATION_EXPIRATION_DATE\\\\\":\\\\\"20240504\\\\\",\\\\\"LAST_UPDATE_DATE\\\\\":\\\\\"20231106\\\\\",\\\\\"ACTIVATION_DATE\\\\\":\\\\\"20200806\\\\\",\\\\\"LEGAL_BUSINESS_NAME\\\\\":\\\\\"\\\\\\\\\\\\\"ARMENIAN BIOINFORMATICS INSTITU\\\\\",\\\\\"DBA_NAME\\\\\":\\\\\"(\\\\\",\\\\\"ENTITY_DIVISION_NAME\\\\\":\\\\\"\\\\\\\\\\\\\"D\\\\\\\\\\\\\" ELECTRICIAN TECHNICAL SERVIC\\\\\",\\\\\"ENTITY_DIVISION_NUMBER\\\\\":\\\\\"-\\\\\",\\\\\"PHYSICAL_ADDRESS_LINE_1\\\\\":\\\\\"#22 SUBBASE\\\\\",\\\\\"PHYSICAL_ADDRESS_LINE_2\\\\\":\\\\\"# 10\\\\\",\\\\\"PHYSICAL_ADDRESS_CITY\\\\\":\\\\\"\\'S-GRAVENHAGE\\\\\",\\\\\"PHYSICAL_ADDRESS_PROVINCE_OR_STATE\\\\\":\\\\\"243\\\\\",\\\\\"PHYSICAL_ADDRESS_ZIP/POSTAL_CODE\\\\\":\\\\\"00-029\\\\\",\\\\\"PHYSICAL_ADDRESS_ZIP_CODE_4\\\\\":\\\\\"0000\\\\\",\\\\\"PHYSICAL_ADDRESS_COUNTRY_CODE\\\\\":\\\\\"AFG\\\\\",\\\\\"PHYSICAL_ADDRESS_CONGRESSIONAL_DISTRICT\\\\\":\\\\\"00\\\\\"},\\\\\"maxValues\\\\\":{\\\\\"entityKey\\\\\":\\\\\"YZZRRL8KNYS39LGR3\\\\\",\\\\\"AUD_HASH_CODE\\\\\":\\\\\"fffefb55b454983938ca916dd77bea70\\x7f\\\\\",\\\\\"AUD_SEQ_ID\\\\\":816842,\\\\\"AUD_ACTIVE_FLAG\\\\\":\\\\\"Y\\\\\",\\\\\"AUD_DIRECTORY\\\\\":\\\\\"abfss://bronze@staaz01synpilot.d\\x7f\\\\\",\\\\\"AUD_FILENAME\\\\\":\\\\\"SAM_PUBLIC_MONTHLY_V2_20241103.d\\x7f\\\\\",\\\\\"EffectiveFromDate\\\\\":\\\\\"2024-11-03\\\\\",\\\\\"UNIQUE_ENTITY_ID\\\\\":\\\\\"YZZRRL8KNYS3\\\\\",\\\\\"ENTITY_EFT_INDICATOR\\\\\":\\\\\"YV1L\\\\\",\\\\\"CAGE_CODE\\\\\":\\\\\"ZAY93\\\\\",\\\\\"DODAAC\\\\\":\\\\\"DODW912BU\\\\\",\\\\\"SAM_EXTRACT_CODE\\\\\":\\\\\"E\\\\\",\\\\\"PURPOSE_OF_REGISTRATION\\\\\":\\\\\"Z5\\\\\",\\\\\"INITIAL_REGISTRATION_DATE\\\\\":\\\\\"2024-10-31\\\\\",\\\\\"REGISTRATION_EXPIRATION_DATE\\\\\":\\\\\"20260930\\\\\",\\\\\"LAST_UPDATE_DATE\\\\\":\\\\\"20241103\\\\\",\\\\\"ACTIVATION_DATE\\\\\":\\\\\"20241102\\\\\",\\\\\"LEGAL_BUSINESS_NAME\\\\\":\\\\\"ZZZ4EVER LLC\\\\\",\\\\\"DBA_NAME\\\\\":\\\\\"ZYCHEGA INC\\\\\",\\\\\"ENTITY_DIVISION_NAME\\\\\":\\\\\"ZUHEIR CONSULTING LLC\\\\\",\\\\\"ENTITY_DIVISION_NUMBER\\\\\":\\\\\"ZOBRIST CO\\\\\",\\\\\"PHYSICAL_ADDRESS_LINE_1\\\\\":\\\\\"[\\'WWW.SITKAMARITIME.ORG\\']\\\\\",\\\\\"PHYSICAL_ADDRESS_LINE_2\\\\\":\\\\\"ZONA NORTE\\\\\",\\\\\"PHYSICAL_ADDRESS_CITY\\\\\":\\\\\"ZWOLLE\\\\\",\\\\\"PHYSICAL_ADDRESS_PROVINCE_OR_STATE\\\\\":\\\\\"ZURICH\\\\\",\\\\\"PHYSICAL_ADDRESS_ZIP/POSTAL_CODE\\\\\":\\\\\"XW-0197-570\\\\\",\\\\\"PHYSICAL_ADDRESS_ZIP_CODE_4\\\\\":\\\\\"9999\\\\\",\\\\\"PHYSICAL_ADDRESS_COUNTRY_CODE\\\\\":\\\\\"ZWE\\\\\",\\\\\"PHYSICAL_ADDRESS_CONGRESSIONAL_DISTRICT\\\\\":\\\\\"98\\\\\"},\\\\\"nullCount\\\\\":{\\\\\"entityKey\\\\\":0,\\\\\"AUD_HASH_CODE\\\\\":0,\\\\\"AUD_SEQ_ID\\\\\":0,\\\\\"AUD_ACTIVE_FLAG\\\\\":0,\\\\\"AUD_DIRECTORY\\\\\":0,\\\\\"AUD_FILENAME\\\\\":0,\\\\\"EffectiveFromDate\\\\\":0,\\\\\"EffectiveToDate\\\\\":32046,\\\\\"UNIQUE_ENTITY_ID\\\\\":0,\\\\\"BLANK_DEPRECATED\\\\\":32046,\\\\\"ENTITY_EFT_INDICATOR\\\\\":31852,\\\\\"CAGE_CODE\\\\\":3848,\\\\\"DODAAC\\\\\":32028,\\\\\"SAM_EXTRACT_CODE\\\\\":0,\\\\\"PURPOSE_OF_REGISTRATION\\\\\":0,\\\\\"INITIAL_REGISTRATION_DATE\\\\\":0,\\\\\"REGISTRATION_EXPIRATION_DATE\\\\\":0,\\\\\"LAST_UPDATE_DATE\\\\\":0,\\\\\"ACTIVATION_DATE\\\\\":0,\\\\\"LEGAL_BUSINESS_NAME\\\\\":0,\\\\\"DBA_NAME\\\\\":25693,\\\\\"ENTITY_DIVISION_NAME\\\\\":23907,\\\\\"ENTITY_DIVISION_NUMBER\\\\\":30253,\\\\\"PHYSICAL_ADDRESS_LINE_1\\\\\":1,\\\\\"PHYSICAL_ADDRESS_LINE_2\\\\\":29270,\\\\\"PHYSICAL_ADDRESS_CITY\\\\\":0,\\\\\"PHYSICAL_ADDRESS_PROVINCE_OR_STATE\\\\\":1433,\\\\\"PHYSICAL_ADDRESS_ZIP/POSTAL_CODE\\\\\":675,\\\\\"PHYSICAL_ADDRESS_ZIP_CODE_4\\\\\":2640,\\\\\"PHYSICAL_ADDRESS_COUNTRY_CODE\\\\\":0,\\\\\"PHYSICAL_ADDRESS_CONGRESSIONAL_DISTRICT\\\\\":1712,\\\\\"D&B_OPEN_DATA_FLAG\\\\\":32046}}\",\"tags\":{}}}',\n",
              " '{\"add\":{\"path\":\"PARTITION_KEY=L/part-00006-25e1108d-6421-4bba-bb41-b7d99ca12fb4.c000.snappy.parquet\",\"partitionValues\":{\"PARTITION_KEY\":\"L\"},\"size\":16946855,\"modificationTime\":1749694114473,\"dataChange\":true,\"stats\":\"{\\\\\"numRecords\\\\\":47132,\\\\\"minValues\\\\\":{\\\\\"entityKey\\\\\":\\\\\"L111FUJ3F3S662ET5\\\\\",\\\\\"AUD_HASH_CODE\\\\\":\\\\\"0001cd9edf2b869611b56590f9c41cbe\\\\\",\\\\\"AUD_SEQ_ID\\\\\":356075,\\\\\"AUD_ACTIVE_FLAG\\\\\":\\\\\"Y\\\\\",\\\\\"AUD_DIRECTORY\\\\\":\\\\\"abfss://bronze@staaz01synpilot.d\\\\\",\\\\\"AUD_FILENAME\\\\\":\\\\\"SAM_PUBLIC_MONTHLY_V2_20241103.d\\\\\",\\\\\"EffectiveFromDate\\\\\":\\\\\"2024-11-03\\\\\",\\\\\"UNIQUE_ENTITY_ID\\\\\":\\\\\"L111FUJ3F3S6\\\\\",\\\\\"ENTITY_EFT_INDICATOR\\\\\":\\\\\"0001\\\\\",\\\\\"CAGE_CODE\\\\\":\\\\\"0003W\\\\\",\\\\\"DODAAC\\\\\":\\\\\"DOD133RAH\\\\\",\\\\\"SAM_EXTRACT_CODE\\\\\":\\\\\"A\\\\\",\\\\\"PURPOSE_OF_REGISTRATION\\\\\":\\\\\"Z1\\\\\",\\\\\"INITIAL_REGISTRATION_DATE\\\\\":\\\\\"1997-04-25\\\\\",\\\\\"REGISTRATION_EXPIRATION_DATE\\\\\":\\\\\"20240504\\\\\",\\\\\"LAST_UPDATE_DATE\\\\\":\\\\\"20231106\\\\\",\\\\\"ACTIVATION_DATE\\\\\":\\\\\"20200615\\\\\",\\\\\"LEGAL_BUSINESS_NAME\\\\\":\\\\\"\\\\\\\\\\\\\"CIVIL YOUTH CENTER\\\\\\\\\\\\\" COMMUNITY D\\\\\",\\\\\"DBA_NAME\\\\\":\\\\\"\\\\\\\\\\\\\"QTNET, INC.\\\\\\\\\\\\\"\\\\\",\\\\\"ENTITY_DIVISION_NAME\\\\\":\\\\\"\\\\\\\\\\\\\"LUCID LINX\\\\\\\\\\\\\" D.O.O. SARAJEVO\\\\\",\\\\\"ENTITY_DIVISION_NUMBER\\\\\":\\\\\"#7\\\\\",\\\\\"PHYSICAL_ADDRESS_LINE_1\\\\\":\\\\\"# 54 PROGRESO ST\\\\\",\\\\\"PHYSICAL_ADDRESS_LINE_2\\\\\":\\\\\"# 100\\\\\",\\\\\"PHYSICAL_ADDRESS_CITY\\\\\":\\\\\"\\'S-GRAVENHAGE\\\\\",\\\\\"PHYSICAL_ADDRESS_PROVINCE_OR_STATE\\\\\":\\\\\"00962\\\\\",\\\\\"PHYSICAL_ADDRESS_ZIP/POSTAL_CODE\\\\\":\\\\\"- 2012\\\\\",\\\\\"PHYSICAL_ADDRESS_ZIP_CODE_4\\\\\":\\\\\"0000\\\\\",\\\\\"PHYSICAL_ADDRESS_COUNTRY_CODE\\\\\":\\\\\"AFG\\\\\",\\\\\"PHYSICAL_ADDRESS_CONGRESSIONAL_DISTRICT\\\\\":\\\\\"00\\\\\"},\\\\\"maxValues\\\\\":{\\\\\"entityKey\\\\\":\\\\\"LZZZKRENB2C54DVG5\\\\\",\\\\\"AUD_HASH_CODE\\\\\":\\\\\"fffe8886c37bfad9570268dcc8384146\\x7f\\\\\",\\\\\"AUD_SEQ_ID\\\\\":403206,\\\\\"AUD_ACTIVE_FLAG\\\\\":\\\\\"Y\\\\\",\\\\\"AUD_DIRECTORY\\\\\":\\\\\"abfss://bronze@staaz01synpilot.d\\x7f\\\\\",\\\\\"AUD_FILENAME\\\\\":\\\\\"SAM_PUBLIC_MONTHLY_V2_20241103.d\\x7f\\\\\",\\\\\"EffectiveFromDate\\\\\":\\\\\"2024-11-03\\\\\",\\\\\"UNIQUE_ENTITY_ID\\\\\":\\\\\"LZZZKRENB2C5\\\\\",\\\\\"ENTITY_EFT_INDICATOR\\\\\":\\\\\"XRS1\\\\\",\\\\\"CAGE_CODE\\\\\":\\\\\"ZAZ77\\\\\",\\\\\"DODAAC\\\\\":\\\\\"DODW91PR5\\\\\",\\\\\"SAM_EXTRACT_CODE\\\\\":\\\\\"E\\\\\",\\\\\"PURPOSE_OF_REGISTRATION\\\\\":\\\\\"Z4\\\\\",\\\\\"INITIAL_REGISTRATION_DATE\\\\\":\\\\\"2024-10-30\\\\\",\\\\\"REGISTRATION_EXPIRATION_DATE\\\\\":\\\\\"20260930\\\\\",\\\\\"LAST_UPDATE_DATE\\\\\":\\\\\"20241103\\\\\",\\\\\"ACTIVATION_DATE\\\\\":\\\\\"20241102\\\\\",\\\\\"LEGAL_BUSINESS_NAME\\\\\":\\\\\"ZZYZX CONSTRUCTION L.L.C.\\\\\",\\\\\"DBA_NAME\\\\\":\\\\\"ZULETA CATALINA BUSTOS\\\\\",\\\\\"ENTITY_DIVISION_NAME\\\\\":\\\\\"````````````````````````````````\\x7f\\\\\",\\\\\"ENTITY_DIVISION_NUMBER\\\\\":\\\\\"ZVR1193538\\\\\",\\\\\"PHYSICAL_ADDRESS_LINE_1\\\\\":\\\\\"[\\'WWW.DIAMONDFIRE.ORG\\']\\\\\",\\\\\"PHYSICAL_ADDRESS_LINE_2\\\\\":\\\\\"ZONE 12\\\\\",\\\\\"PHYSICAL_ADDRESS_CITY\\\\\":\\\\\"ZWOLLE\\\\\",\\\\\"PHYSICAL_ADDRESS_PROVINCE_OR_STATE\\\\\":\\\\\"YUCATAN\\\\\",\\\\\"PHYSICAL_ADDRESS_ZIP/POSTAL_CODE\\\\\":\\\\\"WR14 3SZ\\\\\",\\\\\"PHYSICAL_ADDRESS_ZIP_CODE_4\\\\\":\\\\\"9999\\\\\",\\\\\"PHYSICAL_ADDRESS_COUNTRY_CODE\\\\\":\\\\\"ZWE\\\\\",\\\\\"PHYSICAL_ADDRESS_CONGRESSIONAL_DISTRICT\\\\\":\\\\\"98\\\\\"},\\\\\"nullCount\\\\\":{\\\\\"entityKey\\\\\":0,\\\\\"AUD_HASH_CODE\\\\\":0,\\\\\"AUD_SEQ_ID\\\\\":0,\\\\\"AUD_ACTIVE_FLAG\\\\\":0,\\\\\"AUD_DIRECTORY\\\\\":0,\\\\\"AUD_FILENAME\\\\\":0,\\\\\"EffectiveFromDate\\\\\":0,\\\\\"EffectiveToDate\\\\\":47132,\\\\\"UNIQUE_ENTITY_ID\\\\\":0,\\\\\"BLANK_DEPRECATED\\\\\":47132,\\\\\"ENTITY_EFT_INDICATOR\\\\\":46718,\\\\\"CAGE_CODE\\\\\":3931,\\\\\"DODAAC\\\\\":47104,\\\\\"SAM_EXTRACT_CODE\\\\\":0,\\\\\"PURPOSE_OF_REGISTRATION\\\\\":0,\\\\\"INITIAL_REGISTRATION_DATE\\\\\":0,\\\\\"REGISTRATION_EXPIRATION_DATE\\\\\":0,\\\\\"LAST_UPDATE_DATE\\\\\":0,\\\\\"ACTIVATION_DATE\\\\\":0,\\\\\"LEGAL_BUSINESS_NAME\\\\\":0,\\\\\"DBA_NAME\\\\\":37099,\\\\\"ENTITY_DIVISION_NAME\\\\\":34974,\\\\\"ENTITY_DIVISION_NUMBER\\\\\":44138,\\\\\"PHYSICAL_ADDRESS_LINE_1\\\\\":0,\\\\\"PHYSICAL_ADDRESS_LINE_2\\\\\":42832,\\\\\"PHYSICAL_ADDRESS_CITY\\\\\":0,\\\\\"PHYSICAL_ADDRESS_PROVINCE_OR_STATE\\\\\":1805,\\\\\"PHYSICAL_ADDRESS_ZIP/POSTAL_CODE\\\\\":846,\\\\\"PHYSICAL_ADDRESS_ZIP_CODE_4\\\\\":3576,\\\\\"PHYSICAL_ADDRESS_COUNTRY_CODE\\\\\":0,\\\\\"PHYSICAL_ADDRESS_CONGRESSIONAL_DISTRICT\\\\\":2164,\\\\\"D&B_OPEN_DATA_FLAG\\\\\":47132}}\",\"tags\":{}}}',\n",
              " '{\"add\":{\"path\":\"PARTITION_KEY=M/part-00006-a59e7761-ad71-4a63-819e-b1fc3e662c53.c000.snappy.parquet\",\"partitionValues\":{\"PARTITION_KEY\":\"M\"},\"size\":16946475,\"modificationTime\":1749694118976,\"dataChange\":true,\"stats\":\"{\\\\\"numRecords\\\\\":47085,\\\\\"minValues\\\\\":{\\\\\"entityKey\\\\\":\\\\\"M111Q8J81XG9\\\\\",\\\\\"AUD_HASH_CODE\\\\\":\\\\\"0000df9ce398fd071189a1e02516f198\\\\\",\\\\\"AUD_SEQ_ID\\\\\":403207,\\\\\"AUD_ACTIVE_FLAG\\\\\":\\\\\"Y\\\\\",\\\\\"AUD_DIRECTORY\\\\\":\\\\\"abfss://bronze@staaz01synpilot.d\\\\\",\\\\\"AUD_FILENAME\\\\\":\\\\\"SAM_PUBLIC_MONTHLY_V2_20241103.d\\\\\",\\\\\"EffectiveFromDate\\\\\":\\\\\"2024-11-03\\\\\",\\\\\"UNIQUE_ENTITY_ID\\\\\":\\\\\"M111Q8J81XG9\\\\\",\\\\\"ENTITY_EFT_INDICATOR\\\\\":\\\\\"0001\\\\\",\\\\\"CAGE_CODE\\\\\":\\\\\"00014\\\\\",\\\\\"DODAAC\\\\\":\\\\\"DODF1H3SD\\\\\",\\\\\"SAM_EXTRACT_CODE\\\\\":\\\\\"A\\\\\",\\\\\"PURPOSE_OF_REGISTRATION\\\\\":\\\\\"Z1\\\\\",\\\\\"INITIAL_REGISTRATION_DATE\\\\\":\\\\\"1997-01-05\\\\\",\\\\\"REGISTRATION_EXPIRATION_DATE\\\\\":\\\\\"20240504\\\\\",\\\\\"LAST_UPDATE_DATE\\\\\":\\\\\"20231106\\\\\",\\\\\"ACTIVATION_DATE\\\\\":\\\\\"20200528\\\\\",\\\\\"LEGAL_BUSINESS_NAME\\\\\":\\\\\"\\\\\\\\\\\\\"\\\\\\\\\\\\\"\\\\\\\\\\\\\"CENTRUM PRO DOPRAVU A ENERGET\\\\\",\\\\\"DBA_NAME\\\\\":\\\\\"/\\\\\",\\\\\"ENTITY_DIVISION_NAME\\\\\":\\\\\"\\\\\\\\\\\\\"EPICENTR K\\\\\\\\\\\\\" LIMITED LIABILITY C\\\\\",\\\\\"ENTITY_DIVISION_NUMBER\\\\\":\\\\\"-\\\\\",\\\\\"PHYSICAL_ADDRESS_LINE_1\\\\\":\\\\\"# 37 CALLE DIEGO VEGA\\\\\",\\\\\"PHYSICAL_ADDRESS_LINE_2\\\\\":\\\\\"# 101\\\\\",\\\\\"PHYSICAL_ADDRESS_CITY\\\\\":\\\\\"\\'S-GRAVENHAGE\\\\\",\\\\\"PHYSICAL_ADDRESS_PROVINCE_OR_STATE\\\\\":\\\\\"AB\\\\\",\\\\\"PHYSICAL_ADDRESS_ZIP/POSTAL_CODE\\\\\":\\\\\"00-108\\\\\",\\\\\"PHYSICAL_ADDRESS_ZIP_CODE_4\\\\\":\\\\\"0000\\\\\",\\\\\"PHYSICAL_ADDRESS_COUNTRY_CODE\\\\\":\\\\\"AFG\\\\\",\\\\\"PHYSICAL_ADDRESS_CONGRESSIONAL_DISTRICT\\\\\":\\\\\"00\\\\\"},\\\\\"maxValues\\\\\":{\\\\\"entityKey\\\\\":\\\\\"MZZVXYLJWPS29K6K7\\\\\",\\\\\"AUD_HASH_CODE\\\\\":\\\\\"fffec5b6c2fbea27522b4aba67605e79\\x7f\\\\\",\\\\\"AUD_SEQ_ID\\\\\":450291,\\\\\"AUD_ACTIVE_FLAG\\\\\":\\\\\"Y\\\\\",\\\\\"AUD_DIRECTORY\\\\\":\\\\\"abfss://bronze@staaz01synpilot.d\\x7f\\\\\",\\\\\"AUD_FILENAME\\\\\":\\\\\"SAM_PUBLIC_MONTHLY_V2_20241103.d\\x7f\\\\\",\\\\\"EffectiveFromDate\\\\\":\\\\\"2024-11-03\\\\\",\\\\\"UNIQUE_ENTITY_ID\\\\\":\\\\\"MZZVXYLJWPS2\\\\\",\\\\\"ENTITY_EFT_INDICATOR\\\\\":\\\\\"XRS1\\\\\",\\\\\"CAGE_CODE\\\\\":\\\\\"ZL882\\\\\",\\\\\"DODAAC\\\\\":\\\\\"DODW912EF\\\\\",\\\\\"SAM_EXTRACT_CODE\\\\\":\\\\\"E\\\\\",\\\\\"PURPOSE_OF_REGISTRATION\\\\\":\\\\\"Z5\\\\\",\\\\\"INITIAL_REGISTRATION_DATE\\\\\":\\\\\"2024-11-01\\\\\",\\\\\"REGISTRATION_EXPIRATION_DATE\\\\\":\\\\\"20260930\\\\\",\\\\\"LAST_UPDATE_DATE\\\\\":\\\\\"20241103\\\\\",\\\\\"ACTIVATION_DATE\\\\\":\\\\\"20241102\\\\\",\\\\\"LEGAL_BUSINESS_NAME\\\\\":\\\\\"ZZK TECH SOLUTIONS LLC\\\\\",\\\\\"DBA_NAME\\\\\":\\\\\"ZZ RETAIL LLC\\\\\",\\\\\"ENTITY_DIVISION_NAME\\\\\":\\\\\"ZZ CONSTRUCTION INC\\\\\",\\\\\"ENTITY_DIVISION_NUMBER\\\\\":\\\\\"`\\\\\",\\\\\"PHYSICAL_ADDRESS_LINE_1\\\\\":\\\\\"[\\'WWW.HAYREMCELROY.COM\\', \\'HAYREM\\x7f\\\\\",\\\\\"PHYSICAL_ADDRESS_LINE_2\\\\\":\\\\\"ZONE R\\\\\",\\\\\"PHYSICAL_ADDRESS_CITY\\\\\":\\\\\"ZWOLLE\\\\\",\\\\\"PHYSICAL_ADDRESS_PROVINCE_OR_STATE\\\\\":\\\\\"ZO\\\\\",\\\\\"PHYSICAL_ADDRESS_ZIP/POSTAL_CODE\\\\\":\\\\\"YO31 7EX\\\\\",\\\\\"PHYSICAL_ADDRESS_ZIP_CODE_4\\\\\":\\\\\"9998\\\\\",\\\\\"PHYSICAL_ADDRESS_COUNTRY_CODE\\\\\":\\\\\"ZWE\\\\\",\\\\\"PHYSICAL_ADDRESS_CONGRESSIONAL_DISTRICT\\\\\":\\\\\"98\\\\\"},\\\\\"nullCount\\\\\":{\\\\\"entityKey\\\\\":0,\\\\\"AUD_HASH_CODE\\\\\":0,\\\\\"AUD_SEQ_ID\\\\\":0,\\\\\"AUD_ACTIVE_FLAG\\\\\":0,\\\\\"AUD_DIRECTORY\\\\\":0,\\\\\"AUD_FILENAME\\\\\":0,\\\\\"EffectiveFromDate\\\\\":0,\\\\\"EffectiveToDate\\\\\":47085,\\\\\"UNIQUE_ENTITY_ID\\\\\":0,\\\\\"BLANK_DEPRECATED\\\\\":47085,\\\\\"ENTITY_EFT_INDICATOR\\\\\":46648,\\\\\"CAGE_CODE\\\\\":3944,\\\\\"DODAAC\\\\\":47054,\\\\\"SAM_EXTRACT_CODE\\\\\":0,\\\\\"PURPOSE_OF_REGISTRATION\\\\\":0,\\\\\"INITIAL_REGISTRATION_DATE\\\\\":0,\\\\\"REGISTRATION_EXPIRATION_DATE\\\\\":0,\\\\\"LAST_UPDATE_DATE\\\\\":0,\\\\\"ACTIVATION_DATE\\\\\":0,\\\\\"LEGAL_BUSINESS_NAME\\\\\":0,\\\\\"DBA_NAME\\\\\":37012,\\\\\"ENTITY_DIVISION_NAME\\\\\":34835,\\\\\"ENTITY_DIVISION_NUMBER\\\\\":44188,\\\\\"PHYSICAL_ADDRESS_LINE_1\\\\\":0,\\\\\"PHYSICAL_ADDRESS_LINE_2\\\\\":42819,\\\\\"PHYSICAL_ADDRESS_CITY\\\\\":0,\\\\\"PHYSICAL_ADDRESS_PROVINCE_OR_STATE\\\\\":1810,\\\\\"PHYSICAL_ADDRESS_ZIP/POSTAL_CODE\\\\\":814,\\\\\"PHYSICAL_ADDRESS_ZIP_CODE_4\\\\\":3561,\\\\\"PHYSICAL_ADDRESS_COUNTRY_CODE\\\\\":0,\\\\\"PHYSICAL_ADDRESS_CONGRESSIONAL_DISTRICT\\\\\":2168,\\\\\"D&B_OPEN_DATA_FLAG\\\\\":47085}}\",\"tags\":{}}}',\n",
              " '{\"add\":{\"path\":\"PARTITION_KEY=U/part-00007-1fceee86-9ccb-4b39-85c4-d09239427f0b.c000.snappy.parquet\",\"partitionValues\":{\"PARTITION_KEY\":\"U\"},\"size\":11447170,\"modificationTime\":1749694114280,\"dataChange\":true,\"stats\":\"{\\\\\"numRecords\\\\\":31840,\\\\\"minValues\\\\\":{\\\\\"entityKey\\\\\":\\\\\"U111B6B2PD279BG4H\\\\\",\\\\\"AUD_HASH_CODE\\\\\":\\\\\"00018f54f9c101d1744fe9979511548c\\\\\",\\\\\"AUD_SEQ_ID\\\\\":657397,\\\\\"AUD_ACTIVE_FLAG\\\\\":\\\\\"Y\\\\\",\\\\\"AUD_DIRECTORY\\\\\":\\\\\"abfss://bronze@staaz01synpilot.d\\\\\",\\\\\"AUD_FILENAME\\\\\":\\\\\"SAM_PUBLIC_MONTHLY_V2_20241103.d\\\\\",\\\\\"EffectiveFromDate\\\\\":\\\\\"2024-11-03\\\\\",\\\\\"UNIQUE_ENTITY_ID\\\\\":\\\\\"U111B6B2PD27\\\\\",\\\\\"ENTITY_EFT_INDICATOR\\\\\":\\\\\"0001\\\\\",\\\\\"CAGE_CODE\\\\\":\\\\\"00062\\\\\",\\\\\"DODAAC\\\\\":\\\\\"DODF2ETGP\\\\\",\\\\\"SAM_EXTRACT_CODE\\\\\":\\\\\"A\\\\\",\\\\\"PURPOSE_OF_REGISTRATION\\\\\":\\\\\"Z1\\\\\",\\\\\"INITIAL_REGISTRATION_DATE\\\\\":\\\\\"1997-04-30\\\\\",\\\\\"REGISTRATION_EXPIRATION_DATE\\\\\":\\\\\"20240504\\\\\",\\\\\"LAST_UPDATE_DATE\\\\\":\\\\\"20231106\\\\\",\\\\\"ACTIVATION_DATE\\\\\":\\\\\"20200804\\\\\",\\\\\"LEGAL_BUSINESS_NAME\\\\\":\\\\\"\\\\\\\\\\\\\"ENABLE SOLUTIONS\\\\\\\\\\\\\" S.R.L.\\\\\",\\\\\"DBA_NAME\\\\\":\\\\\"007 CATTLE CO LLC\\\\\",\\\\\"ENTITY_DIVISION_NAME\\\\\":\\\\\"(204) 3450955\\\\\",\\\\\"ENTITY_DIVISION_NUMBER\\\\\":\\\\\"\\'\\\\\",\\\\\"PHYSICAL_ADDRESS_LINE_1\\\\\":\\\\\"# 16 CARR. 199 SUITE 400\\\\\",\\\\\"PHYSICAL_ADDRESS_LINE_2\\\\\":\\\\\"# 100\\\\\",\\\\\"PHYSICAL_ADDRESS_CITY\\\\\":\\\\\"\\'S-GRAVENHAGE\\\\\",\\\\\"PHYSICAL_ADDRESS_PROVINCE_OR_STATE\\\\\":\\\\\"61\\\\\",\\\\\"PHYSICAL_ADDRESS_ZIP/POSTAL_CODE\\\\\":\\\\\"00-095\\\\\",\\\\\"PHYSICAL_ADDRESS_ZIP_CODE_4\\\\\":\\\\\"0000\\\\\",\\\\\"PHYSICAL_ADDRESS_COUNTRY_CODE\\\\\":\\\\\"ALB\\\\\",\\\\\"PHYSICAL_ADDRESS_CONGRESSIONAL_DISTRICT\\\\\":\\\\\"00\\\\\"},\\\\\"maxValues\\\\\":{\\\\\"entityKey\\\\\":\\\\\"UZZVR38RGCX49Q4F0\\\\\",\\\\\"AUD_HASH_CODE\\\\\":\\\\\"fffe54a55b15a91aca851f40a3e1fe4c\\x7f\\\\\",\\\\\"AUD_SEQ_ID\\\\\":689236,\\\\\"AUD_ACTIVE_FLAG\\\\\":\\\\\"Y\\\\\",\\\\\"AUD_DIRECTORY\\\\\":\\\\\"abfss://bronze@staaz01synpilot.d\\x7f\\\\\",\\\\\"AUD_FILENAME\\\\\":\\\\\"SAM_PUBLIC_MONTHLY_V2_20241103.d\\x7f\\\\\",\\\\\"EffectiveFromDate\\\\\":\\\\\"2024-11-03\\\\\",\\\\\"UNIQUE_ENTITY_ID\\\\\":\\\\\"UZZVR38RGCX4\\\\\",\\\\\"ENTITY_EFT_INDICATOR\\\\\":\\\\\"XRS1\\\\\",\\\\\"CAGE_CODE\\\\\":\\\\\"ZBF33\\\\\",\\\\\"DODAAC\\\\\":\\\\\"DODW912DS\\\\\",\\\\\"SAM_EXTRACT_CODE\\\\\":\\\\\"E\\\\\",\\\\\"PURPOSE_OF_REGISTRATION\\\\\":\\\\\"Z4\\\\\",\\\\\"INITIAL_REGISTRATION_DATE\\\\\":\\\\\"2024-11-01\\\\\",\\\\\"REGISTRATION_EXPIRATION_DATE\\\\\":\\\\\"20260930\\\\\",\\\\\"LAST_UPDATE_DATE\\\\\":\\\\\"20241103\\\\\",\\\\\"ACTIVATION_DATE\\\\\":\\\\\"20241102\\\\\",\\\\\"LEGAL_BUSINESS_NAME\\\\\":\\\\\"ZZC INNOVATIONS LLC\\\\\",\\\\\"DBA_NAME\\\\\":\\\\\"[MOE]TEL 7 HOSPITALITY GROUP\\\\\",\\\\\"ENTITY_DIVISION_NAME\\\\\":\\\\\"ZZC INNOVATIONS LLC\\\\\",\\\\\"ENTITY_DIVISION_NUMBER\\\\\":\\\\\"ZUND AMERI\\\\\",\\\\\"PHYSICAL_ADDRESS_LINE_1\\\\\":\\\\\"\\\\\\\\\\\\\\\\\\\\\\\\\\\\\"SOLAR\\\\\\\\\\\\\\\\\\\\\\\\\\\\\" HOUSE 14, KACHIMET, AM\\x7f\\\\\",\\\\\"PHYSICAL_ADDRESS_LINE_2\\\\\":\\\\\"ZONA RURAL\\\\\",\\\\\"PHYSICAL_ADDRESS_CITY\\\\\":\\\\\"ZWOLLE\\\\\",\\\\\"PHYSICAL_ADDRESS_PROVINCE_OR_STATE\\\\\":\\\\\"ZW-HA\\\\\",\\\\\"PHYSICAL_ADDRESS_ZIP/POSTAL_CODE\\\\\":\\\\\"WC1E 7HT\\\\\",\\\\\"PHYSICAL_ADDRESS_ZIP_CODE_4\\\\\":\\\\\"9998\\\\\",\\\\\"PHYSICAL_ADDRESS_COUNTRY_CODE\\\\\":\\\\\"ZWE\\\\\",\\\\\"PHYSICAL_ADDRESS_CONGRESSIONAL_DISTRICT\\\\\":\\\\\"98\\\\\"},\\\\\"nullCount\\\\\":{\\\\\"entityKey\\\\\":0,\\\\\"AUD_HASH_CODE\\\\\":0,\\\\\"AUD_SEQ_ID\\\\\":0,\\\\\"AUD_ACTIVE_FLAG\\\\\":0,\\\\\"AUD_DIRECTORY\\\\\":0,\\\\\"AUD_FILENAME\\\\\":0,\\\\\"EffectiveFromDate\\\\\":0,\\\\\"EffectiveToDate\\\\\":31840,\\\\\"UNIQUE_ENTITY_ID\\\\\":0,\\\\\"BLANK_DEPRECATED\\\\\":31840,\\\\\"ENTITY_EFT_INDICATOR\\\\\":31637,\\\\\"CAGE_CODE\\\\\":3932,\\\\\"DODAAC\\\\\":31815,\\\\\"SAM_EXTRACT_CODE\\\\\":0,\\\\\"PURPOSE_OF_REGISTRATION\\\\\":0,\\\\\"INITIAL_REGISTRATION_DATE\\\\\":0,\\\\\"REGISTRATION_EXPIRATION_DATE\\\\\":0,\\\\\"LAST_UPDATE_DATE\\\\\":0,\\\\\"ACTIVATION_DATE\\\\\":0,\\\\\"LEGAL_BUSINESS_NAME\\\\\":0,\\\\\"DBA_NAME\\\\\":25463,\\\\\"ENTITY_DIVISION_NAME\\\\\":23844,\\\\\"ENTITY_DIVISION_NUMBER\\\\\":30075,\\\\\"PHYSICAL_ADDRESS_LINE_1\\\\\":0,\\\\\"PHYSICAL_ADDRESS_LINE_2\\\\\":29083,\\\\\"PHYSICAL_ADDRESS_CITY\\\\\":0,\\\\\"PHYSICAL_ADDRESS_PROVINCE_OR_STATE\\\\\":1353,\\\\\"PHYSICAL_ADDRESS_ZIP/POSTAL_CODE\\\\\":625,\\\\\"PHYSICAL_ADDRESS_ZIP_CODE_4\\\\\":2537,\\\\\"PHYSICAL_ADDRESS_COUNTRY_CODE\\\\\":0,\\\\\"PHYSICAL_ADDRESS_CONGRESSIONAL_DISTRICT\\\\\":1614,\\\\\"D&B_OPEN_DATA_FLAG\\\\\":31840}}\",\"tags\":{}}}',\n",
              " '{\"add\":{\"path\":\"PARTITION_KEY=V/part-00007-02582cae-c17c-4a3b-9645-0ad1d3b10724.c000.snappy.parquet\",\"partitionValues\":{\"PARTITION_KEY\":\"V\"},\"size\":11405644,\"modificationTime\":1749694118170,\"dataChange\":true,\"stats\":\"{\\\\\"numRecords\\\\\":31588,\\\\\"minValues\\\\\":{\\\\\"entityKey\\\\\":\\\\\"V111L3KML54506C85\\\\\",\\\\\"AUD_HASH_CODE\\\\\":\\\\\"00012ecf794f319219fa17caf0d9ba7b\\\\\",\\\\\"AUD_SEQ_ID\\\\\":689237,\\\\\"AUD_ACTIVE_FLAG\\\\\":\\\\\"Y\\\\\",\\\\\"AUD_DIRECTORY\\\\\":\\\\\"abfss://bronze@staaz01synpilot.d\\\\\",\\\\\"AUD_FILENAME\\\\\":\\\\\"SAM_PUBLIC_MONTHLY_V2_20241103.d\\\\\",\\\\\"EffectiveFromDate\\\\\":\\\\\"2024-11-03\\\\\",\\\\\"UNIQUE_ENTITY_ID\\\\\":\\\\\"V111L3KML545\\\\\",\\\\\"ENTITY_EFT_INDICATOR\\\\\":\\\\\"0001\\\\\",\\\\\"CAGE_CODE\\\\\":\\\\\"0027J\\\\\",\\\\\"DODAAC\\\\\":\\\\\"DODF2DTAG\\\\\",\\\\\"SAM_EXTRACT_CODE\\\\\":\\\\\"A\\\\\",\\\\\"PURPOSE_OF_REGISTRATION\\\\\":\\\\\"Z1\\\\\",\\\\\"INITIAL_REGISTRATION_DATE\\\\\":\\\\\"1997-09-17\\\\\",\\\\\"REGISTRATION_EXPIRATION_DATE\\\\\":\\\\\"20240504\\\\\",\\\\\"LAST_UPDATE_DATE\\\\\":\\\\\"20231107\\\\\",\\\\\"ACTIVATION_DATE\\\\\":\\\\\"20200918\\\\\",\\\\\"LEGAL_BUSINESS_NAME\\\\\":\\\\\"\\\\\\\\\\\\\"ARE\\\\\\\\\\\\\" CULTURAL FOUNDATION\\\\\",\\\\\"DBA_NAME\\\\\":\\\\\"\\\\\\\\\\\\\"ROMAN CATHOLIC ARCHDIOCESE OF A\\\\\",\\\\\"ENTITY_DIVISION_NAME\\\\\":\\\\\"\\\\\\\\\\\\\"THE GARDENS\\\\\\\\\\\\\" FAMILY CARE COMMUN\\\\\",\\\\\"ENTITY_DIVISION_NUMBER\\\\\":\\\\\"--NONE--\\\\\",\\\\\"PHYSICAL_ADDRESS_LINE_1\\\\\":\\\\\"#1028, 247, YANGJI-RO, SOSA-GU\\\\\",\\\\\"PHYSICAL_ADDRESS_LINE_2\\\\\":\\\\\"# 100\\\\\",\\\\\"PHYSICAL_ADDRESS_CITY\\\\\":\\\\\"\\'S-GRAVENHAGE\\\\\",\\\\\"PHYSICAL_ADDRESS_PROVINCE_OR_STATE\\\\\":\\\\\"11\\\\\",\\\\\"PHYSICAL_ADDRESS_ZIP/POSTAL_CODE\\\\\":\\\\\"00-682\\\\\",\\\\\"PHYSICAL_ADDRESS_ZIP_CODE_4\\\\\":\\\\\"0000\\\\\",\\\\\"PHYSICAL_ADDRESS_COUNTRY_CODE\\\\\":\\\\\"AFG\\\\\",\\\\\"PHYSICAL_ADDRESS_CONGRESSIONAL_DISTRICT\\\\\":\\\\\"00\\\\\"},\\\\\"maxValues\\\\\":{\\\\\"entityKey\\\\\":\\\\\"VZZYBLCQR9K19XJZ7\\\\\",\\\\\"AUD_HASH_CODE\\\\\":\\\\\"ffffb7142371550b17e84e2ccf7c7236\\x7f\\\\\",\\\\\"AUD_SEQ_ID\\\\\":720824,\\\\\"AUD_ACTIVE_FLAG\\\\\":\\\\\"Y\\\\\",\\\\\"AUD_DIRECTORY\\\\\":\\\\\"abfss://bronze@staaz01synpilot.d\\x7f\\\\\",\\\\\"AUD_FILENAME\\\\\":\\\\\"SAM_PUBLIC_MONTHLY_V2_20241103.d\\x7f\\\\\",\\\\\"EffectiveFromDate\\\\\":\\\\\"2024-11-03\\\\\",\\\\\"UNIQUE_ENTITY_ID\\\\\":\\\\\"VZZYBLCQR9K1\\\\\",\\\\\"ENTITY_EFT_INDICATOR\\\\\":\\\\\"XRS4\\\\\",\\\\\"CAGE_CODE\\\\\":\\\\\"ZY981\\\\\",\\\\\"DODAAC\\\\\":\\\\\"DODW9116M\\\\\",\\\\\"SAM_EXTRACT_CODE\\\\\":\\\\\"E\\\\\",\\\\\"PURPOSE_OF_REGISTRATION\\\\\":\\\\\"Z5\\\\\",\\\\\"INITIAL_REGISTRATION_DATE\\\\\":\\\\\"2024-11-02\\\\\",\\\\\"REGISTRATION_EXPIRATION_DATE\\\\\":\\\\\"20260930\\\\\",\\\\\"LAST_UPDATE_DATE\\\\\":\\\\\"20241103\\\\\",\\\\\"ACTIVATION_DATE\\\\\":\\\\\"20241102\\\\\",\\\\\"LEGAL_BUSINESS_NAME\\\\\":\\\\\"ZYZ ENTERPRISES, LLC\\\\\",\\\\\"DBA_NAME\\\\\":\\\\\"ZZ MEDICAL\\\\\",\\\\\"ENTITY_DIVISION_NAME\\\\\":\\\\\"_PEOPLE STRATEGIES LLC\\\\\",\\\\\"ENTITY_DIVISION_NUMBER\\\\\":\\\\\"YZM\\\\\",\\\\\"PHYSICAL_ADDRESS_LINE_1\\\\\":\\\\\"ZUM KIRSCHBAUM 7A\\\\\",\\\\\"PHYSICAL_ADDRESS_LINE_2\\\\\":\\\\\"ZONA 13\\\\\",\\\\\"PHYSICAL_ADDRESS_CITY\\\\\":\\\\\"ZWINGLE\\\\\",\\\\\"PHYSICAL_ADDRESS_PROVINCE_OR_STATE\\\\\":\\\\\"ZH\\\\\",\\\\\"PHYSICAL_ADDRESS_ZIP/POSTAL_CODE\\\\\":\\\\\"X91AX83\\\\\",\\\\\"PHYSICAL_ADDRESS_ZIP_CODE_4\\\\\":\\\\\"9999\\\\\",\\\\\"PHYSICAL_ADDRESS_COUNTRY_CODE\\\\\":\\\\\"ZWE\\\\\",\\\\\"PHYSICAL_ADDRESS_CONGRESSIONAL_DISTRICT\\\\\":\\\\\"98\\\\\"},\\\\\"nullCount\\\\\":{\\\\\"entityKey\\\\\":0,\\\\\"AUD_HASH_CODE\\\\\":0,\\\\\"AUD_SEQ_ID\\\\\":0,\\\\\"AUD_ACTIVE_FLAG\\\\\":0,\\\\\"AUD_DIRECTORY\\\\\":0,\\\\\"AUD_FILENAME\\\\\":0,\\\\\"EffectiveFromDate\\\\\":0,\\\\\"EffectiveToDate\\\\\":31588,\\\\\"UNIQUE_ENTITY_ID\\\\\":0,\\\\\"BLANK_DEPRECATED\\\\\":31588,\\\\\"ENTITY_EFT_INDICATOR\\\\\":31364,\\\\\"CAGE_CODE\\\\\":3826,\\\\\"DODAAC\\\\\":31576,\\\\\"SAM_EXTRACT_CODE\\\\\":0,\\\\\"PURPOSE_OF_REGISTRATION\\\\\":0,\\\\\"INITIAL_REGISTRATION_DATE\\\\\":0,\\\\\"REGISTRATION_EXPIRATION_DATE\\\\\":0,\\\\\"LAST_UPDATE_DATE\\\\\":0,\\\\\"ACTIVATION_DATE\\\\\":0,\\\\\"LEGAL_BUSINESS_NAME\\\\\":0,\\\\\"DBA_NAME\\\\\":25442,\\\\\"ENTITY_DIVISION_NAME\\\\\":23604,\\\\\"ENTITY_DIVISION_NUMBER\\\\\":29934,\\\\\"PHYSICAL_ADDRESS_LINE_1\\\\\":0,\\\\\"PHYSICAL_ADDRESS_LINE_2\\\\\":28861,\\\\\"PHYSICAL_ADDRESS_CITY\\\\\":0,\\\\\"PHYSICAL_ADDRESS_PROVINCE_OR_STATE\\\\\":1365,\\\\\"PHYSICAL_ADDRESS_ZIP/POSTAL_CODE\\\\\":630,\\\\\"PHYSICAL_ADDRESS_ZIP_CODE_4\\\\\":2547,\\\\\"PHYSICAL_ADDRESS_COUNTRY_CODE\\\\\":0,\\\\\"PHYSICAL_ADDRESS_CONGRESSIONAL_DISTRICT\\\\\":1663,\\\\\"D&B_OPEN_DATA_FLAG\\\\\":31588}}\",\"tags\":{}}}',\n",
              " '{\"add\":{\"path\":\"PARTITION_KEY=D/part-00008-a36889f8-6cc6-4108-88b5-0ecc1b286434.c000.snappy.parquet\",\"partitionValues\":{\"PARTITION_KEY\":\"D\"},\"size\":15573566,\"modificationTime\":1749694115254,\"dataChange\":true,\"stats\":\"{\\\\\"numRecords\\\\\":43475,\\\\\"minValues\\\\\":{\\\\\"entityKey\\\\\":\\\\\"D111LVZ3L2B31QRG9\\\\\",\\\\\"AUD_HASH_CODE\\\\\":\\\\\"00022e8e200d74707bb7658a120e0f61\\\\\",\\\\\"AUD_SEQ_ID\\\\\":45346,\\\\\"AUD_ACTIVE_FLAG\\\\\":\\\\\"Y\\\\\",\\\\\"AUD_DIRECTORY\\\\\":\\\\\"abfss://bronze@staaz01synpilot.d\\\\\",\\\\\"AUD_FILENAME\\\\\":\\\\\"SAM_PUBLIC_MONTHLY_V2_20241103.d\\\\\",\\\\\"EffectiveFromDate\\\\\":\\\\\"2024-11-03\\\\\",\\\\\"UNIQUE_ENTITY_ID\\\\\":\\\\\"D111LVZ3L2B3\\\\\",\\\\\"ENTITY_EFT_INDICATOR\\\\\":\\\\\"0001\\\\\",\\\\\"CAGE_CODE\\\\\":\\\\\"0001U\\\\\",\\\\\"DODAAC\\\\\":\\\\\"DODF1TBAW\\\\\",\\\\\"SAM_EXTRACT_CODE\\\\\":\\\\\"A\\\\\",\\\\\"PURPOSE_OF_REGISTRATION\\\\\":\\\\\"Z1\\\\\",\\\\\"INITIAL_REGISTRATION_DATE\\\\\":\\\\\"1997-06-12\\\\\",\\\\\"REGISTRATION_EXPIRATION_DATE\\\\\":\\\\\"20240504\\\\\",\\\\\"LAST_UPDATE_DATE\\\\\":\\\\\"20231107\\\\\",\\\\\"ACTIVATION_DATE\\\\\":\\\\\"20200615\\\\\",\\\\\"LEGAL_BUSINESS_NAME\\\\\":\\\\\"\\\\\\\\\\\\\"CHILD PROTECTION CENTRE\\\\\\\\\\\\\" FOUNDA\\\\\",\\\\\"DBA_NAME\\\\\":\\\\\"\\\\\\\\\\\\\"IT IS WELL\\\\\\\\\\\\\" FITNESS STUDIO\\\\\",\\\\\"ENTITY_DIVISION_NAME\\\\\":\\\\\"\\\\\\\\\\\\\"TAROSA\\\\\\\\\\\\\"\\\\\",\\\\\"ENTITY_DIVISION_NUMBER\\\\\":\\\\\"#6\\\\\",\\\\\"PHYSICAL_ADDRESS_LINE_1\\\\\":\\\\\"# 26 CARR 169 KM 7 2 BO CAMARONE\\\\\",\\\\\"PHYSICAL_ADDRESS_LINE_2\\\\\":\\\\\"# 1-2\\\\\",\\\\\"PHYSICAL_ADDRESS_CITY\\\\\":\\\\\"\\'S-GRAVENHAGE\\\\\",\\\\\"PHYSICAL_ADDRESS_PROVINCE_OR_STATE\\\\\":\\\\\"18/07/2005\\\\\",\\\\\"PHYSICAL_ADDRESS_ZIP/POSTAL_CODE\\\\\":\\\\\"00-021\\\\\",\\\\\"PHYSICAL_ADDRESS_ZIP_CODE_4\\\\\":\\\\\"0000\\\\\",\\\\\"PHYSICAL_ADDRESS_COUNTRY_CODE\\\\\":\\\\\"AFG\\\\\",\\\\\"PHYSICAL_ADDRESS_CONGRESSIONAL_DISTRICT\\\\\":\\\\\"00\\\\\"},\\\\\"maxValues\\\\\":{\\\\\"entityKey\\\\\":\\\\\"DZZWYMJJ58H8\\\\\",\\\\\"AUD_HASH_CODE\\\\\":\\\\\"fffcc343ea41081be164098b980b0a36\\x7f\\\\\",\\\\\"AUD_SEQ_ID\\\\\":88820,\\\\\"AUD_ACTIVE_FLAG\\\\\":\\\\\"Y\\\\\",\\\\\"AUD_DIRECTORY\\\\\":\\\\\"abfss://bronze@staaz01synpilot.d\\x7f\\\\\",\\\\\"AUD_FILENAME\\\\\":\\\\\"SAM_PUBLIC_MONTHLY_V2_20241103.d\\x7f\\\\\",\\\\\"EffectiveFromDate\\\\\":\\\\\"2024-11-03\\\\\",\\\\\"UNIQUE_ENTITY_ID\\\\\":\\\\\"DZZWYMJJ58H8\\\\\",\\\\\"ENTITY_EFT_INDICATOR\\\\\":\\\\\"XRS1\\\\\",\\\\\"CAGE_CODE\\\\\":\\\\\"ZX108\\\\\",\\\\\"DODAAC\\\\\":\\\\\"DODW91QQR\\\\\",\\\\\"SAM_EXTRACT_CODE\\\\\":\\\\\"E\\\\\",\\\\\"PURPOSE_OF_REGISTRATION\\\\\":\\\\\"Z5\\\\\",\\\\\"INITIAL_REGISTRATION_DATE\\\\\":\\\\\"2024-10-30\\\\\",\\\\\"REGISTRATION_EXPIRATION_DATE\\\\\":\\\\\"20260930\\\\\",\\\\\"LAST_UPDATE_DATE\\\\\":\\\\\"20241103\\\\\",\\\\\"ACTIVATION_DATE\\\\\":\\\\\"20241101\\\\\",\\\\\"LEGAL_BUSINESS_NAME\\\\\":\\\\\"ZZZ INC\\\\\",\\\\\"DBA_NAME\\\\\":\\\\\"ZZ ELECTRIC\\\\\",\\\\\"ENTITY_DIVISION_NAME\\\\\":\\\\\"`\\\\\",\\\\\"ENTITY_DIVISION_NUMBER\\\\\":\\\\\"ZION LUTHE\\\\\",\\\\\"PHYSICAL_ADDRESS_LINE_1\\\\\":\\\\\"[\\'WWW.USD308.COM\\']\\\\\",\\\\\"PHYSICAL_ADDRESS_LINE_2\\\\\":\\\\\"ZONE E, APO RESETTLEMENT\\\\\",\\\\\"PHYSICAL_ADDRESS_CITY\\\\\":\\\\\"ZWOLLE\\\\\",\\\\\"PHYSICAL_ADDRESS_PROVINCE_OR_STATE\\\\\":\\\\\"ZARAGOZA\\\\\",\\\\\"PHYSICAL_ADDRESS_ZIP/POSTAL_CODE\\\\\":\\\\\"YO6UOG\\\\\",\\\\\"PHYSICAL_ADDRESS_ZIP_CODE_4\\\\\":\\\\\"9998\\\\\",\\\\\"PHYSICAL_ADDRESS_COUNTRY_CODE\\\\\":\\\\\"ZWE\\\\\",\\\\\"PHYSICAL_ADDRESS_CONGRESSIONAL_DISTRICT\\\\\":\\\\\"98\\\\\"},\\\\\"nullCount\\\\\":{\\\\\"entityKey\\\\\":0,\\\\\"AUD_HASH_CODE\\\\\":0,\\\\\"AUD_SEQ_ID\\\\\":0,\\\\\"AUD_ACTIVE_FLAG\\\\\":0,\\\\\"AUD_DIRECTORY\\\\\":0,\\\\\"AUD_FILENAME\\\\\":0,\\\\\"EffectiveFromDate\\\\\":0,\\\\\"EffectiveToDate\\\\\":43475,\\\\\"UNIQUE_ENTITY_ID\\\\\":0,\\\\\"BLANK_DEPRECATED\\\\\":43475,\\\\\"ENTITY_EFT_INDICATOR\\\\\":43085,\\\\\"CAGE_CODE\\\\\":4127,\\\\\"DODAAC\\\\\":43450,\\\\\"SAM_EXTRACT_CODE\\\\\":0,\\\\\"PURPOSE_OF_REGISTRATION\\\\\":0,\\\\\"INITIAL_REGISTRATION_DATE\\\\\":0,\\\\\"REGISTRATION_EXPIRATION_DATE\\\\\":0,\\\\\"LAST_UPDATE_DATE\\\\\":0,\\\\\"ACTIVATION_DATE\\\\\":0,\\\\\"LEGAL_BUSINESS_NAME\\\\\":0,\\\\\"DBA_NAME\\\\\":34362,\\\\\"ENTITY_DIVISION_NAME\\\\\":32321,\\\\\"ENTITY_DIVISION_NUMBER\\\\\":40842,\\\\\"PHYSICAL_ADDRESS_LINE_1\\\\\":0,\\\\\"PHYSICAL_ADDRESS_LINE_2\\\\\":39497,\\\\\"PHYSICAL_ADDRESS_CITY\\\\\":0,\\\\\"PHYSICAL_ADDRESS_PROVINCE_OR_STATE\\\\\":1647,\\\\\"PHYSICAL_ADDRESS_ZIP/POSTAL_CODE\\\\\":751,\\\\\"PHYSICAL_ADDRESS_ZIP_CODE_4\\\\\":3328,\\\\\"PHYSICAL_ADDRESS_COUNTRY_CODE\\\\\":0,\\\\\"PHYSICAL_ADDRESS_CONGRESSIONAL_DISTRICT\\\\\":1992,\\\\\"D&B_OPEN_DATA_FLAG\\\\\":43475}}\",\"tags\":{}}}',\n",
              " '{\"add\":{\"path\":\"PARTITION_KEY=C/part-00009-76bce5b0-4c89-4b67-be25-9dc32d753bc1.c000.snappy.parquet\",\"partitionValues\":{\"PARTITION_KEY\":\"C\"},\"size\":16314559,\"modificationTime\":1749694115327,\"dataChange\":true,\"stats\":\"{\\\\\"numRecords\\\\\":45345,\\\\\"minValues\\\\\":{\\\\\"entityKey\\\\\":\\\\\"C111ATT311C853YC5\\\\\",\\\\\"AUD_HASH_CODE\\\\\":\\\\\"00018a3bd997b34d4814e90ea549c925\\\\\",\\\\\"AUD_SEQ_ID\\\\\":1,\\\\\"AUD_ACTIVE_FLAG\\\\\":\\\\\"Y\\\\\",\\\\\"AUD_DIRECTORY\\\\\":\\\\\"abfss://bronze@staaz01synpilot.d\\\\\",\\\\\"AUD_FILENAME\\\\\":\\\\\"SAM_PUBLIC_MONTHLY_V2_20241103.d\\\\\",\\\\\"EffectiveFromDate\\\\\":\\\\\"2024-11-03\\\\\",\\\\\"UNIQUE_ENTITY_ID\\\\\":\\\\\"C111ATT311C8\\\\\",\\\\\"ENTITY_EFT_INDICATOR\\\\\":\\\\\"0001\\\\\",\\\\\"CAGE_CODE\\\\\":\\\\\"0006W\\\\\",\\\\\"DODAAC\\\\\":\\\\\"DODF2TSDA\\\\\",\\\\\"SAM_EXTRACT_CODE\\\\\":\\\\\"A\\\\\",\\\\\"PURPOSE_OF_REGISTRATION\\\\\":\\\\\"Z1\\\\\",\\\\\"INITIAL_REGISTRATION_DATE\\\\\":\\\\\"1996-10-10\\\\\",\\\\\"REGISTRATION_EXPIRATION_DATE\\\\\":\\\\\"20240504\\\\\",\\\\\"LAST_UPDATE_DATE\\\\\":\\\\\"20231106\\\\\",\\\\\"ACTIVATION_DATE\\\\\":\\\\\"20200706\\\\\",\\\\\"LEGAL_BUSINESS_NAME\\\\\":\\\\\"\\\\\\\\\\\\\"BAZ FAMILY MEDICAL CLINIC, C-CO\\\\\",\\\\\"DBA_NAME\\\\\":\\\\\"#1 NOOR HOME CARE\\\\\",\\\\\"ENTITY_DIVISION_NAME\\\\\":\\\\\"\\\\\\\\\\\\\"STEWART FAR COMPLIANCE\\\\\",\\\\\"ENTITY_DIVISION_NUMBER\\\\\":\\\\\"#1\\\\\",\\\\\"PHYSICAL_ADDRESS_LINE_1\\\\\":\\\\\"#17 ESTATE LA REINE\\\\\",\\\\\"PHYSICAL_ADDRESS_LINE_2\\\\\":\\\\\"# 100\\\\\",\\\\\"PHYSICAL_ADDRESS_CITY\\\\\":\\\\\"\\'S-GRAVENHAGE\\\\\",\\\\\"PHYSICAL_ADDRESS_PROVINCE_OR_STATE\\\\\":\\\\\"0179\\\\\",\\\\\"PHYSICAL_ADDRESS_ZIP/POSTAL_CODE\\\\\":\\\\\"00-019\\\\\",\\\\\"PHYSICAL_ADDRESS_ZIP_CODE_4\\\\\":\\\\\"0000\\\\\",\\\\\"PHYSICAL_ADDRESS_COUNTRY_CODE\\\\\":\\\\\"AFG\\\\\",\\\\\"PHYSICAL_ADDRESS_CONGRESSIONAL_DISTRICT\\\\\":\\\\\"00\\\\\"},\\\\\"maxValues\\\\\":{\\\\\"entityKey\\\\\":\\\\\"CZZXXGJCP6T95WBM1\\\\\",\\\\\"AUD_HASH_CODE\\\\\":\\\\\"ffff6b381cf0c45a9b62daeff369d9c0\\x7f\\\\\",\\\\\"AUD_SEQ_ID\\\\\":45345,\\\\\"AUD_ACTIVE_FLAG\\\\\":\\\\\"Y\\\\\",\\\\\"AUD_DIRECTORY\\\\\":\\\\\"abfss://bronze@staaz01synpilot.d\\x7f\\\\\",\\\\\"AUD_FILENAME\\\\\":\\\\\"SAM_PUBLIC_MONTHLY_V2_20241103.d\\x7f\\\\\",\\\\\"EffectiveFromDate\\\\\":\\\\\"2024-11-03\\\\\",\\\\\"UNIQUE_ENTITY_ID\\\\\":\\\\\"CZZXXGJCP6T9\\\\\",\\\\\"ENTITY_EFT_INDICATOR\\\\\":\\\\\"YCB6\\\\\",\\\\\"CAGE_CODE\\\\\":\\\\\"ZV159\\\\\",\\\\\"DODAAC\\\\\":\\\\\"DODW905HS\\\\\",\\\\\"SAM_EXTRACT_CODE\\\\\":\\\\\"E\\\\\",\\\\\"PURPOSE_OF_REGISTRATION\\\\\":\\\\\"Z5\\\\\",\\\\\"INITIAL_REGISTRATION_DATE\\\\\":\\\\\"2024-10-30\\\\\",\\\\\"REGISTRATION_EXPIRATION_DATE\\\\\":\\\\\"20260930\\\\\",\\\\\"LAST_UPDATE_DATE\\\\\":\\\\\"20241103\\\\\",\\\\\"ACTIVATION_DATE\\\\\":\\\\\"20241102\\\\\",\\\\\"LEGAL_BUSINESS_NAME\\\\\":\\\\\"ZZK CORP\\\\\",\\\\\"DBA_NAME\\\\\":\\\\\"ZYN SYSTEMS CONSULTING\\\\\",\\\\\"ENTITY_DIVISION_NAME\\\\\":\\\\\"`MOIE MISTO` SOCIAL PLATFORM NON\\x7f\\\\\",\\\\\"ENTITY_DIVISION_NUMBER\\\\\":\\\\\"`\\\\\",\\\\\"PHYSICAL_ADDRESS_LINE_1\\\\\":\\\\\"\\\\\\\\\\\\\\\\\\\\\\\\\\\\\"GP HOUSE, BASUNDHARA, BARIDHAR\\x7f\\\\\",\\\\\"PHYSICAL_ADDRESS_LINE_2\\\\\":\\\\\"ZONE 3 PIMVILLE GAUTENG\\\\\",\\\\\"PHYSICAL_ADDRESS_CITY\\\\\":\\\\\"ZWEIBRUECKEN\\\\\",\\\\\"PHYSICAL_ADDRESS_PROVINCE_OR_STATE\\\\\":\\\\\"ZAKARPATTIA\\\\\",\\\\\"PHYSICAL_ADDRESS_ZIP/POSTAL_CODE\\\\\":\\\\\"ZTN3000\\\\\",\\\\\"PHYSICAL_ADDRESS_ZIP_CODE_4\\\\\":\\\\\"9999\\\\\",\\\\\"PHYSICAL_ADDRESS_COUNTRY_CODE\\\\\":\\\\\"ZWE\\\\\",\\\\\"PHYSICAL_ADDRESS_CONGRESSIONAL_DISTRICT\\\\\":\\\\\"98\\\\\"},\\\\\"nullCount\\\\\":{\\\\\"entityKey\\\\\":0,\\\\\"AUD_HASH_CODE\\\\\":0,\\\\\"AUD_SEQ_ID\\\\\":0,\\\\\"AUD_ACTIVE_FLAG\\\\\":0,\\\\\"AUD_DIRECTORY\\\\\":0,\\\\\"AUD_FILENAME\\\\\":0,\\\\\"EffectiveFromDate\\\\\":0,\\\\\"EffectiveToDate\\\\\":45345,\\\\\"UNIQUE_ENTITY_ID\\\\\":0,\\\\\"BLANK_DEPRECATED\\\\\":45345,\\\\\"ENTITY_EFT_INDICATOR\\\\\":44906,\\\\\"CAGE_CODE\\\\\":4077,\\\\\"DODAAC\\\\\":45314,\\\\\"SAM_EXTRACT_CODE\\\\\":0,\\\\\"PURPOSE_OF_REGISTRATION\\\\\":0,\\\\\"INITIAL_REGISTRATION_DATE\\\\\":0,\\\\\"REGISTRATION_EXPIRATION_DATE\\\\\":0,\\\\\"LAST_UPDATE_DATE\\\\\":0,\\\\\"ACTIVATION_DATE\\\\\":0,\\\\\"LEGAL_BUSINESS_NAME\\\\\":0,\\\\\"DBA_NAME\\\\\":35669,\\\\\"ENTITY_DIVISION_NAME\\\\\":33488,\\\\\"ENTITY_DIVISION_NUMBER\\\\\":42489,\\\\\"PHYSICAL_ADDRESS_LINE_1\\\\\":1,\\\\\"PHYSICAL_ADDRESS_LINE_2\\\\\":41144,\\\\\"PHYSICAL_ADDRESS_CITY\\\\\":0,\\\\\"PHYSICAL_ADDRESS_PROVINCE_OR_STATE\\\\\":1754,\\\\\"PHYSICAL_ADDRESS_ZIP/POSTAL_CODE\\\\\":810,\\\\\"PHYSICAL_ADDRESS_ZIP_CODE_4\\\\\":3347,\\\\\"PHYSICAL_ADDRESS_COUNTRY_CODE\\\\\":0,\\\\\"PHYSICAL_ADDRESS_CONGRESSIONAL_DISTRICT\\\\\":2128,\\\\\"D&B_OPEN_DATA_FLAG\\\\\":45345}}\",\"tags\":{}}}',\n",
              " '{\"add\":{\"path\":\"PARTITION_KEY=J/part-00010-da36311b-809d-4ce3-8460-d59a4a820c4d.c000.snappy.parquet\",\"partitionValues\":{\"PARTITION_KEY\":\"J\"},\"size\":17123868,\"modificationTime\":1749694115293,\"dataChange\":true,\"stats\":\"{\\\\\"numRecords\\\\\":47602,\\\\\"minValues\\\\\":{\\\\\"entityKey\\\\\":\\\\\"J112LSMPZGF532GE5\\\\\",\\\\\"AUD_HASH_CODE\\\\\":\\\\\"00009c7a20ddfa1e5723e28cb2622a96\\\\\",\\\\\"AUD_SEQ_ID\\\\\":261511,\\\\\"AUD_ACTIVE_FLAG\\\\\":\\\\\"Y\\\\\",\\\\\"AUD_DIRECTORY\\\\\":\\\\\"abfss://bronze@staaz01synpilot.d\\\\\",\\\\\"AUD_FILENAME\\\\\":\\\\\"SAM_PUBLIC_MONTHLY_V2_20241103.d\\\\\",\\\\\"EffectiveFromDate\\\\\":\\\\\"2024-11-03\\\\\",\\\\\"UNIQUE_ENTITY_ID\\\\\":\\\\\"J112LSMPZGF5\\\\\",\\\\\"ENTITY_EFT_INDICATOR\\\\\":\\\\\"0001\\\\\",\\\\\"CAGE_CODE\\\\\":\\\\\"001G2\\\\\",\\\\\"DODAAC\\\\\":\\\\\"DOD960444\\\\\",\\\\\"SAM_EXTRACT_CODE\\\\\":\\\\\"A\\\\\",\\\\\"PURPOSE_OF_REGISTRATION\\\\\":\\\\\"Z1\\\\\",\\\\\"INITIAL_REGISTRATION_DATE\\\\\":\\\\\"1968-01-23\\\\\",\\\\\"REGISTRATION_EXPIRATION_DATE\\\\\":\\\\\"20240504\\\\\",\\\\\"LAST_UPDATE_DATE\\\\\":\\\\\"20231105\\\\\",\\\\\"ACTIVATION_DATE\\\\\":\\\\\"20200505\\\\\",\\\\\"LEGAL_BUSINESS_NAME\\\\\":\\\\\"\\\\\\\\\\\\\"CONSULTING CENTER \\\\\\\\\\\\\"LEX\\\\\\\\\\\\\" CORPORA\\\\\",\\\\\"DBA_NAME\\\\\":\\\\\"(BLANK)\\\\\",\\\\\"ENTITY_DIVISION_NAME\\\\\":\\\\\"--NONE--\\\\\",\\\\\"ENTITY_DIVISION_NUMBER\\\\\":\\\\\"#3\\\\\",\\\\\"PHYSICAL_ADDRESS_LINE_1\\\\\":\\\\\"#100 RAFAEL CORDERO LOCAL 14- PL\\\\\",\\\\\"PHYSICAL_ADDRESS_LINE_2\\\\\":\\\\\"# 100\\\\\",\\\\\"PHYSICAL_ADDRESS_CITY\\\\\":\\\\\"\\'S-GRAVENHAGE\\\\\",\\\\\"PHYSICAL_ADDRESS_PROVINCE_OR_STATE\\\\\":\\\\\"41\\\\\",\\\\\"PHYSICAL_ADDRESS_ZIP/POSTAL_CODE\\\\\":\\\\\"-1829CM\\\\\",\\\\\"PHYSICAL_ADDRESS_ZIP_CODE_4\\\\\":\\\\\"0000\\\\\",\\\\\"PHYSICAL_ADDRESS_COUNTRY_CODE\\\\\":\\\\\"AFG\\\\\",\\\\\"PHYSICAL_ADDRESS_CONGRESSIONAL_DISTRICT\\\\\":\\\\\"00\\\\\"},\\\\\"maxValues\\\\\":{\\\\\"entityKey\\\\\":\\\\\"JZZYTPJLTUF79SUE1\\\\\",\\\\\"AUD_HASH_CODE\\\\\":\\\\\"ffff145897663145da990451b777bb20\\x7f\\\\\",\\\\\"AUD_SEQ_ID\\\\\":309112,\\\\\"AUD_ACTIVE_FLAG\\\\\":\\\\\"Y\\\\\",\\\\\"AUD_DIRECTORY\\\\\":\\\\\"abfss://bronze@staaz01synpilot.d\\x7f\\\\\",\\\\\"AUD_FILENAME\\\\\":\\\\\"SAM_PUBLIC_MONTHLY_V2_20241103.d\\x7f\\\\\",\\\\\"EffectiveFromDate\\\\\":\\\\\"2024-11-03\\\\\",\\\\\"UNIQUE_ENTITY_ID\\\\\":\\\\\"JZZYTPJLTUF7\\\\\",\\\\\"ENTITY_EFT_INDICATOR\\\\\":\\\\\"YX87\\\\\",\\\\\"CAGE_CODE\\\\\":\\\\\"ZW725\\\\\",\\\\\"DODAAC\\\\\":\\\\\"DODW912PP\\\\\",\\\\\"SAM_EXTRACT_CODE\\\\\":\\\\\"E\\\\\",\\\\\"PURPOSE_OF_REGISTRATION\\\\\":\\\\\"Z5\\\\\",\\\\\"INITIAL_REGISTRATION_DATE\\\\\":\\\\\"2024-10-31\\\\\",\\\\\"REGISTRATION_EXPIRATION_DATE\\\\\":\\\\\"20260930\\\\\",\\\\\"LAST_UPDATE_DATE\\\\\":\\\\\"20241103\\\\\",\\\\\"ACTIVATION_DATE\\\\\":\\\\\"20241102\\\\\",\\\\\"LEGAL_BUSINESS_NAME\\\\\":\\\\\"ZZZZ REALTY LLC\\\\\",\\\\\"DBA_NAME\\\\\":\\\\\"ZYSCOVICH INC\\\\\",\\\\\"ENTITY_DIVISION_NAME\\\\\":\\\\\"ZWANTS SUPPLIES INC\\\\\",\\\\\"ENTITY_DIVISION_NUMBER\\\\\":\\\\\"ZWANTS SUP\\\\\",\\\\\"PHYSICAL_ADDRESS_LINE_1\\\\\":\\\\\"[\\'WWW.SPRINGBOARDBIODIESEL.COM\\',\\x7f\\\\\",\\\\\"PHYSICAL_ADDRESS_LINE_2\\\\\":\\\\\"ZONA 4\\\\\",\\\\\"PHYSICAL_ADDRESS_CITY\\\\\":\\\\\"ZWEVEGEM\\\\\",\\\\\"PHYSICAL_ADDRESS_PROVINCE_OR_STATE\\\\\":\\\\\"ZH\\\\\",\\\\\"PHYSICAL_ADDRESS_ZIP/POSTAL_CODE\\\\\":\\\\\"WD18 7LQ\\\\\",\\\\\"PHYSICAL_ADDRESS_ZIP_CODE_4\\\\\":\\\\\"9998\\\\\",\\\\\"PHYSICAL_ADDRESS_COUNTRY_CODE\\\\\":\\\\\"ZWE\\\\\",\\\\\"PHYSICAL_ADDRESS_CONGRESSIONAL_DISTRICT\\\\\":\\\\\"98\\\\\"},\\\\\"nullCount\\\\\":{\\\\\"entityKey\\\\\":0,\\\\\"AUD_HASH_CODE\\\\\":0,\\\\\"AUD_SEQ_ID\\\\\":0,\\\\\"AUD_ACTIVE_FLAG\\\\\":0,\\\\\"AUD_DIRECTORY\\\\\":0,\\\\\"AUD_FILENAME\\\\\":0,\\\\\"EffectiveFromDate\\\\\":0,\\\\\"EffectiveToDate\\\\\":47602,\\\\\"UNIQUE_ENTITY_ID\\\\\":0,\\\\\"BLANK_DEPRECATED\\\\\":47602,\\\\\"ENTITY_EFT_INDICATOR\\\\\":47165,\\\\\"CAGE_CODE\\\\\":4082,\\\\\"DODAAC\\\\\":47573,\\\\\"SAM_EXTRACT_CODE\\\\\":0,\\\\\"PURPOSE_OF_REGISTRATION\\\\\":0,\\\\\"INITIAL_REGISTRATION_DATE\\\\\":0,\\\\\"REGISTRATION_EXPIRATION_DATE\\\\\":0,\\\\\"LAST_UPDATE_DATE\\\\\":0,\\\\\"ACTIVATION_DATE\\\\\":0,\\\\\"LEGAL_BUSINESS_NAME\\\\\":0,\\\\\"DBA_NAME\\\\\":37378,\\\\\"ENTITY_DIVISION_NAME\\\\\":35238,\\\\\"ENTITY_DIVISION_NUMBER\\\\\":44603,\\\\\"PHYSICAL_ADDRESS_LINE_1\\\\\":0,\\\\\"PHYSICAL_ADDRESS_LINE_2\\\\\":43134,\\\\\"PHYSICAL_ADDRESS_CITY\\\\\":0,\\\\\"PHYSICAL_ADDRESS_PROVINCE_OR_STATE\\\\\":1796,\\\\\"PHYSICAL_ADDRESS_ZIP/POSTAL_CODE\\\\\":802,\\\\\"PHYSICAL_ADDRESS_ZIP_CODE_4\\\\\":3536,\\\\\"PHYSICAL_ADDRESS_COUNTRY_CODE\\\\\":0,\\\\\"PHYSICAL_ADDRESS_CONGRESSIONAL_DISTRICT\\\\\":2140,\\\\\"D&B_OPEN_DATA_FLAG\\\\\":47602}}\",\"tags\":{}}}',\n",
              " '{\"add\":{\"path\":\"PARTITION_KEY=Z/part-00011-7e88bce2-92f0-47e6-9954-77630c4d15af.c000.snappy.parquet\",\"partitionValues\":{\"PARTITION_KEY\":\"Z\"},\"size\":11425619,\"modificationTime\":1749694115247,\"dataChange\":true,\"stats\":\"{\\\\\"numRecords\\\\\":31697,\\\\\"minValues\\\\\":{\\\\\"entityKey\\\\\":\\\\\"Z111N569HPU79SBY3\\\\\",\\\\\"AUD_HASH_CODE\\\\\":\\\\\"000327c8bf4517484a522605c9736fb8\\\\\",\\\\\"AUD_SEQ_ID\\\\\":816843,\\\\\"AUD_ACTIVE_FLAG\\\\\":\\\\\"Y\\\\\",\\\\\"AUD_DIRECTORY\\\\\":\\\\\"abfss://bronze@staaz01synpilot.d\\\\\",\\\\\"AUD_FILENAME\\\\\":\\\\\"SAM_PUBLIC_MONTHLY_V2_20241103.d\\\\\",\\\\\"EffectiveFromDate\\\\\":\\\\\"2024-11-03\\\\\",\\\\\"UNIQUE_ENTITY_ID\\\\\":\\\\\"Z111N569HPU7\\\\\",\\\\\"ENTITY_EFT_INDICATOR\\\\\":\\\\\"0001\\\\\",\\\\\"CAGE_CODE\\\\\":\\\\\"00198\\\\\",\\\\\"DODAAC\\\\\":\\\\\"DOD75RA00\\\\\",\\\\\"SAM_EXTRACT_CODE\\\\\":\\\\\"A\\\\\",\\\\\"PURPOSE_OF_REGISTRATION\\\\\":\\\\\"Z1\\\\\",\\\\\"INITIAL_REGISTRATION_DATE\\\\\":\\\\\"1997-05-12\\\\\",\\\\\"REGISTRATION_EXPIRATION_DATE\\\\\":\\\\\"20240504\\\\\",\\\\\"LAST_UPDATE_DATE\\\\\":\\\\\"20231107\\\\\",\\\\\"ACTIVATION_DATE\\\\\":\\\\\"20200805\\\\\",\\\\\"LEGAL_BUSINESS_NAME\\\\\":\\\\\"\\\\\\\\\\\\\"ALYS\\\\\\\\\\\\\" ALWAYS LOVE YOURSELF LLC\\\\\",\\\\\"DBA_NAME\\\\\":\\\\\"\\\\\\\\\\\\\"3D ENGINEERING SOLUTIONS, LLC\\\\\\\\\\\\\"\\\\\",\\\\\"ENTITY_DIVISION_NAME\\\\\":\\\\\"\\\\\\\\\\\\\"GOK KENAR\\\\\\\\\\\\\" INDIVIDUAL ENTERPRIS\\\\\",\\\\\"ENTITY_DIVISION_NUMBER\\\\\":\\\\\"\\\\\\\\\\\\\"NONE\\\\\\\\\\\\\"\\\\\",\\\\\"PHYSICAL_ADDRESS_LINE_1\\\\\":\\\\\"#16, STREET 440, SANGKAT BOEUNG \\\\\",\\\\\"PHYSICAL_ADDRESS_LINE_2\\\\\":\\\\\"# 1\\\\\",\\\\\"PHYSICAL_ADDRESS_CITY\\\\\":\\\\\"\\'S-GRAVENHAGE\\\\\",\\\\\"PHYSICAL_ADDRESS_PROVINCE_OR_STATE\\\\\":\\\\\"AB\\\\\",\\\\\"PHYSICAL_ADDRESS_ZIP/POSTAL_CODE\\\\\":\\\\\"0\\\\\",\\\\\"PHYSICAL_ADDRESS_ZIP_CODE_4\\\\\":\\\\\"0000\\\\\",\\\\\"PHYSICAL_ADDRESS_COUNTRY_CODE\\\\\":\\\\\"AFG\\\\\",\\\\\"PHYSICAL_ADDRESS_CONGRESSIONAL_DISTRICT\\\\\":\\\\\"00\\\\\"},\\\\\"maxValues\\\\\":{\\\\\"entityKey\\\\\":\\\\\"ZZZYX351UYF29QHS5\\\\\",\\\\\"AUD_HASH_CODE\\\\\":\\\\\"fffffcd19131eb1a82d97dd47b074e3b\\x7f\\\\\",\\\\\"AUD_SEQ_ID\\\\\":848539,\\\\\"AUD_ACTIVE_FLAG\\\\\":\\\\\"Y\\\\\",\\\\\"AUD_DIRECTORY\\\\\":\\\\\"abfss://bronze@staaz01synpilot.d\\x7f\\\\\",\\\\\"AUD_FILENAME\\\\\":\\\\\"SAM_PUBLIC_MONTHLY_V2_20241103.d\\x7f\\\\\",\\\\\"EffectiveFromDate\\\\\":\\\\\"2024-11-03\\\\\",\\\\\"UNIQUE_ENTITY_ID\\\\\":\\\\\"ZZZYX351UYF2\\\\\",\\\\\"ENTITY_EFT_INDICATOR\\\\\":\\\\\"ZN3C\\\\\",\\\\\"CAGE_CODE\\\\\":\\\\\"ZBA82\\\\\",\\\\\"DODAAC\\\\\":\\\\\"DODW91S83\\\\\",\\\\\"SAM_EXTRACT_CODE\\\\\":\\\\\"E\\\\\",\\\\\"PURPOSE_OF_REGISTRATION\\\\\":\\\\\"Z3\\\\\",\\\\\"INITIAL_REGISTRATION_DATE\\\\\":\\\\\"2024-10-30\\\\\",\\\\\"REGISTRATION_EXPIRATION_DATE\\\\\":\\\\\"20260930\\\\\",\\\\\"LAST_UPDATE_DATE\\\\\":\\\\\"20241103\\\\\",\\\\\"ACTIVATION_DATE\\\\\":\\\\\"20241102\\\\\",\\\\\"LEGAL_BUSINESS_NAME\\\\\":\\\\\"ZZEM SCREW INC.\\\\\",\\\\\"DBA_NAME\\\\\":\\\\\"ZYZZYVA INC\\\\\",\\\\\"ENTITY_DIVISION_NAME\\\\\":\\\\\"ZYAA INSTALLATION\\\\\",\\\\\"ENTITY_DIVISION_NUMBER\\\\\":\\\\\"`\\\\\",\\\\\"PHYSICAL_ADDRESS_LINE_1\\\\\":\\\\\"ZYMVRAKAKIDON & MARIAKAKI\\\\\",\\\\\"PHYSICAL_ADDRESS_LINE_2\\\\\":\\\\\"ZONE NO. 25\\\\\",\\\\\"PHYSICAL_ADDRESS_CITY\\\\\":\\\\\"ZWOLLE\\\\\",\\\\\"PHYSICAL_ADDRESS_PROVINCE_OR_STATE\\\\\":\\\\\"ZHEJIANG\\\\\",\\\\\"PHYSICAL_ADDRESS_ZIP/POSTAL_CODE\\\\\":\\\\\"X5016GCA\\\\\",\\\\\"PHYSICAL_ADDRESS_ZIP_CODE_4\\\\\":\\\\\"9999\\\\\",\\\\\"PHYSICAL_ADDRESS_COUNTRY_CODE\\\\\":\\\\\"ZWE\\\\\",\\\\\"PHYSICAL_ADDRESS_CONGRESSIONAL_DISTRICT\\\\\":\\\\\"98\\\\\"},\\\\\"nullCount\\\\\":{\\\\\"entityKey\\\\\":0,\\\\\"AUD_HASH_CODE\\\\\":0,\\\\\"AUD_SEQ_ID\\\\\":0,\\\\\"AUD_ACTIVE_FLAG\\\\\":0,\\\\\"AUD_DIRECTORY\\\\\":0,\\\\\"AUD_FILENAME\\\\\":0,\\\\\"EffectiveFromDate\\\\\":0,\\\\\"EffectiveToDate\\\\\":31697,\\\\\"UNIQUE_ENTITY_ID\\\\\":0,\\\\\"BLANK_DEPRECATED\\\\\":31697,\\\\\"ENTITY_EFT_INDICATOR\\\\\":31454,\\\\\"CAGE_CODE\\\\\":3932,\\\\\"DODAAC\\\\\":31678,\\\\\"SAM_EXTRACT_CODE\\\\\":0,\\\\\"PURPOSE_OF_REGISTRATION\\\\\":0,\\\\\"INITIAL_REGISTRATION_DATE\\\\\":0,\\\\\"REGISTRATION_EXPIRATION_DATE\\\\\":0,\\\\\"LAST_UPDATE_DATE\\\\\":0,\\\\\"ACTIVATION_DATE\\\\\":0,\\\\\"LEGAL_BUSINESS_NAME\\\\\":0,\\\\\"DBA_NAME\\\\\":25403,\\\\\"ENTITY_DIVISION_NAME\\\\\":23650,\\\\\"ENTITY_DIVISION_NUMBER\\\\\":29959,\\\\\"PHYSICAL_ADDRESS_LINE_1\\\\\":0,\\\\\"PHYSICAL_ADDRESS_LINE_2\\\\\":28930,\\\\\"PHYSICAL_ADDRESS_CITY\\\\\":0,\\\\\"PHYSICAL_ADDRESS_PROVINCE_OR_STATE\\\\\":1344,\\\\\"PHYSICAL_ADDRESS_ZIP/POSTAL_CODE\\\\\":600,\\\\\"PHYSICAL_ADDRESS_ZIP_CODE_4\\\\\":2470,\\\\\"PHYSICAL_ADDRESS_COUNTRY_CODE\\\\\":0,\\\\\"PHYSICAL_ADDRESS_CONGRESSIONAL_DISTRICT\\\\\":1583,\\\\\"D&B_OPEN_DATA_FLAG\\\\\":31697}}\",\"tags\":{}}}',\n",
              " '{\"add\":{\"path\":\"PARTITION_KEY=N/part-00012-fb475a22-64d0-4fc1-8aa4-6819b49aa64f.c000.snappy.parquet\",\"partitionValues\":{\"PARTITION_KEY\":\"N\"},\"size\":16859427,\"modificationTime\":1749694115207,\"dataChange\":true,\"stats\":\"{\\\\\"numRecords\\\\\":46956,\\\\\"minValues\\\\\":{\\\\\"entityKey\\\\\":\\\\\"N111KY3779Y77MVQ2\\\\\",\\\\\"AUD_HASH_CODE\\\\\":\\\\\"0000743167c0f6ead6132253f2a52eeb\\\\\",\\\\\"AUD_SEQ_ID\\\\\":450292,\\\\\"AUD_ACTIVE_FLAG\\\\\":\\\\\"Y\\\\\",\\\\\"AUD_DIRECTORY\\\\\":\\\\\"abfss://bronze@staaz01synpilot.d\\\\\",\\\\\"AUD_FILENAME\\\\\":\\\\\"SAM_PUBLIC_MONTHLY_V2_20241103.d\\\\\",\\\\\"EffectiveFromDate\\\\\":\\\\\"2024-11-03\\\\\",\\\\\"UNIQUE_ENTITY_ID\\\\\":\\\\\"N111KY3779Y7\\\\\",\\\\\"ENTITY_EFT_INDICATOR\\\\\":\\\\\"0001\\\\\",\\\\\"CAGE_CODE\\\\\":\\\\\"001Z0\\\\\",\\\\\"DODAAC\\\\\":\\\\\"DOD964224\\\\\",\\\\\"SAM_EXTRACT_CODE\\\\\":\\\\\"A\\\\\",\\\\\"PURPOSE_OF_REGISTRATION\\\\\":\\\\\"Z1\\\\\",\\\\\"INITIAL_REGISTRATION_DATE\\\\\":\\\\\"1997-04-29\\\\\",\\\\\"REGISTRATION_EXPIRATION_DATE\\\\\":\\\\\"20240504\\\\\",\\\\\"LAST_UPDATE_DATE\\\\\":\\\\\"20231106\\\\\",\\\\\"ACTIVATION_DATE\\\\\":\\\\\"20200515\\\\\",\\\\\"LEGAL_BUSINESS_NAME\\\\\":\\\\\"!YOUTHWORKS!\\\\\",\\\\\"DBA_NAME\\\\\":\\\\\"#IOMATTERZ\\\\\",\\\\\"ENTITY_DIVISION_NAME\\\\\":\\\\\"\\\\\\\\\\\\\"THE GARDENS\\\\\\\\\\\\\" @ GLENVILE LAKE LL\\\\\",\\\\\"ENTITY_DIVISION_NUMBER\\\\\":\\\\\"\\\\\\\\\\\\\"THE GARDE\\\\\",\\\\\"PHYSICAL_ADDRESS_LINE_1\\\\\":\\\\\"# 1 B HUMBUG\\\\\",\\\\\"PHYSICAL_ADDRESS_LINE_2\\\\\":\\\\\"# 100\\\\\",\\\\\"PHYSICAL_ADDRESS_CITY\\\\\":\\\\\"\\'S-GRAVENHAGE\\\\\",\\\\\"PHYSICAL_ADDRESS_PROVINCE_OR_STATE\\\\\":\\\\\"AB\\\\\",\\\\\"PHYSICAL_ADDRESS_ZIP/POSTAL_CODE\\\\\":\\\\\"00-540\\\\\",\\\\\"PHYSICAL_ADDRESS_ZIP_CODE_4\\\\\":\\\\\"0000\\\\\",\\\\\"PHYSICAL_ADDRESS_COUNTRY_CODE\\\\\":\\\\\"AFG\\\\\",\\\\\"PHYSICAL_ADDRESS_CONGRESSIONAL_DISTRICT\\\\\":\\\\\"00\\\\\"},\\\\\"maxValues\\\\\":{\\\\\"entityKey\\\\\":\\\\\"NZZZCM9BSHS86BGT4\\\\\",\\\\\"AUD_HASH_CODE\\\\\":\\\\\"fffe5552c70f4f6450c90fc57d4b5812\\x7f\\\\\",\\\\\"AUD_SEQ_ID\\\\\":497247,\\\\\"AUD_ACTIVE_FLAG\\\\\":\\\\\"Y\\\\\",\\\\\"AUD_DIRECTORY\\\\\":\\\\\"abfss://bronze@staaz01synpilot.d\\x7f\\\\\",\\\\\"AUD_FILENAME\\\\\":\\\\\"SAM_PUBLIC_MONTHLY_V2_20241103.d\\x7f\\\\\",\\\\\"EffectiveFromDate\\\\\":\\\\\"2024-11-03\\\\\",\\\\\"UNIQUE_ENTITY_ID\\\\\":\\\\\"NZZZCM9BSHS8\\\\\",\\\\\"ENTITY_EFT_INDICATOR\\\\\":\\\\\"XRS1\\\\\",\\\\\"CAGE_CODE\\\\\":\\\\\"Z8T75\\\\\",\\\\\"DODAAC\\\\\":\\\\\"DODW90ZQ2\\\\\",\\\\\"SAM_EXTRACT_CODE\\\\\":\\\\\"E\\\\\",\\\\\"PURPOSE_OF_REGISTRATION\\\\\":\\\\\"Z5\\\\\",\\\\\"INITIAL_REGISTRATION_DATE\\\\\":\\\\\"2024-10-31\\\\\",\\\\\"REGISTRATION_EXPIRATION_DATE\\\\\":\\\\\"20260930\\\\\",\\\\\"LAST_UPDATE_DATE\\\\\":\\\\\"20241103\\\\\",\\\\\"ACTIVATION_DATE\\\\\":\\\\\"20241102\\\\\",\\\\\"LEGAL_BUSINESS_NAME\\\\\":\\\\\"ZYWIECKA FUNDACJA ROZWOJU\\\\\",\\\\\"DBA_NAME\\\\\":\\\\\"ZURI PRODUCTIONS LLC\\\\\",\\\\\"ENTITY_DIVISION_NAME\\\\\":\\\\\"ZYNEX MEDICAL, INC.\\\\\",\\\\\"ENTITY_DIVISION_NUMBER\\\\\":\\\\\"ZN CONSTRU\\\\\",\\\\\"PHYSICAL_ADDRESS_LINE_1\\\\\":\\\\\"[\\'WWW.ROYSTERGROUP.COM\\', \\'ROYSTE\\x7f\\\\\",\\\\\"PHYSICAL_ADDRESS_LINE_2\\\\\":\\\\\"ZONE INDUSTRIELLE EN FACE DE BEN\\x7f\\\\\",\\\\\"PHYSICAL_ADDRESS_CITY\\\\\":\\\\\"ZYWIEC\\\\\",\\\\\"PHYSICAL_ADDRESS_PROVINCE_OR_STATE\\\\\":\\\\\"ZH\\\\\",\\\\\"PHYSICAL_ADDRESS_ZIP/POSTAL_CODE\\\\\":\\\\\"YO32 9PT\\\\\",\\\\\"PHYSICAL_ADDRESS_ZIP_CODE_4\\\\\":\\\\\"9999\\\\\",\\\\\"PHYSICAL_ADDRESS_COUNTRY_CODE\\\\\":\\\\\"ZWE\\\\\",\\\\\"PHYSICAL_ADDRESS_CONGRESSIONAL_DISTRICT\\\\\":\\\\\"98\\\\\"},\\\\\"nullCount\\\\\":{\\\\\"entityKey\\\\\":0,\\\\\"AUD_HASH_CODE\\\\\":0,\\\\\"AUD_SEQ_ID\\\\\":0,\\\\\"AUD_ACTIVE_FLAG\\\\\":0,\\\\\"AUD_DIRECTORY\\\\\":0,\\\\\"AUD_FILENAME\\\\\":0,\\\\\"EffectiveFromDate\\\\\":0,\\\\\"EffectiveToDate\\\\\":46956,\\\\\"UNIQUE_ENTITY_ID\\\\\":0,\\\\\"BLANK_DEPRECATED\\\\\":46956,\\\\\"ENTITY_EFT_INDICATOR\\\\\":46496,\\\\\"CAGE_CODE\\\\\":4149,\\\\\"DODAAC\\\\\":46927,\\\\\"SAM_EXTRACT_CODE\\\\\":0,\\\\\"PURPOSE_OF_REGISTRATION\\\\\":0,\\\\\"INITIAL_REGISTRATION_DATE\\\\\":0,\\\\\"REGISTRATION_EXPIRATION_DATE\\\\\":0,\\\\\"LAST_UPDATE_DATE\\\\\":0,\\\\\"ACTIVATION_DATE\\\\\":0,\\\\\"LEGAL_BUSINESS_NAME\\\\\":0,\\\\\"DBA_NAME\\\\\":36818,\\\\\"ENTITY_DIVISION_NAME\\\\\":34725,\\\\\"ENTITY_DIVISION_NUMBER\\\\\":43979,\\\\\"PHYSICAL_ADDRESS_LINE_1\\\\\":0,\\\\\"PHYSICAL_ADDRESS_LINE_2\\\\\":42686,\\\\\"PHYSICAL_ADDRESS_CITY\\\\\":0,\\\\\"PHYSICAL_ADDRESS_PROVINCE_OR_STATE\\\\\":1786,\\\\\"PHYSICAL_ADDRESS_ZIP/POSTAL_CODE\\\\\":784,\\\\\"PHYSICAL_ADDRESS_ZIP_CODE_4\\\\\":3535,\\\\\"PHYSICAL_ADDRESS_COUNTRY_CODE\\\\\":0,\\\\\"PHYSICAL_ADDRESS_CONGRESSIONAL_DISTRICT\\\\\":2172,\\\\\"D&B_OPEN_DATA_FLAG\\\\\":46956}}\",\"tags\":{}}}',\n",
              " '{\"add\":{\"path\":\"PARTITION_KEY=X/part-00013-0e3c50b9-acde-4d25-8b90-4b1c73df4fb9.c000.snappy.parquet\",\"partitionValues\":{\"PARTITION_KEY\":\"X\"},\"size\":11520172,\"modificationTime\":1749694115232,\"dataChange\":true,\"stats\":\"{\\\\\"numRecords\\\\\":32116,\\\\\"minValues\\\\\":{\\\\\"entityKey\\\\\":\\\\\"X112QZ81SJU5\\\\\",\\\\\"AUD_HASH_CODE\\\\\":\\\\\"00055de61643b9223faa38eecee6d352\\\\\",\\\\\"AUD_SEQ_ID\\\\\":752681,\\\\\"AUD_ACTIVE_FLAG\\\\\":\\\\\"Y\\\\\",\\\\\"AUD_DIRECTORY\\\\\":\\\\\"abfss://bronze@staaz01synpilot.d\\\\\",\\\\\"AUD_FILENAME\\\\\":\\\\\"SAM_PUBLIC_MONTHLY_V2_20241103.d\\\\\",\\\\\"EffectiveFromDate\\\\\":\\\\\"2024-11-03\\\\\",\\\\\"UNIQUE_ENTITY_ID\\\\\":\\\\\"X112QZ81SJU5\\\\\",\\\\\"ENTITY_EFT_INDICATOR\\\\\":\\\\\"0001\\\\\",\\\\\"CAGE_CODE\\\\\":\\\\\"00027\\\\\",\\\\\"DODAAC\\\\\":\\\\\"DOD75H722\\\\\",\\\\\"SAM_EXTRACT_CODE\\\\\":\\\\\"A\\\\\",\\\\\"PURPOSE_OF_REGISTRATION\\\\\":\\\\\"Z1\\\\\",\\\\\"INITIAL_REGISTRATION_DATE\\\\\":\\\\\"1997-04-29\\\\\",\\\\\"REGISTRATION_EXPIRATION_DATE\\\\\":\\\\\"20240504\\\\\",\\\\\"LAST_UPDATE_DATE\\\\\":\\\\\"20231107\\\\\",\\\\\"ACTIVATION_DATE\\\\\":\\\\\"20200723\\\\\",\\\\\"LEGAL_BUSINESS_NAME\\\\\":\\\\\"\\\\\\\\\\\\\" HALL\\'S PUMP & WELL, INC.\\\\\\\\\\\\\"\\\\\",\\\\\"DBA_NAME\\\\\":\\\\\"-W WELDING\\\\\",\\\\\"ENTITY_DIVISION_NAME\\\\\":\\\\\"\\\\\\\\\\\\\"\\\\\\\\\\\\\"YOUNG EDUCATORS\\\\\\\\\\\\\"\\\\\\\\\\\\\" EDUCATIONAL \\\\\",\\\\\"ENTITY_DIVISION_NUMBER\\\\\":\\\\\"--\\\\\",\\\\\"PHYSICAL_ADDRESS_LINE_1\\\\\":\\\\\"#1 SPANIOL STRAEDE, 2ND FLOOR, S\\\\\",\\\\\"PHYSICAL_ADDRESS_LINE_2\\\\\":\\\\\"# 100\\\\\",\\\\\"PHYSICAL_ADDRESS_CITY\\\\\":\\\\\"AAMMAN\\\\\",\\\\\"PHYSICAL_ADDRESS_PROVINCE_OR_STATE\\\\\":\\\\\"03-936\\\\\",\\\\\"PHYSICAL_ADDRESS_ZIP/POSTAL_CODE\\\\\":\\\\\"00-028\\\\\",\\\\\"PHYSICAL_ADDRESS_ZIP_CODE_4\\\\\":\\\\\"0000\\\\\",\\\\\"PHYSICAL_ADDRESS_COUNTRY_CODE\\\\\":\\\\\"AFG\\\\\",\\\\\"PHYSICAL_ADDRESS_CONGRESSIONAL_DISTRICT\\\\\":\\\\\"00\\\\\"},\\\\\"maxValues\\\\\":{\\\\\"entityKey\\\\\":\\\\\"XZZXP7CLMM47\\\\\",\\\\\"AUD_HASH_CODE\\\\\":\\\\\"fffd61f842668b8b40bb0a15d9b135b2\\x7f\\\\\",\\\\\"AUD_SEQ_ID\\\\\":784796,\\\\\"AUD_ACTIVE_FLAG\\\\\":\\\\\"Y\\\\\",\\\\\"AUD_DIRECTORY\\\\\":\\\\\"abfss://bronze@staaz01synpilot.d\\x7f\\\\\",\\\\\"AUD_FILENAME\\\\\":\\\\\"SAM_PUBLIC_MONTHLY_V2_20241103.d\\x7f\\\\\",\\\\\"EffectiveFromDate\\\\\":\\\\\"2024-11-03\\\\\",\\\\\"UNIQUE_ENTITY_ID\\\\\":\\\\\"XZZXP7CLMM47\\\\\",\\\\\"ENTITY_EFT_INDICATOR\\\\\":\\\\\"XRS1\\\\\",\\\\\"CAGE_CODE\\\\\":\\\\\"Z4K93\\\\\",\\\\\"DODAAC\\\\\":\\\\\"DODW911AR\\\\\",\\\\\"SAM_EXTRACT_CODE\\\\\":\\\\\"E\\\\\",\\\\\"PURPOSE_OF_REGISTRATION\\\\\":\\\\\"Z5\\\\\",\\\\\"INITIAL_REGISTRATION_DATE\\\\\":\\\\\"2024-10-31\\\\\",\\\\\"REGISTRATION_EXPIRATION_DATE\\\\\":\\\\\"20260930\\\\\",\\\\\"LAST_UPDATE_DATE\\\\\":\\\\\"20241103\\\\\",\\\\\"ACTIVATION_DATE\\\\\":\\\\\"20241101\\\\\",\\\\\"LEGAL_BUSINESS_NAME\\\\\":\\\\\"ZZOUNDS MUSIC, L.L.C.\\\\\",\\\\\"DBA_NAME\\\\\":\\\\\"ZTL PARTNERS LLC\\\\\",\\\\\"ENTITY_DIVISION_NAME\\\\\":\\\\\"ZWEIGNIEDERLASSUNG WALLUF\\\\\",\\\\\"ENTITY_DIVISION_NUMBER\\\\\":\\\\\"ZQGD47R\\\\\",\\\\\"PHYSICAL_ADDRESS_LINE_1\\\\\":\\\\\"[\\'WWW.NOACSC.ORG\\', \\'WWW.SAINTSPE\\x7f\\\\\",\\\\\"PHYSICAL_ADDRESS_LINE_2\\\\\":\\\\\"ZONA INDUSTRIAL GUANAJIBO\\\\\",\\\\\"PHYSICAL_ADDRESS_CITY\\\\\":\\\\\"ZWINGLE\\\\\",\\\\\"PHYSICAL_ADDRESS_PROVINCE_OR_STATE\\\\\":\\\\\"ZH\\\\\",\\\\\"PHYSICAL_ADDRESS_ZIP/POSTAL_CODE\\\\\":\\\\\"WS15 1PW\\\\\",\\\\\"PHYSICAL_ADDRESS_ZIP_CODE_4\\\\\":\\\\\"9999\\\\\",\\\\\"PHYSICAL_ADDRESS_COUNTRY_CODE\\\\\":\\\\\"ZWE\\\\\",\\\\\"PHYSICAL_ADDRESS_CONGRESSIONAL_DISTRICT\\\\\":\\\\\"98\\\\\"},\\\\\"nullCount\\\\\":{\\\\\"entityKey\\\\\":0,\\\\\"AUD_HASH_CODE\\\\\":0,\\\\\"AUD_SEQ_ID\\\\\":0,\\\\\"AUD_ACTIVE_FLAG\\\\\":0,\\\\\"AUD_DIRECTORY\\\\\":0,\\\\\"AUD_FILENAME\\\\\":0,\\\\\"EffectiveFromDate\\\\\":0,\\\\\"EffectiveToDate\\\\\":32116,\\\\\"UNIQUE_ENTITY_ID\\\\\":0,\\\\\"BLANK_DEPRECATED\\\\\":32116,\\\\\"ENTITY_EFT_INDICATOR\\\\\":31842,\\\\\"CAGE_CODE\\\\\":3819,\\\\\"DODAAC\\\\\":32089,\\\\\"SAM_EXTRACT_CODE\\\\\":0,\\\\\"PURPOSE_OF_REGISTRATION\\\\\":0,\\\\\"INITIAL_REGISTRATION_DATE\\\\\":0,\\\\\"REGISTRATION_EXPIRATION_DATE\\\\\":0,\\\\\"LAST_UPDATE_DATE\\\\\":0,\\\\\"ACTIVATION_DATE\\\\\":0,\\\\\"LEGAL_BUSINESS_NAME\\\\\":0,\\\\\"DBA_NAME\\\\\":25682,\\\\\"ENTITY_DIVISION_NAME\\\\\":24061,\\\\\"ENTITY_DIVISION_NUMBER\\\\\":30419,\\\\\"PHYSICAL_ADDRESS_LINE_1\\\\\":0,\\\\\"PHYSICAL_ADDRESS_LINE_2\\\\\":29312,\\\\\"PHYSICAL_ADDRESS_CITY\\\\\":0,\\\\\"PHYSICAL_ADDRESS_PROVINCE_OR_STATE\\\\\":1332,\\\\\"PHYSICAL_ADDRESS_ZIP/POSTAL_CODE\\\\\":617,\\\\\"PHYSICAL_ADDRESS_ZIP_CODE_4\\\\\":2482,\\\\\"PHYSICAL_ADDRESS_COUNTRY_CODE\\\\\":0,\\\\\"PHYSICAL_ADDRESS_CONGRESSIONAL_DISTRICT\\\\\":1578,\\\\\"D&B_OPEN_DATA_FLAG\\\\\":32116}}\",\"tags\":{}}}',\n",
              " '{\"add\":{\"path\":\"PARTITION_KEY=W/part-00014-b0c4781e-ae23-4207-82de-e5a7edef2d95.c000.snappy.parquet\",\"partitionValues\":{\"PARTITION_KEY\":\"W\"},\"size\":11453788,\"modificationTime\":1749694115200,\"dataChange\":true,\"stats\":\"{\\\\\"numRecords\\\\\":31856,\\\\\"minValues\\\\\":{\\\\\"entityKey\\\\\":\\\\\"W111D93M8LF88N8M6\\\\\",\\\\\"AUD_HASH_CODE\\\\\":\\\\\"00004f1560af1bb99d77614e4c6b5953\\\\\",\\\\\"AUD_SEQ_ID\\\\\":720825,\\\\\"AUD_ACTIVE_FLAG\\\\\":\\\\\"Y\\\\\",\\\\\"AUD_DIRECTORY\\\\\":\\\\\"abfss://bronze@staaz01synpilot.d\\\\\",\\\\\"AUD_FILENAME\\\\\":\\\\\"SAM_PUBLIC_MONTHLY_V2_20241103.d\\\\\",\\\\\"EffectiveFromDate\\\\\":\\\\\"2024-11-03\\\\\",\\\\\"UNIQUE_ENTITY_ID\\\\\":\\\\\"W111D93M8LF8\\\\\",\\\\\"ENTITY_EFT_INDICATOR\\\\\":\\\\\"0001\\\\\",\\\\\"CAGE_CODE\\\\\":\\\\\"000X6\\\\\",\\\\\"DODAAC\\\\\":\\\\\"DOD961316\\\\\",\\\\\"SAM_EXTRACT_CODE\\\\\":\\\\\"A\\\\\",\\\\\"PURPOSE_OF_REGISTRATION\\\\\":\\\\\"Z1\\\\\",\\\\\"INITIAL_REGISTRATION_DATE\\\\\":\\\\\"1997-07-07\\\\\",\\\\\"REGISTRATION_EXPIRATION_DATE\\\\\":\\\\\"20240504\\\\\",\\\\\"LAST_UPDATE_DATE\\\\\":\\\\\"20231105\\\\\",\\\\\"ACTIVATION_DATE\\\\\":\\\\\"20200701\\\\\",\\\\\"LEGAL_BUSINESS_NAME\\\\\":\\\\\"\\\\\\\\\\\\\"FRESH START\\\\\\\\\\\\\" CGB (CAN\\'T GO BACK\\\\\",\\\\\"DBA_NAME\\\\\":\\\\\"\\\\\\\\\\\\\"AMERICAN FIRE EQUIPMENT A. DIV.\\\\\",\\\\\"ENTITY_DIVISION_NAME\\\\\":\\\\\"+\\\\\",\\\\\"ENTITY_DIVISION_NUMBER\\\\\":\\\\\"#07\\\\\",\\\\\"PHYSICAL_ADDRESS_LINE_1\\\\\":\\\\\"# 189 MARY\\'S FANCY\\\\\",\\\\\"PHYSICAL_ADDRESS_LINE_2\\\\\":\\\\\"# 100\\\\\",\\\\\"PHYSICAL_ADDRESS_CITY\\\\\":\\\\\"\\'S-GRAVENHAGE\\\\\",\\\\\"PHYSICAL_ADDRESS_PROVINCE_OR_STATE\\\\\":\\\\\"11\\\\\",\\\\\"PHYSICAL_ADDRESS_ZIP/POSTAL_CODE\\\\\":\\\\\"00-020\\\\\",\\\\\"PHYSICAL_ADDRESS_ZIP_CODE_4\\\\\":\\\\\"0000\\\\\",\\\\\"PHYSICAL_ADDRESS_COUNTRY_CODE\\\\\":\\\\\"AFG\\\\\",\\\\\"PHYSICAL_ADDRESS_CONGRESSIONAL_DISTRICT\\\\\":\\\\\"00\\\\\"},\\\\\"maxValues\\\\\":{\\\\\"entityKey\\\\\":\\\\\"WZZZR3A1M1S49KKP9\\\\\",\\\\\"AUD_HASH_CODE\\\\\":\\\\\"ffff0ed280b11fdfb6321e49294d8305\\x7f\\\\\",\\\\\"AUD_SEQ_ID\\\\\":752680,\\\\\"AUD_ACTIVE_FLAG\\\\\":\\\\\"Y\\\\\",\\\\\"AUD_DIRECTORY\\\\\":\\\\\"abfss://bronze@staaz01synpilot.d\\x7f\\\\\",\\\\\"AUD_FILENAME\\\\\":\\\\\"SAM_PUBLIC_MONTHLY_V2_20241103.d\\x7f\\\\\",\\\\\"EffectiveFromDate\\\\\":\\\\\"2024-11-03\\\\\",\\\\\"UNIQUE_ENTITY_ID\\\\\":\\\\\"WZZZR3A1M1S4\\\\\",\\\\\"ENTITY_EFT_INDICATOR\\\\\":\\\\\"WISE\\\\\",\\\\\"CAGE_CODE\\\\\":\\\\\"ZP630\\\\\",\\\\\"DODAAC\\\\\":\\\\\"DODW80DBZ\\\\\",\\\\\"SAM_EXTRACT_CODE\\\\\":\\\\\"E\\\\\",\\\\\"PURPOSE_OF_REGISTRATION\\\\\":\\\\\"Z5\\\\\",\\\\\"INITIAL_REGISTRATION_DATE\\\\\":\\\\\"2024-11-02\\\\\",\\\\\"REGISTRATION_EXPIRATION_DATE\\\\\":\\\\\"20260930\\\\\",\\\\\"LAST_UPDATE_DATE\\\\\":\\\\\"20241103\\\\\",\\\\\"ACTIVATION_DATE\\\\\":\\\\\"20241102\\\\\",\\\\\"LEGAL_BUSINESS_NAME\\\\\":\\\\\"ZYMBOLIC LLC\\\\\",\\\\\"DBA_NAME\\\\\":\\\\\"ZURICH INSTRUMENTS LTD\\\\\",\\\\\"ENTITY_DIVISION_NAME\\\\\":\\\\\"ZYMBOLIC LLC\\\\\",\\\\\"ENTITY_DIVISION_NUMBER\\\\\":\\\\\"ZYMBOLIC L\\\\\",\\\\\"PHYSICAL_ADDRESS_LINE_1\\\\\":\\\\\"[\\'WWW.HMI.ORG\\', \\'HMI.ORG\\']\\\\\",\\\\\"PHYSICAL_ADDRESS_LINE_2\\\\\":\\\\\"YOURS MANSION 1F-101\\\\\",\\\\\"PHYSICAL_ADDRESS_CITY\\\\\":\\\\\"ZURICH\\\\\",\\\\\"PHYSICAL_ADDRESS_PROVINCE_OR_STATE\\\\\":\\\\\"ZH\\\\\",\\\\\"PHYSICAL_ADDRESS_ZIP/POSTAL_CODE\\\\\":\\\\\"Z9402AKE\\\\\",\\\\\"PHYSICAL_ADDRESS_ZIP_CODE_4\\\\\":\\\\\"9998\\\\\",\\\\\"PHYSICAL_ADDRESS_COUNTRY_CODE\\\\\":\\\\\"ZWE\\\\\",\\\\\"PHYSICAL_ADDRESS_CONGRESSIONAL_DISTRICT\\\\\":\\\\\"98\\\\\"},\\\\\"nullCount\\\\\":{\\\\\"entityKey\\\\\":0,\\\\\"AUD_HASH_CODE\\\\\":0,\\\\\"AUD_SEQ_ID\\\\\":0,\\\\\"AUD_ACTIVE_FLAG\\\\\":0,\\\\\"AUD_DIRECTORY\\\\\":0,\\\\\"AUD_FILENAME\\\\\":0,\\\\\"EffectiveFromDate\\\\\":0,\\\\\"EffectiveToDate\\\\\":31856,\\\\\"UNIQUE_ENTITY_ID\\\\\":0,\\\\\"BLANK_DEPRECATED\\\\\":31856,\\\\\"ENTITY_EFT_INDICATOR\\\\\":31631,\\\\\"CAGE_CODE\\\\\":3835,\\\\\"DODAAC\\\\\":31832,\\\\\"SAM_EXTRACT_CODE\\\\\":0,\\\\\"PURPOSE_OF_REGISTRATION\\\\\":0,\\\\\"INITIAL_REGISTRATION_DATE\\\\\":0,\\\\\"REGISTRATION_EXPIRATION_DATE\\\\\":0,\\\\\"LAST_UPDATE_DATE\\\\\":0,\\\\\"ACTIVATION_DATE\\\\\":0,\\\\\"LEGAL_BUSINESS_NAME\\\\\":0,\\\\\"DBA_NAME\\\\\":25509,\\\\\"ENTITY_DIVISION_NAME\\\\\":23849,\\\\\"ENTITY_DIVISION_NUMBER\\\\\":30139,\\\\\"PHYSICAL_ADDRESS_LINE_1\\\\\":1,\\\\\"PHYSICAL_ADDRESS_LINE_2\\\\\":29076,\\\\\"PHYSICAL_ADDRESS_CITY\\\\\":0,\\\\\"PHYSICAL_ADDRESS_PROVINCE_OR_STATE\\\\\":1401,\\\\\"PHYSICAL_ADDRESS_ZIP/POSTAL_CODE\\\\\":660,\\\\\"PHYSICAL_ADDRESS_ZIP_CODE_4\\\\\":2558,\\\\\"PHYSICAL_ADDRESS_COUNTRY_CODE\\\\\":0,\\\\\"PHYSICAL_ADDRESS_CONGRESSIONAL_DISTRICT\\\\\":1670,\\\\\"D&B_OPEN_DATA_FLAG\\\\\":31856}}\",\"tags\":{}}}',\n",
              " '{\"add\":{\"path\":\"PARTITION_KEY=S/part-00015-e0c4bc6b-4a95-4bc8-b7c5-69f35519c93e.c000.snappy.parquet\",\"partitionValues\":{\"PARTITION_KEY\":\"S\"},\"size\":11490316,\"modificationTime\":1749694115207,\"dataChange\":true,\"stats\":\"{\\\\\"numRecords\\\\\":31926,\\\\\"minValues\\\\\":{\\\\\"entityKey\\\\\":\\\\\"S112NPKV9CK33BUV4\\\\\",\\\\\"AUD_HASH_CODE\\\\\":\\\\\"00015ed3c30d03666a9b6fd3c755b024\\\\\",\\\\\"AUD_SEQ_ID\\\\\":593556,\\\\\"AUD_ACTIVE_FLAG\\\\\":\\\\\"Y\\\\\",\\\\\"AUD_DIRECTORY\\\\\":\\\\\"abfss://bronze@staaz01synpilot.d\\\\\",\\\\\"AUD_FILENAME\\\\\":\\\\\"SAM_PUBLIC_MONTHLY_V2_20241103.d\\\\\",\\\\\"EffectiveFromDate\\\\\":\\\\\"2024-11-03\\\\\",\\\\\"UNIQUE_ENTITY_ID\\\\\":\\\\\"S112NPKV9CK3\\\\\",\\\\\"ENTITY_EFT_INDICATOR\\\\\":\\\\\"0001\\\\\",\\\\\"CAGE_CODE\\\\\":\\\\\"0043U\\\\\",\\\\\"DODAAC\\\\\":\\\\\"DODF1M0D1\\\\\",\\\\\"SAM_EXTRACT_CODE\\\\\":\\\\\"A\\\\\",\\\\\"PURPOSE_OF_REGISTRATION\\\\\":\\\\\"Z1\\\\\",\\\\\"INITIAL_REGISTRATION_DATE\\\\\":\\\\\"1997-04-24\\\\\",\\\\\"REGISTRATION_EXPIRATION_DATE\\\\\":\\\\\"20240504\\\\\",\\\\\"LAST_UPDATE_DATE\\\\\":\\\\\"20231106\\\\\",\\\\\"ACTIVATION_DATE\\\\\":\\\\\"20200707\\\\\",\\\\\"LEGAL_BUSINESS_NAME\\\\\":\\\\\"\\\\\\\\\\\\\"GLOBAL STRATEGY\\\\\\\\\\\\\"\\\\\",\\\\\"DBA_NAME\\\\\":\\\\\"(C.I.R.M.M.P.)\\\\\",\\\\\"ENTITY_DIVISION_NAME\\\\\":\\\\\"\\\\\\\\\\\\\"DOK-INTERNATIONAL\\\\\\\\\\\\\" D.O.O.\\\\\",\\\\\"ENTITY_DIVISION_NUMBER\\\\\":\\\\\"#2\\\\\",\\\\\"PHYSICAL_ADDRESS_LINE_1\\\\\":\\\\\"#0 STRYHAS TRAILER CT\\\\\",\\\\\"PHYSICAL_ADDRESS_LINE_2\\\\\":\\\\\"# -0300\\\\\",\\\\\"PHYSICAL_ADDRESS_CITY\\\\\":\\\\\"\\'S-GRAVENHAGE\\\\\",\\\\\"PHYSICAL_ADDRESS_PROVINCE_OR_STATE\\\\\":\\\\\"AA\\\\\",\\\\\"PHYSICAL_ADDRESS_ZIP/POSTAL_CODE\\\\\":\\\\\"0\\\\\",\\\\\"PHYSICAL_ADDRESS_ZIP_CODE_4\\\\\":\\\\\"0000\\\\\",\\\\\"PHYSICAL_ADDRESS_COUNTRY_CODE\\\\\":\\\\\"AFG\\\\\",\\\\\"PHYSICAL_ADDRESS_CONGRESSIONAL_DISTRICT\\\\\":\\\\\"00\\\\\"},\\\\\"maxValues\\\\\":{\\\\\"entityKey\\\\\":\\\\\"SZZYM7G64TW97XZ44\\\\\",\\\\\"AUD_HASH_CODE\\\\\":\\\\\"fffc13b1972fc02d0f7524d0f2476cf6\\x7f\\\\\",\\\\\"AUD_SEQ_ID\\\\\":625481,\\\\\"AUD_ACTIVE_FLAG\\\\\":\\\\\"Y\\\\\",\\\\\"AUD_DIRECTORY\\\\\":\\\\\"abfss://bronze@staaz01synpilot.d\\x7f\\\\\",\\\\\"AUD_FILENAME\\\\\":\\\\\"SAM_PUBLIC_MONTHLY_V2_20241103.d\\x7f\\\\\",\\\\\"EffectiveFromDate\\\\\":\\\\\"2024-11-03\\\\\",\\\\\"UNIQUE_ENTITY_ID\\\\\":\\\\\"SZZYM7G64TW9\\\\\",\\\\\"ENTITY_EFT_INDICATOR\\\\\":\\\\\"XRS1\\\\\",\\\\\"CAGE_CODE\\\\\":\\\\\"Z9R42\\\\\",\\\\\"DODAAC\\\\\":\\\\\"DODWK4FRD\\\\\",\\\\\"SAM_EXTRACT_CODE\\\\\":\\\\\"E\\\\\",\\\\\"PURPOSE_OF_REGISTRATION\\\\\":\\\\\"Z4\\\\\",\\\\\"INITIAL_REGISTRATION_DATE\\\\\":\\\\\"2024-10-30\\\\\",\\\\\"REGISTRATION_EXPIRATION_DATE\\\\\":\\\\\"20260930\\\\\",\\\\\"LAST_UPDATE_DATE\\\\\":\\\\\"20241103\\\\\",\\\\\"ACTIVATION_DATE\\\\\":\\\\\"20241102\\\\\",\\\\\"LEGAL_BUSINESS_NAME\\\\\":\\\\\"ZYMOTIC LIMITED\\\\\",\\\\\"DBA_NAME\\\\\":\\\\\"ZWICK ENVIRONMENTAL CONSULTANTS \\x7f\\\\\",\\\\\"ENTITY_DIVISION_NAME\\\\\":\\\\\"ZT1 TECHNOLOGY INC\\\\\",\\\\\"ENTITY_DIVISION_NUMBER\\\\\":\\\\\"_\\\\\",\\\\\"PHYSICAL_ADDRESS_LINE_1\\\\\":\\\\\"[\\'WWW.BATSURVEYSOLUTIONS.COM\\', \\'\\x7f\\\\\",\\\\\"PHYSICAL_ADDRESS_LINE_2\\\\\":\\\\\"ZUMRUT SITESI A BLOK NO:2 YENISE\\x7f\\\\\",\\\\\"PHYSICAL_ADDRESS_CITY\\\\\":\\\\\"ZUMBROTA\\\\\",\\\\\"PHYSICAL_ADDRESS_PROVINCE_OR_STATE\\\\\":\\\\\"ZAMBALES\\\\\",\\\\\"PHYSICAL_ADDRESS_ZIP/POSTAL_CODE\\\\\":\\\\\"Y1A 1H1\\\\\",\\\\\"PHYSICAL_ADDRESS_ZIP_CODE_4\\\\\":\\\\\"9998\\\\\",\\\\\"PHYSICAL_ADDRESS_COUNTRY_CODE\\\\\":\\\\\"ZWE\\\\\",\\\\\"PHYSICAL_ADDRESS_CONGRESSIONAL_DISTRICT\\\\\":\\\\\"98\\\\\"},\\\\\"nullCount\\\\\":{\\\\\"entityKey\\\\\":0,\\\\\"AUD_HASH_CODE\\\\\":0,\\\\\"AUD_SEQ_ID\\\\\":0,\\\\\"AUD_ACTIVE_FLAG\\\\\":0,\\\\\"AUD_DIRECTORY\\\\\":0,\\\\\"AUD_FILENAME\\\\\":0,\\\\\"EffectiveFromDate\\\\\":0,\\\\\"EffectiveToDate\\\\\":31926,\\\\\"UNIQUE_ENTITY_ID\\\\\":0,\\\\\"BLANK_DEPRECATED\\\\\":31926,\\\\\"ENTITY_EFT_INDICATOR\\\\\":31709,\\\\\"CAGE_CODE\\\\\":3925,\\\\\"DODAAC\\\\\":31910,\\\\\"SAM_EXTRACT_CODE\\\\\":0,\\\\\"PURPOSE_OF_REGISTRATION\\\\\":0,\\\\\"INITIAL_REGISTRATION_DATE\\\\\":0,\\\\\"REGISTRATION_EXPIRATION_DATE\\\\\":0,\\\\\"LAST_UPDATE_DATE\\\\\":0,\\\\\"ACTIVATION_DATE\\\\\":0,\\\\\"LEGAL_BUSINESS_NAME\\\\\":0,\\\\\"DBA_NAME\\\\\":25568,\\\\\"ENTITY_DIVISION_NAME\\\\\":23840,\\\\\"ENTITY_DIVISION_NUMBER\\\\\":30195,\\\\\"PHYSICAL_ADDRESS_LINE_1\\\\\":0,\\\\\"PHYSICAL_ADDRESS_LINE_2\\\\\":29129,\\\\\"PHYSICAL_ADDRESS_CITY\\\\\":0,\\\\\"PHYSICAL_ADDRESS_PROVINCE_OR_STATE\\\\\":1388,\\\\\"PHYSICAL_ADDRESS_ZIP/POSTAL_CODE\\\\\":680,\\\\\"PHYSICAL_ADDRESS_ZIP_CODE_4\\\\\":2536,\\\\\"PHYSICAL_ADDRESS_COUNTRY_CODE\\\\\":0,\\\\\"PHYSICAL_ADDRESS_CONGRESSIONAL_DISTRICT\\\\\":1634,\\\\\"D&B_OPEN_DATA_FLAG\\\\\":31926}}\",\"tags\":{}}}',\n",
              " '{\"add\":{\"path\":\"PARTITION_KEY=R/part-00016-2f72dbc3-6afb-499f-ac0f-d5a671770037.c000.snappy.parquet\",\"partitionValues\":{\"PARTITION_KEY\":\"R\"},\"size\":11424095,\"modificationTime\":1749694118968,\"dataChange\":true,\"stats\":\"{\\\\\"numRecords\\\\\":31846,\\\\\"minValues\\\\\":{\\\\\"entityKey\\\\\":\\\\\"R112D259FJM50CX72\\\\\",\\\\\"AUD_HASH_CODE\\\\\":\\\\\"00046febe2504ae62eb72c3badc09fdd\\\\\",\\\\\"AUD_SEQ_ID\\\\\":561710,\\\\\"AUD_ACTIVE_FLAG\\\\\":\\\\\"Y\\\\\",\\\\\"AUD_DIRECTORY\\\\\":\\\\\"abfss://bronze@staaz01synpilot.d\\\\\",\\\\\"AUD_FILENAME\\\\\":\\\\\"SAM_PUBLIC_MONTHLY_V2_20241103.d\\\\\",\\\\\"EffectiveFromDate\\\\\":\\\\\"2024-11-03\\\\\",\\\\\"UNIQUE_ENTITY_ID\\\\\":\\\\\"R112D259FJM5\\\\\",\\\\\"ENTITY_EFT_INDICATOR\\\\\":\\\\\"0001\\\\\",\\\\\"CAGE_CODE\\\\\":\\\\\"000BU\\\\\",\\\\\"DODAAC\\\\\":\\\\\"DODF2A3F9\\\\\",\\\\\"SAM_EXTRACT_CODE\\\\\":\\\\\"A\\\\\",\\\\\"PURPOSE_OF_REGISTRATION\\\\\":\\\\\"Z1\\\\\",\\\\\"INITIAL_REGISTRATION_DATE\\\\\":\\\\\"1997-03-13\\\\\",\\\\\"REGISTRATION_EXPIRATION_DATE\\\\\":\\\\\"20240504\\\\\",\\\\\"LAST_UPDATE_DATE\\\\\":\\\\\"20231106\\\\\",\\\\\"ACTIVATION_DATE\\\\\":\\\\\"20200702\\\\\",\\\\\"LEGAL_BUSINESS_NAME\\\\\":\\\\\"\\\\\\\\\\\\\"ABSOLUTELY DIVINE\\\\\\\\\\\\\" HOME CARE AG\\\\\",\\\\\"DBA_NAME\\\\\":\\\\\"1 STOP STORAGE\\\\\",\\\\\"ENTITY_DIVISION_NAME\\\\\":\\\\\"\\\\\\\\\\\\\"PARTNERSHIP AND TEACHING\\\\\\\\\\\\\" NGO\\\\\",\\\\\"ENTITY_DIVISION_NUMBER\\\\\":\\\\\"#1\\\\\",\\\\\"PHYSICAL_ADDRESS_LINE_1\\\\\":\\\\\"#02-21A MAPLETREE BUSINESS CITY\\\\\",\\\\\"PHYSICAL_ADDRESS_LINE_2\\\\\":\\\\\"# 10\\\\\",\\\\\"PHYSICAL_ADDRESS_CITY\\\\\":\\\\\"\\'S-GRAVENHAGE\\\\\",\\\\\"PHYSICAL_ADDRESS_PROVINCE_OR_STATE\\\\\":\\\\\"AB\\\\\",\\\\\"PHYSICAL_ADDRESS_ZIP/POSTAL_CODE\\\\\":\\\\\"-14 231-0021\\\\\",\\\\\"PHYSICAL_ADDRESS_ZIP_CODE_4\\\\\":\\\\\"0000\\\\\",\\\\\"PHYSICAL_ADDRESS_COUNTRY_CODE\\\\\":\\\\\"AFG\\\\\",\\\\\"PHYSICAL_ADDRESS_CONGRESSIONAL_DISTRICT\\\\\":\\\\\"00\\\\\"},\\\\\"maxValues\\\\\":{\\\\\"entityKey\\\\\":\\\\\"RZZRMB9UKE63\\\\\",\\\\\"AUD_HASH_CODE\\\\\":\\\\\"fffbefd1bdfae54d4e02fe36f9cf530a\\x7f\\\\\",\\\\\"AUD_SEQ_ID\\\\\":593555,\\\\\"AUD_ACTIVE_FLAG\\\\\":\\\\\"Y\\\\\",\\\\\"AUD_DIRECTORY\\\\\":\\\\\"abfss://bronze@staaz01synpilot.d\\x7f\\\\\",\\\\\"AUD_FILENAME\\\\\":\\\\\"SAM_PUBLIC_MONTHLY_V2_20241103.d\\x7f\\\\\",\\\\\"EffectiveFromDate\\\\\":\\\\\"2024-11-03\\\\\",\\\\\"UNIQUE_ENTITY_ID\\\\\":\\\\\"RZZRMB9UKE63\\\\\",\\\\\"ENTITY_EFT_INDICATOR\\\\\":\\\\\"ZFNB\\\\\",\\\\\"CAGE_CODE\\\\\":\\\\\"ZAZ95\\\\\",\\\\\"DODAAC\\\\\":\\\\\"DODW91PH2\\\\\",\\\\\"SAM_EXTRACT_CODE\\\\\":\\\\\"E\\\\\",\\\\\"PURPOSE_OF_REGISTRATION\\\\\":\\\\\"Z5\\\\\",\\\\\"INITIAL_REGISTRATION_DATE\\\\\":\\\\\"2024-10-31\\\\\",\\\\\"REGISTRATION_EXPIRATION_DATE\\\\\":\\\\\"20260930\\\\\",\\\\\"LAST_UPDATE_DATE\\\\\":\\\\\"20241103\\\\\",\\\\\"ACTIVATION_DATE\\\\\":\\\\\"20241102\\\\\",\\\\\"LEGAL_BUSINESS_NAME\\\\\":\\\\\"ZZ-CJW JOINT VENTURE\\\\\",\\\\\"DBA_NAME\\\\\":\\\\\"ZYXAXIS INC\\\\\",\\\\\"ENTITY_DIVISION_NAME\\\\\":\\\\\"ZYXAXIS INC\\\\\",\\\\\"ENTITY_DIVISION_NUMBER\\\\\":\\\\\"ZION GLASS\\\\\",\\\\\"PHYSICAL_ADDRESS_LINE_1\\\\\":\\\\\"[\\'WWW.LEGACY-ARCHITECTURE.COM\\', \\x7f\\\\\",\\\\\"PHYSICAL_ADDRESS_LINE_2\\\\\":\\\\\"ZONA INDUSTRIAL (GUARA)\\\\\",\\\\\"PHYSICAL_ADDRESS_CITY\\\\\":\\\\\"ZURICH\\\\\",\\\\\"PHYSICAL_ADDRESS_PROVINCE_OR_STATE\\\\\":\\\\\"YUCATAN\\\\\",\\\\\"PHYSICAL_ADDRESS_ZIP/POSTAL_CODE\\\\\":\\\\\"YO32 9GZ\\\\\",\\\\\"PHYSICAL_ADDRESS_ZIP_CODE_4\\\\\":\\\\\"9998\\\\\",\\\\\"PHYSICAL_ADDRESS_COUNTRY_CODE\\\\\":\\\\\"ZWE\\\\\",\\\\\"PHYSICAL_ADDRESS_CONGRESSIONAL_DISTRICT\\\\\":\\\\\"98\\\\\"},\\\\\"nullCount\\\\\":{\\\\\"entityKey\\\\\":0,\\\\\"AUD_HASH_CODE\\\\\":0,\\\\\"AUD_SEQ_ID\\\\\":0,\\\\\"AUD_ACTIVE_FLAG\\\\\":0,\\\\\"AUD_DIRECTORY\\\\\":0,\\\\\"AUD_FILENAME\\\\\":0,\\\\\"EffectiveFromDate\\\\\":0,\\\\\"EffectiveToDate\\\\\":31846,\\\\\"UNIQUE_ENTITY_ID\\\\\":0,\\\\\"BLANK_DEPRECATED\\\\\":31846,\\\\\"ENTITY_EFT_INDICATOR\\\\\":31643,\\\\\"CAGE_CODE\\\\\":3841,\\\\\"DODAAC\\\\\":31822,\\\\\"SAM_EXTRACT_CODE\\\\\":0,\\\\\"PURPOSE_OF_REGISTRATION\\\\\":0,\\\\\"INITIAL_REGISTRATION_DATE\\\\\":0,\\\\\"REGISTRATION_EXPIRATION_DATE\\\\\":0,\\\\\"LAST_UPDATE_DATE\\\\\":0,\\\\\"ACTIVATION_DATE\\\\\":0,\\\\\"LEGAL_BUSINESS_NAME\\\\\":0,\\\\\"DBA_NAME\\\\\":25509,\\\\\"ENTITY_DIVISION_NAME\\\\\":23680,\\\\\"ENTITY_DIVISION_NUMBER\\\\\":30104,\\\\\"PHYSICAL_ADDRESS_LINE_1\\\\\":0,\\\\\"PHYSICAL_ADDRESS_LINE_2\\\\\":29151,\\\\\"PHYSICAL_ADDRESS_CITY\\\\\":0,\\\\\"PHYSICAL_ADDRESS_PROVINCE_OR_STATE\\\\\":1287,\\\\\"PHYSICAL_ADDRESS_ZIP/POSTAL_CODE\\\\\":619,\\\\\"PHYSICAL_ADDRESS_ZIP_CODE_4\\\\\":2440,\\\\\"PHYSICAL_ADDRESS_COUNTRY_CODE\\\\\":0,\\\\\"PHYSICAL_ADDRESS_CONGRESSIONAL_DISTRICT\\\\\":1559,\\\\\"D&B_OPEN_DATA_FLAG\\\\\":31846}}\",\"tags\":{}}}',\n",
              " '{\"add\":{\"path\":\"PARTITION_KEY=G/part-00017-722fa35b-d793-42f0-8f75-17b7d30fdbfd.c000.snappy.parquet\",\"partitionValues\":{\"PARTITION_KEY\":\"G\"},\"size\":15651069,\"modificationTime\":1749694119552,\"dataChange\":true,\"stats\":\"{\\\\\"numRecords\\\\\":43583,\\\\\"minValues\\\\\":{\\\\\"entityKey\\\\\":\\\\\"G111A23MD6C59WPG0\\\\\",\\\\\"AUD_HASH_CODE\\\\\":\\\\\"00026a519269f6cb41ba376e477a2f41\\\\\",\\\\\"AUD_SEQ_ID\\\\\":174461,\\\\\"AUD_ACTIVE_FLAG\\\\\":\\\\\"Y\\\\\",\\\\\"AUD_DIRECTORY\\\\\":\\\\\"abfss://bronze@staaz01synpilot.d\\\\\",\\\\\"AUD_FILENAME\\\\\":\\\\\"SAM_PUBLIC_MONTHLY_V2_20241103.d\\\\\",\\\\\"EffectiveFromDate\\\\\":\\\\\"2024-11-03\\\\\",\\\\\"UNIQUE_ENTITY_ID\\\\\":\\\\\"G111A23MD6C5\\\\\",\\\\\"ENTITY_EFT_INDICATOR\\\\\":\\\\\"0001\\\\\",\\\\\"CAGE_CODE\\\\\":\\\\\"0001M\\\\\",\\\\\"DODAAC\\\\\":\\\\\"DOD119626\\\\\",\\\\\"SAM_EXTRACT_CODE\\\\\":\\\\\"A\\\\\",\\\\\"PURPOSE_OF_REGISTRATION\\\\\":\\\\\"Z1\\\\\",\\\\\"INITIAL_REGISTRATION_DATE\\\\\":\\\\\"1996-10-22\\\\\",\\\\\"REGISTRATION_EXPIRATION_DATE\\\\\":\\\\\"20240504\\\\\",\\\\\"LAST_UPDATE_DATE\\\\\":\\\\\"20231105\\\\\",\\\\\"ACTIVATION_DATE\\\\\":\\\\\"20200724\\\\\",\\\\\"LEGAL_BUSINESS_NAME\\\\\":\\\\\"\\\\\\\\\\\\\"24.KG\\\\\\\\\\\\\" NEWS AGENCY LIMITED LIAB\\\\\",\\\\\"DBA_NAME\\\\\":\\\\\"02X HUMAN PERFORMANCE\\\\\",\\\\\"ENTITY_DIVISION_NAME\\\\\":\\\\\"\\\\\\\\\\\\\"I HAVE A DREAM\\\\\\\\\\\\\" FOUNDATION OF B\\\\\",\\\\\"ENTITY_DIVISION_NUMBER\\\\\":\\\\\"#10\\\\\",\\\\\"PHYSICAL_ADDRESS_LINE_1\\\\\":\\\\\"#1 HARBOR OF REFUGE ROAD\\\\\",\\\\\"PHYSICAL_ADDRESS_LINE_2\\\\\":\\\\\"# 1\\\\\",\\\\\"PHYSICAL_ADDRESS_CITY\\\\\":\\\\\"\\'S-GRAVENHAGE\\\\\",\\\\\"PHYSICAL_ADDRESS_PROVINCE_OR_STATE\\\\\":\\\\\"AB\\\\\",\\\\\"PHYSICAL_ADDRESS_ZIP/POSTAL_CODE\\\\\":\\\\\"0\\\\\",\\\\\"PHYSICAL_ADDRESS_ZIP_CODE_4\\\\\":\\\\\"0000\\\\\",\\\\\"PHYSICAL_ADDRESS_COUNTRY_CODE\\\\\":\\\\\"AFG\\\\\",\\\\\"PHYSICAL_ADDRESS_CONGRESSIONAL_DISTRICT\\\\\":\\\\\"00\\\\\"},\\\\\"maxValues\\\\\":{\\\\\"entityKey\\\\\":\\\\\"GZZYLKHASYS49PM38\\\\\",\\\\\"AUD_HASH_CODE\\\\\":\\\\\"fffefbdf0d1e051744b37e594545921c\\x7f\\\\\",\\\\\"AUD_SEQ_ID\\\\\":218043,\\\\\"AUD_ACTIVE_FLAG\\\\\":\\\\\"Y\\\\\",\\\\\"AUD_DIRECTORY\\\\\":\\\\\"abfss://bronze@staaz01synpilot.d\\x7f\\\\\",\\\\\"AUD_FILENAME\\\\\":\\\\\"SAM_PUBLIC_MONTHLY_V2_20241103.d\\x7f\\\\\",\\\\\"EffectiveFromDate\\\\\":\\\\\"2024-11-03\\\\\",\\\\\"UNIQUE_ENTITY_ID\\\\\":\\\\\"GZZYLKHASYS4\\\\\",\\\\\"ENTITY_EFT_INDICATOR\\\\\":\\\\\"YQNS\\\\\",\\\\\"CAGE_CODE\\\\\":\\\\\"ZY745\\\\\",\\\\\"DODAAC\\\\\":\\\\\"DODW911KB\\\\\",\\\\\"SAM_EXTRACT_CODE\\\\\":\\\\\"E\\\\\",\\\\\"PURPOSE_OF_REGISTRATION\\\\\":\\\\\"Z5\\\\\",\\\\\"INITIAL_REGISTRATION_DATE\\\\\":\\\\\"2024-10-31\\\\\",\\\\\"REGISTRATION_EXPIRATION_DATE\\\\\":\\\\\"20260930\\\\\",\\\\\"LAST_UPDATE_DATE\\\\\":\\\\\"20241103\\\\\",\\\\\"ACTIVATION_DATE\\\\\":\\\\\"20241102\\\\\",\\\\\"LEGAL_BUSINESS_NAME\\\\\":\\\\\"ZZ SERVERS LLC\\\\\",\\\\\"DBA_NAME\\\\\":\\\\\"ZVEZA BREZ IZGOVORA SLOVENIJA\\\\\",\\\\\"ENTITY_DIVISION_NAME\\\\\":\\\\\"ZONE TWO WATER SYSTEM, INC.\\\\\",\\\\\"ENTITY_DIVISION_NUMBER\\\\\":\\\\\"ZOLTA LLC\\\\\",\\\\\"PHYSICAL_ADDRESS_LINE_1\\\\\":\\\\\"[\\'WWW.MLA-BLOG.BLOGSPOT.COM\\', \\'M\\x7f\\\\\",\\\\\"PHYSICAL_ADDRESS_LINE_2\\\\\":\\\\\"ZONA URBANA RIO TIJUANA\\\\\",\\\\\"PHYSICAL_ADDRESS_CITY\\\\\":\\\\\"ZUG\\\\\",\\\\\"PHYSICAL_ADDRESS_PROVINCE_OR_STATE\\\\\":\\\\\"ZG\\\\\",\\\\\"PHYSICAL_ADDRESS_ZIP/POSTAL_CODE\\\\\":\\\\\"WV9 5GB\\\\\",\\\\\"PHYSICAL_ADDRESS_ZIP_CODE_4\\\\\":\\\\\"9998\\\\\",\\\\\"PHYSICAL_ADDRESS_COUNTRY_CODE\\\\\":\\\\\"ZWE\\\\\",\\\\\"PHYSICAL_ADDRESS_CONGRESSIONAL_DISTRICT\\\\\":\\\\\"98\\\\\"},\\\\\"nullCount\\\\\":{\\\\\"entityKey\\\\\":0,\\\\\"AUD_HASH_CODE\\\\\":0,\\\\\"AUD_SEQ_ID\\\\\":0,\\\\\"AUD_ACTIVE_FLAG\\\\\":0,\\\\\"AUD_DIRECTORY\\\\\":0,\\\\\"AUD_FILENAME\\\\\":0,\\\\\"EffectiveFromDate\\\\\":0,\\\\\"EffectiveToDate\\\\\":43583,\\\\\"UNIQUE_ENTITY_ID\\\\\":0,\\\\\"BLANK_DEPRECATED\\\\\":43583,\\\\\"ENTITY_EFT_INDICATOR\\\\\":43167,\\\\\"CAGE_CODE\\\\\":3948,\\\\\"DODAAC\\\\\":43558,\\\\\"SAM_EXTRACT_CODE\\\\\":0,\\\\\"PURPOSE_OF_REGISTRATION\\\\\":0,\\\\\"INITIAL_REGISTRATION_DATE\\\\\":0,\\\\\"REGISTRATION_EXPIRATION_DATE\\\\\":0,\\\\\"LAST_UPDATE_DATE\\\\\":0,\\\\\"ACTIVATION_DATE\\\\\":0,\\\\\"LEGAL_BUSINESS_NAME\\\\\":0,\\\\\"DBA_NAME\\\\\":34447,\\\\\"ENTITY_DIVISION_NAME\\\\\":32101,\\\\\"ENTITY_DIVISION_NUMBER\\\\\":40943,\\\\\"PHYSICAL_ADDRESS_LINE_1\\\\\":0,\\\\\"PHYSICAL_ADDRESS_LINE_2\\\\\":39609,\\\\\"PHYSICAL_ADDRESS_CITY\\\\\":0,\\\\\"PHYSICAL_ADDRESS_PROVINCE_OR_STATE\\\\\":1699,\\\\\"PHYSICAL_ADDRESS_ZIP/POSTAL_CODE\\\\\":773,\\\\\"PHYSICAL_ADDRESS_ZIP_CODE_4\\\\\":3339,\\\\\"PHYSICAL_ADDRESS_COUNTRY_CODE\\\\\":0,\\\\\"PHYSICAL_ADDRESS_CONGRESSIONAL_DISTRICT\\\\\":2049,\\\\\"D&B_OPEN_DATA_FLAG\\\\\":43583}}\",\"tags\":{}}}',\n",
              " '{\"add\":{\"path\":\"PARTITION_KEY=P/part-00018-3f6124b2-e6f0-4540-a18f-d435b88ad728.c000.snappy.parquet\",\"partitionValues\":{\"PARTITION_KEY\":\"P\"},\"size\":11542525,\"modificationTime\":1749694118665,\"dataChange\":true,\"stats\":\"{\\\\\"numRecords\\\\\":31999,\\\\\"minValues\\\\\":{\\\\\"entityKey\\\\\":\\\\\"P111PUWT2T5393QG5\\\\\",\\\\\"AUD_HASH_CODE\\\\\":\\\\\"0000493922be2ba3a6f424b8aa20d9cb\\\\\",\\\\\"AUD_SEQ_ID\\\\\":497248,\\\\\"AUD_ACTIVE_FLAG\\\\\":\\\\\"Y\\\\\",\\\\\"AUD_DIRECTORY\\\\\":\\\\\"abfss://bronze@staaz01synpilot.d\\\\\",\\\\\"AUD_FILENAME\\\\\":\\\\\"SAM_PUBLIC_MONTHLY_V2_20241103.d\\\\\",\\\\\"EffectiveFromDate\\\\\":\\\\\"2024-11-03\\\\\",\\\\\"UNIQUE_ENTITY_ID\\\\\":\\\\\"P111PUWT2T53\\\\\",\\\\\"ENTITY_EFT_INDICATOR\\\\\":\\\\\"0001\\\\\",\\\\\"CAGE_CODE\\\\\":\\\\\"00299\\\\\",\\\\\"DODAAC\\\\\":\\\\\"DOD893039\\\\\",\\\\\"SAM_EXTRACT_CODE\\\\\":\\\\\"A\\\\\",\\\\\"PURPOSE_OF_REGISTRATION\\\\\":\\\\\"Z1\\\\\",\\\\\"INITIAL_REGISTRATION_DATE\\\\\":\\\\\"1997-06-23\\\\\",\\\\\"REGISTRATION_EXPIRATION_DATE\\\\\":\\\\\"20240504\\\\\",\\\\\"LAST_UPDATE_DATE\\\\\":\\\\\"20231107\\\\\",\\\\\"ACTIVATION_DATE\\\\\":\\\\\"20200713\\\\\",\\\\\"LEGAL_BUSINESS_NAME\\\\\":\\\\\"\\\\\\\\\\\\\"ASHKHEN KHUDAVERDYAN ARMENI\\\\\\\\\\\\\" SO\\\\\",\\\\\"DBA_NAME\\\\\":\\\\\"\\\\\\\\\\\\\"AVC\\\\\\\\\\\\\" D.O.O. SARAJEVO\\\\\",\\\\\"ENTITY_DIVISION_NAME\\\\\":\\\\\"\\\\\\\\\\\\\"JANA SANA\\\\\\\\\\\\\" PUBLIC FUND\\\\\",\\\\\"ENTITY_DIVISION_NUMBER\\\\\":\\\\\"*********\\\\\",\\\\\"PHYSICAL_ADDRESS_LINE_1\\\\\":\\\\\"#1312 ANATAHAN DR. CAPITOL HILL \\\\\",\\\\\"PHYSICAL_ADDRESS_LINE_2\\\\\":\\\\\"# 10\\\\\",\\\\\"PHYSICAL_ADDRESS_CITY\\\\\":\\\\\"11508 COCHITI ROAD SE\\\\\",\\\\\"PHYSICAL_ADDRESS_PROVINCE_OR_STATE\\\\\":\\\\\"AB\\\\\",\\\\\"PHYSICAL_ADDRESS_ZIP/POSTAL_CODE\\\\\":\\\\\"00-125\\\\\",\\\\\"PHYSICAL_ADDRESS_ZIP_CODE_4\\\\\":\\\\\"0000\\\\\",\\\\\"PHYSICAL_ADDRESS_COUNTRY_CODE\\\\\":\\\\\"AFG\\\\\",\\\\\"PHYSICAL_ADDRESS_CONGRESSIONAL_DISTRICT\\\\\":\\\\\"00\\\\\"},\\\\\"maxValues\\\\\":{\\\\\"entityKey\\\\\":\\\\\"PZZYKNEHAYH39QJU3\\\\\",\\\\\"AUD_HASH_CODE\\\\\":\\\\\"fff983246a9d4ad8ffa582db63b6739e\\x7f\\\\\",\\\\\"AUD_SEQ_ID\\\\\":529246,\\\\\"AUD_ACTIVE_FLAG\\\\\":\\\\\"Y\\\\\",\\\\\"AUD_DIRECTORY\\\\\":\\\\\"abfss://bronze@staaz01synpilot.d\\x7f\\\\\",\\\\\"AUD_FILENAME\\\\\":\\\\\"SAM_PUBLIC_MONTHLY_V2_20241103.d\\x7f\\\\\",\\\\\"EffectiveFromDate\\\\\":\\\\\"2024-11-03\\\\\",\\\\\"UNIQUE_ENTITY_ID\\\\\":\\\\\"PZZYKNEHAYH3\\\\\",\\\\\"ENTITY_EFT_INDICATOR\\\\\":\\\\\"WY43\\\\\",\\\\\"CAGE_CODE\\\\\":\\\\\"ZBF24\\\\\",\\\\\"DODAAC\\\\\":\\\\\"DODW91278\\\\\",\\\\\"SAM_EXTRACT_CODE\\\\\":\\\\\"E\\\\\",\\\\\"PURPOSE_OF_REGISTRATION\\\\\":\\\\\"Z5\\\\\",\\\\\"INITIAL_REGISTRATION_DATE\\\\\":\\\\\"2024-10-31\\\\\",\\\\\"REGISTRATION_EXPIRATION_DATE\\\\\":\\\\\"20260930\\\\\",\\\\\"LAST_UPDATE_DATE\\\\\":\\\\\"20241103\\\\\",\\\\\"ACTIVATION_DATE\\\\\":\\\\\"20241101\\\\\",\\\\\"LEGAL_BUSINESS_NAME\\\\\":\\\\\"ZYDECO LAWN SERVICES LLC\\\\\",\\\\\"DBA_NAME\\\\\":\\\\\"ZULU NYLON GEAR\\\\\",\\\\\"ENTITY_DIVISION_NAME\\\\\":\\\\\"ZULERIS INTERACTIVE LLC\\\\\",\\\\\"ENTITY_DIVISION_NUMBER\\\\\":\\\\\"ZUFALL HEA\\\\\",\\\\\"PHYSICAL_ADDRESS_LINE_1\\\\\":\\\\\"ZUR KESSELSCHMIEDE 4\\\\\",\\\\\"PHYSICAL_ADDRESS_LINE_2\\\\\":\\\\\"ZWAVELPOORT\\\\\",\\\\\"PHYSICAL_ADDRESS_CITY\\\\\":\\\\\"ZWINGLE\\\\\",\\\\\"PHYSICAL_ADDRESS_PROVINCE_OR_STATE\\\\\":\\\\\"ZAPORIZKA OBL.\\\\\",\\\\\"PHYSICAL_ADDRESS_ZIP/POSTAL_CODE\\\\\":\\\\\"ZA-WC 7785\\\\\",\\\\\"PHYSICAL_ADDRESS_ZIP_CODE_4\\\\\":\\\\\"9999\\\\\",\\\\\"PHYSICAL_ADDRESS_COUNTRY_CODE\\\\\":\\\\\"ZWE\\\\\",\\\\\"PHYSICAL_ADDRESS_CONGRESSIONAL_DISTRICT\\\\\":\\\\\"98\\\\\"},\\\\\"nullCount\\\\\":{\\\\\"entityKey\\\\\":0,\\\\\"AUD_HASH_CODE\\\\\":0,\\\\\"AUD_SEQ_ID\\\\\":0,\\\\\"AUD_ACTIVE_FLAG\\\\\":0,\\\\\"AUD_DIRECTORY\\\\\":0,\\\\\"AUD_FILENAME\\\\\":0,\\\\\"EffectiveFromDate\\\\\":0,\\\\\"EffectiveToDate\\\\\":31999,\\\\\"UNIQUE_ENTITY_ID\\\\\":0,\\\\\"BLANK_DEPRECATED\\\\\":31999,\\\\\"ENTITY_EFT_INDICATOR\\\\\":31798,\\\\\"CAGE_CODE\\\\\":3757,\\\\\"DODAAC\\\\\":31975,\\\\\"SAM_EXTRACT_CODE\\\\\":0,\\\\\"PURPOSE_OF_REGISTRATION\\\\\":0,\\\\\"INITIAL_REGISTRATION_DATE\\\\\":0,\\\\\"REGISTRATION_EXPIRATION_DATE\\\\\":0,\\\\\"LAST_UPDATE_DATE\\\\\":0,\\\\\"ACTIVATION_DATE\\\\\":0,\\\\\"LEGAL_BUSINESS_NAME\\\\\":0,\\\\\"DBA_NAME\\\\\":25547,\\\\\"ENTITY_DIVISION_NAME\\\\\":24026,\\\\\"ENTITY_DIVISION_NUMBER\\\\\":30263,\\\\\"PHYSICAL_ADDRESS_LINE_1\\\\\":0,\\\\\"PHYSICAL_ADDRESS_LINE_2\\\\\":29188,\\\\\"PHYSICAL_ADDRESS_CITY\\\\\":0,\\\\\"PHYSICAL_ADDRESS_PROVINCE_OR_STATE\\\\\":1426,\\\\\"PHYSICAL_ADDRESS_ZIP/POSTAL_CODE\\\\\":648,\\\\\"PHYSICAL_ADDRESS_ZIP_CODE_4\\\\\":2588,\\\\\"PHYSICAL_ADDRESS_COUNTRY_CODE\\\\\":0,\\\\\"PHYSICAL_ADDRESS_CONGRESSIONAL_DISTRICT\\\\\":1699,\\\\\"D&B_OPEN_DATA_FLAG\\\\\":31999}}\",\"tags\":{}}}',\n",
              " '{\"add\":{\"path\":\"PARTITION_KEY=H/part-00019-ca3d941b-d14e-4efa-907c-b84fa04cb72d.c000.snappy.parquet\",\"partitionValues\":{\"PARTITION_KEY\":\"H\"},\"size\":15625558,\"modificationTime\":1749694119280,\"dataChange\":true,\"stats\":\"{\\\\\"numRecords\\\\\":43467,\\\\\"minValues\\\\\":{\\\\\"entityKey\\\\\":\\\\\"H111AFK7EQY18AVP3\\\\\",\\\\\"AUD_HASH_CODE\\\\\":\\\\\"00003dc8a2ea43133e9633d2358231ef\\\\\",\\\\\"AUD_SEQ_ID\\\\\":218044,\\\\\"AUD_ACTIVE_FLAG\\\\\":\\\\\"Y\\\\\",\\\\\"AUD_DIRECTORY\\\\\":\\\\\"abfss://bronze@staaz01synpilot.d\\\\\",\\\\\"AUD_FILENAME\\\\\":\\\\\"SAM_PUBLIC_MONTHLY_V2_20241103.d\\\\\",\\\\\"EffectiveFromDate\\\\\":\\\\\"2024-11-03\\\\\",\\\\\"UNIQUE_ENTITY_ID\\\\\":\\\\\"H111AFK7EQY1\\\\\",\\\\\"ENTITY_EFT_INDICATOR\\\\\":\\\\\"0001\\\\\",\\\\\"CAGE_CODE\\\\\":\\\\\"00012\\\\\",\\\\\"DODAAC\\\\\":\\\\\"DOD693JK8\\\\\",\\\\\"SAM_EXTRACT_CODE\\\\\":\\\\\"A\\\\\",\\\\\"PURPOSE_OF_REGISTRATION\\\\\":\\\\\"Z1\\\\\",\\\\\"INITIAL_REGISTRATION_DATE\\\\\":\\\\\"1997-05-06\\\\\",\\\\\"REGISTRATION_EXPIRATION_DATE\\\\\":\\\\\"20240504\\\\\",\\\\\"LAST_UPDATE_DATE\\\\\":\\\\\"20231105\\\\\",\\\\\"ACTIVATION_DATE\\\\\":\\\\\"20200509\\\\\",\\\\\"LEGAL_BUSINESS_NAME\\\\\":\\\\\"\\\\\\\\\\\\\"COMPRESSORI & SERVICE S.R.L.\\\\\\\\\\\\\" -\\\\\",\\\\\"DBA_NAME\\\\\":\\\\\"#CULTURE\\\\\",\\\\\"ENTITY_DIVISION_NAME\\\\\":\\\\\"#1 PROSPERITY DISPATCH AND LOGIS\\\\\",\\\\\"ENTITY_DIVISION_NUMBER\\\\\":\\\\\"#1\\\\\",\\\\\"PHYSICAL_ADDRESS_LINE_1\\\\\":\\\\\"# 5 A BARRIO PALMAS\\\\\",\\\\\"PHYSICAL_ADDRESS_LINE_2\\\\\":\\\\\"# 1/2\\\\\",\\\\\"PHYSICAL_ADDRESS_CITY\\\\\":\\\\\"\\'S-GRAVENHAGE\\\\\",\\\\\"PHYSICAL_ADDRESS_PROVINCE_OR_STATE\\\\\":\\\\\"1226\\\\\",\\\\\"PHYSICAL_ADDRESS_ZIP/POSTAL_CODE\\\\\":\\\\\"00-028\\\\\",\\\\\"PHYSICAL_ADDRESS_ZIP_CODE_4\\\\\":\\\\\"0000\\\\\",\\\\\"PHYSICAL_ADDRESS_COUNTRY_CODE\\\\\":\\\\\"AFG\\\\\",\\\\\"PHYSICAL_ADDRESS_CONGRESSIONAL_DISTRICT\\\\\":\\\\\"00\\\\\"},\\\\\"maxValues\\\\\":{\\\\\"entityKey\\\\\":\\\\\"HZZXWHM2S8A79ZB63\\\\\",\\\\\"AUD_HASH_CODE\\\\\":\\\\\"ffffc49d0197405981a497aed676108e\\x7f\\\\\",\\\\\"AUD_SEQ_ID\\\\\":261510,\\\\\"AUD_ACTIVE_FLAG\\\\\":\\\\\"Y\\\\\",\\\\\"AUD_DIRECTORY\\\\\":\\\\\"abfss://bronze@staaz01synpilot.d\\x7f\\\\\",\\\\\"AUD_FILENAME\\\\\":\\\\\"SAM_PUBLIC_MONTHLY_V2_20241103.d\\x7f\\\\\",\\\\\"EffectiveFromDate\\\\\":\\\\\"2024-11-03\\\\\",\\\\\"UNIQUE_ENTITY_ID\\\\\":\\\\\"HZZXWHM2S8A7\\\\\",\\\\\"ENTITY_EFT_INDICATOR\\\\\":\\\\\"ZZ63\\\\\",\\\\\"CAGE_CODE\\\\\":\\\\\"ZAZ25\\\\\",\\\\\"DODAAC\\\\\":\\\\\"DODW91371\\\\\",\\\\\"SAM_EXTRACT_CODE\\\\\":\\\\\"E\\\\\",\\\\\"PURPOSE_OF_REGISTRATION\\\\\":\\\\\"Z5\\\\\",\\\\\"INITIAL_REGISTRATION_DATE\\\\\":\\\\\"2024-10-30\\\\\",\\\\\"REGISTRATION_EXPIRATION_DATE\\\\\":\\\\\"20260930\\\\\",\\\\\"LAST_UPDATE_DATE\\\\\":\\\\\"20241103\\\\\",\\\\\"ACTIVATION_DATE\\\\\":\\\\\"20241102\\\\\",\\\\\"LEGAL_BUSINESS_NAME\\\\\":\\\\\"ZZ POWER EQUIPMENT LLC\\\\\",\\\\\"DBA_NAME\\\\\":\\\\\"ZYP COATINGS INC\\\\\",\\\\\"ENTITY_DIVISION_NAME\\\\\":\\\\\"`\\\\\",\\\\\"ENTITY_DIVISION_NUMBER\\\\\":\\\\\"ZUBER D.O.\\\\\",\\\\\"PHYSICAL_ADDRESS_LINE_1\\\\\":\\\\\"[\\'WWW.PAYLESSLOGISTICS.COM\\', \\'PA\\x7f\\\\\",\\\\\"PHYSICAL_ADDRESS_LINE_2\\\\\":\\\\\"ZONE 4\\\\\",\\\\\"PHYSICAL_ADDRESS_CITY\\\\\":\\\\\"ZWOLLE\\\\\",\\\\\"PHYSICAL_ADDRESS_PROVINCE_OR_STATE\\\\\":\\\\\"ZG\\\\\",\\\\\"PHYSICAL_ADDRESS_ZIP/POSTAL_CODE\\\\\":\\\\\"ZBG 4351\\\\\",\\\\\"PHYSICAL_ADDRESS_ZIP_CODE_4\\\\\":\\\\\"9999\\\\\",\\\\\"PHYSICAL_ADDRESS_COUNTRY_CODE\\\\\":\\\\\"ZWE\\\\\",\\\\\"PHYSICAL_ADDRESS_CONGRESSIONAL_DISTRICT\\\\\":\\\\\"98\\\\\"},\\\\\"nullCount\\\\\":{\\\\\"entityKey\\\\\":0,\\\\\"AUD_HASH_CODE\\\\\":0,\\\\\"AUD_SEQ_ID\\\\\":0,\\\\\"AUD_ACTIVE_FLAG\\\\\":0,\\\\\"AUD_DIRECTORY\\\\\":0,\\\\\"AUD_FILENAME\\\\\":0,\\\\\"EffectiveFromDate\\\\\":0,\\\\\"EffectiveToDate\\\\\":43467,\\\\\"UNIQUE_ENTITY_ID\\\\\":0,\\\\\"BLANK_DEPRECATED\\\\\":43467,\\\\\"ENTITY_EFT_INDICATOR\\\\\":43117,\\\\\"CAGE_CODE\\\\\":4051,\\\\\"DODAAC\\\\\":43436,\\\\\"SAM_EXTRACT_CODE\\\\\":0,\\\\\"PURPOSE_OF_REGISTRATION\\\\\":0,\\\\\"INITIAL_REGISTRATION_DATE\\\\\":0,\\\\\"REGISTRATION_EXPIRATION_DATE\\\\\":0,\\\\\"LAST_UPDATE_DATE\\\\\":0,\\\\\"ACTIVATION_DATE\\\\\":0,\\\\\"LEGAL_BUSINESS_NAME\\\\\":0,\\\\\"DBA_NAME\\\\\":34372,\\\\\"ENTITY_DIVISION_NAME\\\\\":32202,\\\\\"ENTITY_DIVISION_NUMBER\\\\\":40819,\\\\\"PHYSICAL_ADDRESS_LINE_1\\\\\":0,\\\\\"PHYSICAL_ADDRESS_LINE_2\\\\\":39579,\\\\\"PHYSICAL_ADDRESS_CITY\\\\\":0,\\\\\"PHYSICAL_ADDRESS_PROVINCE_OR_STATE\\\\\":1788,\\\\\"PHYSICAL_ADDRESS_ZIP/POSTAL_CODE\\\\\":814,\\\\\"PHYSICAL_ADDRESS_ZIP_CODE_4\\\\\":3365,\\\\\"PHYSICAL_ADDRESS_COUNTRY_CODE\\\\\":0,\\\\\"PHYSICAL_ADDRESS_CONGRESSIONAL_DISTRICT\\\\\":2153,\\\\\"D&B_OPEN_DATA_FLAG\\\\\":43467}}\",\"tags\":{}}}']"
            ]
          },
          "execution_count": 87,
          "metadata": {},
          "output_type": "execute_result"
        }
      ],
      "source": [
        "# Read Delta Log of the sam_main write\n",
        "[log_line.value for log_line in spark.read.text(silver_path + \"_delta_log/\").collect()]"
      ]
    },
    {
      "cell_type": "markdown",
      "metadata": {
        "nteract": {
          "transient": {
            "deleting": false
          }
        }
      },
      "source": [
        "# <font size=\"5\">12 (optional). Run Z-Order clustering on data"
      ]
    },
    {
      "cell_type": "code",
      "execution_count": 43,
      "metadata": {
        "jupyter": {
          "outputs_hidden": false,
          "source_hidden": false
        },
        "nteract": {
          "transient": {
            "deleting": false
          }
        }
      },
      "outputs": [
        {
          "data": {
            "application/vnd.livy.statement-meta+json": {
              "execution_finish_time": "2025-06-12T02:09:22.5990082Z",
              "execution_start_time": "2025-06-12T02:08:44.2661967Z",
              "livy_statement_state": "available",
              "normalized_state": "finished",
              "parent_msg_id": "ad8c4323-fc87-448a-8fb3-5f2b9484880c",
              "queued_time": "2025-06-12T02:05:50.7069977Z",
              "session_id": "2",
              "session_start_time": null,
              "spark_jobs": null,
              "spark_pool": "spk3u4py3u10",
              "state": "finished",
              "statement_id": 44,
              "statement_ids": [
                44
              ]
            },
            "text/plain": [
              "StatementMeta(spk3u4py3u10, 2, 44, Finished, Available, Finished)"
            ]
          },
          "metadata": {},
          "output_type": "display_data"
        },
        {
          "data": {
            "text/plain": [
              "DataFrame[path: string, metrics: struct<numFilesAdded:bigint,numFilesRemoved:bigint,filesAdded:struct<min:bigint,max:bigint,avg:double,totalFiles:bigint,totalSize:bigint>,filesRemoved:struct<min:bigint,max:bigint,avg:double,totalFiles:bigint,totalSize:bigint>,filesRemovedBreakdown:array<struct<reason:string,metrics:struct<min:bigint,max:bigint,avg:double,totalFiles:bigint,totalSize:bigint>>>,partitionsOptimized:bigint,zOrderStats:struct<strategyName:string,inputCubeFiles:struct<num:bigint,size:bigint>,inputOtherFiles:struct<num:bigint,size:bigint>,inputNumCubes:bigint,mergedFiles:struct<num:bigint,size:bigint>,numOutputCubes:bigint,mergedNumCubes:bigint>,numBatches:bigint,totalConsideredFiles:bigint,totalFilesSkipped:bigint,preserveInsertionOrder:boolean,numFilesSkippedToReduceWriteAmplification:bigint,numBytesSkippedToReduceWriteAmplification:bigint,startTimeMs:bigint,endTimeMs:bigint,totalClusterParallelism:bigint,totalScheduledTasks:bigint,autoCompactParallelismStats:struct<maxClusterActiveParallelism:bigint,minClusterActiveParallelism:bigint,maxSessionActiveParallelism:bigint,minSessionActiveParallelism:bigint>,deletionVectorStats:struct<numDeletionVectorsRemoved:bigint,numDeletionVectorRowsRemoved:bigint>,numTableColumns:bigint,numTableColumnsWithStats:bigint>]"
            ]
          },
          "execution_count": 89,
          "metadata": {},
          "output_type": "execute_result"
        }
      ],
      "source": [
        "# Run Z-Order clustering on data\n",
        "# Note - order by keys may not be optimal for queries in daily file load yet\n",
        "delta.DeltaTable.forPath(spark, silver_path) \\\n",
        "    .optimize() \\\n",
        "    .executeZOrderBy(\"AUD_SEQ_ID\", \"AUD_HASH_CODE\") "
      ]
    },
    {
      "cell_type": "code",
      "execution_count": 45,
      "metadata": {
        "collapsed": false
      },
      "outputs": [
        {
          "data": {
            "application/vnd.livy.statement-meta+json": {
              "execution_finish_time": "2025-06-12T02:09:34.9461289Z",
              "execution_start_time": "2025-06-12T02:09:31.8843335Z",
              "livy_statement_state": "available",
              "normalized_state": "finished",
              "parent_msg_id": "9d1f2f91-dcd9-4956-8611-6b9de5558bec",
              "queued_time": "2025-06-12T02:09:31.8806667Z",
              "session_id": "2",
              "session_start_time": null,
              "spark_jobs": null,
              "spark_pool": "spk3u4py3u10",
              "state": "finished",
              "statement_id": 46,
              "statement_ids": [
                46
              ]
            },
            "text/plain": [
              "StatementMeta(spk3u4py3u10, 2, 46, Finished, Available, Finished)"
            ]
          },
          "metadata": {},
          "output_type": "display_data"
        },
        {
          "data": {
            "application/vnd.synapse.widget-view+json": {
              "widget_id": "2507452b-844a-49b9-bcd3-144141c31569",
              "widget_type": "Synapse.DataFrame"
            },
            "text/plain": [
              "SynapseWidget(Synapse.DataFrame, 2507452b-844a-49b9-bcd3-144141c31569)"
            ]
          },
          "metadata": {},
          "output_type": "display_data"
        }
      ],
      "source": [
        "# Preview record in this monthly file that has an update in the daily file\n",
        "row_df = spark.read.format(\"delta\").load(silver_path).filter(col(\"UNIQUE_ENTITY_ID\") == lit('F743Q1LZ3VN9'))\n",
        "display(row_df.select(\"UNIQUE_ENTITY_ID\", \"LEGAL_BUSINESS_NAME\", \"entityKey\", \"AUD_SEQ_ID\", \"AUD_HASH_CODE\", \"AUD_DIRECTORY\", \"AUD_FILENAME\", \"AUD_ACTIVE_FLAG\", \"EffectiveFromDate\", \"EffectiveToDate\"))"
      ]
    },
    {
      "cell_type": "code",
      "execution_count": 46,
      "metadata": {},
      "outputs": [
        {
          "data": {
            "application/vnd.livy.statement-meta+json": {
              "execution_finish_time": "2025-06-12T02:31:21.7854111Z",
              "execution_start_time": "2025-06-12T02:31:21.5120626Z",
              "livy_statement_state": "available",
              "normalized_state": "finished",
              "parent_msg_id": "e25818a8-2810-4eec-90ca-2ccb89b501c1",
              "queued_time": "2025-06-12T02:31:21.5086138Z",
              "session_id": "2",
              "session_start_time": null,
              "spark_jobs": null,
              "spark_pool": "spk3u4py3u10",
              "state": "finished",
              "statement_id": 47,
              "statement_ids": [
                47
              ]
            },
            "text/plain": [
              "StatementMeta(spk3u4py3u10, 2, 47, Finished, Available, Finished)"
            ]
          },
          "metadata": {},
          "output_type": "display_data"
        },
        {
          "name": "stdout",
          "output_type": "stream",
          "text": [
            "['entityKey', 'AUD_HASH_CODE', 'AUD_SEQ_ID', 'AUD_ACTIVE_FLAG', 'AUD_DIRECTORY', 'AUD_FILENAME', 'EffectiveFromDate', 'EffectiveToDate', 'UNIQUE_ENTITY_ID', 'BLANK_DEPRECATED', 'ENTITY_EFT_INDICATOR', 'CAGE_CODE', 'DODAAC', 'SAM_EXTRACT_CODE', 'PURPOSE_OF_REGISTRATION', 'INITIAL_REGISTRATION_DATE', 'REGISTRATION_EXPIRATION_DATE', 'LAST_UPDATE_DATE', 'ACTIVATION_DATE', 'LEGAL_BUSINESS_NAME', 'DBA_NAME', 'ENTITY_DIVISION_NAME', 'ENTITY_DIVISION_NUMBER', 'PHYSICAL_ADDRESS_LINE_1', 'PHYSICAL_ADDRESS_LINE_2', 'PHYSICAL_ADDRESS_CITY', 'PHYSICAL_ADDRESS_PROVINCE_OR_STATE', 'PHYSICAL_ADDRESS_ZIP/POSTAL_CODE', 'PHYSICAL_ADDRESS_ZIP_CODE_4', 'PHYSICAL_ADDRESS_COUNTRY_CODE', 'PHYSICAL_ADDRESS_CONGRESSIONAL_DISTRICT', 'D&B_OPEN_DATA_FLAG', 'ENTITY_START_DATE', 'FISCAL_YEAR_END_CLOSE_DATE', 'ENTITY_URL', 'ENTITY_STRUCTURE', 'STATE_OF_INCORPORATION', 'COUNTRY_OF_INCORPORATION', 'BUSINESS_TYPE_COUNTER', 'BUS_TYPE_STRING', 'PRIMARY_NAICS', 'NAICS_CODE_COUNTER', 'NAICS_CODE_STRING', 'PSC_CODE_COUNTER', 'PSC_CODE_STRING', 'CREDIT_CARD_USAGE', 'CORRESPONDENCE_FLAG', 'MAILING_ADDRESS_LINE_1', 'MAILING_ADDRESS_LINE_2', 'MAILING_ADDRESS_CITY', 'MAILING_ADDRESS_ZIP/POSTAL_CODE', 'MAILING_ADDRESS_ZIP_CODE_4', 'MAILING_ADDRESS_COUNTRY', 'MAILING_ADDRESS_STATE_OR_PROVINCE', 'GOVT_BUS_POC_FIRST_NAME', 'GOVT_BUS_POC_MIDDLE_INITIAL', 'GOVT_BUS_POC_LAST_NAME', 'GOVT_BUS_POC_TITLE', 'GOVT_BUS_POC_ST_ADD_1', 'GOVT_BUS_POC_ST_ADD_2', 'GOVT_BUS_POC_CITY', 'GOVT_BUS_POC_ZIP/POSTAL_CODE', 'GOVT_BUS_POC_ZIP_CODE_4', 'GOVT_BUS_POC_COUNTRY_CODE', 'GOVT_BUS_POC_STATE_OR_PROVINCE', 'ALT_GOVT_BUS_POC_FIRST_NAME', 'ALT_GOVT_BUS_POC_MIDDLE_INITIAL', 'ALT_GOVT_BUS_POC_LAST_NAME', 'ALT_GOVT_BUS_POC_TITLE', 'ALT_GOVT_BUS_POC_ST_ADD_1', 'ALT_GOVT_BUS_POC_ST_ADD_2', 'ALT_GOVT_BUS_POC_CITY', 'ALT_GOVT_BUS_POC_ZIP/POSTAL_CODE', 'ALT_GOVT_BUS_POC_ZIP_CODE_4', 'ALT_GOVT_BUS_POC_COUNTRY_CODE', 'ALT_GOVT_BUS_POC_STATE_OR_PROVINCE', 'PAST_PERF_POC_POC_FIRST_NAME', 'PAST_PERF_POC_POC_MIDDLE_INITIAL', 'PAST_PERF_POC_POC_LAST_NAME', 'PAST_PERF_POC_POC_TITLE', 'PAST_PERF_POC_ST_ADD_1', 'PAST_PERF_POC_ST_ADD_2', 'PAST_PERF_POC_CITY', 'PAST_PERF_POC_ZIP/POSTAL_CODE', 'PAST_PERF_POC_ZIP_CODE_4', 'PAST_PERF_POC_COUNTRY_CODE', 'PAST_PERF_POC_STATE_OR_PROVINCE', 'ALT_PAST_PERF_POC_FIRST_NAME', 'ALT_PAST_PERF_POC_MIDDLE_INITIAL', 'ALT_PAST_PERF_POC_LAST_NAME', 'ALT_PAST_PERF_POC_TITLE', 'ALT_PAST_PERF_POC_ST_ADD_1', 'ALT_PAST_PERF_POC_ST_ADD_2', 'ALT_PAST_PERF_POC_CITY', 'ALT_PAST_PERF_POC_ZIP/POSTAL_CODE', 'ALT_PAST_PERF_POC_ZIP_CODE_4', 'ALT_PAST_PERF_POC_COUNTRY_CODE', 'ALT_PAST_PERF_POC_STATE_OR_PROVINCE', 'ELEC_BUS_POC_FIRST_NAME', 'ELEC_BUS_POC_MIDDLE_INITIAL', 'ELEC_BUS_POC_LAST_NAME', 'ELEC_BUS_POC_TITLE', 'ELEC_BUS_POC_ST_ADD_1', 'ELEC_BUS_POC_ST_ADD_2', 'ELEC_BUS_POC_CITY', 'ELEC_BUS_POC_ZIP/POSTAL_CODE', 'ELEC_BUS_POC_ZIP_CODE_4', 'ELEC_BUS_POC_COUNTRY_CODE', 'ELEC_BUS_POC_STATE_OR_PROVINCE', 'ALT_ELEC_POC_BUS_POC_FIRST_NAME', 'ALT_ELEC_POC_BUS_POC_MIDDLE_INITIAL', 'ALT_ELEC_POC_BUS_POC_LAST_NAME', 'ALT_ELEC_POC_BUS_POC_TITLE', 'ALT_ELEC_POC_BUS_ST_ADD_1', 'ALT_ELEC_POC_BUS_ST_ADD_2', 'ALT_ELEC_POC_BUS_CITY', 'ALT_ELEC_POC_BUS_ZIP/POSTAL_CODE', 'ALT_ELEC_POC_BUS_ZIP_CODE_4', 'ALT_ELEC_POC_BUS_COUNTRY_CODE', 'ALT_ELEC_POC_BUS_STATE_OR_PROVINCE', 'NAICS_EXCEPTION_COUNTER', 'NAICS_EXCEPTION_STRING', 'DEBT_SUBJECT_TO_OFFSET_FLAG', 'EXCLUSION_STATUS_FLAG', 'SBA_BUSINESS_TYPES_COUNTER', 'SBA_BUSINESS_TYPES_STRING', 'NO_PUBLIC_DISPLAY_FLAG', 'DISASTER_RESPONSE_COUNTER', 'DISASTER_RESPONSE_STRING', 'ENTITY_EVS_SOURCE', 'FLEX_FIELD_1', 'FLEX_FIELD_2', 'FLEX_FIELD_3', 'FLEX_FIELD_4', 'FLEX_FIELD_5', 'FLEX_FIELD_6', 'FLEX_FIELD_7', 'FLEX_FIELD_8', 'FLEX_FIELD_9', 'FLEX_FIELD_10', 'FLEX_FIELD_11', 'FLEX_FIELD_12', 'FLEX_FIELD_13', 'FLEX_FIELD_14', 'FLEX_FIELD_15', 'FLEX_FIELD_16', 'FLEX_FIELD_17', 'FLEX_FIELD_18', 'FLEX_FIELD_19', 'END_OF_RECORD_INDICATOR', 'PARTITION_KEY']\n"
          ]
        }
      ],
      "source": [
        "print(row_df.columns)"
      ]
    }
  ],
  "metadata": {
    "description": null,
    "kernel_info": {
      "name": "synapse_pyspark"
    },
    "kernelspec": {
      "display_name": "Synapse PySpark",
      "language": "Python",
      "name": "synapse_pyspark"
    },
    "language_info": {
      "name": "python"
    },
    "save_output": true,
    "synapse_widget": {
      "state": {
        "03ca53e5-1420-49ed-8dcc-a43461b06ab7": {
          "persist_state": {
            "view": {
              "chartOptions": {
                "aggregationType": "count",
                "categoryFieldKeys": [
                  "0"
                ],
                "chartType": "bar",
                "isStacked": false,
                "seriesFieldKeys": [
                  "0"
                ]
              },
              "tableOptions": {},
              "type": "details"
            }
          },
          "sync_state": {
            "isSummary": false,
            "language": "scala",
            "table": {
              "rows": [
                {
                  "0": "C111ATT311C853YC5",
                  "1": "C111ATT311C8",
                  "2": "53YC5"
                },
                {
                  "0": "C111BG66D1556M9A6",
                  "1": "C111BG66D155",
                  "2": "6M9A6"
                },
                {
                  "0": "C111FE1KRJF16T4Q4",
                  "1": "C111FE1KRJF1",
                  "2": "6T4Q4"
                },
                {
                  "0": "C111JJBMS3286PA87",
                  "1": "C111JJBMS328",
                  "2": "6PA87"
                },
                {
                  "0": "C112Q3D8VPM350JA8",
                  "1": "C112Q3D8VPM3",
                  "2": "50JA8"
                },
                {
                  "0": "C112YNTNMG994PVE2",
                  "1": "C112YNTNMG99",
                  "2": "4PVE2"
                },
                {
                  "0": "C112ZNS5HMR47UNS3",
                  "1": "C112ZNS5HMR4",
                  "2": "7UNS3"
                },
                {
                  "0": "C113A7U19RD55LXD1",
                  "1": "C113A7U19RD5",
                  "2": "5LXD1"
                },
                {
                  "0": "C113E4798JC562EJ7",
                  "1": "C113E4798JC5",
                  "2": "62EJ7"
                },
                {
                  "0": "C113F9JLF4D96TSS5",
                  "1": "C113F9JLF4D9",
                  "2": "6TSS5"
                }
              ],
              "schema": [
                {
                  "key": "0",
                  "name": "entityKey",
                  "type": "string"
                },
                {
                  "key": "1",
                  "name": "UNIQUE_ENTITY_ID",
                  "type": "string"
                },
                {
                  "key": "2",
                  "name": "CAGE_CODE",
                  "type": "string"
                },
                {
                  "key": "3",
                  "name": "DODAAC",
                  "type": "string"
                }
              ],
              "truncated": false
            },
            "wranglerEntryContext": {
              "dataframeType": "pyspark"
            }
          },
          "type": "Synapse.DataFrame"
        },
        "2507452b-844a-49b9-bcd3-144141c31569": {
          "persist_state": {
            "view": {
              "chartOptions": {
                "aggregationType": "sum",
                "categoryFieldKeys": [
                  "0"
                ],
                "chartType": "bar",
                "isStacked": false,
                "seriesFieldKeys": [
                  "3"
                ]
              },
              "tableOptions": {},
              "type": "details"
            }
          },
          "sync_state": {
            "isSummary": false,
            "language": "scala",
            "table": {
              "rows": [
                {
                  "0": "F743Q1LZ3VN9",
                  "1": "LAW OFFICES OF YOLANDA J. RILEY, LLC, THE",
                  "2": "F743Q1LZ3VN9",
                  "3": "139478",
                  "4": "45d76da92fee624f1b5b2ce91e4b1070b000525d9aa1640aa29113d06ddcd35e",
                  "5": "abfss://bronze@staaz01synpilot.dfs.core.usgovcloudapi.net/GSA_SAM_PUBLIC/",
                  "6": "SAM_PUBLIC_MONTHLY_V2_20241103.dat",
                  "7": "Y",
                  "8": "2024-11-03"
                },
                {
                  "0": "F743Q1LZ3VN9",
                  "1": "LAW OFFICES OF YOLANDA J. RILEY, LLC, THE",
                  "2": "F743Q1LZ3VN98YRW5",
                  "3": "139479",
                  "4": "3232f6fafccce59f224c66e7008cbbdd96d1c44a1f227613fee36e9dfb431119",
                  "5": "abfss://bronze@staaz01synpilot.dfs.core.usgovcloudapi.net/GSA_SAM_PUBLIC/",
                  "6": "SAM_PUBLIC_MONTHLY_V2_20241103.dat",
                  "7": "Y",
                  "8": "2024-11-03"
                }
              ],
              "schema": [
                {
                  "key": "0",
                  "name": "UNIQUE_ENTITY_ID",
                  "type": "string"
                },
                {
                  "key": "1",
                  "name": "LEGAL_BUSINESS_NAME",
                  "type": "string"
                },
                {
                  "key": "2",
                  "name": "entityKey",
                  "type": "string"
                },
                {
                  "key": "3",
                  "name": "AUD_SEQ_ID",
                  "type": "bigint"
                },
                {
                  "key": "4",
                  "name": "AUD_HASH_CODE",
                  "type": "string"
                },
                {
                  "key": "5",
                  "name": "AUD_DIRECTORY",
                  "type": "string"
                },
                {
                  "key": "6",
                  "name": "AUD_FILENAME",
                  "type": "string"
                },
                {
                  "key": "7",
                  "name": "AUD_ACTIVE_FLAG",
                  "type": "string"
                },
                {
                  "key": "8",
                  "name": "EffectiveFromDate",
                  "type": "date"
                },
                {
                  "key": "9",
                  "name": "EffectiveToDate",
                  "type": "date"
                }
              ],
              "truncated": false
            },
            "wranglerEntryContext": {
              "dataframeType": "pyspark"
            }
          },
          "type": "Synapse.DataFrame"
        },
        "3f676005-0cff-4d70-ba36-874357162397": {
          "persist_state": {
            "view": {
              "chartOptions": {
                "aggregationType": "count",
                "categoryFieldKeys": [
                  "0"
                ],
                "chartType": "bar",
                "isStacked": false,
                "seriesFieldKeys": [
                  "0"
                ]
              },
              "tableOptions": {},
              "type": "details"
            }
          },
          "sync_state": {
            "isSummary": false,
            "language": "scala",
            "table": {
              "rows": [
                {
                  "0": "abfss://bronze@staaz01synpilot.dfs.core.usgovcloudapi.net/GSA_SAM_PUBLIC/",
                  "1": "SAM_PUBLIC_MONTHLY_V2_20241103.dat",
                  "2": "Y",
                  "3": "2024-11-03"
                },
                {
                  "0": "abfss://bronze@staaz01synpilot.dfs.core.usgovcloudapi.net/GSA_SAM_PUBLIC/",
                  "1": "SAM_PUBLIC_MONTHLY_V2_20241103.dat",
                  "2": "Y",
                  "3": "2024-11-03"
                }
              ],
              "schema": [
                {
                  "key": "0",
                  "name": "AUD_DIRECTORY",
                  "type": "string"
                },
                {
                  "key": "1",
                  "name": "AUD_FILENAME",
                  "type": "string"
                },
                {
                  "key": "2",
                  "name": "AUD_ACTIVE_FLAG",
                  "type": "string"
                },
                {
                  "key": "3",
                  "name": "EffectiveFromDate",
                  "type": "date"
                },
                {
                  "key": "4",
                  "name": "EffectiveToDate",
                  "type": "date"
                }
              ],
              "truncated": false
            },
            "wranglerEntryContext": {
              "dataframeType": "pyspark"
            }
          },
          "type": "Synapse.DataFrame"
        },
        "8cca1d57-a47e-4b5f-b2ab-4aba14ee448c": {
          "persist_state": {
            "view": {
              "chartOptions": {
                "aggregationType": "sum",
                "categoryFieldKeys": [
                  "0"
                ],
                "chartType": "bar",
                "isStacked": false,
                "seriesFieldKeys": [
                  "1"
                ]
              },
              "tableOptions": {},
              "type": "details"
            }
          },
          "sync_state": {
            "isSummary": false,
            "language": "scala",
            "table": {
              "rows": [
                {
                  "0": "C111ATT311C853YC5",
                  "1": "1",
                  "2": "2a7c217c3385ce5f1f5512abcabc383d2bee52dcbe88530bf159bed80a103fa3",
                  "3": "abfss://bronze@staaz01synpilot.dfs.core.usgovcloudapi.net/GSA_SAM_PUBLIC/",
                  "4": "SAM_PUBLIC_MONTHLY_V2_20241103.dat",
                  "5": "Y",
                  "6": "2024-11-03"
                },
                {
                  "0": "C111BG66D1556M9A6",
                  "1": "2",
                  "2": "792ca64dbbbfd6da3b17b45ef05dbf8599af86f32ae1fdafa7afb931e96d0c5b",
                  "3": "abfss://bronze@staaz01synpilot.dfs.core.usgovcloudapi.net/GSA_SAM_PUBLIC/",
                  "4": "SAM_PUBLIC_MONTHLY_V2_20241103.dat",
                  "5": "Y",
                  "6": "2024-11-03"
                }
              ],
              "schema": [
                {
                  "key": "0",
                  "name": "entityKey",
                  "type": "string"
                },
                {
                  "key": "1",
                  "name": "AUD_SEQ_ID",
                  "type": "bigint"
                },
                {
                  "key": "2",
                  "name": "AUD_HASH_CODE",
                  "type": "string"
                },
                {
                  "key": "3",
                  "name": "AUD_DIRECTORY",
                  "type": "string"
                },
                {
                  "key": "4",
                  "name": "AUD_FILENAME",
                  "type": "string"
                },
                {
                  "key": "5",
                  "name": "AUD_ACTIVE_FLAG",
                  "type": "string"
                },
                {
                  "key": "6",
                  "name": "EffectiveFromDate",
                  "type": "date"
                },
                {
                  "key": "7",
                  "name": "EffectiveToDate",
                  "type": "date"
                }
              ],
              "truncated": false
            },
            "wranglerEntryContext": {
              "dataframeType": "pyspark"
            }
          },
          "type": "Synapse.DataFrame"
        },
        "ceb40075-1e2a-4f6e-af57-f53be17b840d": {
          "persist_state": {
            "view": {
              "chartOptions": {
                "aggregationType": "count",
                "categoryFieldKeys": [
                  "0"
                ],
                "chartType": "bar",
                "isStacked": false,
                "seriesFieldKeys": [
                  "0"
                ]
              },
              "tableOptions": {},
              "type": "details"
            }
          },
          "sync_state": {
            "isSummary": false,
            "language": "scala",
            "table": {
              "rows": [
                {
                  "0": "C111ATT311C8",
                  "3": "53YC5",
                  "5": "A",
                  "6": "Z2",
                  "7": "20131112",
                  "8": "20250625",
                  "9": "20240627",
                  "10": "20240627",
                  "11": "K & K CONSTRUCTION SUPPLY INC",
                  "15": "11400 WHITE ROCK RD",
                  "17": "RANCHO CORDOVA",
                  "18": "CA",
                  "19": "95742",
                  "20": "6600",
                  "21": "USA",
                  "22": "06",
                  "24": "20060525",
                  "25": "1215",
                  "26": "www.kkconstructionsupply.com",
                  "27": "2L",
                  "28": "NV",
                  "29": "USA",
                  "30": "0005",
                  "31": "2X~8W~A2~HQ~XS",
                  "32": "423390",
                  "33": "0009",
                  "34": "423310Y~423320Y~423390Y~423510Y~423710Y~423990Y~424690Y~424950Y~444110Y",
                  "35": "0001",
                  "36": "5680",
                  "37": "Y",
                  "39": "11400 WHITE ROCK ROAD",
                  "41": "RANCHO CORDOVA",
                  "42": "95742",
                  "43": "7518",
                  "44": "USA",
                  "45": "CA",
                  "46": "TRACY",
                  "48": "LOVELAND",
                  "49": "DIRECTOR",
                  "50": "11400 WHITE ROCK ROAD",
                  "52": "RANCHO CORDOVA",
                  "53": "95742",
                  "55": "USA",
                  "56": "CA",
                  "90": "TRACY",
                  "92": "LOVELAND",
                  "93": "PRESIDENT",
                  "94": "11400 WHITE ROCK ROAD",
                  "96": "RANCHO CORDOVA",
                  "97": "95742",
                  "99": "USA",
                  "100": "CA",
                  "112": "0000",
                  "114": "N",
                  "116": "0000",
                  "119": "0000",
                  "121": "E&Y",
                  "141": "!end"
                },
                {
                  "0": "C111BG66D155",
                  "3": "6M9A6",
                  "5": "A",
                  "6": "Z1",
                  "7": "20111228",
                  "8": "20250724",
                  "9": "20240729",
                  "10": "20240726",
                  "11": "NEW ADVANCES FOR PEOPLE WITH DISABILITIES",
                  "12": "NAPD",
                  "13": "NAPD",
                  "15": "3400 N SILLECT AVE",
                  "17": "BAKERSFIELD",
                  "18": "CA",
                  "19": "93308",
                  "20": "6363",
                  "21": "USA",
                  "22": "20",
                  "24": "19750301",
                  "25": "0922",
                  "26": "www.napd-bak.org",
                  "27": "8H",
                  "28": "CA",
                  "29": "USA",
                  "30": "0001",
                  "31": "A8",
                  "33": "0000",
                  "35": "0000",
                  "37": "Y",
                  "39": "3400 N. SILLECT AVENUE",
                  "41": "BAKERSFIELD",
                  "42": "93308",
                  "43": "1815",
                  "44": "USA",
                  "45": "CA",
                  "46": "RICHARD",
                  "48": "BARENCHI",
                  "49": "DIRECTOR OF OPERATIONS & FINANCE",
                  "50": "3400 N. SILLECT AVENUE",
                  "52": "BAKERSFIELD",
                  "53": "93308",
                  "55": "USA",
                  "56": "CA",
                  "90": "RICHARD",
                  "92": "BARENCHI",
                  "93": "DIRECTOR OF OPERATIONS & FINANCE",
                  "94": "3400 N. SILLECT AVENUE",
                  "96": "BAKERSFIELD",
                  "97": "93308",
                  "99": "USA",
                  "100": "CA",
                  "112": "0000",
                  "114": "N",
                  "116": "0000",
                  "119": "0000",
                  "121": "E&Y",
                  "141": "!end"
                },
                {
                  "0": "C111FE1KRJF1",
                  "3": "6T4Q4",
                  "5": "A",
                  "6": "Z1",
                  "7": "20121105",
                  "8": "20250123",
                  "9": "20240129",
                  "10": "20240126",
                  "11": "RIDE ON ST. LOUIS, INC.",
                  "15": "5 N LAKE DR",
                  "17": "HILLSBORO",
                  "18": "MO",
                  "19": "63050",
                  "20": "4408",
                  "21": "USA",
                  "22": "03",
                  "24": "20000225",
                  "25": "1231",
                  "26": "www.rideonstl.org",
                  "27": "8H",
                  "28": "MO",
                  "29": "USA",
                  "30": "0001",
                  "31": "A8",
                  "33": "0000",
                  "35": "0000",
                  "37": "Y",
                  "39": "PO BOX 94",
                  "41": "KIMMSWICK",
                  "42": "63053",
                  "44": "USA",
                  "45": "MO",
                  "46": "MARITA",
                  "47": "A",
                  "48": "WASSMAN",
                  "50": "PO BOX 94",
                  "52": "KIMMSWICK",
                  "53": "63053",
                  "55": "USA",
                  "56": "MO",
                  "90": "BRIANN",
                  "91": "M",
                  "92": "SESSION",
                  "94": "PO BOX 94",
                  "96": "KIMMSWICK",
                  "97": "63053",
                  "99": "USA",
                  "100": "MO",
                  "112": "0000",
                  "114": "N",
                  "116": "0000",
                  "119": "0000",
                  "121": "E&Y",
                  "141": "!end"
                },
                {
                  "0": "C111JJBMS328",
                  "3": "6PA87",
                  "5": "A",
                  "6": "Z2",
                  "7": "20120309",
                  "8": "20250806",
                  "9": "20240808",
                  "10": "20240808",
                  "11": "EMERZIAN WOODWORKING, INC.",
                  "12": "EMERZIAN WOODWORKING INC",
                  "13": "EMERZIAN WOODWORKING, INC.",
                  "15": "2555 N ARGYLE AVE",
                  "17": "FRESNO",
                  "18": "CA",
                  "19": "93727",
                  "20": "1378",
                  "21": "USA",
                  "22": "21",
                  "24": "19850601",
                  "25": "1231",
                  "27": "2L",
                  "28": "CA",
                  "29": "USA",
                  "30": "0002",
                  "31": "2X~MF",
                  "32": "238350",
                  "33": "0007",
                  "34": "238350N~321918Y~326199Y~337110Y~337127Y~337211Y~337215Y",
                  "35": "0015",
                  "36": "5670~7125~Y1AA~Y1FA~Y1FD~Y1QA~Z1AA~Z1FA~Z1JZ~Z1QA~Z2AA~Z2CZ~Z2DA~Z2JA~Z2QA",
                  "37": "Y",
                  "39": "2555 N. ARGYLE AVE",
                  "41": "FRESNO",
                  "42": "93727",
                  "43": "1378",
                  "44": "USA",
                  "45": "CA",
                  "46": "TOM",
                  "48": "EMERZIAN",
                  "50": "2555 N ARGYLE AVE",
                  "52": "FRESNO",
                  "53": "93727",
                  "54": "1378",
                  "55": "USA",
                  "56": "CA",
                  "57": "KELLY",
                  "59": "BROWN",
                  "61": "2555 N ARGYLE AVE",
                  "63": "FRESNO",
                  "64": "93727",
                  "65": "1378",
                  "66": "USA",
                  "67": "CA",
                  "79": "KELLY",
                  "81": "BROWN",
                  "83": "2555 N. ARGYLE AVE",
                  "85": "FRESNO",
                  "86": "93727",
                  "88": "USA",
                  "89": "CA",
                  "90": "THOMAS",
                  "92": "EMERZIAN",
                  "94": "2555 N ARGYLE",
                  "96": "FRESNO",
                  "97": "93727",
                  "98": "1378",
                  "99": "USA",
                  "100": "CA",
                  "101": "KELLY",
                  "103": "BROWN",
                  "105": "2555 N. ARGYLE AVE",
                  "107": "FRESNO",
                  "108": "93727",
                  "110": "USA",
                  "111": "CA",
                  "112": "0000",
                  "114": "N",
                  "116": "0000",
                  "119": "0000",
                  "121": "E&Y",
                  "141": "!end"
                },
                {
                  "0": "C112Q3D8VPM3",
                  "3": "50JA8",
                  "5": "A",
                  "6": "Z2",
                  "7": "20080306",
                  "8": "20250809",
                  "9": "20240813",
                  "10": "20240813",
                  "11": "TURF TEQ, LLC",
                  "12": "TURF TEQ LLC",
                  "13": "TURF TEQ, LLC",
                  "15": "699 TODD RD",
                  "17": "HONEY BROOK",
                  "18": "PA",
                  "19": "19344",
                  "20": "1301",
                  "21": "USA",
                  "22": "06",
                  "24": "20020626",
                  "25": "1231",
                  "26": "www.TurfTeq.com",
                  "27": "2K",
                  "28": "PA",
                  "29": "USA",
                  "30": "0003",
                  "31": "2X~LJ~MF",
                  "32": "333112",
                  "33": "0002",
                  "34": "333112Y~423820Y",
                  "35": "0001",
                  "36": "3990",
                  "37": "Y",
                  "39": "699 TODD ROAD",
                  "41": "HONEY BROOK",
                  "42": "19344",
                  "44": "USA",
                  "45": "PA",
                  "46": "JAMES",
                  "47": "R.",
                  "48": "DAY",
                  "50": "699 TODD ROAD",
                  "52": "HONEY BROOK",
                  "53": "19344",
                  "55": "USA",
                  "56": "PA",
                  "57": "JAMES",
                  "58": "R.",
                  "59": "DAY",
                  "61": "699 TODD ROAD",
                  "63": "HONEY BROOK",
                  "64": "19344",
                  "66": "USA",
                  "67": "PA",
                  "68": "JAMES",
                  "69": "R.",
                  "70": "DAY",
                  "72": "699 TODD ROAD",
                  "74": "HONEY BROOK",
                  "75": "19344",
                  "77": "USA",
                  "78": "PA",
                  "79": "JAMES",
                  "80": "R.",
                  "81": "DAY",
                  "83": "699 TODD ROAD",
                  "85": "HONEY BROOK",
                  "86": "19344",
                  "88": "USA",
                  "89": "PA",
                  "90": "JAMES",
                  "91": "R.",
                  "92": "DAY",
                  "94": "699 TODD ROAD",
                  "96": "HONEY BROOK",
                  "97": "19344",
                  "99": "USA",
                  "100": "PA",
                  "101": "JAMES",
                  "102": "R.",
                  "103": "DAY",
                  "105": "699 TODD ROAD",
                  "107": "HONEY BROOK",
                  "108": "19344",
                  "110": "USA",
                  "111": "PA",
                  "112": "0000",
                  "114": "N",
                  "116": "0000",
                  "119": "0000",
                  "121": "E&Y",
                  "141": "!end"
                },
                {
                  "0": "C112YNTNMG99",
                  "3": "4PVE2",
                  "5": "A",
                  "6": "Z2",
                  "7": "20070321",
                  "8": "20250404",
                  "9": "20240408",
                  "10": "20240408",
                  "11": "EATON REGIONAL EDUCATION SERVICE AGENCY",
                  "13": "INSTRUCTIONAL SERVICES",
                  "15": "1790 PACKARD HWY",
                  "17": "CHARLOTTE",
                  "18": "MI",
                  "19": "48813",
                  "20": "9717",
                  "21": "USA",
                  "22": "07",
                  "24": "19620701",
                  "25": "0630",
                  "27": "2A",
                  "30": "0002",
                  "31": "12~H6",
                  "32": "923110",
                  "33": "0001",
                  "34": "923110N",
                  "35": "0000",
                  "37": "N",
                  "39": "1790 PACKARD HWY",
                  "41": "CHARLOTTE",
                  "42": "48813",
                  "43": "9717",
                  "44": "USA",
                  "45": "MI",
                  "46": "SEAN",
                  "48": "WILLIAMS",
                  "49": "SUPERINTENDENT",
                  "50": "1790 PACKARD HWY",
                  "52": "CHARLOTTE",
                  "53": "48813",
                  "54": "9717",
                  "55": "USA",
                  "56": "MI",
                  "90": "TINA",
                  "92": "MONROE",
                  "93": "EXEC. DIR OF BUSINESS & OPERATIONS",
                  "94": "1790 PACKARD HWY.",
                  "96": "CHARLOTTE",
                  "97": "48813",
                  "98": "9717",
                  "99": "USA",
                  "100": "MI",
                  "112": "0000",
                  "114": "N",
                  "116": "0000",
                  "119": "0000",
                  "141": "!end"
                },
                {
                  "0": "C112ZNS5HMR4",
                  "3": "7UNS3",
                  "5": "A",
                  "6": "Z2",
                  "7": "20170413",
                  "8": "20250717",
                  "9": "20240719",
                  "10": "20240719",
                  "11": "SMILEY SIM",
                  "15": "4469 SEDGWICK ST NW",
                  "17": "WASHINGTON",
                  "18": "DC",
                  "19": "20016",
                  "20": "2713",
                  "21": "USA",
                  "22": "98",
                  "24": "20170413",
                  "25": "1231",
                  "27": "2J",
                  "28": "DC",
                  "29": "USA",
                  "30": "0003",
                  "31": "2X~8W~A2",
                  "32": "541930",
                  "33": "0002",
                  "34": "541930Y~813920Y",
                  "35": "0000",
                  "37": "Y",
                  "39": "4469 SEDGWICK ST. NW",
                  "41": "WASHINGTON",
                  "42": "20016",
                  "43": "2713",
                  "44": "USA",
                  "45": "DC",
                  "46": "SIM",
                  "48": "SMILEY",
                  "50": "4469 SEDGWICK ST. NW",
                  "52": "WASHINGTON",
                  "53": "20016",
                  "55": "USA",
                  "56": "DC",
                  "90": "SIM",
                  "92": "SMILEY",
                  "94": "4469 SEDGWICK ST. NW",
                  "96": "WASHINGTON",
                  "97": "20016",
                  "99": "USA",
                  "100": "DC",
                  "112": "0000",
                  "114": "N",
                  "116": "0000",
                  "118": "NPDY",
                  "119": "0000",
                  "121": "E&Y",
                  "141": "!end"
                },
                {
                  "0": "C113A7U19RD5",
                  "3": "5LXD1",
                  "5": "A",
                  "6": "Z2",
                  "7": "20090727",
                  "8": "20250128",
                  "9": "20240321",
                  "10": "20240131",
                  "11": "LOUTECH LLC",
                  "15": "13810 MOUNTAIN AVE",
                  "17": "CHINO",
                  "18": "CA",
                  "19": "91710",
                  "20": "9014",
                  "21": "USA",
                  "22": "35",
                  "24": "20080801",
                  "25": "1231",
                  "26": "http://www.loutech.net",
                  "27": "ZZ",
                  "28": "CA",
                  "29": "USA",
                  "30": "0003",
                  "31": "2X~LJ~MF",
                  "32": "336413",
                  "33": "0014",
                  "34": "332510Y~332710Y~332721Y~332722Y~332911Y~332994Y~332999Y~333618Y~333998Y~336390Y~336412Y~336413Y~336419Y~336992Y",
                  "35": "0016",
                  "36": "1560~1610~1615~1620~1630~1680~2010~2040~2840~2845~2850~2895~5306~5310~5342~5365",
                  "37": "Y",
                  "39": "13810 MOUNTAIN AVE.",
                  "41": "CHINO",
                  "42": "91710",
                  "43": "9014",
                  "44": "USA",
                  "45": "CA",
                  "46": "MARK",
                  "48": "SCHELBERT",
                  "49": "PRESIDENT",
                  "50": "13810 MOUNTAIN AVE.",
                  "52": "CHINO",
                  "53": "91710",
                  "54": "9014",
                  "55": "USA",
                  "56": "CA",
                  "57": "MARK",
                  "59": "SCHELBERT",
                  "61": "13810 MOUNTAIN AVE.",
                  "63": "CHINO",
                  "64": "91710",
                  "65": "9014",
                  "66": "USA",
                  "67": "CA",
                  "68": "MARK",
                  "70": "SCHELBERT",
                  "72": "13810 MOUNTAIN AVE.",
                  "74": "CHINO",
                  "75": "91710",
                  "76": "9014",
                  "77": "USA",
                  "78": "CA",
                  "79": "MARK",
                  "81": "SCHELBERT",
                  "83": "13810 MOUNTAIN AVE.",
                  "85": "CHINO",
                  "86": "91710",
                  "87": "9014",
                  "88": "USA",
                  "89": "CA",
                  "90": "MARK",
                  "92": "SCHELBERT",
                  "93": "PRESIDENT",
                  "94": "13810 MOUNTAIN AVE.",
                  "96": "CHINO",
                  "97": "91710",
                  "98": "9014",
                  "99": "USA",
                  "100": "CA",
                  "101": "MARK",
                  "103": "SCHELBERT",
                  "105": "13810 MOUNTAIN AVE.",
                  "107": "CHINO",
                  "108": "91710",
                  "109": "9014",
                  "110": "USA",
                  "111": "CA",
                  "112": "0000",
                  "114": "Y",
                  "116": "0000",
                  "119": "0000",
                  "121": "E&Y",
                  "141": "!end"
                },
                {
                  "0": "C113E4798JC5",
                  "3": "62EJ7",
                  "5": "A",
                  "6": "Z2",
                  "7": "20100716",
                  "8": "20250206",
                  "9": "20240223",
                  "10": "20240223",
                  "11": "CAROLINA LAND AND LAKES (RC&D), INC.",
                  "15": "815 VIRGINIA ST SW",
                  "17": "LENOIR",
                  "18": "NC",
                  "19": "28645",
                  "20": "6036",
                  "21": "USA",
                  "22": "05",
                  "24": "19990701",
                  "25": "1231",
                  "26": "www.carolinalandandlakes.org",
                  "27": "8H",
                  "28": "NC",
                  "29": "USA",
                  "30": "0001",
                  "31": "A8",
                  "32": "813312",
                  "33": "0002",
                  "34": "813312N~813920N",
                  "35": "0000",
                  "37": "N",
                  "39": "PO BOX 2977",
                  "41": "LENOIR",
                  "42": "28645",
                  "44": "USA",
                  "45": "NC",
                  "46": "MELISSA",
                  "48": "PATTON",
                  "49": "MRS.",
                  "50": "PO BOX 2977",
                  "52": "LENOIR",
                  "53": "28645",
                  "55": "USA",
                  "56": "NC",
                  "68": "MELISSA",
                  "70": "PATTON",
                  "71": "MRS.",
                  "72": "PO BOX 2977",
                  "74": "LENOIR",
                  "75": "28645",
                  "77": "USA",
                  "78": "NC",
                  "79": "MELISSA",
                  "81": "PATTON",
                  "82": "MRS.",
                  "83": "PO BOX 2977",
                  "85": "LENOIR",
                  "86": "28645",
                  "88": "USA",
                  "89": "NC",
                  "90": "MELISSA",
                  "92": "PATTON",
                  "93": "MRS.",
                  "94": "PO BOX 2977",
                  "96": "LENOIR",
                  "97": "28645",
                  "99": "USA",
                  "100": "NC",
                  "101": "MELISSA",
                  "103": "PATTON",
                  "104": "MRS.",
                  "105": "PO BOX 2977",
                  "107": "LENOIR",
                  "108": "28645",
                  "110": "USA",
                  "111": "NC",
                  "112": "0000",
                  "114": "N",
                  "116": "0000",
                  "119": "0006",
                  "120": "CTYNC027~CTYNC119~CTYNC159~MSA1520~MSA3290~STANC",
                  "121": "E&Y",
                  "141": "!end"
                },
                {
                  "0": "C113F9JLF4D9",
                  "3": "6TSS5",
                  "5": "E",
                  "6": "Z2",
                  "7": "20121216",
                  "8": "20241008",
                  "9": "20241008",
                  "10": "20231010",
                  "11": "TRANSIENT ELECTRONICS INC",
                  "15": "70 FAIRMOUNT ST",
                  "17": "BROOKLINE",
                  "18": "MA",
                  "19": "02445",
                  "20": "5934",
                  "21": "USA",
                  "22": "04",
                  "24": "20120302",
                  "25": "1231",
                  "27": "2L",
                  "28": "DE",
                  "29": "USA",
                  "30": "0002",
                  "31": "27~2X",
                  "32": "541715",
                  "33": "0001",
                  "34": "541715E",
                  "35": "0001",
                  "36": "AJ11",
                  "37": "N",
                  "39": "70 FAIRMOUNT STREET",
                  "41": "BROOKLINE",
                  "42": "02445",
                  "43": "5934",
                  "44": "USA",
                  "45": "MA",
                  "46": "SANDRA",
                  "48": "PARK",
                  "49": "PRESIDENT",
                  "50": "70 FAIRMOUNT STREET",
                  "52": "BROOKLINE",
                  "53": "02445",
                  "55": "USA",
                  "56": "MA",
                  "90": "SANDRA",
                  "92": "PARK",
                  "93": "PRESIDENT",
                  "94": "70 FAIRMOUNT STREET",
                  "96": "BROOKLINE",
                  "97": "02445",
                  "99": "USA",
                  "100": "MA",
                  "112": "0001",
                  "113": "541715YYYY",
                  "114": "N",
                  "116": "0000",
                  "119": "0000",
                  "121": "E&Y",
                  "141": "!end"
                }
              ],
              "schema": [
                {
                  "key": "0",
                  "name": "UNIQUE_ENTITY_ID",
                  "type": "string"
                },
                {
                  "key": "1",
                  "name": "BLANK_DEPRECATED",
                  "type": "void"
                },
                {
                  "key": "2",
                  "name": "ENTITY_EFT_INDICATOR",
                  "type": "string"
                },
                {
                  "key": "3",
                  "name": "CAGE_CODE",
                  "type": "string"
                },
                {
                  "key": "4",
                  "name": "DODAAC",
                  "type": "string"
                },
                {
                  "key": "5",
                  "name": "SAM_EXTRACT_CODE",
                  "type": "string"
                },
                {
                  "key": "6",
                  "name": "PURPOSE_OF_REGISTRATION",
                  "type": "string"
                },
                {
                  "key": "7",
                  "name": "INITIAL_REGISTRATION_DATE",
                  "type": "string"
                },
                {
                  "key": "8",
                  "name": "REGISTRATION_EXPIRATION_DATE",
                  "type": "string"
                },
                {
                  "key": "9",
                  "name": "LAST_UPDATE_DATE",
                  "type": "string"
                },
                {
                  "key": "10",
                  "name": "ACTIVATION_DATE",
                  "type": "string"
                },
                {
                  "key": "11",
                  "name": "LEGAL_BUSINESS_NAME",
                  "type": "string"
                },
                {
                  "key": "12",
                  "name": "DBA_NAME",
                  "type": "string"
                },
                {
                  "key": "13",
                  "name": "ENTITY_DIVISION_NAME",
                  "type": "string"
                },
                {
                  "key": "14",
                  "name": "ENTITY_DIVISION_NUMBER",
                  "type": "string"
                },
                {
                  "key": "15",
                  "name": "PHYSICAL_ADDRESS_LINE_1",
                  "type": "string"
                },
                {
                  "key": "16",
                  "name": "PHYSICAL_ADDRESS_LINE_2",
                  "type": "string"
                },
                {
                  "key": "17",
                  "name": "PHYSICAL_ADDRESS_CITY",
                  "type": "string"
                },
                {
                  "key": "18",
                  "name": "PHYSICAL_ADDRESS_PROVINCE_OR_STATE",
                  "type": "string"
                },
                {
                  "key": "19",
                  "name": "PHYSICAL_ADDRESS_ZIP/POSTAL_CODE",
                  "type": "string"
                },
                {
                  "key": "20",
                  "name": "PHYSICAL_ADDRESS_ZIP_CODE_4",
                  "type": "string"
                },
                {
                  "key": "21",
                  "name": "PHYSICAL_ADDRESS_COUNTRY_CODE",
                  "type": "string"
                },
                {
                  "key": "22",
                  "name": "PHYSICAL_ADDRESS_CONGRESSIONAL_DISTRICT",
                  "type": "string"
                },
                {
                  "key": "23",
                  "name": "D&B_OPEN_DATA_FLAG",
                  "type": "void"
                },
                {
                  "key": "24",
                  "name": "ENTITY_START_DATE",
                  "type": "string"
                },
                {
                  "key": "25",
                  "name": "FISCAL_YEAR_END_CLOSE_DATE",
                  "type": "string"
                },
                {
                  "key": "26",
                  "name": "ENTITY_URL",
                  "type": "string"
                },
                {
                  "key": "27",
                  "name": "ENTITY_STRUCTURE",
                  "type": "string"
                },
                {
                  "key": "28",
                  "name": "STATE_OF_INCORPORATION",
                  "type": "string"
                },
                {
                  "key": "29",
                  "name": "COUNTRY_OF_INCORPORATION",
                  "type": "string"
                },
                {
                  "key": "30",
                  "name": "BUSINESS_TYPE_COUNTER",
                  "type": "string"
                },
                {
                  "key": "31",
                  "name": "BUS_TYPE_STRING",
                  "type": "string"
                },
                {
                  "key": "32",
                  "name": "PRIMARY_NAICS",
                  "type": "string"
                },
                {
                  "key": "33",
                  "name": "NAICS_CODE_COUNTER",
                  "type": "string"
                },
                {
                  "key": "34",
                  "name": "NAICS_CODE_STRING",
                  "type": "string"
                },
                {
                  "key": "35",
                  "name": "PSC_CODE_COUNTER",
                  "type": "string"
                },
                {
                  "key": "36",
                  "name": "PSC_CODE_STRING",
                  "type": "string"
                },
                {
                  "key": "37",
                  "name": "CREDIT_CARD_USAGE",
                  "type": "string"
                },
                {
                  "key": "38",
                  "name": "CORRESPONDENCE_FLAG",
                  "type": "void"
                },
                {
                  "key": "39",
                  "name": "MAILING_ADDRESS_LINE_1",
                  "type": "string"
                },
                {
                  "key": "40",
                  "name": "MAILING_ADDRESS_LINE_2",
                  "type": "string"
                },
                {
                  "key": "41",
                  "name": "MAILING_ADDRESS_CITY",
                  "type": "string"
                },
                {
                  "key": "42",
                  "name": "MAILING_ADDRESS_ZIP/POSTAL_CODE",
                  "type": "string"
                },
                {
                  "key": "43",
                  "name": "MAILING_ADDRESS_ZIP_CODE_4",
                  "type": "string"
                },
                {
                  "key": "44",
                  "name": "MAILING_ADDRESS_COUNTRY",
                  "type": "string"
                },
                {
                  "key": "45",
                  "name": "MAILING_ADDRESS_STATE_OR_PROVINCE",
                  "type": "string"
                },
                {
                  "key": "46",
                  "name": "GOVT_BUS_POC_FIRST_NAME",
                  "type": "string"
                },
                {
                  "key": "47",
                  "name": "GOVT_BUS_POC_MIDDLE_INITIAL",
                  "type": "string"
                },
                {
                  "key": "48",
                  "name": "GOVT_BUS_POC_LAST_NAME",
                  "type": "string"
                },
                {
                  "key": "49",
                  "name": "GOVT_BUS_POC_TITLE",
                  "type": "string"
                },
                {
                  "key": "50",
                  "name": "GOVT_BUS_POC_ST_ADD_1",
                  "type": "string"
                },
                {
                  "key": "51",
                  "name": "GOVT_BUS_POC_ST_ADD_2",
                  "type": "string"
                },
                {
                  "key": "52",
                  "name": "GOVT_BUS_POC_CITY",
                  "type": "string"
                },
                {
                  "key": "53",
                  "name": "GOVT_BUS_POC_ZIP/POSTAL_CODE",
                  "type": "string"
                },
                {
                  "key": "54",
                  "name": "GOVT_BUS_POC_ZIP_CODE_4",
                  "type": "string"
                },
                {
                  "key": "55",
                  "name": "GOVT_BUS_POC_COUNTRY_CODE",
                  "type": "string"
                },
                {
                  "key": "56",
                  "name": "GOVT_BUS_POC_STATE_OR_PROVINCE",
                  "type": "string"
                },
                {
                  "key": "57",
                  "name": "ALT_GOVT_BUS_POC_FIRST_NAME",
                  "type": "string"
                },
                {
                  "key": "58",
                  "name": "ALT_GOVT_BUS_POC_MIDDLE_INITIAL",
                  "type": "string"
                },
                {
                  "key": "59",
                  "name": "ALT_GOVT_BUS_POC_LAST_NAME",
                  "type": "string"
                },
                {
                  "key": "60",
                  "name": "ALT_GOVT_BUS_POC_TITLE",
                  "type": "string"
                },
                {
                  "key": "61",
                  "name": "ALT_GOVT_BUS_POC_ST_ADD_1",
                  "type": "string"
                },
                {
                  "key": "62",
                  "name": "ALT_GOVT_BUS_POC_ST_ADD_2",
                  "type": "string"
                },
                {
                  "key": "63",
                  "name": "ALT_GOVT_BUS_POC_CITY",
                  "type": "string"
                },
                {
                  "key": "64",
                  "name": "ALT_GOVT_BUS_POC_ZIP/POSTAL_CODE",
                  "type": "string"
                },
                {
                  "key": "65",
                  "name": "ALT_GOVT_BUS_POC_ZIP_CODE_4",
                  "type": "string"
                },
                {
                  "key": "66",
                  "name": "ALT_GOVT_BUS_POC_COUNTRY_CODE",
                  "type": "string"
                },
                {
                  "key": "67",
                  "name": "ALT_GOVT_BUS_POC_STATE_OR_PROVINCE",
                  "type": "string"
                },
                {
                  "key": "68",
                  "name": "PAST_PERF_POC_POC_FIRST_NAME",
                  "type": "string"
                },
                {
                  "key": "69",
                  "name": "PAST_PERF_POC_POC_MIDDLE_INITIAL",
                  "type": "string"
                },
                {
                  "key": "70",
                  "name": "PAST_PERF_POC_POC_LAST_NAME",
                  "type": "string"
                },
                {
                  "key": "71",
                  "name": "PAST_PERF_POC_POC_TITLE",
                  "type": "string"
                },
                {
                  "key": "72",
                  "name": "PAST_PERF_POC_ST_ADD_1",
                  "type": "string"
                },
                {
                  "key": "73",
                  "name": "PAST_PERF_POC_ST_ADD_2",
                  "type": "string"
                },
                {
                  "key": "74",
                  "name": "PAST_PERF_POC_CITY",
                  "type": "string"
                },
                {
                  "key": "75",
                  "name": "PAST_PERF_POC_ZIP/POSTAL_CODE",
                  "type": "string"
                },
                {
                  "key": "76",
                  "name": "PAST_PERF_POC_ZIP_CODE_4",
                  "type": "string"
                },
                {
                  "key": "77",
                  "name": "PAST_PERF_POC_COUNTRY_CODE",
                  "type": "string"
                },
                {
                  "key": "78",
                  "name": "PAST_PERF_POC_STATE_OR_PROVINCE",
                  "type": "string"
                },
                {
                  "key": "79",
                  "name": "ALT_PAST_PERF_POC_FIRST_NAME",
                  "type": "string"
                },
                {
                  "key": "80",
                  "name": "ALT_PAST_PERF_POC_MIDDLE_INITIAL",
                  "type": "string"
                },
                {
                  "key": "81",
                  "name": "ALT_PAST_PERF_POC_LAST_NAME",
                  "type": "string"
                },
                {
                  "key": "82",
                  "name": "ALT_PAST_PERF_POC_TITLE",
                  "type": "string"
                },
                {
                  "key": "83",
                  "name": "ALT_PAST_PERF_POC_ST_ADD_1",
                  "type": "string"
                },
                {
                  "key": "84",
                  "name": "ALT_PAST_PERF_POC_ST_ADD_2",
                  "type": "string"
                },
                {
                  "key": "85",
                  "name": "ALT_PAST_PERF_POC_CITY",
                  "type": "string"
                },
                {
                  "key": "86",
                  "name": "ALT_PAST_PERF_POC_ZIP/POSTAL_CODE",
                  "type": "string"
                },
                {
                  "key": "87",
                  "name": "ALT_PAST_PERF_POC_ZIP_CODE_4",
                  "type": "string"
                },
                {
                  "key": "88",
                  "name": "ALT_PAST_PERF_POC_COUNTRY_CODE",
                  "type": "string"
                },
                {
                  "key": "89",
                  "name": "ALT_PAST_PERF_POC_STATE_OR_PROVINCE",
                  "type": "string"
                },
                {
                  "key": "90",
                  "name": "ELEC_BUS_POC_FIRST_NAME",
                  "type": "string"
                },
                {
                  "key": "91",
                  "name": "ELEC_BUS_POC_MIDDLE_INITIAL",
                  "type": "string"
                },
                {
                  "key": "92",
                  "name": "ELEC_BUS_POC_LAST_NAME",
                  "type": "string"
                },
                {
                  "key": "93",
                  "name": "ELEC_BUS_POC_TITLE",
                  "type": "string"
                },
                {
                  "key": "94",
                  "name": "ELEC_BUS_POC_ST_ADD_1",
                  "type": "string"
                },
                {
                  "key": "95",
                  "name": "ELEC_BUS_POC_ST_ADD_2",
                  "type": "string"
                },
                {
                  "key": "96",
                  "name": "ELEC_BUS_POC_CITY",
                  "type": "string"
                },
                {
                  "key": "97",
                  "name": "ELEC_BUS_POC_ZIP/POSTAL_CODE",
                  "type": "string"
                },
                {
                  "key": "98",
                  "name": "ELEC_BUS_POC_ZIP_CODE_4",
                  "type": "string"
                },
                {
                  "key": "99",
                  "name": "ELEC_BUS_POC_COUNTRY_CODE",
                  "type": "string"
                },
                {
                  "key": "100",
                  "name": "ELEC_BUS_POC_STATE_OR_PROVINCE",
                  "type": "string"
                },
                {
                  "key": "101",
                  "name": "ALT_ELEC_POC_BUS_POC_FIRST_NAME",
                  "type": "string"
                },
                {
                  "key": "102",
                  "name": "ALT_ELEC_POC_BUS_POC_MIDDLE_INITIAL",
                  "type": "string"
                },
                {
                  "key": "103",
                  "name": "ALT_ELEC_POC_BUS_POC_LAST_NAME",
                  "type": "string"
                },
                {
                  "key": "104",
                  "name": "ALT_ELEC_POC_BUS_POC_TITLE",
                  "type": "string"
                },
                {
                  "key": "105",
                  "name": "ALT_ELEC_POC_BUS_ST_ADD_1",
                  "type": "string"
                },
                {
                  "key": "106",
                  "name": "ALT_ELEC_POC_BUS_ST_ADD_2",
                  "type": "string"
                },
                {
                  "key": "107",
                  "name": "ALT_ELEC_POC_BUS_CITY",
                  "type": "string"
                },
                {
                  "key": "108",
                  "name": "ALT_ELEC_POC_BUS_ZIP/POSTAL_CODE",
                  "type": "string"
                },
                {
                  "key": "109",
                  "name": "ALT_ELEC_POC_BUS_ZIP_CODE_4",
                  "type": "string"
                },
                {
                  "key": "110",
                  "name": "ALT_ELEC_POC_BUS_COUNTRY_CODE",
                  "type": "string"
                },
                {
                  "key": "111",
                  "name": "ALT_ELEC_POC_BUS_STATE_OR_PROVINCE",
                  "type": "string"
                },
                {
                  "key": "112",
                  "name": "NAICS_EXCEPTION_COUNTER",
                  "type": "string"
                },
                {
                  "key": "113",
                  "name": "NAICS_EXCEPTION_STRING",
                  "type": "string"
                },
                {
                  "key": "114",
                  "name": "DEBT_SUBJECT_TO_OFFSET_FLAG",
                  "type": "string"
                },
                {
                  "key": "115",
                  "name": "EXCLUSION_STATUS_FLAG",
                  "type": "string"
                },
                {
                  "key": "116",
                  "name": "SBA_BUSINESS_TYPES_COUNTER",
                  "type": "string"
                },
                {
                  "key": "117",
                  "name": "SBA_BUSINESS_TYPES_STRING",
                  "type": "string"
                },
                {
                  "key": "118",
                  "name": "NO_PUBLIC_DISPLAY_FLAG",
                  "type": "string"
                },
                {
                  "key": "119",
                  "name": "DISASTER_RESPONSE_COUNTER",
                  "type": "string"
                },
                {
                  "key": "120",
                  "name": "DISASTER_RESPONSE_STRING",
                  "type": "string"
                },
                {
                  "key": "121",
                  "name": "ENTITY_EVS_SOURCE",
                  "type": "string"
                },
                {
                  "key": "122",
                  "name": "FLEX_FIELD_1",
                  "type": "void"
                },
                {
                  "key": "123",
                  "name": "FLEX_FIELD_2",
                  "type": "void"
                },
                {
                  "key": "124",
                  "name": "FLEX_FIELD_3",
                  "type": "void"
                },
                {
                  "key": "125",
                  "name": "FLEX_FIELD_4",
                  "type": "void"
                },
                {
                  "key": "126",
                  "name": "FLEX_FIELD_5",
                  "type": "void"
                },
                {
                  "key": "127",
                  "name": "FLEX_FIELD_6",
                  "type": "void"
                },
                {
                  "key": "128",
                  "name": "FLEX_FIELD_7",
                  "type": "void"
                },
                {
                  "key": "129",
                  "name": "FLEX_FIELD_8",
                  "type": "void"
                },
                {
                  "key": "130",
                  "name": "FLEX_FIELD_9",
                  "type": "void"
                },
                {
                  "key": "131",
                  "name": "FLEX_FIELD_10",
                  "type": "void"
                },
                {
                  "key": "132",
                  "name": "FLEX_FIELD_11",
                  "type": "void"
                },
                {
                  "key": "133",
                  "name": "FLEX_FIELD_12",
                  "type": "void"
                },
                {
                  "key": "134",
                  "name": "FLEX_FIELD_13",
                  "type": "void"
                },
                {
                  "key": "135",
                  "name": "FLEX_FIELD_14",
                  "type": "void"
                },
                {
                  "key": "136",
                  "name": "FLEX_FIELD_15",
                  "type": "void"
                },
                {
                  "key": "137",
                  "name": "FLEX_FIELD_16",
                  "type": "void"
                },
                {
                  "key": "138",
                  "name": "FLEX_FIELD_17",
                  "type": "void"
                },
                {
                  "key": "139",
                  "name": "FLEX_FIELD_18",
                  "type": "void"
                },
                {
                  "key": "140",
                  "name": "FLEX_FIELD_19",
                  "type": "void"
                },
                {
                  "key": "141",
                  "name": "END_OF_RECORD_INDICATOR",
                  "type": "string"
                }
              ],
              "truncated": false
            },
            "wranglerEntryContext": {
              "dataframeType": "pyspark"
            }
          },
          "type": "Synapse.DataFrame"
        },
        "d514dfae-b181-4030-9129-355844cc9f99": {
          "persist_state": {
            "view": {
              "chartOptions": {
                "aggregationType": "count",
                "categoryFieldKeys": [
                  "0"
                ],
                "chartType": "bar",
                "isStacked": false,
                "seriesFieldKeys": [
                  "0"
                ]
              },
              "tableOptions": {},
              "type": "details"
            }
          },
          "sync_state": {
            "isSummary": false,
            "language": "scala",
            "table": {
              "rows": [
                {
                  "0": "2013-11-12"
                },
                {
                  "0": "2011-12-28"
                }
              ],
              "schema": [
                {
                  "key": "0",
                  "name": "INITIAL_REGISTRATION_DATE",
                  "type": "date"
                }
              ],
              "truncated": false
            },
            "wranglerEntryContext": {
              "dataframeType": "pyspark"
            }
          },
          "type": "Synapse.DataFrame"
        }
      },
      "version": "0.1"
    }
  },
  "nbformat": 4,
  "nbformat_minor": 2
}
