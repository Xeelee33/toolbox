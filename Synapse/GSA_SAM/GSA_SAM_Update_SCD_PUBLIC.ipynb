{
  "cells": [
    {
      "cell_type": "markdown",
      "source": [
        "Notebook: GSA_SAM_Update_SCD_PUBLIC<br>\r\n",
        "Created by: Joshua Wilshere<br>\r\n",
        "Created On: 4/3/24<br><br>\r\n",
        "Synapse Spark Pool Version: 3.4<br><br>\r\n",
        "Dependencies: \r\n",
        "1. Unzipped pipe-delimited SAM monthly file in source_dir\r\n",
        "    - Historical Public Files available here: https://sam.gov/data-services/Entity%20Registration/Public%20-%20Historical?privacy=Public\r\n",
        "    - Current Public Files available here: https://sam.gov/data-services/Entity%20Registration/Public%20V2?privacy=Public\r\n",
        "2. Accurate list of SAM column headers in GSA_SAM_COLUMN_HEADERS_PUBLIC.csv\r\n",
        "3. Data already written to target (silver_path) via GSA_SAM_Initial_Delta_Table_Creation_PUBLIC notebook</ol><br><br> \r\n",
        "Purpose: Write data incrementally from incoming daily or monthly SAM file to the target data source"
      ],
      "metadata": {
        "nteract": {
          "transient": {
            "deleting": false
          }
        }
      }
    },
    {
      "cell_type": "code",
      "source": [
        "# Processes in this notebook\r\n",
        "# 1. Load SAM file column headers into Pandas dataframe\r\n",
        "# 2. Create dictionary of column headers with all dtypes set to string\r\n",
        "# 3. Load new monthly SAM file into Pandas dataframe using dictionary of column headers and datatypes\r\n",
        "# 4. Convert Pandas dataframe to Spark dataframe\r\n",
        "# 5. Combine composite key columns into single unique entity key\r\n",
        "# 6. Add initial audit columns\r\n",
        "# 7. Convert NullType() Columns to StringType()\r\n",
        "# 8. Create hash code of fields to track changes in (AUD_HASH_CODE)\r\n",
        "# 9. Create surrogate unique key (AUD_SEQ_ID)\r\n",
        "# 10. Create spark dataframe from target (silver) delta lake data set\r\n",
        "# 11. Define and prepare the rows in the incoming monthly file that are new or updates to existing records\r\n",
        "# 12. Update the AUD_ACTIVE_FLAG of updated records in the target (silver) from 'Y' to 'N'\r\n",
        "#   Option 1: Using Merge Command. This option is slower than Option 2 on this data set.\r\n",
        "#   Option 2: Using replaceWhere Command. This option is faster than Option 1 on this data set.\r\n",
        "#       2(a): Create dataframe of records to change from Active to Inactive via left semi join on target data\r\n",
        "#       2(b) Update records in target using \"replaceWhere\" using the AUD_SEQ_ID filter defined in previous step\r\n",
        "# 13. Insert new and updated records to target via delta append\r\n",
        "\r\n",
        "# Adapted from: https://iterationinsights.com/article/how-to-implement-slowly-changing-dimensions-scd-type-2-using-delta-table/"
      ],
      "outputs": [
        {
          "output_type": "display_data",
          "data": {
            "application/vnd.livy.statement-meta+json": {
              "spark_pool": "spk3u4py3u10",
              "statement_id": 63,
              "statement_ids": [
                63
              ],
              "state": "finished",
              "livy_statement_state": "available",
              "spark_jobs": null,
              "session_id": "1",
              "normalized_state": "finished",
              "queued_time": "2025-06-12T02:10:31.6126189Z",
              "session_start_time": null,
              "execution_start_time": "2025-06-12T02:10:31.6158097Z",
              "execution_finish_time": "2025-06-12T02:10:31.9542228Z",
              "parent_msg_id": "248494e8-dfbb-4cf0-a20c-f80e9a316f02"
            },
            "text/plain": "StatementMeta(spk3u4py3u10, 1, 63, Finished, Available, Finished)"
          },
          "metadata": {}
        }
      ],
      "execution_count": 62,
      "metadata": {
        "jupyter": {
          "source_hidden": false,
          "outputs_hidden": false
        },
        "nteract": {
          "transient": {
            "deleting": false
          }
        }
      }
    },
    {
      "cell_type": "code",
      "source": [
        "# To Do: \r\n",
        "# 1. Add in code to flag entities as deleted\r\n",
        "# 2. Test process to overwrite entire dataframe with new, inserted, and updated records\r\n",
        "#    a. Also test using delta files partitioned on AUD_ACTIVE_FLAG. Can append inactive records to 'N' partition, drop from 'Y' partition\r\n",
        "#       and then insert new active records"
      ],
      "outputs": [
        {
          "output_type": "display_data",
          "data": {
            "application/vnd.livy.statement-meta+json": {
              "spark_pool": "spk3u4py3u10",
              "statement_id": 64,
              "statement_ids": [
                64
              ],
              "state": "finished",
              "livy_statement_state": "available",
              "spark_jobs": null,
              "session_id": "1",
              "normalized_state": "finished",
              "queued_time": "2025-06-12T02:10:31.7444992Z",
              "session_start_time": null,
              "execution_start_time": "2025-06-12T02:10:32.0876272Z",
              "execution_finish_time": "2025-06-12T02:10:32.4255214Z",
              "parent_msg_id": "5aeeb4c5-bb53-45b2-825a-dca71b8d27f6"
            },
            "text/plain": "StatementMeta(spk3u4py3u10, 1, 64, Finished, Available, Finished)"
          },
          "metadata": {}
        }
      ],
      "execution_count": 63,
      "metadata": {
        "jupyter": {
          "source_hidden": false,
          "outputs_hidden": false
        },
        "nteract": {
          "transient": {
            "deleting": false
          }
        }
      }
    },
    {
      "cell_type": "markdown",
      "source": [
        "# <font size=\"5\">0. Initialize packages, file names, and file paths"
      ],
      "metadata": {
        "nteract": {
          "transient": {
            "deleting": false
          }
        }
      }
    },
    {
      "cell_type": "code",
      "source": [
        "import pandas as pd\r\n",
        "import os\r\n",
        "\r\n",
        "# https://spark.apache.org/docs/latest/api/python/reference/pyspark.sql/functions.html\r\n",
        "#from pyspark.sql.functions import concat, col, coalesce, lit, sha2, concat_ws, row_number, cast, window\r\n",
        "from delta.tables import *\r\n",
        "from pyspark.sql.functions import *\r\n",
        "from pyspark.sql.window import Window\r\n",
        "from datetime import datetime\r\n",
        "\r\n",
        "\r\n",
        "pd.options.display.max_columns = None"
      ],
      "outputs": [
        {
          "output_type": "display_data",
          "data": {
            "application/vnd.livy.statement-meta+json": {
              "spark_pool": "spk3u4py3u10",
              "statement_id": 65,
              "statement_ids": [
                65
              ],
              "state": "finished",
              "livy_statement_state": "available",
              "spark_jobs": null,
              "session_id": "1",
              "normalized_state": "finished",
              "queued_time": "2025-06-12T02:10:31.8060681Z",
              "session_start_time": null,
              "execution_start_time": "2025-06-12T02:10:32.4385377Z",
              "execution_finish_time": "2025-06-12T02:10:32.7731913Z",
              "parent_msg_id": "7d7a58de-a550-4c20-9262-346824eb33b5"
            },
            "text/plain": "StatementMeta(spk3u4py3u10, 1, 65, Finished, Available, Finished)"
          },
          "metadata": {}
        }
      ],
      "execution_count": 64,
      "metadata": {
        "jupyter": {
          "outputs_hidden": false
        }
      }
    },
    {
      "cell_type": "code",
      "source": [
        "# Set the file name of column header definitions\r\n",
        "header_csv = 'GSA_SAM_COLUMN_HEADERS_PUBLIC.csv'\r\n",
        "\r\n",
        "# Set the source file to be loaded\r\n",
        "source_file = 'SAM_PUBLIC_MONTHLY_V2_20250504.dat'\r\n",
        "\r\n",
        "# Set the source_date as the file date\r\n",
        "source_date = source_file[-12:-4]\r\n",
        "\r\n",
        "# Convert source date from YYYYMMDD to YYYY-MM-DD for implicit conversion in merge and filter statements\r\n",
        "source_dt = datetime.strptime(source_date, '%Y%m%d').strftime('%Y-%m-%d')"
      ],
      "outputs": [
        {
          "output_type": "display_data",
          "data": {
            "application/vnd.livy.statement-meta+json": {
              "spark_pool": "spk3u4py3u10",
              "statement_id": 66,
              "statement_ids": [
                66
              ],
              "state": "finished",
              "livy_statement_state": "available",
              "spark_jobs": null,
              "session_id": "1",
              "normalized_state": "finished",
              "queued_time": "2025-06-12T02:10:32.1132969Z",
              "session_start_time": null,
              "execution_start_time": "2025-06-12T02:10:32.7877894Z",
              "execution_finish_time": "2025-06-12T02:10:33.1160889Z",
              "parent_msg_id": "9ee81b89-715f-47eb-922d-5a6a292aef50"
            },
            "text/plain": "StatementMeta(spk3u4py3u10, 1, 66, Finished, Available, Finished)"
          },
          "metadata": {}
        }
      ],
      "execution_count": 65,
      "metadata": {
        "jupyter": {
          "source_hidden": false,
          "outputs_hidden": false
        },
        "nteract": {
          "transient": {
            "deleting": false
          }
        }
      }
    },
    {
      "cell_type": "code",
      "source": [
        "source_dir = 'abfss://bronze@staaz01synpilot.dfs.core.usgovcloudapi.net/GSA_SAM_PUBLIC/'\r\n",
        "silver_path = 'abfss://silver@staaz01synpilot.dfs.core.usgovcloudapi.net/GSA_SAM_PUBLIC/'\r\n",
        "gold_path = 'abfss://gold@staaz01synpilot.dfs.core.usgovcloudapi.net/GSA_SAM_PUBLIC/'"
      ],
      "outputs": [
        {
          "output_type": "display_data",
          "data": {
            "application/vnd.livy.statement-meta+json": {
              "spark_pool": "spk3u4py3u10",
              "statement_id": 67,
              "statement_ids": [
                67
              ],
              "state": "finished",
              "livy_statement_state": "available",
              "spark_jobs": null,
              "session_id": "1",
              "normalized_state": "finished",
              "queued_time": "2025-06-12T02:10:32.4260896Z",
              "session_start_time": null,
              "execution_start_time": "2025-06-12T02:10:33.1313541Z",
              "execution_finish_time": "2025-06-12T02:10:33.4558433Z",
              "parent_msg_id": "095d6659-d5cb-4a90-a704-0c2ba9944b0a"
            },
            "text/plain": "StatementMeta(spk3u4py3u10, 1, 67, Finished, Available, Finished)"
          },
          "metadata": {}
        }
      ],
      "execution_count": 66,
      "metadata": {
        "jupyter": {
          "source_hidden": false,
          "outputs_hidden": false
        },
        "nteract": {
          "transient": {
            "deleting": false
          }
        }
      }
    },
    {
      "cell_type": "markdown",
      "source": [
        "# <font size=\"5\">1. Load SAM file column headers into Pandas dataframe"
      ],
      "metadata": {
        "nteract": {
          "transient": {
            "deleting": false
          }
        }
      }
    },
    {
      "cell_type": "code",
      "source": [
        "# Create dataframe with column names\r\n",
        "#col_df = pd.read_csv(source_dir + header_csv,\r\n",
        "col_df = pd.read_csv(os.path.join(source_dir + header_csv),\r\n",
        "    storage_options = {'linked_service' : 'ls_staaz01synpilot_dfs_KV'})"
      ],
      "outputs": [
        {
          "output_type": "display_data",
          "data": {
            "application/vnd.livy.statement-meta+json": {
              "spark_pool": "spk3u4py3u10",
              "statement_id": 68,
              "statement_ids": [
                68
              ],
              "state": "finished",
              "livy_statement_state": "available",
              "spark_jobs": null,
              "session_id": "1",
              "normalized_state": "finished",
              "queued_time": "2025-06-12T02:10:32.7753519Z",
              "session_start_time": null,
              "execution_start_time": "2025-06-12T02:10:33.4694763Z",
              "execution_finish_time": "2025-06-12T02:10:33.800472Z",
              "parent_msg_id": "d8b4a7b0-6d25-47c8-a472-6e72a30560da"
            },
            "text/plain": "StatementMeta(spk3u4py3u10, 1, 68, Finished, Available, Finished)"
          },
          "metadata": {}
        }
      ],
      "execution_count": 67,
      "metadata": {
        "jupyter": {
          "source_hidden": false,
          "outputs_hidden": false
        },
        "nteract": {
          "transient": {
            "deleting": false
          }
        }
      }
    },
    {
      "cell_type": "code",
      "source": [
        "#col_df"
      ],
      "outputs": [
        {
          "output_type": "display_data",
          "data": {
            "application/vnd.livy.statement-meta+json": {
              "spark_pool": "spk3u4py3u10",
              "statement_id": 69,
              "statement_ids": [
                69
              ],
              "state": "finished",
              "livy_statement_state": "available",
              "spark_jobs": null,
              "session_id": "1",
              "normalized_state": "finished",
              "queued_time": "2025-06-12T02:10:33.3923282Z",
              "session_start_time": null,
              "execution_start_time": "2025-06-12T02:10:33.8150503Z",
              "execution_finish_time": "2025-06-12T02:10:34.147229Z",
              "parent_msg_id": "99059279-f3f5-4290-aeb0-439900752b68"
            },
            "text/plain": "StatementMeta(spk3u4py3u10, 1, 69, Finished, Available, Finished)"
          },
          "metadata": {}
        }
      ],
      "execution_count": 68,
      "metadata": {
        "jupyter": {
          "source_hidden": false,
          "outputs_hidden": false
        },
        "nteract": {
          "transient": {
            "deleting": false
          }
        }
      }
    },
    {
      "cell_type": "markdown",
      "source": [
        "# <font size=\"5\">2. Create dictionary of column headers with all dtypes set to string "
      ],
      "metadata": {
        "nteract": {
          "transient": {
            "deleting": false
          }
        }
      }
    },
    {
      "cell_type": "code",
      "source": [
        "# Create list of column names and dictionary of column names with all datatypes set to 'str'\r\n",
        "var_dict = {}\r\n",
        "var_list = []\r\n",
        "for i in range(col_df.shape[1]):\r\n",
        "    #var_str = ''\r\n",
        "    #var_str = \"'{}':'object'\".format(col_df.columns[i])\r\n",
        "    var_dict[col_df.columns[i]] = 'str'\r\n",
        "    var_list.append(col_df.columns[i])"
      ],
      "outputs": [
        {
          "output_type": "display_data",
          "data": {
            "application/vnd.livy.statement-meta+json": {
              "spark_pool": "spk3u4py3u10",
              "statement_id": 70,
              "statement_ids": [
                70
              ],
              "state": "finished",
              "livy_statement_state": "available",
              "spark_jobs": null,
              "session_id": "1",
              "normalized_state": "finished",
              "queued_time": "2025-06-12T02:10:34.1747314Z",
              "session_start_time": null,
              "execution_start_time": "2025-06-12T02:10:34.1764981Z",
              "execution_finish_time": "2025-06-12T02:10:34.4885634Z",
              "parent_msg_id": "594e9e23-a7fa-485e-a885-7e9baf20bae1"
            },
            "text/plain": "StatementMeta(spk3u4py3u10, 1, 70, Finished, Available, Finished)"
          },
          "metadata": {}
        }
      ],
      "execution_count": 69,
      "metadata": {
        "jupyter": {
          "source_hidden": false,
          "outputs_hidden": true
        },
        "nteract": {
          "transient": {
            "deleting": false
          }
        }
      }
    },
    {
      "cell_type": "code",
      "source": [
        "#print(var_dict)"
      ],
      "outputs": [
        {
          "output_type": "display_data",
          "data": {
            "application/vnd.livy.statement-meta+json": {
              "spark_pool": "spk3u4py3u10",
              "statement_id": 71,
              "statement_ids": [
                71
              ],
              "state": "finished",
              "livy_statement_state": "available",
              "spark_jobs": null,
              "session_id": "1",
              "normalized_state": "finished",
              "queued_time": "2025-06-12T02:10:35.1836938Z",
              "session_start_time": null,
              "execution_start_time": "2025-06-12T02:10:35.1870008Z",
              "execution_finish_time": "2025-06-12T02:10:35.520888Z",
              "parent_msg_id": "ebd0d4a4-7a51-4c02-9b83-57eed62570d0"
            },
            "text/plain": "StatementMeta(spk3u4py3u10, 1, 71, Finished, Available, Finished)"
          },
          "metadata": {}
        }
      ],
      "execution_count": 70,
      "metadata": {
        "jupyter": {
          "source_hidden": false,
          "outputs_hidden": true
        },
        "nteract": {
          "transient": {
            "deleting": false
          }
        }
      }
    },
    {
      "cell_type": "code",
      "source": [
        "#print(var_list)"
      ],
      "outputs": [
        {
          "output_type": "display_data",
          "data": {
            "application/vnd.livy.statement-meta+json": {
              "spark_pool": "spk3u4py3u10",
              "statement_id": 72,
              "statement_ids": [
                72
              ],
              "state": "finished",
              "livy_statement_state": "available",
              "spark_jobs": null,
              "session_id": "1",
              "normalized_state": "finished",
              "queued_time": "2025-06-12T02:10:35.741462Z",
              "session_start_time": null,
              "execution_start_time": "2025-06-12T02:10:35.7439213Z",
              "execution_finish_time": "2025-06-12T02:10:36.0816193Z",
              "parent_msg_id": "e1e1c49d-416a-4a45-bc8a-c84937fa623e"
            },
            "text/plain": "StatementMeta(spk3u4py3u10, 1, 72, Finished, Available, Finished)"
          },
          "metadata": {}
        }
      ],
      "execution_count": 71,
      "metadata": {
        "jupyter": {
          "source_hidden": false,
          "outputs_hidden": true
        },
        "nteract": {
          "transient": {
            "deleting": false
          }
        }
      }
    },
    {
      "cell_type": "code",
      "source": [
        "source_path = os.path.join(source_dir, source_file)\r\n",
        "#print(source_path)"
      ],
      "outputs": [
        {
          "output_type": "display_data",
          "data": {
            "application/vnd.livy.statement-meta+json": {
              "spark_pool": "spk3u4py3u10",
              "statement_id": 73,
              "statement_ids": [
                73
              ],
              "state": "finished",
              "livy_statement_state": "available",
              "spark_jobs": null,
              "session_id": "1",
              "normalized_state": "finished",
              "queued_time": "2025-06-12T02:10:36.2073579Z",
              "session_start_time": null,
              "execution_start_time": "2025-06-12T02:10:36.2099945Z",
              "execution_finish_time": "2025-06-12T02:10:36.5541544Z",
              "parent_msg_id": "e11acac6-80e0-451b-ab3d-a30dba02727a"
            },
            "text/plain": "StatementMeta(spk3u4py3u10, 1, 73, Finished, Available, Finished)"
          },
          "metadata": {}
        }
      ],
      "execution_count": 72,
      "metadata": {
        "jupyter": {
          "source_hidden": false,
          "outputs_hidden": false
        },
        "nteract": {
          "transient": {
            "deleting": false
          }
        }
      }
    },
    {
      "cell_type": "markdown",
      "source": [
        "# <font size=\"5\">3. Load daily SAM file into Pandas dataframe using dictionary of column headers and datatypes"
      ],
      "metadata": {
        "nteract": {
          "transient": {
            "deleting": false
          }
        }
      }
    },
    {
      "cell_type": "code",
      "source": [
        "# Create dataframe from datafile using columns and datatypes set above\r\n",
        "pdf = pd.read_csv(source_path,\r\n",
        "    #delimiter='|',\r\n",
        "    sep='|',\r\n",
        "    names=var_list,\r\n",
        "    dtype=var_dict,\r\n",
        "    quoting=3, #3 = QUOTE_NONE\r\n",
        "    doublequote=False,\r\n",
        "    # skip garbage header and footer rows\r\n",
        "    skiprows=1,\r\n",
        "    skipfooter=1,\r\n",
        "    # python engine must be specified for skipfooter to work\r\n",
        "    engine='python',\r\n",
        "    ### for testing errors/rejected records ###\r\n",
        "    # 'error', raise an Exception when a bad line is encountered.\r\n",
        "    # 'warn', raise a warning when a bad line is encountered and skip that line.\r\n",
        "    # 'skip', skip bad lines without raising or warning when they are encountered.\r\n",
        "    on_bad_lines = 'warn',\r\n",
        "\r\n",
        "    storage_options = {'linked_service' : 'ls_staaz01synpilot_dfs_KV'})"
      ],
      "outputs": [
        {
          "output_type": "display_data",
          "data": {
            "application/vnd.livy.statement-meta+json": {
              "spark_pool": "spk3u4py3u10",
              "statement_id": 74,
              "statement_ids": [
                74
              ],
              "state": "finished",
              "livy_statement_state": "available",
              "spark_jobs": null,
              "session_id": "1",
              "normalized_state": "finished",
              "queued_time": "2025-06-12T02:10:36.4300637Z",
              "session_start_time": null,
              "execution_start_time": "2025-06-12T02:10:36.6849676Z",
              "execution_finish_time": "2025-06-12T02:11:55.2763539Z",
              "parent_msg_id": "0b822a37-fdb3-4779-88cc-40a32145f7f4"
            },
            "text/plain": "StatementMeta(spk3u4py3u10, 1, 74, Finished, Available, Finished)"
          },
          "metadata": {}
        }
      ],
      "execution_count": 73,
      "metadata": {
        "jupyter": {
          "source_hidden": false,
          "outputs_hidden": false
        },
        "nteract": {
          "transient": {
            "deleting": false
          }
        }
      }
    },
    {
      "cell_type": "code",
      "source": [
        "# Confirm that all dtypes are set to 'object'\r\n",
        "# Expected output: Series([], dtype: object)\r\n",
        "print(pdf.dtypes[pdf.dtypes != 'object'])"
      ],
      "outputs": [
        {
          "output_type": "display_data",
          "data": {
            "application/vnd.livy.statement-meta+json": {
              "spark_pool": "spk3u4py3u10",
              "statement_id": 75,
              "statement_ids": [
                75
              ],
              "state": "finished",
              "livy_statement_state": "available",
              "spark_jobs": null,
              "session_id": "1",
              "normalized_state": "finished",
              "queued_time": "2025-06-12T02:10:36.893159Z",
              "session_start_time": null,
              "execution_start_time": "2025-06-12T02:11:55.3209226Z",
              "execution_finish_time": "2025-06-12T02:11:55.6197264Z",
              "parent_msg_id": "ceb93aa6-8f64-442a-8920-a34fdfba4018"
            },
            "text/plain": "StatementMeta(spk3u4py3u10, 1, 75, Finished, Available, Finished)"
          },
          "metadata": {}
        },
        {
          "output_type": "stream",
          "name": "stdout",
          "text": [
            "Series([], dtype: object)\n"
          ]
        }
      ],
      "execution_count": 74,
      "metadata": {
        "jupyter": {
          "source_hidden": false,
          "outputs_hidden": false
        },
        "nteract": {
          "transient": {
            "deleting": false
          }
        }
      }
    },
    {
      "cell_type": "code",
      "source": [
        "pdf.head(2)"
      ],
      "outputs": [
        {
          "output_type": "display_data",
          "data": {
            "application/vnd.livy.statement-meta+json": {
              "spark_pool": "spk3u4py3u10",
              "statement_id": 76,
              "statement_ids": [
                76
              ],
              "state": "finished",
              "livy_statement_state": "available",
              "spark_jobs": null,
              "session_id": "1",
              "normalized_state": "finished",
              "queued_time": "2025-06-12T02:10:37.3095536Z",
              "session_start_time": null,
              "execution_start_time": "2025-06-12T02:11:55.6331103Z",
              "execution_finish_time": "2025-06-12T02:11:55.9652989Z",
              "parent_msg_id": "61870b99-6bc6-40d6-96b1-5d66933e2746"
            },
            "text/plain": "StatementMeta(spk3u4py3u10, 1, 76, Finished, Available, Finished)"
          },
          "metadata": {}
        },
        {
          "output_type": "execute_result",
          "execution_count": 153,
          "data": {
            "text/plain": "  UNIQUE_ENTITY_ID BLANK_DEPRECATED ENTITY_EFT_INDICATOR CAGE_CODE DODAAC  \\\n0     C111ATT311C8              NaN                  NaN     53YC5    NaN   \n1     C111BG66D155              NaN                  NaN     6M9A6    NaN   \n\n  SAM_EXTRACT_CODE PURPOSE_OF_REGISTRATION INITIAL_REGISTRATION_DATE  \\\n0                A                      Z2                  20131112   \n1                A                      Z1                  20111228   \n\n  REGISTRATION_EXPIRATION_DATE LAST_UPDATE_DATE ACTIVATION_DATE  \\\n0                     20250625         20240627        20240627   \n1                     20250724         20240729        20240726   \n\n                         LEGAL_BUSINESS_NAME DBA_NAME ENTITY_DIVISION_NAME  \\\n0              K & K CONSTRUCTION SUPPLY INC      NaN                  NaN   \n1  NEW ADVANCES FOR PEOPLE WITH DISABILITIES     NAPD                 NAPD   \n\n  ENTITY_DIVISION_NUMBER PHYSICAL_ADDRESS_LINE_1 PHYSICAL_ADDRESS_LINE_2  \\\n0                    NaN     11400 WHITE ROCK RD                     NaN   \n1                    NaN      3400 N SILLECT AVE                     NaN   \n\n  PHYSICAL_ADDRESS_CITY PHYSICAL_ADDRESS_PROVINCE_OR_STATE  \\\n0        RANCHO CORDOVA                                 CA   \n1           BAKERSFIELD                                 CA   \n\n  PHYSICAL_ADDRESS_ZIP/POSTAL_CODE PHYSICAL_ADDRESS_ZIP_CODE_4  \\\n0                            95742                        6600   \n1                            93308                        6363   \n\n  PHYSICAL_ADDRESS_COUNTRY_CODE PHYSICAL_ADDRESS_CONGRESSIONAL_DISTRICT  \\\n0                           USA                                      06   \n1                           USA                                      20   \n\n  D&B_OPEN_DATA_FLAG ENTITY_START_DATE FISCAL_YEAR_END_CLOSE_DATE  \\\n0                NaN          20060525                       1215   \n1                NaN          19750301                       0922   \n\n                     ENTITY_URL ENTITY_STRUCTURE STATE_OF_INCORPORATION  \\\n0  www.kkconstructionsupply.com               2L                     NV   \n1              www.napd-bak.org               8H                     CA   \n\n  COUNTRY_OF_INCORPORATION BUSINESS_TYPE_COUNTER BUS_TYPE_STRING  \\\n0                      USA                  0005  2X~8W~A2~HQ~XS   \n1                      USA                  0001              A8   \n\n  PRIMARY_NAICS NAICS_CODE_COUNTER  \\\n0        423390               0009   \n1           NaN               0000   \n\n                                   NAICS_CODE_STRING PSC_CODE_COUNTER  \\\n0  423310Y~423320Y~423390Y~423510Y~423710Y~423990...             0001   \n1                                                NaN             0000   \n\n  PSC_CODE_STRING CREDIT_CARD_USAGE CORRESPONDENCE_FLAG  \\\n0            5680                 Y                 NaN   \n1             NaN                 Y                 NaN   \n\n   MAILING_ADDRESS_LINE_1 MAILING_ADDRESS_LINE_2 MAILING_ADDRESS_CITY  \\\n0   11400 WHITE ROCK ROAD                    NaN       RANCHO CORDOVA   \n1  3400 N. SILLECT AVENUE                    NaN          BAKERSFIELD   \n\n  MAILING_ADDRESS_ZIP/POSTAL_CODE MAILING_ADDRESS_ZIP_CODE_4  \\\n0                           95742                       7518   \n1                           93308                       1815   \n\n  MAILING_ADDRESS_COUNTRY MAILING_ADDRESS_STATE_OR_PROVINCE  \\\n0                     USA                                CA   \n1                     USA                                CA   \n\n  GOVT_BUS_POC_FIRST_NAME GOVT_BUS_POC_MIDDLE_INITIAL GOVT_BUS_POC_LAST_NAME  \\\n0                   TRACY                         NaN               LOVELAND   \n1                 RICHARD                         NaN               BARENCHI   \n\n                 GOVT_BUS_POC_TITLE   GOVT_BUS_POC_ST_ADD_1  \\\n0                          DIRECTOR   11400 WHITE ROCK ROAD   \n1  DIRECTOR OF OPERATIONS & FINANCE  3400 N. SILLECT AVENUE   \n\n  GOVT_BUS_POC_ST_ADD_2 GOVT_BUS_POC_CITY GOVT_BUS_POC_ZIP/POSTAL_CODE  \\\n0                   NaN    RANCHO CORDOVA                        95742   \n1                   NaN       BAKERSFIELD                        93308   \n\n  GOVT_BUS_POC_ZIP_CODE_4 GOVT_BUS_POC_COUNTRY_CODE  \\\n0                     NaN                       USA   \n1                     NaN                       USA   \n\n  GOVT_BUS_POC_STATE_OR_PROVINCE ALT_GOVT_BUS_POC_FIRST_NAME  \\\n0                             CA                         NaN   \n1                             CA                         NaN   \n\n  ALT_GOVT_BUS_POC_MIDDLE_INITIAL ALT_GOVT_BUS_POC_LAST_NAME  \\\n0                             NaN                        NaN   \n1                             NaN                        NaN   \n\n  ALT_GOVT_BUS_POC_TITLE ALT_GOVT_BUS_POC_ST_ADD_1 ALT_GOVT_BUS_POC_ST_ADD_2  \\\n0                    NaN                       NaN                       NaN   \n1                    NaN                       NaN                       NaN   \n\n  ALT_GOVT_BUS_POC_CITY ALT_GOVT_BUS_POC_ZIP/POSTAL_CODE  \\\n0                   NaN                              NaN   \n1                   NaN                              NaN   \n\n  ALT_GOVT_BUS_POC_ZIP_CODE_4 ALT_GOVT_BUS_POC_COUNTRY_CODE  \\\n0                         NaN                           NaN   \n1                         NaN                           NaN   \n\n  ALT_GOVT_BUS_POC_STATE_OR_PROVINCE PAST_PERF_POC_POC_FIRST_NAME  \\\n0                                NaN                          NaN   \n1                                NaN                          NaN   \n\n  PAST_PERF_POC_POC_MIDDLE_INITIAL PAST_PERF_POC_POC_LAST_NAME  \\\n0                              NaN                         NaN   \n1                              NaN                         NaN   \n\n  PAST_PERF_POC_POC_TITLE PAST_PERF_POC_ST_ADD_1 PAST_PERF_POC_ST_ADD_2  \\\n0                     NaN                    NaN                    NaN   \n1                     NaN                    NaN                    NaN   \n\n  PAST_PERF_POC_CITY PAST_PERF_POC_ZIP/POSTAL_CODE PAST_PERF_POC_ZIP_CODE_4  \\\n0                NaN                           NaN                      NaN   \n1                NaN                           NaN                      NaN   \n\n  PAST_PERF_POC_COUNTRY_CODE PAST_PERF_POC_STATE_OR_PROVINCE  \\\n0                        NaN                             NaN   \n1                        NaN                             NaN   \n\n  ALT_PAST_PERF_POC_FIRST_NAME ALT_PAST_PERF_POC_MIDDLE_INITIAL  \\\n0                          NaN                              NaN   \n1                          NaN                              NaN   \n\n  ALT_PAST_PERF_POC_LAST_NAME ALT_PAST_PERF_POC_TITLE  \\\n0                         NaN                     NaN   \n1                         NaN                     NaN   \n\n  ALT_PAST_PERF_POC_ST_ADD_1 ALT_PAST_PERF_POC_ST_ADD_2  \\\n0                        NaN                        NaN   \n1                        NaN                        NaN   \n\n  ALT_PAST_PERF_POC_CITY ALT_PAST_PERF_POC_ZIP/POSTAL_CODE  \\\n0                    NaN                               NaN   \n1                    NaN                               NaN   \n\n  ALT_PAST_PERF_POC_ZIP_CODE_4 ALT_PAST_PERF_POC_COUNTRY_CODE  \\\n0                          NaN                            NaN   \n1                          NaN                            NaN   \n\n  ALT_PAST_PERF_POC_STATE_OR_PROVINCE ELEC_BUS_POC_FIRST_NAME  \\\n0                                 NaN                   TRACY   \n1                                 NaN                 RICHARD   \n\n  ELEC_BUS_POC_MIDDLE_INITIAL ELEC_BUS_POC_LAST_NAME  \\\n0                         NaN               LOVELAND   \n1                         NaN               BARENCHI   \n\n                 ELEC_BUS_POC_TITLE   ELEC_BUS_POC_ST_ADD_1  \\\n0                         PRESIDENT   11400 WHITE ROCK ROAD   \n1  DIRECTOR OF OPERATIONS & FINANCE  3400 N. SILLECT AVENUE   \n\n  ELEC_BUS_POC_ST_ADD_2 ELEC_BUS_POC_CITY ELEC_BUS_POC_ZIP/POSTAL_CODE  \\\n0                   NaN    RANCHO CORDOVA                        95742   \n1                   NaN       BAKERSFIELD                        93308   \n\n  ELEC_BUS_POC_ZIP_CODE_4 ELEC_BUS_POC_COUNTRY_CODE  \\\n0                     NaN                       USA   \n1                     NaN                       USA   \n\n  ELEC_BUS_POC_STATE_OR_PROVINCE ALT_ELEC_POC_BUS_POC_FIRST_NAME  \\\n0                             CA                             NaN   \n1                             CA                             NaN   \n\n  ALT_ELEC_POC_BUS_POC_MIDDLE_INITIAL ALT_ELEC_POC_BUS_POC_LAST_NAME  \\\n0                                 NaN                            NaN   \n1                                 NaN                            NaN   \n\n  ALT_ELEC_POC_BUS_POC_TITLE ALT_ELEC_POC_BUS_ST_ADD_1  \\\n0                        NaN                       NaN   \n1                        NaN                       NaN   \n\n  ALT_ELEC_POC_BUS_ST_ADD_2 ALT_ELEC_POC_BUS_CITY  \\\n0                       NaN                   NaN   \n1                       NaN                   NaN   \n\n  ALT_ELEC_POC_BUS_ZIP/POSTAL_CODE ALT_ELEC_POC_BUS_ZIP_CODE_4  \\\n0                              NaN                         NaN   \n1                              NaN                         NaN   \n\n  ALT_ELEC_POC_BUS_COUNTRY_CODE ALT_ELEC_POC_BUS_STATE_OR_PROVINCE  \\\n0                           NaN                                NaN   \n1                           NaN                                NaN   \n\n  NAICS_EXCEPTION_COUNTER NAICS_EXCEPTION_STRING DEBT_SUBJECT_TO_OFFSET_FLAG  \\\n0                    0000                    NaN                           N   \n1                    0000                    NaN                           N   \n\n  EXCLUSION_STATUS_FLAG SBA_BUSINESS_TYPES_COUNTER SBA_BUSINESS_TYPES_STRING  \\\n0                   NaN                       0000                       NaN   \n1                   NaN                       0000                       NaN   \n\n  NO_PUBLIC_DISPLAY_FLAG DISASTER_RESPONSE_COUNTER DISASTER_RESPONSE_STRING  \\\n0                    NaN                      0000                      NaN   \n1                    NaN                      0000                      NaN   \n\n  ENTITY_EVS_SOURCE FLEX_FIELD_1 FLEX_FIELD_2 FLEX_FIELD_3 FLEX_FIELD_4  \\\n0               E&Y          NaN          NaN          NaN          NaN   \n1               E&Y          NaN          NaN          NaN          NaN   \n\n  FLEX_FIELD_5 FLEX_FIELD_6 FLEX_FIELD_7 FLEX_FIELD_8 FLEX_FIELD_9  \\\n0          NaN          NaN          NaN          NaN          NaN   \n1          NaN          NaN          NaN          NaN          NaN   \n\n  FLEX_FIELD_10 FLEX_FIELD_11 FLEX_FIELD_12 FLEX_FIELD_13 FLEX_FIELD_14  \\\n0           NaN           NaN           NaN           NaN           NaN   \n1           NaN           NaN           NaN           NaN           NaN   \n\n  FLEX_FIELD_15 FLEX_FIELD_16 FLEX_FIELD_17 FLEX_FIELD_18 FLEX_FIELD_19  \\\n0           NaN           NaN           NaN           NaN           NaN   \n1           NaN           NaN           NaN           NaN           NaN   \n\n  END_OF_RECORD_INDICATOR  \n0                    !end  \n1                    !end  ",
            "text/html": "<div>\n<style scoped>\n    .dataframe tbody tr th:only-of-type {\n        vertical-align: middle;\n    }\n\n    .dataframe tbody tr th {\n        vertical-align: top;\n    }\n\n    .dataframe thead th {\n        text-align: right;\n    }\n</style>\n<table border=\"1\" class=\"dataframe\">\n  <thead>\n    <tr style=\"text-align: right;\">\n      <th></th>\n      <th>UNIQUE_ENTITY_ID</th>\n      <th>BLANK_DEPRECATED</th>\n      <th>ENTITY_EFT_INDICATOR</th>\n      <th>CAGE_CODE</th>\n      <th>DODAAC</th>\n      <th>SAM_EXTRACT_CODE</th>\n      <th>PURPOSE_OF_REGISTRATION</th>\n      <th>INITIAL_REGISTRATION_DATE</th>\n      <th>REGISTRATION_EXPIRATION_DATE</th>\n      <th>LAST_UPDATE_DATE</th>\n      <th>ACTIVATION_DATE</th>\n      <th>LEGAL_BUSINESS_NAME</th>\n      <th>DBA_NAME</th>\n      <th>ENTITY_DIVISION_NAME</th>\n      <th>ENTITY_DIVISION_NUMBER</th>\n      <th>PHYSICAL_ADDRESS_LINE_1</th>\n      <th>PHYSICAL_ADDRESS_LINE_2</th>\n      <th>PHYSICAL_ADDRESS_CITY</th>\n      <th>PHYSICAL_ADDRESS_PROVINCE_OR_STATE</th>\n      <th>PHYSICAL_ADDRESS_ZIP/POSTAL_CODE</th>\n      <th>PHYSICAL_ADDRESS_ZIP_CODE_4</th>\n      <th>PHYSICAL_ADDRESS_COUNTRY_CODE</th>\n      <th>PHYSICAL_ADDRESS_CONGRESSIONAL_DISTRICT</th>\n      <th>D&amp;B_OPEN_DATA_FLAG</th>\n      <th>ENTITY_START_DATE</th>\n      <th>FISCAL_YEAR_END_CLOSE_DATE</th>\n      <th>ENTITY_URL</th>\n      <th>ENTITY_STRUCTURE</th>\n      <th>STATE_OF_INCORPORATION</th>\n      <th>COUNTRY_OF_INCORPORATION</th>\n      <th>BUSINESS_TYPE_COUNTER</th>\n      <th>BUS_TYPE_STRING</th>\n      <th>PRIMARY_NAICS</th>\n      <th>NAICS_CODE_COUNTER</th>\n      <th>NAICS_CODE_STRING</th>\n      <th>PSC_CODE_COUNTER</th>\n      <th>PSC_CODE_STRING</th>\n      <th>CREDIT_CARD_USAGE</th>\n      <th>CORRESPONDENCE_FLAG</th>\n      <th>MAILING_ADDRESS_LINE_1</th>\n      <th>MAILING_ADDRESS_LINE_2</th>\n      <th>MAILING_ADDRESS_CITY</th>\n      <th>MAILING_ADDRESS_ZIP/POSTAL_CODE</th>\n      <th>MAILING_ADDRESS_ZIP_CODE_4</th>\n      <th>MAILING_ADDRESS_COUNTRY</th>\n      <th>MAILING_ADDRESS_STATE_OR_PROVINCE</th>\n      <th>GOVT_BUS_POC_FIRST_NAME</th>\n      <th>GOVT_BUS_POC_MIDDLE_INITIAL</th>\n      <th>GOVT_BUS_POC_LAST_NAME</th>\n      <th>GOVT_BUS_POC_TITLE</th>\n      <th>GOVT_BUS_POC_ST_ADD_1</th>\n      <th>GOVT_BUS_POC_ST_ADD_2</th>\n      <th>GOVT_BUS_POC_CITY</th>\n      <th>GOVT_BUS_POC_ZIP/POSTAL_CODE</th>\n      <th>GOVT_BUS_POC_ZIP_CODE_4</th>\n      <th>GOVT_BUS_POC_COUNTRY_CODE</th>\n      <th>GOVT_BUS_POC_STATE_OR_PROVINCE</th>\n      <th>ALT_GOVT_BUS_POC_FIRST_NAME</th>\n      <th>ALT_GOVT_BUS_POC_MIDDLE_INITIAL</th>\n      <th>ALT_GOVT_BUS_POC_LAST_NAME</th>\n      <th>ALT_GOVT_BUS_POC_TITLE</th>\n      <th>ALT_GOVT_BUS_POC_ST_ADD_1</th>\n      <th>ALT_GOVT_BUS_POC_ST_ADD_2</th>\n      <th>ALT_GOVT_BUS_POC_CITY</th>\n      <th>ALT_GOVT_BUS_POC_ZIP/POSTAL_CODE</th>\n      <th>ALT_GOVT_BUS_POC_ZIP_CODE_4</th>\n      <th>ALT_GOVT_BUS_POC_COUNTRY_CODE</th>\n      <th>ALT_GOVT_BUS_POC_STATE_OR_PROVINCE</th>\n      <th>PAST_PERF_POC_POC_FIRST_NAME</th>\n      <th>PAST_PERF_POC_POC_MIDDLE_INITIAL</th>\n      <th>PAST_PERF_POC_POC_LAST_NAME</th>\n      <th>PAST_PERF_POC_POC_TITLE</th>\n      <th>PAST_PERF_POC_ST_ADD_1</th>\n      <th>PAST_PERF_POC_ST_ADD_2</th>\n      <th>PAST_PERF_POC_CITY</th>\n      <th>PAST_PERF_POC_ZIP/POSTAL_CODE</th>\n      <th>PAST_PERF_POC_ZIP_CODE_4</th>\n      <th>PAST_PERF_POC_COUNTRY_CODE</th>\n      <th>PAST_PERF_POC_STATE_OR_PROVINCE</th>\n      <th>ALT_PAST_PERF_POC_FIRST_NAME</th>\n      <th>ALT_PAST_PERF_POC_MIDDLE_INITIAL</th>\n      <th>ALT_PAST_PERF_POC_LAST_NAME</th>\n      <th>ALT_PAST_PERF_POC_TITLE</th>\n      <th>ALT_PAST_PERF_POC_ST_ADD_1</th>\n      <th>ALT_PAST_PERF_POC_ST_ADD_2</th>\n      <th>ALT_PAST_PERF_POC_CITY</th>\n      <th>ALT_PAST_PERF_POC_ZIP/POSTAL_CODE</th>\n      <th>ALT_PAST_PERF_POC_ZIP_CODE_4</th>\n      <th>ALT_PAST_PERF_POC_COUNTRY_CODE</th>\n      <th>ALT_PAST_PERF_POC_STATE_OR_PROVINCE</th>\n      <th>ELEC_BUS_POC_FIRST_NAME</th>\n      <th>ELEC_BUS_POC_MIDDLE_INITIAL</th>\n      <th>ELEC_BUS_POC_LAST_NAME</th>\n      <th>ELEC_BUS_POC_TITLE</th>\n      <th>ELEC_BUS_POC_ST_ADD_1</th>\n      <th>ELEC_BUS_POC_ST_ADD_2</th>\n      <th>ELEC_BUS_POC_CITY</th>\n      <th>ELEC_BUS_POC_ZIP/POSTAL_CODE</th>\n      <th>ELEC_BUS_POC_ZIP_CODE_4</th>\n      <th>ELEC_BUS_POC_COUNTRY_CODE</th>\n      <th>ELEC_BUS_POC_STATE_OR_PROVINCE</th>\n      <th>ALT_ELEC_POC_BUS_POC_FIRST_NAME</th>\n      <th>ALT_ELEC_POC_BUS_POC_MIDDLE_INITIAL</th>\n      <th>ALT_ELEC_POC_BUS_POC_LAST_NAME</th>\n      <th>ALT_ELEC_POC_BUS_POC_TITLE</th>\n      <th>ALT_ELEC_POC_BUS_ST_ADD_1</th>\n      <th>ALT_ELEC_POC_BUS_ST_ADD_2</th>\n      <th>ALT_ELEC_POC_BUS_CITY</th>\n      <th>ALT_ELEC_POC_BUS_ZIP/POSTAL_CODE</th>\n      <th>ALT_ELEC_POC_BUS_ZIP_CODE_4</th>\n      <th>ALT_ELEC_POC_BUS_COUNTRY_CODE</th>\n      <th>ALT_ELEC_POC_BUS_STATE_OR_PROVINCE</th>\n      <th>NAICS_EXCEPTION_COUNTER</th>\n      <th>NAICS_EXCEPTION_STRING</th>\n      <th>DEBT_SUBJECT_TO_OFFSET_FLAG</th>\n      <th>EXCLUSION_STATUS_FLAG</th>\n      <th>SBA_BUSINESS_TYPES_COUNTER</th>\n      <th>SBA_BUSINESS_TYPES_STRING</th>\n      <th>NO_PUBLIC_DISPLAY_FLAG</th>\n      <th>DISASTER_RESPONSE_COUNTER</th>\n      <th>DISASTER_RESPONSE_STRING</th>\n      <th>ENTITY_EVS_SOURCE</th>\n      <th>FLEX_FIELD_1</th>\n      <th>FLEX_FIELD_2</th>\n      <th>FLEX_FIELD_3</th>\n      <th>FLEX_FIELD_4</th>\n      <th>FLEX_FIELD_5</th>\n      <th>FLEX_FIELD_6</th>\n      <th>FLEX_FIELD_7</th>\n      <th>FLEX_FIELD_8</th>\n      <th>FLEX_FIELD_9</th>\n      <th>FLEX_FIELD_10</th>\n      <th>FLEX_FIELD_11</th>\n      <th>FLEX_FIELD_12</th>\n      <th>FLEX_FIELD_13</th>\n      <th>FLEX_FIELD_14</th>\n      <th>FLEX_FIELD_15</th>\n      <th>FLEX_FIELD_16</th>\n      <th>FLEX_FIELD_17</th>\n      <th>FLEX_FIELD_18</th>\n      <th>FLEX_FIELD_19</th>\n      <th>END_OF_RECORD_INDICATOR</th>\n    </tr>\n  </thead>\n  <tbody>\n    <tr>\n      <th>0</th>\n      <td>C111ATT311C8</td>\n      <td>NaN</td>\n      <td>NaN</td>\n      <td>53YC5</td>\n      <td>NaN</td>\n      <td>A</td>\n      <td>Z2</td>\n      <td>20131112</td>\n      <td>20250625</td>\n      <td>20240627</td>\n      <td>20240627</td>\n      <td>K &amp; K CONSTRUCTION SUPPLY INC</td>\n      <td>NaN</td>\n      <td>NaN</td>\n      <td>NaN</td>\n      <td>11400 WHITE ROCK RD</td>\n      <td>NaN</td>\n      <td>RANCHO CORDOVA</td>\n      <td>CA</td>\n      <td>95742</td>\n      <td>6600</td>\n      <td>USA</td>\n      <td>06</td>\n      <td>NaN</td>\n      <td>20060525</td>\n      <td>1215</td>\n      <td>www.kkconstructionsupply.com</td>\n      <td>2L</td>\n      <td>NV</td>\n      <td>USA</td>\n      <td>0005</td>\n      <td>2X~8W~A2~HQ~XS</td>\n      <td>423390</td>\n      <td>0009</td>\n      <td>423310Y~423320Y~423390Y~423510Y~423710Y~423990...</td>\n      <td>0001</td>\n      <td>5680</td>\n      <td>Y</td>\n      <td>NaN</td>\n      <td>11400 WHITE ROCK ROAD</td>\n      <td>NaN</td>\n      <td>RANCHO CORDOVA</td>\n      <td>95742</td>\n      <td>7518</td>\n      <td>USA</td>\n      <td>CA</td>\n      <td>TRACY</td>\n      <td>NaN</td>\n      <td>LOVELAND</td>\n      <td>DIRECTOR</td>\n      <td>11400 WHITE ROCK ROAD</td>\n      <td>NaN</td>\n      <td>RANCHO CORDOVA</td>\n      <td>95742</td>\n      <td>NaN</td>\n      <td>USA</td>\n      <td>CA</td>\n      <td>NaN</td>\n      <td>NaN</td>\n      <td>NaN</td>\n      <td>NaN</td>\n      <td>NaN</td>\n      <td>NaN</td>\n      <td>NaN</td>\n      <td>NaN</td>\n      <td>NaN</td>\n      <td>NaN</td>\n      <td>NaN</td>\n      <td>NaN</td>\n      <td>NaN</td>\n      <td>NaN</td>\n      <td>NaN</td>\n      <td>NaN</td>\n      <td>NaN</td>\n      <td>NaN</td>\n      <td>NaN</td>\n      <td>NaN</td>\n      <td>NaN</td>\n      <td>NaN</td>\n      <td>NaN</td>\n      <td>NaN</td>\n      <td>NaN</td>\n      <td>NaN</td>\n      <td>NaN</td>\n      <td>NaN</td>\n      <td>NaN</td>\n      <td>NaN</td>\n      <td>NaN</td>\n      <td>NaN</td>\n      <td>NaN</td>\n      <td>TRACY</td>\n      <td>NaN</td>\n      <td>LOVELAND</td>\n      <td>PRESIDENT</td>\n      <td>11400 WHITE ROCK ROAD</td>\n      <td>NaN</td>\n      <td>RANCHO CORDOVA</td>\n      <td>95742</td>\n      <td>NaN</td>\n      <td>USA</td>\n      <td>CA</td>\n      <td>NaN</td>\n      <td>NaN</td>\n      <td>NaN</td>\n      <td>NaN</td>\n      <td>NaN</td>\n      <td>NaN</td>\n      <td>NaN</td>\n      <td>NaN</td>\n      <td>NaN</td>\n      <td>NaN</td>\n      <td>NaN</td>\n      <td>0000</td>\n      <td>NaN</td>\n      <td>N</td>\n      <td>NaN</td>\n      <td>0000</td>\n      <td>NaN</td>\n      <td>NaN</td>\n      <td>0000</td>\n      <td>NaN</td>\n      <td>E&amp;Y</td>\n      <td>NaN</td>\n      <td>NaN</td>\n      <td>NaN</td>\n      <td>NaN</td>\n      <td>NaN</td>\n      <td>NaN</td>\n      <td>NaN</td>\n      <td>NaN</td>\n      <td>NaN</td>\n      <td>NaN</td>\n      <td>NaN</td>\n      <td>NaN</td>\n      <td>NaN</td>\n      <td>NaN</td>\n      <td>NaN</td>\n      <td>NaN</td>\n      <td>NaN</td>\n      <td>NaN</td>\n      <td>NaN</td>\n      <td>!end</td>\n    </tr>\n    <tr>\n      <th>1</th>\n      <td>C111BG66D155</td>\n      <td>NaN</td>\n      <td>NaN</td>\n      <td>6M9A6</td>\n      <td>NaN</td>\n      <td>A</td>\n      <td>Z1</td>\n      <td>20111228</td>\n      <td>20250724</td>\n      <td>20240729</td>\n      <td>20240726</td>\n      <td>NEW ADVANCES FOR PEOPLE WITH DISABILITIES</td>\n      <td>NAPD</td>\n      <td>NAPD</td>\n      <td>NaN</td>\n      <td>3400 N SILLECT AVE</td>\n      <td>NaN</td>\n      <td>BAKERSFIELD</td>\n      <td>CA</td>\n      <td>93308</td>\n      <td>6363</td>\n      <td>USA</td>\n      <td>20</td>\n      <td>NaN</td>\n      <td>19750301</td>\n      <td>0922</td>\n      <td>www.napd-bak.org</td>\n      <td>8H</td>\n      <td>CA</td>\n      <td>USA</td>\n      <td>0001</td>\n      <td>A8</td>\n      <td>NaN</td>\n      <td>0000</td>\n      <td>NaN</td>\n      <td>0000</td>\n      <td>NaN</td>\n      <td>Y</td>\n      <td>NaN</td>\n      <td>3400 N. SILLECT AVENUE</td>\n      <td>NaN</td>\n      <td>BAKERSFIELD</td>\n      <td>93308</td>\n      <td>1815</td>\n      <td>USA</td>\n      <td>CA</td>\n      <td>RICHARD</td>\n      <td>NaN</td>\n      <td>BARENCHI</td>\n      <td>DIRECTOR OF OPERATIONS &amp; FINANCE</td>\n      <td>3400 N. SILLECT AVENUE</td>\n      <td>NaN</td>\n      <td>BAKERSFIELD</td>\n      <td>93308</td>\n      <td>NaN</td>\n      <td>USA</td>\n      <td>CA</td>\n      <td>NaN</td>\n      <td>NaN</td>\n      <td>NaN</td>\n      <td>NaN</td>\n      <td>NaN</td>\n      <td>NaN</td>\n      <td>NaN</td>\n      <td>NaN</td>\n      <td>NaN</td>\n      <td>NaN</td>\n      <td>NaN</td>\n      <td>NaN</td>\n      <td>NaN</td>\n      <td>NaN</td>\n      <td>NaN</td>\n      <td>NaN</td>\n      <td>NaN</td>\n      <td>NaN</td>\n      <td>NaN</td>\n      <td>NaN</td>\n      <td>NaN</td>\n      <td>NaN</td>\n      <td>NaN</td>\n      <td>NaN</td>\n      <td>NaN</td>\n      <td>NaN</td>\n      <td>NaN</td>\n      <td>NaN</td>\n      <td>NaN</td>\n      <td>NaN</td>\n      <td>NaN</td>\n      <td>NaN</td>\n      <td>NaN</td>\n      <td>RICHARD</td>\n      <td>NaN</td>\n      <td>BARENCHI</td>\n      <td>DIRECTOR OF OPERATIONS &amp; FINANCE</td>\n      <td>3400 N. SILLECT AVENUE</td>\n      <td>NaN</td>\n      <td>BAKERSFIELD</td>\n      <td>93308</td>\n      <td>NaN</td>\n      <td>USA</td>\n      <td>CA</td>\n      <td>NaN</td>\n      <td>NaN</td>\n      <td>NaN</td>\n      <td>NaN</td>\n      <td>NaN</td>\n      <td>NaN</td>\n      <td>NaN</td>\n      <td>NaN</td>\n      <td>NaN</td>\n      <td>NaN</td>\n      <td>NaN</td>\n      <td>0000</td>\n      <td>NaN</td>\n      <td>N</td>\n      <td>NaN</td>\n      <td>0000</td>\n      <td>NaN</td>\n      <td>NaN</td>\n      <td>0000</td>\n      <td>NaN</td>\n      <td>E&amp;Y</td>\n      <td>NaN</td>\n      <td>NaN</td>\n      <td>NaN</td>\n      <td>NaN</td>\n      <td>NaN</td>\n      <td>NaN</td>\n      <td>NaN</td>\n      <td>NaN</td>\n      <td>NaN</td>\n      <td>NaN</td>\n      <td>NaN</td>\n      <td>NaN</td>\n      <td>NaN</td>\n      <td>NaN</td>\n      <td>NaN</td>\n      <td>NaN</td>\n      <td>NaN</td>\n      <td>NaN</td>\n      <td>NaN</td>\n      <td>!end</td>\n    </tr>\n  </tbody>\n</table>\n</div>"
          },
          "metadata": {}
        }
      ],
      "execution_count": 75,
      "metadata": {
        "jupyter": {
          "source_hidden": false,
          "outputs_hidden": false
        },
        "nteract": {
          "transient": {
            "deleting": false
          }
        }
      }
    },
    {
      "cell_type": "code",
      "source": [
        "pdf.shape[0]"
      ],
      "outputs": [
        {
          "output_type": "display_data",
          "data": {
            "application/vnd.livy.statement-meta+json": {
              "spark_pool": "spk3u4py3u10",
              "statement_id": 77,
              "statement_ids": [
                77
              ],
              "state": "finished",
              "livy_statement_state": "available",
              "spark_jobs": null,
              "session_id": "1",
              "normalized_state": "finished",
              "queued_time": "2025-06-12T02:10:37.5160372Z",
              "session_start_time": null,
              "execution_start_time": "2025-06-12T02:11:55.9799606Z",
              "execution_finish_time": "2025-06-12T02:11:56.3095221Z",
              "parent_msg_id": "70103e17-b51b-4e6d-a0b5-c81660a6e06c"
            },
            "text/plain": "StatementMeta(spk3u4py3u10, 1, 77, Finished, Available, Finished)"
          },
          "metadata": {}
        },
        {
          "output_type": "execute_result",
          "execution_count": 155,
          "data": {
            "text/plain": "877338"
          },
          "metadata": {}
        }
      ],
      "execution_count": 76,
      "metadata": {
        "jupyter": {
          "source_hidden": false,
          "outputs_hidden": false
        },
        "nteract": {
          "transient": {
            "deleting": false
          }
        }
      }
    },
    {
      "cell_type": "markdown",
      "source": [
        "# <font size=\"5\">4. Convert Pandas dataframe to Spark dataframe"
      ],
      "metadata": {
        "nteract": {
          "transient": {
            "deleting": false
          }
        }
      }
    },
    {
      "cell_type": "code",
      "source": [
        "# Convert pandas dataframe to spark dataframe\r\n",
        "sam_monthly_df = spark.createDataFrame(pdf)"
      ],
      "outputs": [
        {
          "output_type": "display_data",
          "data": {
            "application/vnd.livy.statement-meta+json": {
              "spark_pool": "spk3u4py3u10",
              "statement_id": 78,
              "statement_ids": [
                78
              ],
              "state": "finished",
              "livy_statement_state": "available",
              "spark_jobs": null,
              "session_id": "1",
              "normalized_state": "finished",
              "queued_time": "2025-06-12T02:10:37.7143268Z",
              "session_start_time": null,
              "execution_start_time": "2025-06-12T02:11:56.3282951Z",
              "execution_finish_time": "2025-06-12T02:12:24.2400614Z",
              "parent_msg_id": "cc3c8ef7-3286-4a7f-a7ef-e4b0e5ef3293"
            },
            "text/plain": "StatementMeta(spk3u4py3u10, 1, 78, Finished, Available, Finished)"
          },
          "metadata": {}
        }
      ],
      "execution_count": 77,
      "metadata": {
        "jupyter": {
          "source_hidden": false,
          "outputs_hidden": false
        },
        "nteract": {
          "transient": {
            "deleting": false
          }
        }
      }
    },
    {
      "cell_type": "code",
      "source": [
        "base_cols = sam_monthly_df.columns"
      ],
      "outputs": [
        {
          "output_type": "display_data",
          "data": {
            "application/vnd.livy.statement-meta+json": {
              "spark_pool": "spk3u4py3u10",
              "statement_id": 79,
              "statement_ids": [
                79
              ],
              "state": "finished",
              "livy_statement_state": "available",
              "spark_jobs": null,
              "session_id": "1",
              "normalized_state": "finished",
              "queued_time": "2025-06-12T02:10:37.8027224Z",
              "session_start_time": null,
              "execution_start_time": "2025-06-12T02:12:24.2912669Z",
              "execution_finish_time": "2025-06-12T02:12:24.5646281Z",
              "parent_msg_id": "95ba2fe5-f6ec-440d-84f7-968a601717f9"
            },
            "text/plain": "StatementMeta(spk3u4py3u10, 1, 79, Finished, Available, Finished)"
          },
          "metadata": {}
        }
      ],
      "execution_count": 78,
      "metadata": {
        "jupyter": {
          "source_hidden": false,
          "outputs_hidden": false
        },
        "nteract": {
          "transient": {
            "deleting": false
          }
        }
      }
    },
    {
      "cell_type": "code",
      "source": [
        "#display(sam_monthly_df.limit(10))"
      ],
      "outputs": [
        {
          "output_type": "display_data",
          "data": {
            "application/vnd.livy.statement-meta+json": {
              "spark_pool": "spk3u4py3u10",
              "statement_id": 80,
              "statement_ids": [
                80
              ],
              "state": "finished",
              "livy_statement_state": "available",
              "spark_jobs": null,
              "session_id": "1",
              "normalized_state": "finished",
              "queued_time": "2025-06-12T02:10:37.9302112Z",
              "session_start_time": null,
              "execution_start_time": "2025-06-12T02:12:24.6537Z",
              "execution_finish_time": "2025-06-12T02:12:24.9082373Z",
              "parent_msg_id": "6b0b557d-6097-4860-959d-58b4274f6f96"
            },
            "text/plain": "StatementMeta(spk3u4py3u10, 1, 80, Finished, Available, Finished)"
          },
          "metadata": {}
        }
      ],
      "execution_count": 79,
      "metadata": {
        "jupyter": {
          "source_hidden": false,
          "outputs_hidden": false
        },
        "nteract": {
          "transient": {
            "deleting": false
          }
        },
        "collapsed": false
      }
    },
    {
      "cell_type": "markdown",
      "source": [
        "# <font size=\"5\">5. Combine composite key columns into single unique entity key"
      ],
      "metadata": {
        "nteract": {
          "transient": {
            "deleting": false
          }
        }
      }
    },
    {
      "cell_type": "code",
      "source": [
        "# Create unique entity key by concatenating UNIQUE_ENTITY_ID,CAGE_CODE,DODAAC\r\n",
        "\r\n",
        "# Add column entityKey to dataframe\r\n",
        "# Replace null/undefined values with '' in concat expression\r\n",
        "sam_monthly_df= sam_monthly_df.withColumn(\"entityKey\",concat(coalesce(col(\"UNIQUE_ENTITY_ID\"),lit('')),\r\n",
        "    coalesce(col(\"CAGE_CODE\"),lit('')),\r\n",
        "    coalesce(col(\"DODAAC\"),lit(''))))"
      ],
      "outputs": [
        {
          "output_type": "display_data",
          "data": {
            "application/vnd.livy.statement-meta+json": {
              "spark_pool": "spk3u4py3u10",
              "statement_id": 81,
              "statement_ids": [
                81
              ],
              "state": "finished",
              "livy_statement_state": "available",
              "spark_jobs": null,
              "session_id": "1",
              "normalized_state": "finished",
              "queued_time": "2025-06-12T02:10:38.0589658Z",
              "session_start_time": null,
              "execution_start_time": "2025-06-12T02:12:24.9253615Z",
              "execution_finish_time": "2025-06-12T02:12:25.1811666Z",
              "parent_msg_id": "eb79b576-a357-466d-95ee-ac7595a1613e"
            },
            "text/plain": "StatementMeta(spk3u4py3u10, 1, 81, Finished, Available, Finished)"
          },
          "metadata": {}
        }
      ],
      "execution_count": 80,
      "metadata": {
        "jupyter": {
          "source_hidden": false,
          "outputs_hidden": false
        },
        "nteract": {
          "transient": {
            "deleting": false
          }
        }
      }
    },
    {
      "cell_type": "code",
      "source": [
        "# Confirm column was added\r\n",
        "#sam_monthly_df.columns"
      ],
      "outputs": [
        {
          "output_type": "display_data",
          "data": {
            "application/vnd.livy.statement-meta+json": {
              "spark_pool": "spk3u4py3u10",
              "statement_id": 82,
              "statement_ids": [
                82
              ],
              "state": "finished",
              "livy_statement_state": "available",
              "spark_jobs": null,
              "session_id": "1",
              "normalized_state": "finished",
              "queued_time": "2025-06-12T02:10:38.2073598Z",
              "session_start_time": null,
              "execution_start_time": "2025-06-12T02:12:25.1960657Z",
              "execution_finish_time": "2025-06-12T02:12:25.5222446Z",
              "parent_msg_id": "22736f1d-9d84-48fc-9de6-2bdcaca7566e"
            },
            "text/plain": "StatementMeta(spk3u4py3u10, 1, 82, Finished, Available, Finished)"
          },
          "metadata": {}
        }
      ],
      "execution_count": 81,
      "metadata": {
        "jupyter": {
          "source_hidden": false,
          "outputs_hidden": true
        },
        "nteract": {
          "transient": {
            "deleting": false
          }
        }
      }
    },
    {
      "cell_type": "code",
      "source": [
        "# Confirm contents of entityKey\r\n",
        "display(sam_monthly_df.limit(10).select('entityKey', 'UNIQUE_ENTITY_ID','CAGE_CODE','DODAAC'))"
      ],
      "outputs": [
        {
          "output_type": "display_data",
          "data": {
            "application/vnd.livy.statement-meta+json": {
              "spark_pool": "spk3u4py3u10",
              "statement_id": 83,
              "statement_ids": [
                83
              ],
              "state": "finished",
              "livy_statement_state": "available",
              "spark_jobs": null,
              "session_id": "1",
              "normalized_state": "finished",
              "queued_time": "2025-06-12T02:10:38.4028113Z",
              "session_start_time": null,
              "execution_start_time": "2025-06-12T02:12:25.5401333Z",
              "execution_finish_time": "2025-06-12T02:12:26.2801339Z",
              "parent_msg_id": "6831cffd-c2f3-4a32-b928-ff7b2e1d70b0"
            },
            "text/plain": "StatementMeta(spk3u4py3u10, 1, 83, Finished, Available, Finished)"
          },
          "metadata": {}
        },
        {
          "output_type": "display_data",
          "data": {
            "application/vnd.synapse.widget-view+json": {
              "widget_id": "9fabdeac-495e-42ad-8137-88434fb63aaf",
              "widget_type": "Synapse.DataFrame"
            },
            "text/plain": "SynapseWidget(Synapse.DataFrame, 9fabdeac-495e-42ad-8137-88434fb63aaf)"
          },
          "metadata": {}
        }
      ],
      "execution_count": 82,
      "metadata": {
        "jupyter": {
          "source_hidden": false,
          "outputs_hidden": false
        },
        "nteract": {
          "transient": {
            "deleting": false
          }
        },
        "collapsed": false
      }
    },
    {
      "cell_type": "markdown",
      "source": [
        "# <font size=\"5\">6. Add initial audit columns"
      ],
      "metadata": {
        "nteract": {
          "transient": {
            "deleting": false
          }
        }
      }
    },
    {
      "cell_type": "code",
      "source": [
        "# Add audit directory and filename columns\r\n",
        "# Spark SQL date/time patterns: https://spark.apache.org/docs/latest/sql-ref-datetime-pattern.html\r\n",
        "sam_monthly_df = sam_monthly_df.withColumn(\"AUD_DIRECTORY\",lit(source_dir)).\\\r\n",
        "                withColumn(\"AUD_FILENAME\",lit(source_file)).\\\r\n",
        "                withColumn(\"AUD_ACTIVE_FLAG\", lit(\"Y\")).\\\r\n",
        "                withColumn(\"EffectiveFromDate\", to_date(lit(source_date), \"yyyyMMdd\")).\\\r\n",
        "                withColumn(\"EffectiveToDate\", lit(None).cast(\"date\"))"
      ],
      "outputs": [
        {
          "output_type": "display_data",
          "data": {
            "application/vnd.livy.statement-meta+json": {
              "spark_pool": "spk3u4py3u10",
              "statement_id": 84,
              "statement_ids": [
                84
              ],
              "state": "finished",
              "livy_statement_state": "available",
              "spark_jobs": null,
              "session_id": "1",
              "normalized_state": "finished",
              "queued_time": "2025-06-12T02:10:38.6301535Z",
              "session_start_time": null,
              "execution_start_time": "2025-06-12T02:12:26.2950683Z",
              "execution_finish_time": "2025-06-12T02:12:26.5543365Z",
              "parent_msg_id": "d14148f3-4f10-4023-8f25-10e149b7a256"
            },
            "text/plain": "StatementMeta(spk3u4py3u10, 1, 84, Finished, Available, Finished)"
          },
          "metadata": {}
        }
      ],
      "execution_count": 83,
      "metadata": {
        "jupyter": {
          "source_hidden": false,
          "outputs_hidden": false
        },
        "nteract": {
          "transient": {
            "deleting": false
          }
        }
      }
    },
    {
      "cell_type": "code",
      "source": [
        "# Confirm column was added\r\n",
        "#sam_monthly_df.columns"
      ],
      "outputs": [
        {
          "output_type": "display_data",
          "data": {
            "application/vnd.livy.statement-meta+json": {
              "spark_pool": "spk3u4py3u10",
              "statement_id": 85,
              "statement_ids": [
                85
              ],
              "state": "finished",
              "livy_statement_state": "available",
              "spark_jobs": null,
              "session_id": "1",
              "normalized_state": "finished",
              "queued_time": "2025-06-12T02:10:38.7825016Z",
              "session_start_time": null,
              "execution_start_time": "2025-06-12T02:12:26.568057Z",
              "execution_finish_time": "2025-06-12T02:12:26.9003643Z",
              "parent_msg_id": "eb80518c-888d-4409-8f78-e2e852f70704"
            },
            "text/plain": "StatementMeta(spk3u4py3u10, 1, 85, Finished, Available, Finished)"
          },
          "metadata": {}
        }
      ],
      "execution_count": 84,
      "metadata": {
        "jupyter": {
          "source_hidden": false,
          "outputs_hidden": true
        },
        "nteract": {
          "transient": {
            "deleting": false
          }
        }
      }
    },
    {
      "cell_type": "code",
      "source": [
        "# Create list of audit columns shared across tables\r\n",
        "aud_cols = ['AUD_DIRECTORY', 'AUD_FILENAME', 'AUD_ACTIVE_FLAG', 'EffectiveFromDate', 'EffectiveToDate']"
      ],
      "outputs": [
        {
          "output_type": "display_data",
          "data": {
            "application/vnd.livy.statement-meta+json": {
              "spark_pool": "spk3u4py3u10",
              "statement_id": 86,
              "statement_ids": [
                86
              ],
              "state": "finished",
              "livy_statement_state": "available",
              "spark_jobs": null,
              "session_id": "1",
              "normalized_state": "finished",
              "queued_time": "2025-06-12T02:10:38.9606609Z",
              "session_start_time": null,
              "execution_start_time": "2025-06-12T02:12:26.9231497Z",
              "execution_finish_time": "2025-06-12T02:12:27.2410546Z",
              "parent_msg_id": "279e22ad-74fd-442b-9496-5c5de125c436"
            },
            "text/plain": "StatementMeta(spk3u4py3u10, 1, 86, Finished, Available, Finished)"
          },
          "metadata": {}
        }
      ],
      "execution_count": 85,
      "metadata": {
        "jupyter": {
          "source_hidden": false,
          "outputs_hidden": false
        },
        "nteract": {
          "transient": {
            "deleting": false
          }
        }
      }
    },
    {
      "cell_type": "code",
      "source": [
        "# Confirm column contents\r\n",
        "display(sam_monthly_df.limit(2).select(*aud_cols))"
      ],
      "outputs": [
        {
          "output_type": "display_data",
          "data": {
            "application/vnd.livy.statement-meta+json": {
              "spark_pool": "spk3u4py3u10",
              "statement_id": 87,
              "statement_ids": [
                87
              ],
              "state": "finished",
              "livy_statement_state": "available",
              "spark_jobs": null,
              "session_id": "1",
              "normalized_state": "finished",
              "queued_time": "2025-06-12T02:10:39.1904074Z",
              "session_start_time": null,
              "execution_start_time": "2025-06-12T02:12:27.26503Z",
              "execution_finish_time": "2025-06-12T02:12:27.9994121Z",
              "parent_msg_id": "a4043c7f-78a9-4884-a112-d2ee589ca645"
            },
            "text/plain": "StatementMeta(spk3u4py3u10, 1, 87, Finished, Available, Finished)"
          },
          "metadata": {}
        },
        {
          "output_type": "display_data",
          "data": {
            "application/vnd.synapse.widget-view+json": {
              "widget_id": "b144d042-bdc0-4231-9261-e4aa37c15764",
              "widget_type": "Synapse.DataFrame"
            },
            "text/plain": "SynapseWidget(Synapse.DataFrame, b144d042-bdc0-4231-9261-e4aa37c15764)"
          },
          "metadata": {}
        }
      ],
      "execution_count": 86,
      "metadata": {
        "jupyter": {
          "source_hidden": false,
          "outputs_hidden": false
        },
        "nteract": {
          "transient": {
            "deleting": false
          }
        },
        "collapsed": false
      }
    },
    {
      "cell_type": "code",
      "source": [
        "# Assign the spark dataframe schema to variable schemaStruct\r\n",
        "# .schema returns a StructType object\r\n",
        "schemaStruct = sam_monthly_df.schema"
      ],
      "outputs": [
        {
          "output_type": "display_data",
          "data": {
            "application/vnd.livy.statement-meta+json": {
              "spark_pool": "spk3u4py3u10",
              "statement_id": 88,
              "statement_ids": [
                88
              ],
              "state": "finished",
              "livy_statement_state": "available",
              "spark_jobs": null,
              "session_id": "1",
              "normalized_state": "finished",
              "queued_time": "2025-06-12T02:10:39.4351753Z",
              "session_start_time": null,
              "execution_start_time": "2025-06-12T02:12:28.0144096Z",
              "execution_finish_time": "2025-06-12T02:12:28.2798629Z",
              "parent_msg_id": "36527147-040c-4ab4-9453-a9692ec20fd8"
            },
            "text/plain": "StatementMeta(spk3u4py3u10, 1, 88, Finished, Available, Finished)"
          },
          "metadata": {}
        }
      ],
      "execution_count": 87,
      "metadata": {
        "jupyter": {
          "source_hidden": false,
          "outputs_hidden": false
        },
        "nteract": {
          "transient": {
            "deleting": false
          }
        }
      }
    },
    {
      "cell_type": "markdown",
      "source": [
        "# <font size=\"5\">7. Convert NullType() Columns to StringType()"
      ],
      "metadata": {
        "nteract": {
          "transient": {
            "deleting": false
          }
        }
      }
    },
    {
      "cell_type": "code",
      "source": [
        "# Convert the spark dataframe schema into its own dataframe\r\n",
        "# This loop iterates over the object and extracts the necessary elements\r\n",
        "# https://spark.apache.org/docs/3.1.3/api/python/reference/api/pyspark.sql.types.StructType.html\r\n",
        "# https://spark.apache.org/docs/3.1.3/api/python/reference/api/pyspark.sql.types.StructField.html#pyspark.sql.types.StructField\r\n",
        "schemaList = []\r\n",
        "for i in schemaStruct.fieldNames():\r\n",
        "    schemaList.append(\r\n",
        "        {\r\n",
        "            'fieldname' : schemaStruct[i].name,\r\n",
        "            'datatype': str(schemaStruct[i].dataType),\r\n",
        "            'nullable': schemaStruct[i].nullable\r\n",
        "        }\r\n",
        "    )\r\n",
        "\r\n",
        "schema_df = pd.DataFrame(schemaList)\r\n",
        "#schema_df"
      ],
      "outputs": [
        {
          "output_type": "display_data",
          "data": {
            "application/vnd.livy.statement-meta+json": {
              "spark_pool": "spk3u4py3u10",
              "statement_id": 89,
              "statement_ids": [
                89
              ],
              "state": "finished",
              "livy_statement_state": "available",
              "spark_jobs": null,
              "session_id": "1",
              "normalized_state": "finished",
              "queued_time": "2025-06-12T02:10:39.5838698Z",
              "session_start_time": null,
              "execution_start_time": "2025-06-12T02:12:28.2956958Z",
              "execution_finish_time": "2025-06-12T02:12:28.6201347Z",
              "parent_msg_id": "bdc4ed57-c0ee-49da-bf6c-d590c2622933"
            },
            "text/plain": "StatementMeta(spk3u4py3u10, 1, 89, Finished, Available, Finished)"
          },
          "metadata": {}
        }
      ],
      "execution_count": 88,
      "metadata": {
        "jupyter": {
          "source_hidden": false,
          "outputs_hidden": false
        },
        "nteract": {
          "transient": {
            "deleting": false
          }
        }
      }
    },
    {
      "cell_type": "code",
      "source": [
        "# Check to see if any of the columns are are NullType() prior to writing spark dataframe to delta lake\r\n",
        "# NullType() columns will not be written to the delta table, so must be converted to another data type\r\n",
        "schema_df.loc[schema_df['datatype']==r'NullType()']"
      ],
      "outputs": [
        {
          "output_type": "display_data",
          "data": {
            "application/vnd.livy.statement-meta+json": {
              "spark_pool": "spk3u4py3u10",
              "statement_id": 90,
              "statement_ids": [
                90
              ],
              "state": "finished",
              "livy_statement_state": "available",
              "spark_jobs": null,
              "session_id": "1",
              "normalized_state": "finished",
              "queued_time": "2025-06-12T02:10:39.7019281Z",
              "session_start_time": null,
              "execution_start_time": "2025-06-12T02:12:28.6359477Z",
              "execution_finish_time": "2025-06-12T02:12:28.9594447Z",
              "parent_msg_id": "fd148691-899a-42a0-82d7-c910c486a9e5"
            },
            "text/plain": "StatementMeta(spk3u4py3u10, 1, 90, Finished, Available, Finished)"
          },
          "metadata": {}
        },
        {
          "output_type": "execute_result",
          "execution_count": 181,
          "data": {
            "text/plain": "               fieldname    datatype  nullable\n1       BLANK_DEPRECATED  NullType()      True\n23    D&B_OPEN_DATA_FLAG  NullType()      True\n38   CORRESPONDENCE_FLAG  NullType()      True\n122         FLEX_FIELD_1  NullType()      True\n123         FLEX_FIELD_2  NullType()      True\n124         FLEX_FIELD_3  NullType()      True\n125         FLEX_FIELD_4  NullType()      True\n126         FLEX_FIELD_5  NullType()      True\n127         FLEX_FIELD_6  NullType()      True\n128         FLEX_FIELD_7  NullType()      True\n129         FLEX_FIELD_8  NullType()      True\n130         FLEX_FIELD_9  NullType()      True\n131        FLEX_FIELD_10  NullType()      True\n132        FLEX_FIELD_11  NullType()      True\n133        FLEX_FIELD_12  NullType()      True\n134        FLEX_FIELD_13  NullType()      True\n135        FLEX_FIELD_14  NullType()      True\n136        FLEX_FIELD_15  NullType()      True\n137        FLEX_FIELD_16  NullType()      True\n138        FLEX_FIELD_17  NullType()      True\n139        FLEX_FIELD_18  NullType()      True\n140        FLEX_FIELD_19  NullType()      True",
            "text/html": "<div>\n<style scoped>\n    .dataframe tbody tr th:only-of-type {\n        vertical-align: middle;\n    }\n\n    .dataframe tbody tr th {\n        vertical-align: top;\n    }\n\n    .dataframe thead th {\n        text-align: right;\n    }\n</style>\n<table border=\"1\" class=\"dataframe\">\n  <thead>\n    <tr style=\"text-align: right;\">\n      <th></th>\n      <th>fieldname</th>\n      <th>datatype</th>\n      <th>nullable</th>\n    </tr>\n  </thead>\n  <tbody>\n    <tr>\n      <th>1</th>\n      <td>BLANK_DEPRECATED</td>\n      <td>NullType()</td>\n      <td>True</td>\n    </tr>\n    <tr>\n      <th>23</th>\n      <td>D&amp;B_OPEN_DATA_FLAG</td>\n      <td>NullType()</td>\n      <td>True</td>\n    </tr>\n    <tr>\n      <th>38</th>\n      <td>CORRESPONDENCE_FLAG</td>\n      <td>NullType()</td>\n      <td>True</td>\n    </tr>\n    <tr>\n      <th>122</th>\n      <td>FLEX_FIELD_1</td>\n      <td>NullType()</td>\n      <td>True</td>\n    </tr>\n    <tr>\n      <th>123</th>\n      <td>FLEX_FIELD_2</td>\n      <td>NullType()</td>\n      <td>True</td>\n    </tr>\n    <tr>\n      <th>124</th>\n      <td>FLEX_FIELD_3</td>\n      <td>NullType()</td>\n      <td>True</td>\n    </tr>\n    <tr>\n      <th>125</th>\n      <td>FLEX_FIELD_4</td>\n      <td>NullType()</td>\n      <td>True</td>\n    </tr>\n    <tr>\n      <th>126</th>\n      <td>FLEX_FIELD_5</td>\n      <td>NullType()</td>\n      <td>True</td>\n    </tr>\n    <tr>\n      <th>127</th>\n      <td>FLEX_FIELD_6</td>\n      <td>NullType()</td>\n      <td>True</td>\n    </tr>\n    <tr>\n      <th>128</th>\n      <td>FLEX_FIELD_7</td>\n      <td>NullType()</td>\n      <td>True</td>\n    </tr>\n    <tr>\n      <th>129</th>\n      <td>FLEX_FIELD_8</td>\n      <td>NullType()</td>\n      <td>True</td>\n    </tr>\n    <tr>\n      <th>130</th>\n      <td>FLEX_FIELD_9</td>\n      <td>NullType()</td>\n      <td>True</td>\n    </tr>\n    <tr>\n      <th>131</th>\n      <td>FLEX_FIELD_10</td>\n      <td>NullType()</td>\n      <td>True</td>\n    </tr>\n    <tr>\n      <th>132</th>\n      <td>FLEX_FIELD_11</td>\n      <td>NullType()</td>\n      <td>True</td>\n    </tr>\n    <tr>\n      <th>133</th>\n      <td>FLEX_FIELD_12</td>\n      <td>NullType()</td>\n      <td>True</td>\n    </tr>\n    <tr>\n      <th>134</th>\n      <td>FLEX_FIELD_13</td>\n      <td>NullType()</td>\n      <td>True</td>\n    </tr>\n    <tr>\n      <th>135</th>\n      <td>FLEX_FIELD_14</td>\n      <td>NullType()</td>\n      <td>True</td>\n    </tr>\n    <tr>\n      <th>136</th>\n      <td>FLEX_FIELD_15</td>\n      <td>NullType()</td>\n      <td>True</td>\n    </tr>\n    <tr>\n      <th>137</th>\n      <td>FLEX_FIELD_16</td>\n      <td>NullType()</td>\n      <td>True</td>\n    </tr>\n    <tr>\n      <th>138</th>\n      <td>FLEX_FIELD_17</td>\n      <td>NullType()</td>\n      <td>True</td>\n    </tr>\n    <tr>\n      <th>139</th>\n      <td>FLEX_FIELD_18</td>\n      <td>NullType()</td>\n      <td>True</td>\n    </tr>\n    <tr>\n      <th>140</th>\n      <td>FLEX_FIELD_19</td>\n      <td>NullType()</td>\n      <td>True</td>\n    </tr>\n  </tbody>\n</table>\n</div>"
          },
          "metadata": {}
        }
      ],
      "execution_count": 89,
      "metadata": {
        "jupyter": {
          "source_hidden": false,
          "outputs_hidden": false
        },
        "nteract": {
          "transient": {
            "deleting": false
          }
        }
      }
    },
    {
      "cell_type": "code",
      "source": [
        "# Iterates over the dataframe's schema and casts any NullType() columns to StringType()\r\n",
        "for i in schemaStruct.fieldNames():\r\n",
        "    if str(schemaStruct[i].dataType) == 'NullType()':\r\n",
        "        sam_monthly_df = sam_monthly_df.withColumn(i,col(i).cast('string'))"
      ],
      "outputs": [
        {
          "output_type": "display_data",
          "data": {
            "application/vnd.livy.statement-meta+json": {
              "spark_pool": "spk3u4py3u10",
              "statement_id": 91,
              "statement_ids": [
                91
              ],
              "state": "finished",
              "livy_statement_state": "available",
              "spark_jobs": null,
              "session_id": "1",
              "normalized_state": "finished",
              "queued_time": "2025-06-12T02:10:39.8628997Z",
              "session_start_time": null,
              "execution_start_time": "2025-06-12T02:12:28.973375Z",
              "execution_finish_time": "2025-06-12T02:12:30.3342152Z",
              "parent_msg_id": "dc22b4d0-bf33-4647-a236-c5a9200e0853"
            },
            "text/plain": "StatementMeta(spk3u4py3u10, 1, 91, Finished, Available, Finished)"
          },
          "metadata": {}
        }
      ],
      "execution_count": 90,
      "metadata": {
        "jupyter": {
          "source_hidden": false,
          "outputs_hidden": false
        },
        "nteract": {
          "transient": {
            "deleting": false
          }
        }
      }
    },
    {
      "cell_type": "markdown",
      "source": [
        "# <font size=\"5\">8. Create hash code of fields to track changes in (AUD_HASH_CODE)"
      ],
      "metadata": {
        "nteract": {
          "transient": {
            "deleting": false
          }
        }
      }
    },
    {
      "cell_type": "code",
      "source": [
        "# Compile list of columns to not include the AUD_HASH_CODE column of the sam_main table\r\n",
        "key_list = ['UNIQUE_ENTITY_ID', 'CAGE_CODE', 'DODAAC', 'END_OF_RECORD_INDICATOR']\r\n",
        "remove_list = ['SAM_EXTRACT_CODE', 'END_OF_RECORD_INDICATOR']\r\n",
        "remove_list.extend(key_list)"
      ],
      "outputs": [
        {
          "output_type": "display_data",
          "data": {
            "application/vnd.livy.statement-meta+json": {
              "spark_pool": "spk3u4py3u10",
              "statement_id": 92,
              "statement_ids": [
                92
              ],
              "state": "finished",
              "livy_statement_state": "available",
              "spark_jobs": null,
              "session_id": "1",
              "normalized_state": "finished",
              "queued_time": "2025-06-12T02:10:40.03059Z",
              "session_start_time": null,
              "execution_start_time": "2025-06-12T02:12:30.3499409Z",
              "execution_finish_time": "2025-06-12T02:12:30.6789501Z",
              "parent_msg_id": "f52dc91c-fbcc-47c4-8d67-18d019fe8e57"
            },
            "text/plain": "StatementMeta(spk3u4py3u10, 1, 92, Finished, Available, Finished)"
          },
          "metadata": {}
        }
      ],
      "execution_count": 91,
      "metadata": {
        "jupyter": {
          "source_hidden": false,
          "outputs_hidden": false
        },
        "nteract": {
          "transient": {
            "deleting": false
          }
        }
      }
    },
    {
      "cell_type": "code",
      "source": [
        "# Create list of columns (hash_cols) that should have changes tracked in sam_main\r\n",
        "hash_cols = var_list.copy()\r\n",
        "for i in remove_list:\r\n",
        "    if i in hash_cols:\r\n",
        "        hash_cols.remove(i)"
      ],
      "outputs": [
        {
          "output_type": "display_data",
          "data": {
            "application/vnd.livy.statement-meta+json": {
              "spark_pool": "spk3u4py3u10",
              "statement_id": 93,
              "statement_ids": [
                93
              ],
              "state": "finished",
              "livy_statement_state": "available",
              "spark_jobs": null,
              "session_id": "1",
              "normalized_state": "finished",
              "queued_time": "2025-06-12T02:10:40.2073146Z",
              "session_start_time": null,
              "execution_start_time": "2025-06-12T02:12:30.6941482Z",
              "execution_finish_time": "2025-06-12T02:12:31.0214617Z",
              "parent_msg_id": "f7f5582f-3e7d-4e05-a188-fedaed6c368d"
            },
            "text/plain": "StatementMeta(spk3u4py3u10, 1, 93, Finished, Available, Finished)"
          },
          "metadata": {}
        }
      ],
      "execution_count": 92,
      "metadata": {
        "jupyter": {
          "source_hidden": false,
          "outputs_hidden": false
        },
        "nteract": {
          "transient": {
            "deleting": false
          }
        }
      }
    },
    {
      "cell_type": "code",
      "source": [
        "#print(hash_cols)"
      ],
      "outputs": [
        {
          "output_type": "display_data",
          "data": {
            "application/vnd.livy.statement-meta+json": {
              "spark_pool": "spk3u4py3u10",
              "statement_id": 94,
              "statement_ids": [
                94
              ],
              "state": "finished",
              "livy_statement_state": "available",
              "spark_jobs": null,
              "session_id": "1",
              "normalized_state": "finished",
              "queued_time": "2025-06-12T02:10:40.3662115Z",
              "session_start_time": null,
              "execution_start_time": "2025-06-12T02:12:31.0363937Z",
              "execution_finish_time": "2025-06-12T02:12:31.3701011Z",
              "parent_msg_id": "c5b0a026-e0af-41a8-8784-8f048644275f"
            },
            "text/plain": "StatementMeta(spk3u4py3u10, 1, 94, Finished, Available, Finished)"
          },
          "metadata": {}
        }
      ],
      "execution_count": 93,
      "metadata": {
        "jupyter": {
          "source_hidden": false,
          "outputs_hidden": true
        },
        "nteract": {
          "transient": {
            "deleting": false
          }
        }
      }
    },
    {
      "cell_type": "code",
      "source": [
        "# Create the audit hash code of change-tracked columns \r\n",
        "sam_monthly_df = sam_monthly_df.withColumn(\"AUD_HASH_CODE\",lit(sha2(concat_ws(\"~\", *hash_cols), 256)))"
      ],
      "outputs": [
        {
          "output_type": "display_data",
          "data": {
            "application/vnd.livy.statement-meta+json": {
              "spark_pool": "spk3u4py3u10",
              "statement_id": 95,
              "statement_ids": [
                95
              ],
              "state": "finished",
              "livy_statement_state": "available",
              "spark_jobs": null,
              "session_id": "1",
              "normalized_state": "finished",
              "queued_time": "2025-06-12T02:10:40.5493212Z",
              "session_start_time": null,
              "execution_start_time": "2025-06-12T02:12:31.3847682Z",
              "execution_finish_time": "2025-06-12T02:12:32.1370839Z",
              "parent_msg_id": "6f21fe08-74ba-4003-8b0a-9afb7673f61c"
            },
            "text/plain": "StatementMeta(spk3u4py3u10, 1, 95, Finished, Available, Finished)"
          },
          "metadata": {}
        }
      ],
      "execution_count": 94,
      "metadata": {
        "jupyter": {
          "source_hidden": false,
          "outputs_hidden": false
        },
        "nteract": {
          "transient": {
            "deleting": false
          }
        }
      }
    },
    {
      "cell_type": "markdown",
      "source": [
        "# <font size=\"5\">9. Create surrogate unique key (AUD_SEQ_ID) and derived Partition Key"
      ],
      "metadata": {
        "nteract": {
          "transient": {
            "deleting": false
          }
        }
      }
    },
    {
      "cell_type": "code",
      "source": [
        "# Create the temporary surrogate key/sequence id for the record\r\n",
        "window_sort = ['entityKey','AUD_HASH_CODE']\r\n",
        "w = Window().orderBy(*window_sort)\r\n",
        "sam_monthly_df = sam_monthly_df.withColumn(\"AUD_SEQ_ID\", row_number().over(w))\r\n",
        "sam_monthly_df = sam_monthly_df.withColumn(\"AUD_SEQ_ID\",col(\"AUD_SEQ_ID\").cast('long'))"
      ],
      "outputs": [
        {
          "output_type": "display_data",
          "data": {
            "application/vnd.livy.statement-meta+json": {
              "spark_pool": "spk3u4py3u10",
              "statement_id": 123,
              "statement_ids": [
                123
              ],
              "state": "finished",
              "livy_statement_state": "available",
              "spark_jobs": null,
              "session_id": "1",
              "normalized_state": "finished",
              "queued_time": "2025-06-12T02:18:04.6974762Z",
              "session_start_time": null,
              "execution_start_time": "2025-06-12T02:18:04.6997922Z",
              "execution_finish_time": "2025-06-12T02:18:05.1729342Z",
              "parent_msg_id": "3a961d28-f8db-499a-a68a-8820ad5f84ea"
            },
            "text/plain": "StatementMeta(spk3u4py3u10, 1, 123, Finished, Available, Finished)"
          },
          "metadata": {}
        }
      ],
      "execution_count": 122,
      "metadata": {
        "jupyter": {
          "source_hidden": false,
          "outputs_hidden": false
        },
        "nteract": {
          "transient": {
            "deleting": false
          }
        }
      }
    },
    {
      "cell_type": "code",
      "source": [
        "# Create Partition Key column based on the first letter of the Unique Entity ID, which has a relatively equal distribution across possible values\r\n",
        "sam_monthly_df = sam_monthly_df.withColumn(\"PARTITION_KEY\", substring(col(\"UNIQUE_ENTITY_ID\"), 1, 1))"
      ],
      "outputs": [
        {
          "output_type": "display_data",
          "data": {
            "application/vnd.livy.statement-meta+json": {
              "spark_pool": "spk3u4py3u10",
              "statement_id": 182,
              "statement_ids": [
                182
              ],
              "state": "finished",
              "livy_statement_state": "available",
              "spark_jobs": null,
              "session_id": "1",
              "normalized_state": "finished",
              "queued_time": "2025-06-12T02:30:33.614551Z",
              "session_start_time": null,
              "execution_start_time": "2025-06-12T02:30:33.616831Z",
              "execution_finish_time": "2025-06-12T02:30:33.9433881Z",
              "parent_msg_id": "5e657431-1271-489d-8f50-a9f6241d0088"
            },
            "text/plain": "StatementMeta(spk3u4py3u10, 1, 182, Finished, Available, Finished)"
          },
          "metadata": {}
        }
      ],
      "execution_count": 181,
      "metadata": {}
    },
    {
      "cell_type": "code",
      "source": [
        "display(sam_monthly_df.limit(2).select(\"PARTITION_KEY\"))"
      ],
      "outputs": [
        {
          "output_type": "display_data",
          "data": {
            "application/vnd.livy.statement-meta+json": {
              "spark_pool": "spk3u4py3u10",
              "statement_id": 183,
              "statement_ids": [
                183
              ],
              "state": "finished",
              "livy_statement_state": "available",
              "spark_jobs": null,
              "session_id": "1",
              "normalized_state": "finished",
              "queued_time": "2025-06-12T02:30:35.4751079Z",
              "session_start_time": null,
              "execution_start_time": "2025-06-12T02:30:35.47903Z",
              "execution_finish_time": "2025-06-12T02:30:36.8488114Z",
              "parent_msg_id": "7172890c-6c73-4788-83fd-03dcf09287fa"
            },
            "text/plain": "StatementMeta(spk3u4py3u10, 1, 183, Finished, Available, Finished)"
          },
          "metadata": {}
        },
        {
          "output_type": "display_data",
          "data": {
            "application/vnd.synapse.widget-view+json": {
              "widget_id": "8ca566be-cbd1-4566-9683-336985265b8c",
              "widget_type": "Synapse.DataFrame"
            },
            "text/plain": "SynapseWidget(Synapse.DataFrame, 8ca566be-cbd1-4566-9683-336985265b8c)"
          },
          "metadata": {}
        }
      ],
      "execution_count": 182,
      "metadata": {
        "collapsed": false
      }
    },
    {
      "cell_type": "code",
      "source": [
        "print(sam_monthly_df.columns)"
      ],
      "outputs": [
        {
          "output_type": "display_data",
          "data": {
            "application/vnd.livy.statement-meta+json": {
              "spark_pool": "spk3u4py3u10",
              "statement_id": 184,
              "statement_ids": [
                184
              ],
              "state": "finished",
              "livy_statement_state": "available",
              "spark_jobs": null,
              "session_id": "1",
              "normalized_state": "finished",
              "queued_time": "2025-06-12T02:30:38.8477181Z",
              "session_start_time": null,
              "execution_start_time": "2025-06-12T02:30:38.8500394Z",
              "execution_finish_time": "2025-06-12T02:30:39.1863863Z",
              "parent_msg_id": "ecf0d002-5da7-4ebd-983c-28efd9fa989c"
            },
            "text/plain": "StatementMeta(spk3u4py3u10, 1, 184, Finished, Available, Finished)"
          },
          "metadata": {}
        },
        {
          "output_type": "stream",
          "name": "stdout",
          "text": [
            "['entityKey', 'AUD_HASH_CODE', 'AUD_SEQ_ID', 'AUD_ACTIVE_FLAG', 'AUD_DIRECTORY', 'AUD_FILENAME', 'EffectiveFromDate', 'EffectiveToDate', 'UNIQUE_ENTITY_ID', 'BLANK_DEPRECATED', 'ENTITY_EFT_INDICATOR', 'CAGE_CODE', 'DODAAC', 'SAM_EXTRACT_CODE', 'PURPOSE_OF_REGISTRATION', 'INITIAL_REGISTRATION_DATE', 'REGISTRATION_EXPIRATION_DATE', 'LAST_UPDATE_DATE', 'ACTIVATION_DATE', 'LEGAL_BUSINESS_NAME', 'DBA_NAME', 'ENTITY_DIVISION_NAME', 'ENTITY_DIVISION_NUMBER', 'PHYSICAL_ADDRESS_LINE_1', 'PHYSICAL_ADDRESS_LINE_2', 'PHYSICAL_ADDRESS_CITY', 'PHYSICAL_ADDRESS_PROVINCE_OR_STATE', 'PHYSICAL_ADDRESS_ZIP/POSTAL_CODE', 'PHYSICAL_ADDRESS_ZIP_CODE_4', 'PHYSICAL_ADDRESS_COUNTRY_CODE', 'PHYSICAL_ADDRESS_CONGRESSIONAL_DISTRICT', 'D&B_OPEN_DATA_FLAG', 'ENTITY_START_DATE', 'FISCAL_YEAR_END_CLOSE_DATE', 'ENTITY_URL', 'ENTITY_STRUCTURE', 'STATE_OF_INCORPORATION', 'COUNTRY_OF_INCORPORATION', 'BUSINESS_TYPE_COUNTER', 'BUS_TYPE_STRING', 'PRIMARY_NAICS', 'NAICS_CODE_COUNTER', 'NAICS_CODE_STRING', 'PSC_CODE_COUNTER', 'PSC_CODE_STRING', 'CREDIT_CARD_USAGE', 'CORRESPONDENCE_FLAG', 'MAILING_ADDRESS_LINE_1', 'MAILING_ADDRESS_LINE_2', 'MAILING_ADDRESS_CITY', 'MAILING_ADDRESS_ZIP/POSTAL_CODE', 'MAILING_ADDRESS_ZIP_CODE_4', 'MAILING_ADDRESS_COUNTRY', 'MAILING_ADDRESS_STATE_OR_PROVINCE', 'GOVT_BUS_POC_FIRST_NAME', 'GOVT_BUS_POC_MIDDLE_INITIAL', 'GOVT_BUS_POC_LAST_NAME', 'GOVT_BUS_POC_TITLE', 'GOVT_BUS_POC_ST_ADD_1', 'GOVT_BUS_POC_ST_ADD_2', 'GOVT_BUS_POC_CITY', 'GOVT_BUS_POC_ZIP/POSTAL_CODE', 'GOVT_BUS_POC_ZIP_CODE_4', 'GOVT_BUS_POC_COUNTRY_CODE', 'GOVT_BUS_POC_STATE_OR_PROVINCE', 'ALT_GOVT_BUS_POC_FIRST_NAME', 'ALT_GOVT_BUS_POC_MIDDLE_INITIAL', 'ALT_GOVT_BUS_POC_LAST_NAME', 'ALT_GOVT_BUS_POC_TITLE', 'ALT_GOVT_BUS_POC_ST_ADD_1', 'ALT_GOVT_BUS_POC_ST_ADD_2', 'ALT_GOVT_BUS_POC_CITY', 'ALT_GOVT_BUS_POC_ZIP/POSTAL_CODE', 'ALT_GOVT_BUS_POC_ZIP_CODE_4', 'ALT_GOVT_BUS_POC_COUNTRY_CODE', 'ALT_GOVT_BUS_POC_STATE_OR_PROVINCE', 'PAST_PERF_POC_POC_FIRST_NAME', 'PAST_PERF_POC_POC_MIDDLE_INITIAL', 'PAST_PERF_POC_POC_LAST_NAME', 'PAST_PERF_POC_POC_TITLE', 'PAST_PERF_POC_ST_ADD_1', 'PAST_PERF_POC_ST_ADD_2', 'PAST_PERF_POC_CITY', 'PAST_PERF_POC_ZIP/POSTAL_CODE', 'PAST_PERF_POC_ZIP_CODE_4', 'PAST_PERF_POC_COUNTRY_CODE', 'PAST_PERF_POC_STATE_OR_PROVINCE', 'ALT_PAST_PERF_POC_FIRST_NAME', 'ALT_PAST_PERF_POC_MIDDLE_INITIAL', 'ALT_PAST_PERF_POC_LAST_NAME', 'ALT_PAST_PERF_POC_TITLE', 'ALT_PAST_PERF_POC_ST_ADD_1', 'ALT_PAST_PERF_POC_ST_ADD_2', 'ALT_PAST_PERF_POC_CITY', 'ALT_PAST_PERF_POC_ZIP/POSTAL_CODE', 'ALT_PAST_PERF_POC_ZIP_CODE_4', 'ALT_PAST_PERF_POC_COUNTRY_CODE', 'ALT_PAST_PERF_POC_STATE_OR_PROVINCE', 'ELEC_BUS_POC_FIRST_NAME', 'ELEC_BUS_POC_MIDDLE_INITIAL', 'ELEC_BUS_POC_LAST_NAME', 'ELEC_BUS_POC_TITLE', 'ELEC_BUS_POC_ST_ADD_1', 'ELEC_BUS_POC_ST_ADD_2', 'ELEC_BUS_POC_CITY', 'ELEC_BUS_POC_ZIP/POSTAL_CODE', 'ELEC_BUS_POC_ZIP_CODE_4', 'ELEC_BUS_POC_COUNTRY_CODE', 'ELEC_BUS_POC_STATE_OR_PROVINCE', 'ALT_ELEC_POC_BUS_POC_FIRST_NAME', 'ALT_ELEC_POC_BUS_POC_MIDDLE_INITIAL', 'ALT_ELEC_POC_BUS_POC_LAST_NAME', 'ALT_ELEC_POC_BUS_POC_TITLE', 'ALT_ELEC_POC_BUS_ST_ADD_1', 'ALT_ELEC_POC_BUS_ST_ADD_2', 'ALT_ELEC_POC_BUS_CITY', 'ALT_ELEC_POC_BUS_ZIP/POSTAL_CODE', 'ALT_ELEC_POC_BUS_ZIP_CODE_4', 'ALT_ELEC_POC_BUS_COUNTRY_CODE', 'ALT_ELEC_POC_BUS_STATE_OR_PROVINCE', 'NAICS_EXCEPTION_COUNTER', 'NAICS_EXCEPTION_STRING', 'DEBT_SUBJECT_TO_OFFSET_FLAG', 'EXCLUSION_STATUS_FLAG', 'SBA_BUSINESS_TYPES_COUNTER', 'SBA_BUSINESS_TYPES_STRING', 'NO_PUBLIC_DISPLAY_FLAG', 'DISASTER_RESPONSE_COUNTER', 'DISASTER_RESPONSE_STRING', 'ENTITY_EVS_SOURCE', 'FLEX_FIELD_1', 'FLEX_FIELD_2', 'FLEX_FIELD_3', 'FLEX_FIELD_4', 'FLEX_FIELD_5', 'FLEX_FIELD_6', 'FLEX_FIELD_7', 'FLEX_FIELD_8', 'FLEX_FIELD_9', 'FLEX_FIELD_10', 'FLEX_FIELD_11', 'FLEX_FIELD_12', 'FLEX_FIELD_13', 'FLEX_FIELD_14', 'FLEX_FIELD_15', 'FLEX_FIELD_16', 'FLEX_FIELD_17', 'FLEX_FIELD_18', 'FLEX_FIELD_19', 'END_OF_RECORD_INDICATOR', 'PARTITION_KEY']\n"
          ]
        }
      ],
      "execution_count": 183,
      "metadata": {}
    },
    {
      "cell_type": "code",
      "source": [
        "# Create list with order of audit columns to appear at beginning of the table\r\n",
        "initial_aud_cols = ['entityKey','AUD_HASH_CODE', 'AUD_SEQ_ID',  'AUD_ACTIVE_FLAG', 'AUD_DIRECTORY', 'AUD_FILENAME','EffectiveFromDate', 'EffectiveToDate']"
      ],
      "outputs": [
        {
          "output_type": "display_data",
          "data": {
            "application/vnd.livy.statement-meta+json": {
              "spark_pool": "spk3u4py3u10",
              "statement_id": 153,
              "statement_ids": [
                153
              ],
              "state": "finished",
              "livy_statement_state": "available",
              "spark_jobs": null,
              "session_id": "1",
              "normalized_state": "finished",
              "queued_time": "2025-06-12T02:25:26.3498619Z",
              "session_start_time": null,
              "execution_start_time": "2025-06-12T02:25:26.3535885Z",
              "execution_finish_time": "2025-06-12T02:25:26.6278268Z",
              "parent_msg_id": "fd9d22c1-526d-4ae1-b4aa-e266ff5afe8d"
            },
            "text/plain": "StatementMeta(spk3u4py3u10, 1, 153, Finished, Available, Finished)"
          },
          "metadata": {}
        }
      ],
      "execution_count": 152,
      "metadata": {
        "jupyter": {
          "source_hidden": false,
          "outputs_hidden": false
        },
        "nteract": {
          "transient": {
            "deleting": false
          }
        }
      }
    },
    {
      "cell_type": "code",
      "source": [
        "# After generating all audit columns, reorder column list\r\n",
        "# Delta Lake indexes on initial 32 columns in table, so join conditions should be up front\r\n",
        "sam_monthly_df = sam_monthly_df.select(*initial_aud_cols,*base_cols, \"PARTITION_KEY\")"
      ],
      "outputs": [
        {
          "output_type": "display_data",
          "data": {
            "application/vnd.livy.statement-meta+json": {
              "spark_pool": "spk3u4py3u10",
              "statement_id": 185,
              "statement_ids": [
                185
              ],
              "state": "finished",
              "livy_statement_state": "available",
              "spark_jobs": null,
              "session_id": "1",
              "normalized_state": "finished",
              "queued_time": "2025-06-12T02:32:52.4267032Z",
              "session_start_time": null,
              "execution_start_time": "2025-06-12T02:32:52.4289354Z",
              "execution_finish_time": "2025-06-12T02:32:52.8412215Z",
              "parent_msg_id": "7d9724f6-82ae-49d2-8670-03682792911e"
            },
            "text/plain": "StatementMeta(spk3u4py3u10, 1, 185, Finished, Available, Finished)"
          },
          "metadata": {}
        }
      ],
      "execution_count": 184,
      "metadata": {
        "jupyter": {
          "source_hidden": false,
          "outputs_hidden": false
        },
        "nteract": {
          "transient": {
            "deleting": false
          }
        }
      }
    },
    {
      "cell_type": "code",
      "source": [
        "# Convert INITIAL_REGISTRATION_DATE to date type\r\n",
        "sam_monthly_df = sam_monthly_df.withColumn(\"INITIAL_REGISTRATION_DATE\",to_date(col(\"INITIAL_REGISTRATION_DATE\"), \"yyyyMMdd\"))\r\n",
        "display(sam_monthly_df.limit(2).select(\"INITIAL_REGISTRATION_DATE\"))"
      ],
      "outputs": [
        {
          "output_type": "display_data",
          "data": {
            "application/vnd.livy.statement-meta+json": {
              "spark_pool": "spk3u4py3u10",
              "statement_id": 186,
              "statement_ids": [
                186
              ],
              "state": "finished",
              "livy_statement_state": "available",
              "spark_jobs": null,
              "session_id": "1",
              "normalized_state": "finished",
              "queued_time": "2025-06-12T02:32:54.2158556Z",
              "session_start_time": null,
              "execution_start_time": "2025-06-12T02:32:54.2183095Z",
              "execution_finish_time": "2025-06-12T02:32:55.5890795Z",
              "parent_msg_id": "2ccf4343-84e5-428a-b7af-74e03c1c904b"
            },
            "text/plain": "StatementMeta(spk3u4py3u10, 1, 186, Finished, Available, Finished)"
          },
          "metadata": {}
        },
        {
          "output_type": "display_data",
          "data": {
            "application/vnd.synapse.widget-view+json": {
              "widget_id": "a72bc6d4-551e-4238-b111-54c9cf9ceb48",
              "widget_type": "Synapse.DataFrame"
            },
            "text/plain": "SynapseWidget(Synapse.DataFrame, a72bc6d4-551e-4238-b111-54c9cf9ceb48)"
          },
          "metadata": {}
        }
      ],
      "execution_count": 185,
      "metadata": {
        "collapsed": false
      }
    },
    {
      "cell_type": "code",
      "source": [
        "#display(sam_monthly_df.limit(2))"
      ],
      "outputs": [
        {
          "output_type": "display_data",
          "data": {
            "application/vnd.livy.statement-meta+json": {
              "spark_pool": "spk3u4py3u10",
              "statement_id": 187,
              "statement_ids": [
                187
              ],
              "state": "finished",
              "livy_statement_state": "available",
              "spark_jobs": null,
              "session_id": "1",
              "normalized_state": "finished",
              "queued_time": "2025-06-12T02:32:57.3798218Z",
              "session_start_time": null,
              "execution_start_time": "2025-06-12T02:32:57.3826421Z",
              "execution_finish_time": "2025-06-12T02:32:57.6555293Z",
              "parent_msg_id": "f275cde9-4359-45ea-a694-5909cf6fba65"
            },
            "text/plain": "StatementMeta(spk3u4py3u10, 1, 187, Finished, Available, Finished)"
          },
          "metadata": {}
        }
      ],
      "execution_count": 186,
      "metadata": {
        "jupyter": {
          "source_hidden": false,
          "outputs_hidden": false
        },
        "nteract": {
          "transient": {
            "deleting": false
          }
        },
        "collapsed": false
      }
    },
    {
      "cell_type": "code",
      "source": [
        "# Ensure no columns in sam_monthly_df are NullType()\r\n",
        "# This cell will only print output if NullType() columns are found\r\n",
        "for i in sam_monthly_df.schema.fieldNames():\r\n",
        "    if str(sam_monthly_df.schema[i].dataType) == 'NullType()':\r\n",
        "        print('sam_monthly_df column {} is NullType()'.format(i))"
      ],
      "outputs": [
        {
          "output_type": "display_data",
          "data": {
            "application/vnd.livy.statement-meta+json": {
              "spark_pool": "spk3u4py3u10",
              "statement_id": 188,
              "statement_ids": [
                188
              ],
              "state": "finished",
              "livy_statement_state": "available",
              "spark_jobs": null,
              "session_id": "1",
              "normalized_state": "finished",
              "queued_time": "2025-06-12T02:32:58.7796367Z",
              "session_start_time": null,
              "execution_start_time": "2025-06-12T02:32:58.8219863Z",
              "execution_finish_time": "2025-06-12T02:32:59.1172612Z",
              "parent_msg_id": "fc59f460-deb5-4ded-a62a-9fcda368a615"
            },
            "text/plain": "StatementMeta(spk3u4py3u10, 1, 188, Finished, Available, Finished)"
          },
          "metadata": {}
        }
      ],
      "execution_count": 187,
      "metadata": {
        "jupyter": {
          "source_hidden": false,
          "outputs_hidden": false
        },
        "nteract": {
          "transient": {
            "deleting": false
          }
        }
      }
    },
    {
      "cell_type": "code",
      "source": [
        "# # Write first sam_main data frame to silver as the baseline\r\n",
        "# # Write Dataframe as Delta Table (silver)\r\n",
        "# if not DeltaTable.isDeltaTable(spark, silver_main_path):\r\n",
        "#     sam_monthly_df.write.format(\"delta\").mode(\"overwrite\").save(silver_main_path)"
      ],
      "outputs": [
        {
          "output_type": "display_data",
          "data": {
            "application/vnd.livy.statement-meta+json": {
              "spark_pool": "spk3u4py3u10",
              "statement_id": 158,
              "statement_ids": [
                158
              ],
              "state": "finished",
              "livy_statement_state": "available",
              "spark_jobs": null,
              "session_id": "1",
              "normalized_state": "finished",
              "queued_time": "2025-06-12T02:25:27.5427141Z",
              "session_start_time": null,
              "execution_start_time": "2025-06-12T02:25:29.4617582Z",
              "execution_finish_time": "2025-06-12T02:25:29.8569582Z",
              "parent_msg_id": "08cbc7a1-48c3-4fcd-8c54-0a9bdc1ad821"
            },
            "text/plain": "StatementMeta(spk3u4py3u10, 1, 158, Finished, Available, Finished)"
          },
          "metadata": {}
        }
      ],
      "execution_count": 157,
      "metadata": {
        "jupyter": {
          "source_hidden": false,
          "outputs_hidden": false
        },
        "nteract": {
          "transient": {
            "deleting": false
          }
        }
      }
    },
    {
      "cell_type": "code",
      "source": [
        "# Create list of columns used in join condition\r\n",
        "condition_cols = ['entityKey', 'AUD_HASH_CODE', 'AUD_ACTIVE_FLAG']"
      ],
      "outputs": [
        {
          "output_type": "display_data",
          "data": {
            "application/vnd.livy.statement-meta+json": {
              "spark_pool": "spk3u4py3u10",
              "statement_id": 189,
              "statement_ids": [
                189
              ],
              "state": "finished",
              "livy_statement_state": "available",
              "spark_jobs": null,
              "session_id": "1",
              "normalized_state": "finished",
              "queued_time": "2025-06-12T02:33:01.0910576Z",
              "session_start_time": null,
              "execution_start_time": "2025-06-12T02:33:01.0947149Z",
              "execution_finish_time": "2025-06-12T02:33:01.4325772Z",
              "parent_msg_id": "28ebeb67-be89-41d0-870b-7d5ae0bd63e8"
            },
            "text/plain": "StatementMeta(spk3u4py3u10, 1, 189, Finished, Available, Finished)"
          },
          "metadata": {}
        }
      ],
      "execution_count": 188,
      "metadata": {
        "jupyter": {
          "source_hidden": false,
          "outputs_hidden": false
        },
        "nteract": {
          "transient": {
            "deleting": false
          }
        }
      }
    },
    {
      "cell_type": "code",
      "source": [
        "# Create list of all columns in silver sam_monthly_df dataframe\r\n",
        "silver_columns = sam_monthly_df.columns"
      ],
      "outputs": [
        {
          "output_type": "display_data",
          "data": {
            "application/vnd.livy.statement-meta+json": {
              "spark_pool": "spk3u4py3u10",
              "statement_id": 190,
              "statement_ids": [
                190
              ],
              "state": "finished",
              "livy_statement_state": "available",
              "spark_jobs": null,
              "session_id": "1",
              "normalized_state": "finished",
              "queued_time": "2025-06-12T02:33:02.534346Z",
              "session_start_time": null,
              "execution_start_time": "2025-06-12T02:33:02.5365285Z",
              "execution_finish_time": "2025-06-12T02:33:02.809452Z",
              "parent_msg_id": "e4940f12-543a-43e4-a2fc-42c0568432c7"
            },
            "text/plain": "StatementMeta(spk3u4py3u10, 1, 190, Finished, Available, Finished)"
          },
          "metadata": {}
        }
      ],
      "execution_count": 189,
      "metadata": {
        "jupyter": {
          "source_hidden": false,
          "outputs_hidden": false
        },
        "nteract": {
          "transient": {
            "deleting": false
          }
        }
      }
    },
    {
      "cell_type": "code",
      "source": [
        "print(silver_columns)"
      ],
      "outputs": [
        {
          "output_type": "display_data",
          "data": {
            "application/vnd.livy.statement-meta+json": {
              "spark_pool": "spk3u4py3u10",
              "statement_id": 191,
              "statement_ids": [
                191
              ],
              "state": "finished",
              "livy_statement_state": "available",
              "spark_jobs": null,
              "session_id": "1",
              "normalized_state": "finished",
              "queued_time": "2025-06-12T02:33:03.7393305Z",
              "session_start_time": null,
              "execution_start_time": "2025-06-12T02:33:03.7424907Z",
              "execution_finish_time": "2025-06-12T02:33:04.090027Z",
              "parent_msg_id": "7d1f22e1-bbac-4045-aaf0-f573bbe140ac"
            },
            "text/plain": "StatementMeta(spk3u4py3u10, 1, 191, Finished, Available, Finished)"
          },
          "metadata": {}
        },
        {
          "output_type": "stream",
          "name": "stdout",
          "text": [
            "['entityKey', 'AUD_HASH_CODE', 'AUD_SEQ_ID', 'AUD_ACTIVE_FLAG', 'AUD_DIRECTORY', 'AUD_FILENAME', 'EffectiveFromDate', 'EffectiveToDate', 'UNIQUE_ENTITY_ID', 'BLANK_DEPRECATED', 'ENTITY_EFT_INDICATOR', 'CAGE_CODE', 'DODAAC', 'SAM_EXTRACT_CODE', 'PURPOSE_OF_REGISTRATION', 'INITIAL_REGISTRATION_DATE', 'REGISTRATION_EXPIRATION_DATE', 'LAST_UPDATE_DATE', 'ACTIVATION_DATE', 'LEGAL_BUSINESS_NAME', 'DBA_NAME', 'ENTITY_DIVISION_NAME', 'ENTITY_DIVISION_NUMBER', 'PHYSICAL_ADDRESS_LINE_1', 'PHYSICAL_ADDRESS_LINE_2', 'PHYSICAL_ADDRESS_CITY', 'PHYSICAL_ADDRESS_PROVINCE_OR_STATE', 'PHYSICAL_ADDRESS_ZIP/POSTAL_CODE', 'PHYSICAL_ADDRESS_ZIP_CODE_4', 'PHYSICAL_ADDRESS_COUNTRY_CODE', 'PHYSICAL_ADDRESS_CONGRESSIONAL_DISTRICT', 'D&B_OPEN_DATA_FLAG', 'ENTITY_START_DATE', 'FISCAL_YEAR_END_CLOSE_DATE', 'ENTITY_URL', 'ENTITY_STRUCTURE', 'STATE_OF_INCORPORATION', 'COUNTRY_OF_INCORPORATION', 'BUSINESS_TYPE_COUNTER', 'BUS_TYPE_STRING', 'PRIMARY_NAICS', 'NAICS_CODE_COUNTER', 'NAICS_CODE_STRING', 'PSC_CODE_COUNTER', 'PSC_CODE_STRING', 'CREDIT_CARD_USAGE', 'CORRESPONDENCE_FLAG', 'MAILING_ADDRESS_LINE_1', 'MAILING_ADDRESS_LINE_2', 'MAILING_ADDRESS_CITY', 'MAILING_ADDRESS_ZIP/POSTAL_CODE', 'MAILING_ADDRESS_ZIP_CODE_4', 'MAILING_ADDRESS_COUNTRY', 'MAILING_ADDRESS_STATE_OR_PROVINCE', 'GOVT_BUS_POC_FIRST_NAME', 'GOVT_BUS_POC_MIDDLE_INITIAL', 'GOVT_BUS_POC_LAST_NAME', 'GOVT_BUS_POC_TITLE', 'GOVT_BUS_POC_ST_ADD_1', 'GOVT_BUS_POC_ST_ADD_2', 'GOVT_BUS_POC_CITY', 'GOVT_BUS_POC_ZIP/POSTAL_CODE', 'GOVT_BUS_POC_ZIP_CODE_4', 'GOVT_BUS_POC_COUNTRY_CODE', 'GOVT_BUS_POC_STATE_OR_PROVINCE', 'ALT_GOVT_BUS_POC_FIRST_NAME', 'ALT_GOVT_BUS_POC_MIDDLE_INITIAL', 'ALT_GOVT_BUS_POC_LAST_NAME', 'ALT_GOVT_BUS_POC_TITLE', 'ALT_GOVT_BUS_POC_ST_ADD_1', 'ALT_GOVT_BUS_POC_ST_ADD_2', 'ALT_GOVT_BUS_POC_CITY', 'ALT_GOVT_BUS_POC_ZIP/POSTAL_CODE', 'ALT_GOVT_BUS_POC_ZIP_CODE_4', 'ALT_GOVT_BUS_POC_COUNTRY_CODE', 'ALT_GOVT_BUS_POC_STATE_OR_PROVINCE', 'PAST_PERF_POC_POC_FIRST_NAME', 'PAST_PERF_POC_POC_MIDDLE_INITIAL', 'PAST_PERF_POC_POC_LAST_NAME', 'PAST_PERF_POC_POC_TITLE', 'PAST_PERF_POC_ST_ADD_1', 'PAST_PERF_POC_ST_ADD_2', 'PAST_PERF_POC_CITY', 'PAST_PERF_POC_ZIP/POSTAL_CODE', 'PAST_PERF_POC_ZIP_CODE_4', 'PAST_PERF_POC_COUNTRY_CODE', 'PAST_PERF_POC_STATE_OR_PROVINCE', 'ALT_PAST_PERF_POC_FIRST_NAME', 'ALT_PAST_PERF_POC_MIDDLE_INITIAL', 'ALT_PAST_PERF_POC_LAST_NAME', 'ALT_PAST_PERF_POC_TITLE', 'ALT_PAST_PERF_POC_ST_ADD_1', 'ALT_PAST_PERF_POC_ST_ADD_2', 'ALT_PAST_PERF_POC_CITY', 'ALT_PAST_PERF_POC_ZIP/POSTAL_CODE', 'ALT_PAST_PERF_POC_ZIP_CODE_4', 'ALT_PAST_PERF_POC_COUNTRY_CODE', 'ALT_PAST_PERF_POC_STATE_OR_PROVINCE', 'ELEC_BUS_POC_FIRST_NAME', 'ELEC_BUS_POC_MIDDLE_INITIAL', 'ELEC_BUS_POC_LAST_NAME', 'ELEC_BUS_POC_TITLE', 'ELEC_BUS_POC_ST_ADD_1', 'ELEC_BUS_POC_ST_ADD_2', 'ELEC_BUS_POC_CITY', 'ELEC_BUS_POC_ZIP/POSTAL_CODE', 'ELEC_BUS_POC_ZIP_CODE_4', 'ELEC_BUS_POC_COUNTRY_CODE', 'ELEC_BUS_POC_STATE_OR_PROVINCE', 'ALT_ELEC_POC_BUS_POC_FIRST_NAME', 'ALT_ELEC_POC_BUS_POC_MIDDLE_INITIAL', 'ALT_ELEC_POC_BUS_POC_LAST_NAME', 'ALT_ELEC_POC_BUS_POC_TITLE', 'ALT_ELEC_POC_BUS_ST_ADD_1', 'ALT_ELEC_POC_BUS_ST_ADD_2', 'ALT_ELEC_POC_BUS_CITY', 'ALT_ELEC_POC_BUS_ZIP/POSTAL_CODE', 'ALT_ELEC_POC_BUS_ZIP_CODE_4', 'ALT_ELEC_POC_BUS_COUNTRY_CODE', 'ALT_ELEC_POC_BUS_STATE_OR_PROVINCE', 'NAICS_EXCEPTION_COUNTER', 'NAICS_EXCEPTION_STRING', 'DEBT_SUBJECT_TO_OFFSET_FLAG', 'EXCLUSION_STATUS_FLAG', 'SBA_BUSINESS_TYPES_COUNTER', 'SBA_BUSINESS_TYPES_STRING', 'NO_PUBLIC_DISPLAY_FLAG', 'DISASTER_RESPONSE_COUNTER', 'DISASTER_RESPONSE_STRING', 'ENTITY_EVS_SOURCE', 'FLEX_FIELD_1', 'FLEX_FIELD_2', 'FLEX_FIELD_3', 'FLEX_FIELD_4', 'FLEX_FIELD_5', 'FLEX_FIELD_6', 'FLEX_FIELD_7', 'FLEX_FIELD_8', 'FLEX_FIELD_9', 'FLEX_FIELD_10', 'FLEX_FIELD_11', 'FLEX_FIELD_12', 'FLEX_FIELD_13', 'FLEX_FIELD_14', 'FLEX_FIELD_15', 'FLEX_FIELD_16', 'FLEX_FIELD_17', 'FLEX_FIELD_18', 'FLEX_FIELD_19', 'END_OF_RECORD_INDICATOR', 'PARTITION_KEY']\n"
          ]
        }
      ],
      "execution_count": 190,
      "metadata": {}
    },
    {
      "cell_type": "markdown",
      "source": [
        "# <font size=\"5\">10. Create spark dataframe from target (silver) delta lake data set"
      ],
      "metadata": {
        "nteract": {
          "transient": {
            "deleting": false
          }
        }
      }
    },
    {
      "cell_type": "code",
      "source": [
        "# Initialize silver/target data frame for lookup\r\n",
        "sam_main_target_df = spark.read.format(\"delta\").load(silver_path)"
      ],
      "outputs": [
        {
          "output_type": "display_data",
          "data": {
            "application/vnd.livy.statement-meta+json": {
              "spark_pool": "spk3u4py3u10",
              "statement_id": 192,
              "statement_ids": [
                192
              ],
              "state": "finished",
              "livy_statement_state": "available",
              "spark_jobs": null,
              "session_id": "1",
              "normalized_state": "finished",
              "queued_time": "2025-06-12T02:33:09.3409934Z",
              "session_start_time": null,
              "execution_start_time": "2025-06-12T02:33:09.3445048Z",
              "execution_finish_time": "2025-06-12T02:33:09.6244771Z",
              "parent_msg_id": "55835352-8549-460d-a96c-1ec696b6d37f"
            },
            "text/plain": "StatementMeta(spk3u4py3u10, 1, 192, Finished, Available, Finished)"
          },
          "metadata": {}
        }
      ],
      "execution_count": 191,
      "metadata": {
        "jupyter": {
          "source_hidden": false,
          "outputs_hidden": false
        },
        "nteract": {
          "transient": {
            "deleting": false
          }
        }
      }
    },
    {
      "cell_type": "markdown",
      "source": [
        "# <font size=\"5\">11. Define and prepare the rows in the incoming daily file that are new or updates to existing records"
      ],
      "metadata": {
        "nteract": {
          "transient": {
            "deleting": false
          }
        }
      }
    },
    {
      "cell_type": "code",
      "source": [
        "# Define the rows to update and join method and conditions via left anti join on incoming monthly file\r\n",
        "#.where(\"AUD_ACTIVE_FLAG = 'Y' AND SAM_EXTRACT_CODE = '3'\") \\ # SAM_EXTRACT_CODE = '3' is only valid for daily files\r\n",
        "RowsToInsert = sam_monthly_df \\\r\n",
        "            .alias(\"source\") \\\r\n",
        "            .where(\"AUD_ACTIVE_FLAG = 'Y'\") \\\r\n",
        "            .join(sam_main_target_df.alias(\"target\"),condition_cols,'leftanti') \\\r\n",
        "            .select(*silver_columns) \\\r\n",
        "            .orderBy(col('source.entityKey'))"
      ],
      "outputs": [
        {
          "output_type": "display_data",
          "data": {
            "application/vnd.livy.statement-meta+json": {
              "spark_pool": "spk3u4py3u10",
              "statement_id": 193,
              "statement_ids": [
                193
              ],
              "state": "finished",
              "livy_statement_state": "available",
              "spark_jobs": null,
              "session_id": "1",
              "normalized_state": "finished",
              "queued_time": "2025-06-12T02:33:09.4778189Z",
              "session_start_time": null,
              "execution_start_time": "2025-06-12T02:33:09.6963791Z",
              "execution_finish_time": "2025-06-12T02:33:10.4421563Z",
              "parent_msg_id": "1a4cccae-f192-4b32-afb1-d4c6f30cb262"
            },
            "text/plain": "StatementMeta(spk3u4py3u10, 1, 193, Finished, Available, Finished)"
          },
          "metadata": {}
        }
      ],
      "execution_count": 192,
      "metadata": {
        "jupyter": {
          "source_hidden": false,
          "outputs_hidden": false
        },
        "nteract": {
          "transient": {
            "deleting": false
          }
        }
      }
    },
    {
      "cell_type": "code",
      "source": [
        "display(RowsToInsert.limit(1))"
      ],
      "outputs": [
        {
          "output_type": "display_data",
          "data": {
            "application/vnd.livy.statement-meta+json": {
              "spark_pool": "spk3u4py3u10",
              "statement_id": 194,
              "statement_ids": [
                194
              ],
              "state": "finished",
              "livy_statement_state": "available",
              "spark_jobs": null,
              "session_id": "1",
              "normalized_state": "finished",
              "queued_time": "2025-06-12T02:33:09.5554545Z",
              "session_start_time": null,
              "execution_start_time": "2025-06-12T02:33:10.4559737Z",
              "execution_finish_time": "2025-06-12T02:33:23.861047Z",
              "parent_msg_id": "b8d0ef55-7758-4acb-8f96-86ba92708b62"
            },
            "text/plain": "StatementMeta(spk3u4py3u10, 1, 194, Finished, Available, Finished)"
          },
          "metadata": {}
        },
        {
          "output_type": "display_data",
          "data": {
            "application/vnd.synapse.widget-view+json": {
              "widget_id": "a2318373-2b3f-412b-a5a5-cf4bbea4e8eb",
              "widget_type": "Synapse.DataFrame"
            },
            "text/plain": "SynapseWidget(Synapse.DataFrame, a2318373-2b3f-412b-a5a5-cf4bbea4e8eb)"
          },
          "metadata": {}
        }
      ],
      "execution_count": 193,
      "metadata": {
        "microsoft": {},
        "jupyter": {
          "source_hidden": false,
          "outputs_hidden": false
        },
        "nteract": {
          "transient": {
            "deleting": false
          }
        },
        "collapsed": false
      }
    },
    {
      "cell_type": "code",
      "source": [
        "print(RowsToInsert.count())"
      ],
      "outputs": [
        {
          "output_type": "display_data",
          "data": {
            "application/vnd.livy.statement-meta+json": {
              "spark_pool": "spk3u4py3u10",
              "statement_id": 195,
              "statement_ids": [
                195
              ],
              "state": "finished",
              "livy_statement_state": "available",
              "spark_jobs": null,
              "session_id": "1",
              "normalized_state": "finished",
              "queued_time": "2025-06-12T02:33:09.8432625Z",
              "session_start_time": null,
              "execution_start_time": "2025-06-12T02:33:23.8771398Z",
              "execution_finish_time": "2025-06-12T02:33:31.3389729Z",
              "parent_msg_id": "3c583628-742b-4ee8-a33d-7d600c75843c"
            },
            "text/plain": "StatementMeta(spk3u4py3u10, 1, 195, Finished, Available, Finished)"
          },
          "metadata": {}
        },
        {
          "output_type": "stream",
          "name": "stdout",
          "text": [
            "567967\n"
          ]
        }
      ],
      "execution_count": 194,
      "metadata": {
        "jupyter": {
          "source_hidden": false,
          "outputs_hidden": false
        },
        "nteract": {
          "transient": {
            "deleting": false
          }
        }
      }
    },
    {
      "cell_type": "code",
      "source": [
        "display(RowsToInsert.select(\"UNIQUE_ENTITY_ID\", \"LEGAL_BUSINESS_NAME\", \"entityKey\", \"AUD_SEQ_ID\", \"AUD_HASH_CODE\", \"AUD_DIRECTORY\", \"AUD_FILENAME\", \"AUD_ACTIVE_FLAG\", \"EffectiveFromDate\", \"EffectiveToDate\").filter(col(\"UNIQUE_ENTITY_ID\") == lit('F743Q1LZ3VN9')))"
      ],
      "outputs": [
        {
          "output_type": "display_data",
          "data": {
            "application/vnd.livy.statement-meta+json": {
              "spark_pool": "spk3u4py3u10",
              "statement_id": 196,
              "statement_ids": [
                196
              ],
              "state": "finished",
              "livy_statement_state": "available",
              "spark_jobs": null,
              "session_id": "1",
              "normalized_state": "finished",
              "queued_time": "2025-06-12T02:33:10.3733062Z",
              "session_start_time": null,
              "execution_start_time": "2025-06-12T02:33:31.3648178Z",
              "execution_finish_time": "2025-06-12T02:33:38.9782977Z",
              "parent_msg_id": "bca49ee6-8b35-4937-bf12-b029a12c12d7"
            },
            "text/plain": "StatementMeta(spk3u4py3u10, 1, 196, Finished, Available, Finished)"
          },
          "metadata": {}
        },
        {
          "output_type": "display_data",
          "data": {
            "application/vnd.synapse.widget-view+json": {
              "widget_id": "5a2137f8-230f-4ab0-8d7b-f81eb34f1831",
              "widget_type": "Synapse.DataFrame"
            },
            "text/plain": "SynapseWidget(Synapse.DataFrame, 5a2137f8-230f-4ab0-8d7b-f81eb34f1831)"
          },
          "metadata": {}
        }
      ],
      "execution_count": 195,
      "metadata": {
        "collapsed": false
      }
    },
    {
      "cell_type": "code",
      "source": [
        "# Retrieve maximum surrogate key (AUD_SEQ_ID) in silver delta table\r\n",
        "maxTableKey = DeltaTable.forPath(spark, silver_path).toDF().agg({\"AUD_SEQ_ID\":\"max\"}).collect()[0][0]\r\n",
        "print(maxTableKey)"
      ],
      "outputs": [
        {
          "output_type": "display_data",
          "data": {
            "application/vnd.livy.statement-meta+json": {
              "spark_pool": "spk3u4py3u10",
              "statement_id": 197,
              "statement_ids": [
                197
              ],
              "state": "finished",
              "livy_statement_state": "available",
              "spark_jobs": null,
              "session_id": "1",
              "normalized_state": "finished",
              "queued_time": "2025-06-12T02:33:10.5894224Z",
              "session_start_time": null,
              "execution_start_time": "2025-06-12T02:33:38.995898Z",
              "execution_finish_time": "2025-06-12T02:33:39.7403856Z",
              "parent_msg_id": "0002c21c-0534-4aab-b7eb-be80aa9edab1"
            },
            "text/plain": "StatementMeta(spk3u4py3u10, 1, 197, Finished, Available, Finished)"
          },
          "metadata": {}
        },
        {
          "output_type": "stream",
          "name": "stdout",
          "text": [
            "848539\n"
          ]
        }
      ],
      "execution_count": 196,
      "metadata": {
        "jupyter": {
          "source_hidden": false,
          "outputs_hidden": false
        },
        "nteract": {
          "transient": {
            "deleting": false
          }
        }
      }
    },
    {
      "cell_type": "code",
      "source": [
        "# Increment surrogate key in stage table by maxTableKey\r\n",
        "RowsToInsert = RowsToInsert.withColumn(\"AUD_SEQ_ID\", col(\"AUD_SEQ_ID\") + maxTableKey)"
      ],
      "outputs": [
        {
          "output_type": "display_data",
          "data": {
            "application/vnd.livy.statement-meta+json": {
              "spark_pool": "spk3u4py3u10",
              "statement_id": 198,
              "statement_ids": [
                198
              ],
              "state": "finished",
              "livy_statement_state": "available",
              "spark_jobs": null,
              "session_id": "1",
              "normalized_state": "finished",
              "queued_time": "2025-06-12T02:33:10.7158375Z",
              "session_start_time": null,
              "execution_start_time": "2025-06-12T02:33:39.7548105Z",
              "execution_finish_time": "2025-06-12T02:33:40.0295028Z",
              "parent_msg_id": "3fed9d94-9d50-4b62-9026-aa72db6d8de3"
            },
            "text/plain": "StatementMeta(spk3u4py3u10, 1, 198, Finished, Available, Finished)"
          },
          "metadata": {}
        }
      ],
      "execution_count": 197,
      "metadata": {
        "jupyter": {
          "source_hidden": false,
          "outputs_hidden": false
        },
        "nteract": {
          "transient": {
            "deleting": false
          }
        }
      }
    },
    {
      "cell_type": "code",
      "source": [
        "# Uncomment and run only if you receive a schema mismatch error in the next step when trying\r\n",
        "#   to make an update to the silver table\r\n",
        "# Returns list of columns in sam_monthly_df that don't exist in the sam_main_target_df df\r\n",
        "res = [x for x in sam_main_target_df.columns + RowsToInsert.columns if x not in sam_main_target_df.columns or x not in RowsToInsert.columns]\r\n",
        "print(res)"
      ],
      "outputs": [
        {
          "output_type": "display_data",
          "data": {
            "application/vnd.livy.statement-meta+json": {
              "spark_pool": "spk3u4py3u10",
              "statement_id": 199,
              "statement_ids": [
                199
              ],
              "state": "finished",
              "livy_statement_state": "available",
              "spark_jobs": null,
              "session_id": "1",
              "normalized_state": "finished",
              "queued_time": "2025-06-12T02:33:11.0684454Z",
              "session_start_time": null,
              "execution_start_time": "2025-06-12T02:33:40.0849943Z",
              "execution_finish_time": "2025-06-12T02:33:40.357561Z",
              "parent_msg_id": "e8996e20-dc91-4075-9f19-5374d5aa64cd"
            },
            "text/plain": "StatementMeta(spk3u4py3u10, 1, 199, Finished, Available, Finished)"
          },
          "metadata": {}
        },
        {
          "output_type": "stream",
          "name": "stdout",
          "text": [
            "[]\n"
          ]
        }
      ],
      "execution_count": 198,
      "metadata": {
        "jupyter": {
          "source_hidden": false,
          "outputs_hidden": false
        },
        "nteract": {
          "transient": {
            "deleting": false
          }
        }
      }
    },
    {
      "cell_type": "markdown",
      "source": [
        "# <font size=\"5\">12. Update the AUD_ACTIVE_FLAG of updated records in the target (silver) from 'Y' to 'N'"
      ],
      "metadata": {
        "nteract": {
          "transient": {
            "deleting": false
          }
        }
      }
    },
    {
      "cell_type": "markdown",
      "source": [
        "## <font size=\"4\"> Option 1: Using Merge Command. This option is slower than Option 2 on this data set."
      ],
      "metadata": {
        "nteract": {
          "transient": {
            "deleting": false
          }
        }
      }
    },
    {
      "cell_type": "code",
      "source": [
        "# # Merge statement to expire old records\r\n",
        "# # Before Z Ordering this took 3 min 58 seconds\r\n",
        "# # After Z ordering was 3 min 16 seconds\r\n",
        "# DeltaTable.forPath(spark, silver_path).alias(\"original\").merge(\r\n",
        "#     source = RowsToInsert.alias(\"updates\"),\r\n",
        "#     condition = 'original.entityKey = updates.entityKey'\r\n",
        "# ).whenMatchedUpdate(\r\n",
        "#     condition = \"original.AUD_ACTIVE_FLAG = 'Y' AND original.AUD_HASH_CODE <> updates.AUD_HASH_CODE\",\r\n",
        "#     set = {                                      \r\n",
        "#         \"AUD_ACTIVE_FLAG\": \"'N'\",\r\n",
        "#         \"EffectiveToDate\": lit(source_dt)\r\n",
        "#     }\r\n",
        "# ).execute()"
      ],
      "outputs": [
        {
          "output_type": "display_data",
          "data": {
            "application/vnd.livy.statement-meta+json": {
              "spark_pool": "spk3u4py3u10",
              "statement_id": 200,
              "statement_ids": [
                200
              ],
              "state": "finished",
              "livy_statement_state": "available",
              "spark_jobs": null,
              "session_id": "1",
              "normalized_state": "finished",
              "queued_time": "2025-06-12T02:33:11.2744018Z",
              "session_start_time": null,
              "execution_start_time": "2025-06-12T02:33:40.3715663Z",
              "execution_finish_time": "2025-06-12T02:33:40.6243164Z",
              "parent_msg_id": "8ccf39f9-5851-48f9-ae53-a348895d6a3d"
            },
            "text/plain": "StatementMeta(spk3u4py3u10, 1, 200, Finished, Available, Finished)"
          },
          "metadata": {}
        }
      ],
      "execution_count": 199,
      "metadata": {
        "jupyter": {
          "source_hidden": false,
          "outputs_hidden": false
        },
        "nteract": {
          "transient": {
            "deleting": false
          }
        }
      }
    },
    {
      "cell_type": "markdown",
      "source": [
        "## <font size=\"4\"> Option 2: Using replaceWhere Command. This option is faster than Option 1 on this data set."
      ],
      "metadata": {
        "nteract": {
          "transient": {
            "deleting": false
          }
        }
      }
    },
    {
      "cell_type": "markdown",
      "source": [
        "### <font size=\"3\"> 2(a): Create dataframe of records to change from Active to Inactive via left semi join on target data"
      ],
      "metadata": {
        "nteract": {
          "transient": {
            "deleting": false
          }
        }
      }
    },
    {
      "cell_type": "code",
      "source": [
        "# Create dataframe of target rows to flag as inactive\r\n",
        "inactive_condition = [sam_main_target_df.entityKey == sam_monthly_df.entityKey, sam_main_target_df.AUD_HASH_CODE != sam_monthly_df.AUD_HASH_CODE]\r\n",
        "InactiveRows = sam_main_target_df \\\r\n",
        "            .alias(\"target\") \\\r\n",
        "            .where(\"AUD_ACTIVE_FLAG = 'Y'\") \\\r\n",
        "            .join(sam_monthly_df.alias(\"source\"), inactive_condition,'leftsemi') \\\r\n",
        "            .select(*silver_columns) \\\r\n",
        "            .orderBy(col('entityKey')) \r\n",
        "#display(InactiveRows.orderBy(\"entityKey\"))"
      ],
      "outputs": [
        {
          "output_type": "display_data",
          "data": {
            "application/vnd.livy.statement-meta+json": {
              "spark_pool": "spk3u4py3u10",
              "statement_id": 201,
              "statement_ids": [
                201
              ],
              "state": "finished",
              "livy_statement_state": "available",
              "spark_jobs": null,
              "session_id": "1",
              "normalized_state": "finished",
              "queued_time": "2025-06-12T02:33:11.406824Z",
              "session_start_time": null,
              "execution_start_time": "2025-06-12T02:33:40.6381542Z",
              "execution_finish_time": "2025-06-12T02:33:41.4501444Z",
              "parent_msg_id": "26970bee-ab72-47f1-b88c-8a6a08998374"
            },
            "text/plain": "StatementMeta(spk3u4py3u10, 1, 201, Finished, Available, Finished)"
          },
          "metadata": {}
        }
      ],
      "execution_count": 200,
      "metadata": {
        "jupyter": {
          "source_hidden": false,
          "outputs_hidden": false
        },
        "nteract": {
          "transient": {
            "deleting": false
          }
        }
      }
    },
    {
      "cell_type": "code",
      "source": [
        "# Count records to be flagged as inactive for comparison after write\r\n",
        "# Note - it appears that the dataframe is emptied as it's written to the delta lake file\r\n",
        "inactive_count = InactiveRows.count()\r\n",
        "print(inactive_count)\r\n",
        "print(RowsToInsert.count())"
      ],
      "outputs": [
        {
          "output_type": "display_data",
          "data": {
            "application/vnd.livy.statement-meta+json": {
              "spark_pool": "spk3u4py3u10",
              "statement_id": 202,
              "statement_ids": [
                202
              ],
              "state": "finished",
              "livy_statement_state": "available",
              "spark_jobs": null,
              "session_id": "1",
              "normalized_state": "finished",
              "queued_time": "2025-06-12T02:33:11.5408739Z",
              "session_start_time": null,
              "execution_start_time": "2025-06-12T02:33:41.4647817Z",
              "execution_finish_time": "2025-06-12T02:33:54.859828Z",
              "parent_msg_id": "888c8212-ecd7-43ac-815e-b21cf01d3dbd"
            },
            "text/plain": "StatementMeta(spk3u4py3u10, 1, 202, Finished, Available, Finished)"
          },
          "metadata": {}
        },
        {
          "output_type": "stream",
          "name": "stdout",
          "text": [
            "482495\n567967\n"
          ]
        }
      ],
      "execution_count": 201,
      "metadata": {
        "jupyter": {
          "source_hidden": false,
          "outputs_hidden": false
        },
        "nteract": {
          "transient": {
            "deleting": false
          }
        }
      }
    },
    {
      "cell_type": "code",
      "source": [
        "# Flag rows as inactive and update EffectiveToDate\r\n",
        "InactiveRows = InactiveRows.withColumn(\"AUD_ACTIVE_FLAG\", lit('N')).withColumn(\"EffectiveToDate\", to_date(lit(source_date), \"yyyyMMdd\"))"
      ],
      "outputs": [
        {
          "output_type": "display_data",
          "data": {
            "application/vnd.livy.statement-meta+json": {
              "spark_pool": "spk3u4py3u10",
              "statement_id": 204,
              "statement_ids": [
                204
              ],
              "state": "finished",
              "livy_statement_state": "available",
              "spark_jobs": null,
              "session_id": "1",
              "normalized_state": "finished",
              "queued_time": "2025-06-12T02:33:11.815332Z",
              "session_start_time": null,
              "execution_start_time": "2025-06-12T02:33:55.1554642Z",
              "execution_finish_time": "2025-06-12T02:33:55.478962Z",
              "parent_msg_id": "4e0b23d4-da4a-49a0-8bf6-7a50e900adce"
            },
            "text/plain": "StatementMeta(spk3u4py3u10, 1, 204, Finished, Available, Finished)"
          },
          "metadata": {}
        }
      ],
      "execution_count": 203,
      "metadata": {
        "jupyter": {
          "source_hidden": false,
          "outputs_hidden": false
        },
        "nteract": {
          "transient": {
            "deleting": false
          }
        }
      }
    },
    {
      "cell_type": "code",
      "source": [
        "# Create list of AUD_SEQ_IDs in the InactiveRows dataframe and convert them to a string to use in a FILTER clause\r\n",
        "## Ex: [1, 2, 3, 4] becomes \"AUD_SEQ_ID IN (1, 2, 3, 4)\"\r\n",
        "# replace_ids = []\r\n",
        "# for i in InactiveRows.collect():\r\n",
        "#     replace_ids.append(i['AUD_SEQ_ID'])\r\n",
        "# Note - using rdd+flatMap instead of the loop method above decreased operation time significantly\r\n",
        "replace_ids = InactiveRows.select(\"AUD_SEQ_ID\").rdd.flatMap(lambda x: x).collect()\r\n",
        "replace_clause = \"AUD_SEQ_ID IN (\" + str(replace_ids).replace('[','').replace(']','') + \")\""
      ],
      "outputs": [
        {
          "output_type": "display_data",
          "data": {
            "application/vnd.livy.statement-meta+json": {
              "spark_pool": "spk3u4py3u10",
              "statement_id": 206,
              "statement_ids": [
                206
              ],
              "state": "finished",
              "livy_statement_state": "available",
              "spark_jobs": null,
              "session_id": "1",
              "normalized_state": "finished",
              "queued_time": "2025-06-12T02:33:12.0957911Z",
              "session_start_time": null,
              "execution_start_time": "2025-06-12T02:33:55.8303323Z",
              "execution_finish_time": "2025-06-12T02:34:03.3096701Z",
              "parent_msg_id": "c9061547-6dc7-40cd-b7f7-b718f20a1df4"
            },
            "text/plain": "StatementMeta(spk3u4py3u10, 1, 206, Finished, Available, Finished)"
          },
          "metadata": {}
        }
      ],
      "execution_count": 205,
      "metadata": {
        "jupyter": {
          "source_hidden": false,
          "outputs_hidden": false
        },
        "nteract": {
          "transient": {
            "deleting": false
          }
        }
      }
    },
    {
      "cell_type": "markdown",
      "source": [
        "### <font size=\"3\"> 2(b) Update records in target using \"replaceWhere\" using the AUD_SEQ_ID filter defined in previous step"
      ],
      "metadata": {
        "nteract": {
          "transient": {
            "deleting": false
          }
        }
      }
    },
    {
      "cell_type": "code",
      "source": [
        "# Update records in target using \"replaceWhere\" using the AUD_SEQ_ID filter defined in previous step\r\n",
        "# Write operation took 1 min 7 sec to replace 8738 records (daily file)\r\n",
        "# Write operation took 74 minutes to replace 482495 records (public monthly file) when partitioned on AUD_ACTIVE_FLAG\r\n",
        "# Write operation took 25 minutes to replace 482495 records (public monthly file) when partitioned on the first character of the UNIQUE ENTITY ID (16 partitions)\r\n",
        "InactiveRows.write.format(\"delta\").mode(\"overwrite\").option(\"replaceWhere\", replace_clause).save(silver_path)"
      ],
      "outputs": [
        {
          "output_type": "display_data",
          "data": {
            "application/vnd.livy.statement-meta+json": {
              "spark_pool": "spk3u4py3u10",
              "statement_id": 207,
              "statement_ids": [
                207
              ],
              "state": "finished",
              "livy_statement_state": "available",
              "spark_jobs": null,
              "session_id": "1",
              "normalized_state": "finished",
              "queued_time": "2025-06-12T02:33:12.4369527Z",
              "session_start_time": null,
              "execution_start_time": "2025-06-12T02:34:03.3266398Z",
              "execution_finish_time": "2025-06-12T02:59:48.6638295Z",
              "parent_msg_id": "712243bc-c244-43f1-92ea-4a5b546a344c"
            },
            "text/plain": "StatementMeta(spk3u4py3u10, 1, 207, Finished, Available, Finished)"
          },
          "metadata": {}
        }
      ],
      "execution_count": 206,
      "metadata": {
        "jupyter": {
          "source_hidden": false,
          "outputs_hidden": false
        },
        "nteract": {
          "transient": {
            "deleting": false
          }
        }
      }
    },
    {
      "cell_type": "code",
      "source": [
        "# Display 5 records that were changed from active to inactive\r\n",
        "display(spark.read.format(\"delta\").load(silver_path).filter(\"AUD_ACTIVE_FLAG == 'N' AND EffectiveToDate == '\"+str(source_dt)+\"'\").limit(5))"
      ],
      "outputs": [
        {
          "output_type": "display_data",
          "data": {
            "application/vnd.livy.statement-meta+json": {
              "spark_pool": "spk3u4py3u10",
              "statement_id": 208,
              "statement_ids": [
                208
              ],
              "state": "finished",
              "livy_statement_state": "available",
              "spark_jobs": null,
              "session_id": "1",
              "normalized_state": "finished",
              "queued_time": "2025-06-12T02:33:12.5638346Z",
              "session_start_time": null,
              "execution_start_time": "2025-06-12T02:59:48.6887545Z",
              "execution_finish_time": "2025-06-12T02:59:55.1990606Z",
              "parent_msg_id": "9ddfa624-6f70-4cd6-870e-f4266375a84e"
            },
            "text/plain": "StatementMeta(spk3u4py3u10, 1, 208, Finished, Available, Finished)"
          },
          "metadata": {}
        },
        {
          "output_type": "display_data",
          "data": {
            "application/vnd.synapse.widget-view+json": {
              "widget_id": "a7c8f134-d12e-44e9-85ae-7d4b1b602b6e",
              "widget_type": "Synapse.DataFrame"
            },
            "text/plain": "SynapseWidget(Synapse.DataFrame, a7c8f134-d12e-44e9-85ae-7d4b1b602b6e)"
          },
          "metadata": {}
        }
      ],
      "execution_count": 207,
      "metadata": {
        "jupyter": {
          "source_hidden": false,
          "outputs_hidden": false
        },
        "nteract": {
          "transient": {
            "deleting": false
          }
        },
        "collapsed": false
      }
    },
    {
      "cell_type": "code",
      "source": [
        "# Compre count of records flagged as inactive as of the source file date in the target data to the count obtained earlier from the data frame\r\n",
        "# Should output True if write succeeded\r\n",
        "print(spark.read.format(\"delta\").load(silver_path).filter(\"AUD_ACTIVE_FLAG == 'N' AND EffectiveToDate == '\"+str(source_dt)+\"'\").count() == inactive_count)"
      ],
      "outputs": [
        {
          "output_type": "display_data",
          "data": {
            "application/vnd.livy.statement-meta+json": {
              "spark_pool": "spk3u4py3u10",
              "statement_id": 209,
              "statement_ids": [
                209
              ],
              "state": "finished",
              "livy_statement_state": "available",
              "spark_jobs": null,
              "session_id": "1",
              "normalized_state": "finished",
              "queued_time": "2025-06-12T02:33:12.6768872Z",
              "session_start_time": null,
              "execution_start_time": "2025-06-12T02:59:55.2169659Z",
              "execution_finish_time": "2025-06-12T02:59:57.6038468Z",
              "parent_msg_id": "b7af8f69-89fc-41ce-9c5d-0347e1ef6f7a"
            },
            "text/plain": "StatementMeta(spk3u4py3u10, 1, 209, Finished, Available, Finished)"
          },
          "metadata": {}
        },
        {
          "output_type": "stream",
          "name": "stdout",
          "text": [
            "True\n"
          ]
        }
      ],
      "execution_count": 208,
      "metadata": {
        "jupyter": {
          "source_hidden": false,
          "outputs_hidden": false
        },
        "nteract": {
          "transient": {
            "deleting": false
          }
        }
      }
    },
    {
      "cell_type": "markdown",
      "source": [
        "# <font size=\"5\">13. Insert new and updated records to target via delta append"
      ],
      "metadata": {
        "nteract": {
          "transient": {
            "deleting": false
          }
        }
      }
    },
    {
      "cell_type": "code",
      "source": [
        "# Insert/append the new and updated records to the target delta file\r\n",
        "RowsToInsert.write.format(\"delta\").mode(\"append\").save(silver_path)"
      ],
      "outputs": [
        {
          "output_type": "display_data",
          "data": {
            "application/vnd.livy.statement-meta+json": {
              "spark_pool": "spk3u4py3u10",
              "statement_id": 210,
              "statement_ids": [
                210
              ],
              "state": "finished",
              "livy_statement_state": "available",
              "spark_jobs": null,
              "session_id": "1",
              "normalized_state": "finished",
              "queued_time": "2025-06-12T02:33:12.8479613Z",
              "session_start_time": null,
              "execution_start_time": "2025-06-12T02:59:57.6178916Z",
              "execution_finish_time": "2025-06-12T03:01:06.0125993Z",
              "parent_msg_id": "86a9202c-edf9-40ee-b3b1-8411285eefe0"
            },
            "text/plain": "StatementMeta(spk3u4py3u10, 1, 210, Finished, Available, Finished)"
          },
          "metadata": {}
        }
      ],
      "execution_count": 209,
      "metadata": {
        "jupyter": {
          "source_hidden": false,
          "outputs_hidden": false
        },
        "nteract": {
          "transient": {
            "deleting": false
          }
        }
      }
    },
    {
      "cell_type": "code",
      "source": [
        "# Display 5 of the newly inserted records\r\n",
        "display(spark.read.format(\"delta\").load(silver_path).filter(\"AUD_ACTIVE_FLAG == 'Y' AND EffectiveFromDate == '\"+str(source_dt)+\"'\").limit(5))"
      ],
      "outputs": [
        {
          "output_type": "display_data",
          "data": {
            "application/vnd.livy.statement-meta+json": {
              "spark_pool": "spk3u4py3u10",
              "statement_id": 211,
              "statement_ids": [
                211
              ],
              "state": "finished",
              "livy_statement_state": "available",
              "spark_jobs": null,
              "session_id": "1",
              "normalized_state": "finished",
              "queued_time": "2025-06-12T02:33:12.952385Z",
              "session_start_time": null,
              "execution_start_time": "2025-06-12T03:01:06.0457837Z",
              "execution_finish_time": "2025-06-12T03:01:10.492227Z",
              "parent_msg_id": "fecfd134-f0c7-467b-bee1-9c3140b1d91e"
            },
            "text/plain": "StatementMeta(spk3u4py3u10, 1, 211, Finished, Available, Finished)"
          },
          "metadata": {}
        },
        {
          "output_type": "display_data",
          "data": {
            "application/vnd.synapse.widget-view+json": {
              "widget_id": "ac75d99c-bbbd-4d1a-b451-bfd1486a5786",
              "widget_type": "Synapse.DataFrame"
            },
            "text/plain": "SynapseWidget(Synapse.DataFrame, ac75d99c-bbbd-4d1a-b451-bfd1486a5786)"
          },
          "metadata": {}
        }
      ],
      "execution_count": 210,
      "metadata": {
        "jupyter": {
          "source_hidden": false,
          "outputs_hidden": false
        },
        "nteract": {
          "transient": {
            "deleting": false
          }
        },
        "collapsed": false
      }
    }
  ],
  "metadata": {
    "kernelspec": {
      "name": "synapse_pyspark",
      "language": "Python",
      "display_name": "Synapse PySpark"
    },
    "language_info": {
      "name": "python"
    },
    "kernel_info": {
      "name": "synapse_pyspark"
    },
    "description": null,
    "save_output": true,
    "synapse_widget": {
      "version": "0.1",
      "state": {
        "9fabdeac-495e-42ad-8137-88434fb63aaf": {
          "type": "Synapse.DataFrame",
          "sync_state": {
            "table": {
              "rows": [
                {
                  "0": "C111ATT311C853YC5",
                  "1": "C111ATT311C8",
                  "2": "53YC5"
                },
                {
                  "0": "C111BG66D1556M9A6",
                  "1": "C111BG66D155",
                  "2": "6M9A6"
                },
                {
                  "0": "C111FE1KRJF16T4Q4",
                  "1": "C111FE1KRJF1",
                  "2": "6T4Q4"
                },
                {
                  "0": "C111JJBMS3286PA87",
                  "1": "C111JJBMS328",
                  "2": "6PA87"
                },
                {
                  "0": "C112Q3D8VPM350JA8",
                  "1": "C112Q3D8VPM3",
                  "2": "50JA8"
                },
                {
                  "0": "C112YNTNMG994PVE2",
                  "1": "C112YNTNMG99",
                  "2": "4PVE2"
                },
                {
                  "0": "C112ZNS5HMR47UNS3",
                  "1": "C112ZNS5HMR4",
                  "2": "7UNS3"
                },
                {
                  "0": "C113A7U19RD55LXD1",
                  "1": "C113A7U19RD5",
                  "2": "5LXD1"
                },
                {
                  "0": "C113E4798JC562EJ7",
                  "1": "C113E4798JC5",
                  "2": "62EJ7"
                },
                {
                  "0": "C113JMW3WGS71XN91",
                  "1": "C113JMW3WGS7",
                  "2": "1XN91"
                }
              ],
              "schema": [
                {
                  "key": "0",
                  "name": "entityKey",
                  "type": "string"
                },
                {
                  "key": "1",
                  "name": "UNIQUE_ENTITY_ID",
                  "type": "string"
                },
                {
                  "key": "2",
                  "name": "CAGE_CODE",
                  "type": "string"
                },
                {
                  "key": "3",
                  "name": "DODAAC",
                  "type": "string"
                }
              ],
              "truncated": false
            },
            "isSummary": false,
            "language": "scala",
            "wranglerEntryContext": {
              "dataframeType": "pyspark"
            }
          },
          "persist_state": {
            "view": {
              "type": "details",
              "tableOptions": {},
              "chartOptions": {
                "chartType": "bar",
                "aggregationType": "count",
                "categoryFieldKeys": [
                  "0"
                ],
                "seriesFieldKeys": [
                  "0"
                ],
                "isStacked": false
              }
            }
          }
        },
        "b144d042-bdc0-4231-9261-e4aa37c15764": {
          "type": "Synapse.DataFrame",
          "sync_state": {
            "table": {
              "rows": [
                {
                  "0": "abfss://bronze@staaz01synpilot.dfs.core.usgovcloudapi.net/GSA_SAM_PUBLIC/",
                  "1": "SAM_PUBLIC_MONTHLY_V2_20250504.dat",
                  "2": "Y",
                  "3": "2025-05-04"
                },
                {
                  "0": "abfss://bronze@staaz01synpilot.dfs.core.usgovcloudapi.net/GSA_SAM_PUBLIC/",
                  "1": "SAM_PUBLIC_MONTHLY_V2_20250504.dat",
                  "2": "Y",
                  "3": "2025-05-04"
                }
              ],
              "schema": [
                {
                  "key": "0",
                  "name": "AUD_DIRECTORY",
                  "type": "string"
                },
                {
                  "key": "1",
                  "name": "AUD_FILENAME",
                  "type": "string"
                },
                {
                  "key": "2",
                  "name": "AUD_ACTIVE_FLAG",
                  "type": "string"
                },
                {
                  "key": "3",
                  "name": "EffectiveFromDate",
                  "type": "date"
                },
                {
                  "key": "4",
                  "name": "EffectiveToDate",
                  "type": "date"
                }
              ],
              "truncated": false
            },
            "isSummary": false,
            "language": "scala",
            "wranglerEntryContext": {
              "dataframeType": "pyspark"
            }
          },
          "persist_state": {
            "view": {
              "type": "details",
              "tableOptions": {},
              "chartOptions": {
                "chartType": "bar",
                "aggregationType": "count",
                "categoryFieldKeys": [
                  "0"
                ],
                "seriesFieldKeys": [
                  "0"
                ],
                "isStacked": false
              }
            }
          }
        },
        "8ca566be-cbd1-4566-9683-336985265b8c": {
          "type": "Synapse.DataFrame",
          "sync_state": {
            "table": {
              "rows": [
                {
                  "0": "C"
                },
                {
                  "0": "C"
                }
              ],
              "schema": [
                {
                  "key": "0",
                  "name": "PARTITION_KEY",
                  "type": "string"
                }
              ],
              "truncated": false
            },
            "isSummary": false,
            "language": "scala",
            "wranglerEntryContext": {
              "dataframeType": "pyspark"
            }
          },
          "persist_state": {
            "view": {
              "type": "details",
              "tableOptions": {},
              "chartOptions": {
                "chartType": "bar",
                "aggregationType": "count",
                "categoryFieldKeys": [
                  "0"
                ],
                "seriesFieldKeys": [
                  "0"
                ],
                "isStacked": false
              }
            }
          }
        },
        "a72bc6d4-551e-4238-b111-54c9cf9ceb48": {
          "type": "Synapse.DataFrame",
          "sync_state": {
            "table": {
              "rows": [
                {
                  "0": "2013-11-12"
                },
                {
                  "0": "2011-12-28"
                }
              ],
              "schema": [
                {
                  "key": "0",
                  "name": "INITIAL_REGISTRATION_DATE",
                  "type": "date"
                }
              ],
              "truncated": false
            },
            "isSummary": false,
            "language": "scala",
            "wranglerEntryContext": {
              "dataframeType": "pyspark"
            }
          },
          "persist_state": {
            "view": {
              "type": "details",
              "tableOptions": {},
              "chartOptions": {
                "chartType": "bar",
                "aggregationType": "count",
                "categoryFieldKeys": [
                  "0"
                ],
                "seriesFieldKeys": [
                  "0"
                ],
                "isStacked": false
              }
            }
          }
        },
        "a2318373-2b3f-412b-a5a5-cf4bbea4e8eb": {
          "type": "Synapse.DataFrame",
          "sync_state": {
            "table": {
              "rows": [
                {
                  "0": "C111FE1KRJF16T4Q4",
                  "1": "d307236b0c5eef3d548c2ac97feb85b3e90762ab126a4d0758fa829caa4ba383",
                  "2": "3",
                  "3": "Y",
                  "4": "abfss://bronze@staaz01synpilot.dfs.core.usgovcloudapi.net/GSA_SAM_PUBLIC/",
                  "5": "SAM_PUBLIC_MONTHLY_V2_20250504.dat",
                  "6": "2025-05-04",
                  "8": "C111FE1KRJF1",
                  "11": "6T4Q4",
                  "13": "A",
                  "14": "Z1",
                  "15": "2012-11-05",
                  "16": "20251125",
                  "17": "20241127",
                  "18": "20241127",
                  "19": "RIDE ON ST. LOUIS, INC.",
                  "23": "5 N LAKE DR",
                  "25": "HILLSBORO",
                  "26": "MO",
                  "27": "63050",
                  "28": "4408",
                  "29": "USA",
                  "30": "03",
                  "32": "20000225",
                  "33": "1231",
                  "34": "www.rideonstl.org",
                  "35": "8H",
                  "36": "MO",
                  "37": "USA",
                  "38": "0001",
                  "39": "A8",
                  "41": "0000",
                  "43": "0000",
                  "45": "Y",
                  "47": "PO BOX 94",
                  "49": "KIMMSWICK",
                  "50": "63053",
                  "52": "USA",
                  "53": "MO",
                  "54": "MARITA",
                  "55": "A",
                  "56": "WASSMAN",
                  "58": "PO BOX 94",
                  "60": "KIMMSWICK",
                  "61": "63053",
                  "63": "USA",
                  "64": "MO",
                  "98": "BRIANN",
                  "99": "M",
                  "100": "SESSION",
                  "102": "PO BOX 94",
                  "104": "KIMMSWICK",
                  "105": "63053",
                  "107": "USA",
                  "108": "MO",
                  "120": "0000",
                  "122": "N",
                  "124": "0000",
                  "127": "0000",
                  "129": "E&Y",
                  "149": "!end",
                  "150": "C"
                }
              ],
              "schema": [
                {
                  "key": "0",
                  "name": "entityKey",
                  "type": "string"
                },
                {
                  "key": "1",
                  "name": "AUD_HASH_CODE",
                  "type": "string"
                },
                {
                  "key": "2",
                  "name": "AUD_SEQ_ID",
                  "type": "bigint"
                },
                {
                  "key": "3",
                  "name": "AUD_ACTIVE_FLAG",
                  "type": "string"
                },
                {
                  "key": "4",
                  "name": "AUD_DIRECTORY",
                  "type": "string"
                },
                {
                  "key": "5",
                  "name": "AUD_FILENAME",
                  "type": "string"
                },
                {
                  "key": "6",
                  "name": "EffectiveFromDate",
                  "type": "date"
                },
                {
                  "key": "7",
                  "name": "EffectiveToDate",
                  "type": "date"
                },
                {
                  "key": "8",
                  "name": "UNIQUE_ENTITY_ID",
                  "type": "string"
                },
                {
                  "key": "9",
                  "name": "BLANK_DEPRECATED",
                  "type": "string"
                },
                {
                  "key": "10",
                  "name": "ENTITY_EFT_INDICATOR",
                  "type": "string"
                },
                {
                  "key": "11",
                  "name": "CAGE_CODE",
                  "type": "string"
                },
                {
                  "key": "12",
                  "name": "DODAAC",
                  "type": "string"
                },
                {
                  "key": "13",
                  "name": "SAM_EXTRACT_CODE",
                  "type": "string"
                },
                {
                  "key": "14",
                  "name": "PURPOSE_OF_REGISTRATION",
                  "type": "string"
                },
                {
                  "key": "15",
                  "name": "INITIAL_REGISTRATION_DATE",
                  "type": "date"
                },
                {
                  "key": "16",
                  "name": "REGISTRATION_EXPIRATION_DATE",
                  "type": "string"
                },
                {
                  "key": "17",
                  "name": "LAST_UPDATE_DATE",
                  "type": "string"
                },
                {
                  "key": "18",
                  "name": "ACTIVATION_DATE",
                  "type": "string"
                },
                {
                  "key": "19",
                  "name": "LEGAL_BUSINESS_NAME",
                  "type": "string"
                },
                {
                  "key": "20",
                  "name": "DBA_NAME",
                  "type": "string"
                },
                {
                  "key": "21",
                  "name": "ENTITY_DIVISION_NAME",
                  "type": "string"
                },
                {
                  "key": "22",
                  "name": "ENTITY_DIVISION_NUMBER",
                  "type": "string"
                },
                {
                  "key": "23",
                  "name": "PHYSICAL_ADDRESS_LINE_1",
                  "type": "string"
                },
                {
                  "key": "24",
                  "name": "PHYSICAL_ADDRESS_LINE_2",
                  "type": "string"
                },
                {
                  "key": "25",
                  "name": "PHYSICAL_ADDRESS_CITY",
                  "type": "string"
                },
                {
                  "key": "26",
                  "name": "PHYSICAL_ADDRESS_PROVINCE_OR_STATE",
                  "type": "string"
                },
                {
                  "key": "27",
                  "name": "PHYSICAL_ADDRESS_ZIP/POSTAL_CODE",
                  "type": "string"
                },
                {
                  "key": "28",
                  "name": "PHYSICAL_ADDRESS_ZIP_CODE_4",
                  "type": "string"
                },
                {
                  "key": "29",
                  "name": "PHYSICAL_ADDRESS_COUNTRY_CODE",
                  "type": "string"
                },
                {
                  "key": "30",
                  "name": "PHYSICAL_ADDRESS_CONGRESSIONAL_DISTRICT",
                  "type": "string"
                },
                {
                  "key": "31",
                  "name": "D&B_OPEN_DATA_FLAG",
                  "type": "string"
                },
                {
                  "key": "32",
                  "name": "ENTITY_START_DATE",
                  "type": "string"
                },
                {
                  "key": "33",
                  "name": "FISCAL_YEAR_END_CLOSE_DATE",
                  "type": "string"
                },
                {
                  "key": "34",
                  "name": "ENTITY_URL",
                  "type": "string"
                },
                {
                  "key": "35",
                  "name": "ENTITY_STRUCTURE",
                  "type": "string"
                },
                {
                  "key": "36",
                  "name": "STATE_OF_INCORPORATION",
                  "type": "string"
                },
                {
                  "key": "37",
                  "name": "COUNTRY_OF_INCORPORATION",
                  "type": "string"
                },
                {
                  "key": "38",
                  "name": "BUSINESS_TYPE_COUNTER",
                  "type": "string"
                },
                {
                  "key": "39",
                  "name": "BUS_TYPE_STRING",
                  "type": "string"
                },
                {
                  "key": "40",
                  "name": "PRIMARY_NAICS",
                  "type": "string"
                },
                {
                  "key": "41",
                  "name": "NAICS_CODE_COUNTER",
                  "type": "string"
                },
                {
                  "key": "42",
                  "name": "NAICS_CODE_STRING",
                  "type": "string"
                },
                {
                  "key": "43",
                  "name": "PSC_CODE_COUNTER",
                  "type": "string"
                },
                {
                  "key": "44",
                  "name": "PSC_CODE_STRING",
                  "type": "string"
                },
                {
                  "key": "45",
                  "name": "CREDIT_CARD_USAGE",
                  "type": "string"
                },
                {
                  "key": "46",
                  "name": "CORRESPONDENCE_FLAG",
                  "type": "string"
                },
                {
                  "key": "47",
                  "name": "MAILING_ADDRESS_LINE_1",
                  "type": "string"
                },
                {
                  "key": "48",
                  "name": "MAILING_ADDRESS_LINE_2",
                  "type": "string"
                },
                {
                  "key": "49",
                  "name": "MAILING_ADDRESS_CITY",
                  "type": "string"
                },
                {
                  "key": "50",
                  "name": "MAILING_ADDRESS_ZIP/POSTAL_CODE",
                  "type": "string"
                },
                {
                  "key": "51",
                  "name": "MAILING_ADDRESS_ZIP_CODE_4",
                  "type": "string"
                },
                {
                  "key": "52",
                  "name": "MAILING_ADDRESS_COUNTRY",
                  "type": "string"
                },
                {
                  "key": "53",
                  "name": "MAILING_ADDRESS_STATE_OR_PROVINCE",
                  "type": "string"
                },
                {
                  "key": "54",
                  "name": "GOVT_BUS_POC_FIRST_NAME",
                  "type": "string"
                },
                {
                  "key": "55",
                  "name": "GOVT_BUS_POC_MIDDLE_INITIAL",
                  "type": "string"
                },
                {
                  "key": "56",
                  "name": "GOVT_BUS_POC_LAST_NAME",
                  "type": "string"
                },
                {
                  "key": "57",
                  "name": "GOVT_BUS_POC_TITLE",
                  "type": "string"
                },
                {
                  "key": "58",
                  "name": "GOVT_BUS_POC_ST_ADD_1",
                  "type": "string"
                },
                {
                  "key": "59",
                  "name": "GOVT_BUS_POC_ST_ADD_2",
                  "type": "string"
                },
                {
                  "key": "60",
                  "name": "GOVT_BUS_POC_CITY",
                  "type": "string"
                },
                {
                  "key": "61",
                  "name": "GOVT_BUS_POC_ZIP/POSTAL_CODE",
                  "type": "string"
                },
                {
                  "key": "62",
                  "name": "GOVT_BUS_POC_ZIP_CODE_4",
                  "type": "string"
                },
                {
                  "key": "63",
                  "name": "GOVT_BUS_POC_COUNTRY_CODE",
                  "type": "string"
                },
                {
                  "key": "64",
                  "name": "GOVT_BUS_POC_STATE_OR_PROVINCE",
                  "type": "string"
                },
                {
                  "key": "65",
                  "name": "ALT_GOVT_BUS_POC_FIRST_NAME",
                  "type": "string"
                },
                {
                  "key": "66",
                  "name": "ALT_GOVT_BUS_POC_MIDDLE_INITIAL",
                  "type": "string"
                },
                {
                  "key": "67",
                  "name": "ALT_GOVT_BUS_POC_LAST_NAME",
                  "type": "string"
                },
                {
                  "key": "68",
                  "name": "ALT_GOVT_BUS_POC_TITLE",
                  "type": "string"
                },
                {
                  "key": "69",
                  "name": "ALT_GOVT_BUS_POC_ST_ADD_1",
                  "type": "string"
                },
                {
                  "key": "70",
                  "name": "ALT_GOVT_BUS_POC_ST_ADD_2",
                  "type": "string"
                },
                {
                  "key": "71",
                  "name": "ALT_GOVT_BUS_POC_CITY",
                  "type": "string"
                },
                {
                  "key": "72",
                  "name": "ALT_GOVT_BUS_POC_ZIP/POSTAL_CODE",
                  "type": "string"
                },
                {
                  "key": "73",
                  "name": "ALT_GOVT_BUS_POC_ZIP_CODE_4",
                  "type": "string"
                },
                {
                  "key": "74",
                  "name": "ALT_GOVT_BUS_POC_COUNTRY_CODE",
                  "type": "string"
                },
                {
                  "key": "75",
                  "name": "ALT_GOVT_BUS_POC_STATE_OR_PROVINCE",
                  "type": "string"
                },
                {
                  "key": "76",
                  "name": "PAST_PERF_POC_POC_FIRST_NAME",
                  "type": "string"
                },
                {
                  "key": "77",
                  "name": "PAST_PERF_POC_POC_MIDDLE_INITIAL",
                  "type": "string"
                },
                {
                  "key": "78",
                  "name": "PAST_PERF_POC_POC_LAST_NAME",
                  "type": "string"
                },
                {
                  "key": "79",
                  "name": "PAST_PERF_POC_POC_TITLE",
                  "type": "string"
                },
                {
                  "key": "80",
                  "name": "PAST_PERF_POC_ST_ADD_1",
                  "type": "string"
                },
                {
                  "key": "81",
                  "name": "PAST_PERF_POC_ST_ADD_2",
                  "type": "string"
                },
                {
                  "key": "82",
                  "name": "PAST_PERF_POC_CITY",
                  "type": "string"
                },
                {
                  "key": "83",
                  "name": "PAST_PERF_POC_ZIP/POSTAL_CODE",
                  "type": "string"
                },
                {
                  "key": "84",
                  "name": "PAST_PERF_POC_ZIP_CODE_4",
                  "type": "string"
                },
                {
                  "key": "85",
                  "name": "PAST_PERF_POC_COUNTRY_CODE",
                  "type": "string"
                },
                {
                  "key": "86",
                  "name": "PAST_PERF_POC_STATE_OR_PROVINCE",
                  "type": "string"
                },
                {
                  "key": "87",
                  "name": "ALT_PAST_PERF_POC_FIRST_NAME",
                  "type": "string"
                },
                {
                  "key": "88",
                  "name": "ALT_PAST_PERF_POC_MIDDLE_INITIAL",
                  "type": "string"
                },
                {
                  "key": "89",
                  "name": "ALT_PAST_PERF_POC_LAST_NAME",
                  "type": "string"
                },
                {
                  "key": "90",
                  "name": "ALT_PAST_PERF_POC_TITLE",
                  "type": "string"
                },
                {
                  "key": "91",
                  "name": "ALT_PAST_PERF_POC_ST_ADD_1",
                  "type": "string"
                },
                {
                  "key": "92",
                  "name": "ALT_PAST_PERF_POC_ST_ADD_2",
                  "type": "string"
                },
                {
                  "key": "93",
                  "name": "ALT_PAST_PERF_POC_CITY",
                  "type": "string"
                },
                {
                  "key": "94",
                  "name": "ALT_PAST_PERF_POC_ZIP/POSTAL_CODE",
                  "type": "string"
                },
                {
                  "key": "95",
                  "name": "ALT_PAST_PERF_POC_ZIP_CODE_4",
                  "type": "string"
                },
                {
                  "key": "96",
                  "name": "ALT_PAST_PERF_POC_COUNTRY_CODE",
                  "type": "string"
                },
                {
                  "key": "97",
                  "name": "ALT_PAST_PERF_POC_STATE_OR_PROVINCE",
                  "type": "string"
                },
                {
                  "key": "98",
                  "name": "ELEC_BUS_POC_FIRST_NAME",
                  "type": "string"
                },
                {
                  "key": "99",
                  "name": "ELEC_BUS_POC_MIDDLE_INITIAL",
                  "type": "string"
                },
                {
                  "key": "100",
                  "name": "ELEC_BUS_POC_LAST_NAME",
                  "type": "string"
                },
                {
                  "key": "101",
                  "name": "ELEC_BUS_POC_TITLE",
                  "type": "string"
                },
                {
                  "key": "102",
                  "name": "ELEC_BUS_POC_ST_ADD_1",
                  "type": "string"
                },
                {
                  "key": "103",
                  "name": "ELEC_BUS_POC_ST_ADD_2",
                  "type": "string"
                },
                {
                  "key": "104",
                  "name": "ELEC_BUS_POC_CITY",
                  "type": "string"
                },
                {
                  "key": "105",
                  "name": "ELEC_BUS_POC_ZIP/POSTAL_CODE",
                  "type": "string"
                },
                {
                  "key": "106",
                  "name": "ELEC_BUS_POC_ZIP_CODE_4",
                  "type": "string"
                },
                {
                  "key": "107",
                  "name": "ELEC_BUS_POC_COUNTRY_CODE",
                  "type": "string"
                },
                {
                  "key": "108",
                  "name": "ELEC_BUS_POC_STATE_OR_PROVINCE",
                  "type": "string"
                },
                {
                  "key": "109",
                  "name": "ALT_ELEC_POC_BUS_POC_FIRST_NAME",
                  "type": "string"
                },
                {
                  "key": "110",
                  "name": "ALT_ELEC_POC_BUS_POC_MIDDLE_INITIAL",
                  "type": "string"
                },
                {
                  "key": "111",
                  "name": "ALT_ELEC_POC_BUS_POC_LAST_NAME",
                  "type": "string"
                },
                {
                  "key": "112",
                  "name": "ALT_ELEC_POC_BUS_POC_TITLE",
                  "type": "string"
                },
                {
                  "key": "113",
                  "name": "ALT_ELEC_POC_BUS_ST_ADD_1",
                  "type": "string"
                },
                {
                  "key": "114",
                  "name": "ALT_ELEC_POC_BUS_ST_ADD_2",
                  "type": "string"
                },
                {
                  "key": "115",
                  "name": "ALT_ELEC_POC_BUS_CITY",
                  "type": "string"
                },
                {
                  "key": "116",
                  "name": "ALT_ELEC_POC_BUS_ZIP/POSTAL_CODE",
                  "type": "string"
                },
                {
                  "key": "117",
                  "name": "ALT_ELEC_POC_BUS_ZIP_CODE_4",
                  "type": "string"
                },
                {
                  "key": "118",
                  "name": "ALT_ELEC_POC_BUS_COUNTRY_CODE",
                  "type": "string"
                },
                {
                  "key": "119",
                  "name": "ALT_ELEC_POC_BUS_STATE_OR_PROVINCE",
                  "type": "string"
                },
                {
                  "key": "120",
                  "name": "NAICS_EXCEPTION_COUNTER",
                  "type": "string"
                },
                {
                  "key": "121",
                  "name": "NAICS_EXCEPTION_STRING",
                  "type": "string"
                },
                {
                  "key": "122",
                  "name": "DEBT_SUBJECT_TO_OFFSET_FLAG",
                  "type": "string"
                },
                {
                  "key": "123",
                  "name": "EXCLUSION_STATUS_FLAG",
                  "type": "string"
                },
                {
                  "key": "124",
                  "name": "SBA_BUSINESS_TYPES_COUNTER",
                  "type": "string"
                },
                {
                  "key": "125",
                  "name": "SBA_BUSINESS_TYPES_STRING",
                  "type": "string"
                },
                {
                  "key": "126",
                  "name": "NO_PUBLIC_DISPLAY_FLAG",
                  "type": "string"
                },
                {
                  "key": "127",
                  "name": "DISASTER_RESPONSE_COUNTER",
                  "type": "string"
                },
                {
                  "key": "128",
                  "name": "DISASTER_RESPONSE_STRING",
                  "type": "string"
                },
                {
                  "key": "129",
                  "name": "ENTITY_EVS_SOURCE",
                  "type": "string"
                },
                {
                  "key": "130",
                  "name": "FLEX_FIELD_1",
                  "type": "string"
                },
                {
                  "key": "131",
                  "name": "FLEX_FIELD_2",
                  "type": "string"
                },
                {
                  "key": "132",
                  "name": "FLEX_FIELD_3",
                  "type": "string"
                },
                {
                  "key": "133",
                  "name": "FLEX_FIELD_4",
                  "type": "string"
                },
                {
                  "key": "134",
                  "name": "FLEX_FIELD_5",
                  "type": "string"
                },
                {
                  "key": "135",
                  "name": "FLEX_FIELD_6",
                  "type": "string"
                },
                {
                  "key": "136",
                  "name": "FLEX_FIELD_7",
                  "type": "string"
                },
                {
                  "key": "137",
                  "name": "FLEX_FIELD_8",
                  "type": "string"
                },
                {
                  "key": "138",
                  "name": "FLEX_FIELD_9",
                  "type": "string"
                },
                {
                  "key": "139",
                  "name": "FLEX_FIELD_10",
                  "type": "string"
                },
                {
                  "key": "140",
                  "name": "FLEX_FIELD_11",
                  "type": "string"
                },
                {
                  "key": "141",
                  "name": "FLEX_FIELD_12",
                  "type": "string"
                },
                {
                  "key": "142",
                  "name": "FLEX_FIELD_13",
                  "type": "string"
                },
                {
                  "key": "143",
                  "name": "FLEX_FIELD_14",
                  "type": "string"
                },
                {
                  "key": "144",
                  "name": "FLEX_FIELD_15",
                  "type": "string"
                },
                {
                  "key": "145",
                  "name": "FLEX_FIELD_16",
                  "type": "string"
                },
                {
                  "key": "146",
                  "name": "FLEX_FIELD_17",
                  "type": "string"
                },
                {
                  "key": "147",
                  "name": "FLEX_FIELD_18",
                  "type": "string"
                },
                {
                  "key": "148",
                  "name": "FLEX_FIELD_19",
                  "type": "string"
                },
                {
                  "key": "149",
                  "name": "END_OF_RECORD_INDICATOR",
                  "type": "string"
                },
                {
                  "key": "150",
                  "name": "PARTITION_KEY",
                  "type": "string"
                }
              ],
              "truncated": false
            },
            "isSummary": false,
            "language": "scala",
            "wranglerEntryContext": {
              "dataframeType": "pyspark"
            }
          },
          "persist_state": {
            "view": {
              "type": "details",
              "tableOptions": {},
              "chartOptions": {
                "chartType": "bar",
                "aggregationType": "sum",
                "categoryFieldKeys": [
                  "0"
                ],
                "seriesFieldKeys": [
                  "2"
                ],
                "isStacked": false
              }
            }
          }
        },
        "5a2137f8-230f-4ab0-8d7b-f81eb34f1831": {
          "type": "Synapse.DataFrame",
          "sync_state": {
            "table": {
              "rows": [
                {
                  "0": "F743Q1LZ3VN9",
                  "1": "THE LAW OFFICES OF YOLANDA J. RILEY, LLC",
                  "2": "F743Q1LZ3VN9",
                  "3": "143472",
                  "4": "67c0958ee89e0871f130768d05108145f0e2175c9680d06b761dcb909710e952",
                  "5": "abfss://bronze@staaz01synpilot.dfs.core.usgovcloudapi.net/GSA_SAM_PUBLIC/",
                  "6": "SAM_PUBLIC_MONTHLY_V2_20250504.dat",
                  "7": "Y",
                  "8": "2025-05-04"
                },
                {
                  "0": "F743Q1LZ3VN9",
                  "1": "THE LAW OFFICES OF YOLANDA J. RILEY, LLC",
                  "2": "F743Q1LZ3VN98YRW5",
                  "3": "143473",
                  "4": "2aa3ed6a1db2f82959a10cdfc79597c7a520eae7af0bd4181bb6eb43e72b4f24",
                  "5": "abfss://bronze@staaz01synpilot.dfs.core.usgovcloudapi.net/GSA_SAM_PUBLIC/",
                  "6": "SAM_PUBLIC_MONTHLY_V2_20250504.dat",
                  "7": "Y",
                  "8": "2025-05-04"
                }
              ],
              "schema": [
                {
                  "key": "0",
                  "name": "UNIQUE_ENTITY_ID",
                  "type": "string"
                },
                {
                  "key": "1",
                  "name": "LEGAL_BUSINESS_NAME",
                  "type": "string"
                },
                {
                  "key": "2",
                  "name": "entityKey",
                  "type": "string"
                },
                {
                  "key": "3",
                  "name": "AUD_SEQ_ID",
                  "type": "bigint"
                },
                {
                  "key": "4",
                  "name": "AUD_HASH_CODE",
                  "type": "string"
                },
                {
                  "key": "5",
                  "name": "AUD_DIRECTORY",
                  "type": "string"
                },
                {
                  "key": "6",
                  "name": "AUD_FILENAME",
                  "type": "string"
                },
                {
                  "key": "7",
                  "name": "AUD_ACTIVE_FLAG",
                  "type": "string"
                },
                {
                  "key": "8",
                  "name": "EffectiveFromDate",
                  "type": "date"
                },
                {
                  "key": "9",
                  "name": "EffectiveToDate",
                  "type": "date"
                }
              ],
              "truncated": false
            },
            "isSummary": false,
            "language": "scala",
            "wranglerEntryContext": {
              "dataframeType": "pyspark"
            }
          },
          "persist_state": {
            "view": {
              "type": "details",
              "tableOptions": {},
              "chartOptions": {
                "chartType": "bar",
                "aggregationType": "sum",
                "categoryFieldKeys": [
                  "0"
                ],
                "seriesFieldKeys": [
                  "3"
                ],
                "isStacked": false
              }
            }
          }
        },
        "a7c8f134-d12e-44e9-85ae-7d4b1b602b6e": {
          "type": "Synapse.DataFrame",
          "sync_state": {
            "table": {
              "rows": [
                {
                  "0": "J112N852GTT31NMX9",
                  "1": "29e288d75c15ffea991aa9b53a8a8e756e6483f398f0eaa81c672f8e424b890d",
                  "2": "261512",
                  "3": "N",
                  "4": "abfss://bronze@staaz01synpilot.dfs.core.usgovcloudapi.net/GSA_SAM_PUBLIC/",
                  "5": "SAM_PUBLIC_MONTHLY_V2_20241103.dat",
                  "6": "2024-11-03",
                  "7": "2025-05-04",
                  "8": "J112N852GTT3",
                  "11": "1NMX9",
                  "13": "A",
                  "14": "Z2",
                  "15": "2002-01-03",
                  "16": "20250412",
                  "17": "20240418",
                  "18": "20240416",
                  "19": "AVISTA CORPORATION",
                  "21": "AVISTA CORPORATION",
                  "23": "1411 E MISSION AVE",
                  "25": "SPOKANE",
                  "26": "WA",
                  "27": "99202",
                  "28": "1902",
                  "29": "USA",
                  "30": "05",
                  "32": "18890315",
                  "33": "1231",
                  "34": "www.avistacorp.com",
                  "35": "2L",
                  "36": "WA",
                  "37": "USA",
                  "38": "0001",
                  "39": "2X",
                  "40": "221122",
                  "41": "0002",
                  "42": "221122N~221210N",
                  "43": "0000",
                  "45": "Y",
                  "47": "1411 E MISSION AVENUE",
                  "48": "P.O. BOX 3727",
                  "49": "SPOKANE",
                  "50": "99220",
                  "51": "3727",
                  "52": "USA",
                  "53": "WA",
                  "54": "DAVID",
                  "56": "PEACH",
                  "57": "COMMERCIAL COLLECTIONS ANALYST",
                  "58": "1411 E. MISSION AVE",
                  "59": "MSC-34",
                  "60": "SPOKANE",
                  "61": "99202",
                  "63": "USA",
                  "64": "WA",
                  "98": "DAVID",
                  "100": "PEACH",
                  "101": "COMMERCIAL COLLECTIONS ANALYST",
                  "102": "1411 E. MISSION AVE",
                  "103": "MSC-34",
                  "104": "SPOKANE",
                  "105": "99202",
                  "107": "USA",
                  "108": "WA",
                  "109": "DENISE",
                  "111": "BURNS",
                  "112": "CASH ACCTG ANALYST",
                  "113": "1411 E. MISSION AVE",
                  "115": "SPOKANE",
                  "116": "99202",
                  "118": "USA",
                  "119": "WA",
                  "120": "0000",
                  "122": "N",
                  "124": "0000",
                  "127": "0000",
                  "129": "E&Y",
                  "149": "!end",
                  "150": "J"
                },
                {
                  "0": "J116LLUH6Q955BJ52",
                  "1": "ec0ab6e904c4d0d19c5dd78c5e36c4e0c72862c9e215431a8d66117f2abd9592",
                  "2": "261515",
                  "3": "N",
                  "4": "abfss://bronze@staaz01synpilot.dfs.core.usgovcloudapi.net/GSA_SAM_PUBLIC/",
                  "5": "SAM_PUBLIC_MONTHLY_V2_20241103.dat",
                  "6": "2024-11-03",
                  "7": "2025-05-04",
                  "8": "J116LLUH6Q95",
                  "11": "5BJ52",
                  "13": "A",
                  "14": "Z2",
                  "15": "2009-02-12",
                  "16": "20250221",
                  "17": "20240226",
                  "18": "20240226",
                  "19": "CHEMSPA INDUSTRIES INC",
                  "23": "22 DEFOREST AVE",
                  "25": "EAST HANOVER",
                  "26": "NJ",
                  "27": "07936",
                  "28": "2803",
                  "29": "USA",
                  "30": "11",
                  "32": "19780830",
                  "33": "1231",
                  "34": "www.spapartners.com",
                  "35": "2L",
                  "36": "NJ",
                  "37": "USA",
                  "38": "0004",
                  "39": "2X~8W~A2~MF",
                  "40": "325998",
                  "41": "0011",
                  "42": "313230Y~314120Y~325611Y~325612Y~325620Y~325998Y~332999Y~339920Y~339950Y~424690Y~812199Y",
                  "43": "0000",
                  "45": "Y",
                  "47": "22 DEFOREST AVE.",
                  "48": "STE 5",
                  "49": "EAST HANOVER",
                  "50": "07936",
                  "51": "2803",
                  "52": "USA",
                  "53": "NJ",
                  "54": "KEVIN",
                  "56": "KERRIGAN",
                  "58": "22 DEFOREST AVE.",
                  "60": "EAST HANOVER",
                  "61": "07936",
                  "62": "2803",
                  "63": "USA",
                  "64": "NJ",
                  "65": "STEVE",
                  "67": "MARSHALL",
                  "69": "22 DEFOREST AVE.",
                  "71": "EAST HANOVER",
                  "72": "07936",
                  "73": "2803",
                  "74": "USA",
                  "75": "NJ",
                  "76": "STEVE",
                  "78": "MARSHALL",
                  "80": "22 DEFOREST AVE.",
                  "82": "EAST HANOVER",
                  "83": "07936",
                  "84": "2803",
                  "85": "USA",
                  "86": "NJ",
                  "87": "STEVEN",
                  "89": "MARSHALL",
                  "91": "22 DEFOREST AVE.",
                  "93": "EAST HANOVER",
                  "94": "07936",
                  "95": "2803",
                  "96": "USA",
                  "97": "NJ",
                  "98": "STEVE",
                  "100": "MARSHALL",
                  "102": "22 DEFOREST AVE.",
                  "104": "EAST HANOVER",
                  "105": "07936",
                  "106": "2803",
                  "107": "USA",
                  "108": "NJ",
                  "109": "KEVIN",
                  "111": "KERRIGAN",
                  "113": "22 DEFOREST AVE.",
                  "115": "EAST HANOVER",
                  "116": "07936",
                  "117": "2803",
                  "118": "USA",
                  "119": "NJ",
                  "120": "0000",
                  "122": "N",
                  "124": "0000",
                  "127": "0002",
                  "128": "STANY~STAPA",
                  "129": "E&Y",
                  "149": "!end",
                  "150": "J"
                },
                {
                  "0": "J11BVLC132A7SNKE6",
                  "1": "fc9cdf323f183b42664c5c8673959df5bc563425cd3c0dbb123908f0fcb42b4f",
                  "2": "261519",
                  "3": "N",
                  "4": "abfss://bronze@staaz01synpilot.dfs.core.usgovcloudapi.net/GSA_SAM_PUBLIC/",
                  "5": "SAM_PUBLIC_MONTHLY_V2_20241103.dat",
                  "6": "2024-11-03",
                  "7": "2025-05-04",
                  "8": "J11BVLC132A7",
                  "11": "SNKE6",
                  "13": "A",
                  "14": "Z1",
                  "15": "2023-01-05",
                  "16": "20241205",
                  "17": "20231211",
                  "18": "20231211",
                  "19": "TUS BUENAS NOTICIAS",
                  "21": "TUS BUENAS NOTICIAS",
                  "23": "NINOS HEROES 392 PTE.",
                  "24": "MORELOS Y DONATO GUERRA",
                  "25": "CULIACAN",
                  "27": "80000",
                  "29": "MEX",
                  "32": "20190220",
                  "33": "1231",
                  "34": "https://www.tusbuenasnoticias.com/",
                  "35": "8H",
                  "37": "MEX",
                  "38": "0002",
                  "39": "A8~BZ",
                  "41": "0000",
                  "43": "0000",
                  "45": "Y",
                  "47": "NINOS HEROES 392 PTE.",
                  "48": "MORELOS Y DONATO GUERRA",
                  "49": "CULIACAN",
                  "50": "80000",
                  "52": "MEX",
                  "53": "SINALOA",
                  "54": "KENIA",
                  "55": "T",
                  "56": "MEZA",
                  "57": "ADMINISTRATIVE MANAGER",
                  "58": "NINOS HEROES 392 PTE",
                  "59": "MORELOS Y DONATO GUERRA",
                  "60": "CULIACAN",
                  "61": "80000",
                  "63": "MEX",
                  "64": "SINALOA",
                  "65": "ANA",
                  "66": "L",
                  "67": "HERNANDEZ",
                  "69": "NINOS HEROES 392 PTE",
                  "70": "MORELOS Y DONATO GUERRA",
                  "71": "CULIACAN",
                  "72": "80000",
                  "74": "MEX",
                  "75": "SINALOA",
                  "98": "KENIA",
                  "99": "T",
                  "100": "MEZA",
                  "101": "ADMINISTRATIVE MANAGER",
                  "102": "NINOS HEROES 392 PTE",
                  "103": "MORELOS Y DONATO GUERRA",
                  "104": "CULIACAN",
                  "105": "80000",
                  "107": "MEX",
                  "108": "SINALOA",
                  "120": "0000",
                  "124": "0000",
                  "127": "0000",
                  "129": "E&Y",
                  "149": "!end",
                  "150": "J"
                },
                {
                  "0": "J11DZAFMN8N79UMU9",
                  "1": "b2914fac5aab7ea08c0fdde390f5b852a6782c095e7fea248947081750c09241",
                  "2": "261523",
                  "3": "N",
                  "4": "abfss://bronze@staaz01synpilot.dfs.core.usgovcloudapi.net/GSA_SAM_PUBLIC/",
                  "5": "SAM_PUBLIC_MONTHLY_V2_20241103.dat",
                  "6": "2024-11-03",
                  "7": "2025-05-04",
                  "8": "J11DZAFMN8N7",
                  "11": "9UMU9",
                  "13": "A",
                  "14": "Z2",
                  "15": "2024-03-20",
                  "16": "20250320",
                  "17": "20240328",
                  "18": "20240325",
                  "19": "HEALING WITH NO CEILING LLC",
                  "21": "HEALING WITH NO CEILING LLC",
                  "22": "2162476",
                  "23": "2191 PINE RD UNIT B",
                  "25": "SNELLVILLE",
                  "26": "GA",
                  "27": "30078",
                  "28": "2518",
                  "29": "USA",
                  "30": "07",
                  "32": "20200704",
                  "33": "1231",
                  "34": "www.healingwithnoceilingllc.com",
                  "35": "2L",
                  "36": "GA",
                  "37": "USA",
                  "38": "0004",
                  "39": "2X~8W~A2~LJ",
                  "40": "621330",
                  "41": "0002",
                  "42": "621330Y~624190Y",
                  "43": "0002",
                  "44": "G004~G009",
                  "45": "Y",
                  "47": "17208 TURNBERRY PL",
                  "49": "LITHONIA",
                  "50": "30038",
                  "52": "USA",
                  "53": "GA",
                  "54": "CALANDRA",
                  "55": "J",
                  "56": "BENNETT",
                  "57": "CEO",
                  "58": "17208 TURNBERRY PL",
                  "60": "LITHONIA",
                  "61": "30038",
                  "63": "USA",
                  "64": "GA",
                  "98": "CALANDRA",
                  "99": "J",
                  "100": "BENNETT",
                  "101": "CEO",
                  "102": "17208 TURNBERRY PL",
                  "104": "LITHONIA",
                  "105": "30038",
                  "107": "USA",
                  "108": "GA",
                  "120": "0000",
                  "122": "N",
                  "124": "0000",
                  "127": "0001",
                  "128": "ANY",
                  "129": "E&Y",
                  "149": "!end",
                  "150": "J"
                },
                {
                  "0": "J11EBW4EKTG39NMX9",
                  "1": "5a55586457f461d14ee6b54aa8a75f4876f036476d1e598f79fe96eec66886ca",
                  "2": "261524",
                  "3": "N",
                  "4": "abfss://bronze@staaz01synpilot.dfs.core.usgovcloudapi.net/GSA_SAM_PUBLIC/",
                  "5": "SAM_PUBLIC_MONTHLY_V2_20241103.dat",
                  "6": "2024-11-03",
                  "7": "2025-05-04",
                  "8": "J11EBW4EKTG3",
                  "11": "9NMX9",
                  "13": "A",
                  "14": "Z2",
                  "15": "2023-08-08",
                  "16": "20250528",
                  "17": "20240530",
                  "18": "20240530",
                  "19": "BOVEY BAIT, INC.",
                  "23": "88 ROOSEVELT ST",
                  "25": "BOVEY",
                  "26": "MN",
                  "27": "55709",
                  "28": "7600",
                  "29": "USA",
                  "30": "08",
                  "32": "20180724",
                  "33": "1231",
                  "35": "2L",
                  "36": "MN",
                  "37": "USA",
                  "38": "0002",
                  "39": "2X~XS",
                  "40": "457110",
                  "41": "0001",
                  "42": "457110Y",
                  "43": "0000",
                  "45": "Y",
                  "47": "PO BOX 509",
                  "49": "BOVEY",
                  "50": "55709",
                  "52": "USA",
                  "53": "MN",
                  "54": "DEREK",
                  "56": "VEKICH",
                  "57": "PRESIDENT",
                  "58": "88 ROOSEVELT STREET",
                  "60": "BOVEY",
                  "61": "55709",
                  "63": "USA",
                  "64": "MN",
                  "98": "DEREK",
                  "100": "VEKICH",
                  "101": "PRESIDENT",
                  "102": "88 ROOSEVELT STREET",
                  "104": "BOVEY",
                  "105": "55709",
                  "107": "USA",
                  "108": "MN",
                  "120": "0000",
                  "122": "N",
                  "124": "0000",
                  "127": "0001",
                  "128": "STAMN",
                  "129": "E&Y",
                  "149": "!end",
                  "150": "J"
                }
              ],
              "schema": [
                {
                  "key": "0",
                  "name": "entityKey",
                  "type": "string"
                },
                {
                  "key": "1",
                  "name": "AUD_HASH_CODE",
                  "type": "string"
                },
                {
                  "key": "2",
                  "name": "AUD_SEQ_ID",
                  "type": "bigint"
                },
                {
                  "key": "3",
                  "name": "AUD_ACTIVE_FLAG",
                  "type": "string"
                },
                {
                  "key": "4",
                  "name": "AUD_DIRECTORY",
                  "type": "string"
                },
                {
                  "key": "5",
                  "name": "AUD_FILENAME",
                  "type": "string"
                },
                {
                  "key": "6",
                  "name": "EffectiveFromDate",
                  "type": "date"
                },
                {
                  "key": "7",
                  "name": "EffectiveToDate",
                  "type": "date"
                },
                {
                  "key": "8",
                  "name": "UNIQUE_ENTITY_ID",
                  "type": "string"
                },
                {
                  "key": "9",
                  "name": "BLANK_DEPRECATED",
                  "type": "string"
                },
                {
                  "key": "10",
                  "name": "ENTITY_EFT_INDICATOR",
                  "type": "string"
                },
                {
                  "key": "11",
                  "name": "CAGE_CODE",
                  "type": "string"
                },
                {
                  "key": "12",
                  "name": "DODAAC",
                  "type": "string"
                },
                {
                  "key": "13",
                  "name": "SAM_EXTRACT_CODE",
                  "type": "string"
                },
                {
                  "key": "14",
                  "name": "PURPOSE_OF_REGISTRATION",
                  "type": "string"
                },
                {
                  "key": "15",
                  "name": "INITIAL_REGISTRATION_DATE",
                  "type": "date"
                },
                {
                  "key": "16",
                  "name": "REGISTRATION_EXPIRATION_DATE",
                  "type": "string"
                },
                {
                  "key": "17",
                  "name": "LAST_UPDATE_DATE",
                  "type": "string"
                },
                {
                  "key": "18",
                  "name": "ACTIVATION_DATE",
                  "type": "string"
                },
                {
                  "key": "19",
                  "name": "LEGAL_BUSINESS_NAME",
                  "type": "string"
                },
                {
                  "key": "20",
                  "name": "DBA_NAME",
                  "type": "string"
                },
                {
                  "key": "21",
                  "name": "ENTITY_DIVISION_NAME",
                  "type": "string"
                },
                {
                  "key": "22",
                  "name": "ENTITY_DIVISION_NUMBER",
                  "type": "string"
                },
                {
                  "key": "23",
                  "name": "PHYSICAL_ADDRESS_LINE_1",
                  "type": "string"
                },
                {
                  "key": "24",
                  "name": "PHYSICAL_ADDRESS_LINE_2",
                  "type": "string"
                },
                {
                  "key": "25",
                  "name": "PHYSICAL_ADDRESS_CITY",
                  "type": "string"
                },
                {
                  "key": "26",
                  "name": "PHYSICAL_ADDRESS_PROVINCE_OR_STATE",
                  "type": "string"
                },
                {
                  "key": "27",
                  "name": "PHYSICAL_ADDRESS_ZIP/POSTAL_CODE",
                  "type": "string"
                },
                {
                  "key": "28",
                  "name": "PHYSICAL_ADDRESS_ZIP_CODE_4",
                  "type": "string"
                },
                {
                  "key": "29",
                  "name": "PHYSICAL_ADDRESS_COUNTRY_CODE",
                  "type": "string"
                },
                {
                  "key": "30",
                  "name": "PHYSICAL_ADDRESS_CONGRESSIONAL_DISTRICT",
                  "type": "string"
                },
                {
                  "key": "31",
                  "name": "D&B_OPEN_DATA_FLAG",
                  "type": "string"
                },
                {
                  "key": "32",
                  "name": "ENTITY_START_DATE",
                  "type": "string"
                },
                {
                  "key": "33",
                  "name": "FISCAL_YEAR_END_CLOSE_DATE",
                  "type": "string"
                },
                {
                  "key": "34",
                  "name": "ENTITY_URL",
                  "type": "string"
                },
                {
                  "key": "35",
                  "name": "ENTITY_STRUCTURE",
                  "type": "string"
                },
                {
                  "key": "36",
                  "name": "STATE_OF_INCORPORATION",
                  "type": "string"
                },
                {
                  "key": "37",
                  "name": "COUNTRY_OF_INCORPORATION",
                  "type": "string"
                },
                {
                  "key": "38",
                  "name": "BUSINESS_TYPE_COUNTER",
                  "type": "string"
                },
                {
                  "key": "39",
                  "name": "BUS_TYPE_STRING",
                  "type": "string"
                },
                {
                  "key": "40",
                  "name": "PRIMARY_NAICS",
                  "type": "string"
                },
                {
                  "key": "41",
                  "name": "NAICS_CODE_COUNTER",
                  "type": "string"
                },
                {
                  "key": "42",
                  "name": "NAICS_CODE_STRING",
                  "type": "string"
                },
                {
                  "key": "43",
                  "name": "PSC_CODE_COUNTER",
                  "type": "string"
                },
                {
                  "key": "44",
                  "name": "PSC_CODE_STRING",
                  "type": "string"
                },
                {
                  "key": "45",
                  "name": "CREDIT_CARD_USAGE",
                  "type": "string"
                },
                {
                  "key": "46",
                  "name": "CORRESPONDENCE_FLAG",
                  "type": "string"
                },
                {
                  "key": "47",
                  "name": "MAILING_ADDRESS_LINE_1",
                  "type": "string"
                },
                {
                  "key": "48",
                  "name": "MAILING_ADDRESS_LINE_2",
                  "type": "string"
                },
                {
                  "key": "49",
                  "name": "MAILING_ADDRESS_CITY",
                  "type": "string"
                },
                {
                  "key": "50",
                  "name": "MAILING_ADDRESS_ZIP/POSTAL_CODE",
                  "type": "string"
                },
                {
                  "key": "51",
                  "name": "MAILING_ADDRESS_ZIP_CODE_4",
                  "type": "string"
                },
                {
                  "key": "52",
                  "name": "MAILING_ADDRESS_COUNTRY",
                  "type": "string"
                },
                {
                  "key": "53",
                  "name": "MAILING_ADDRESS_STATE_OR_PROVINCE",
                  "type": "string"
                },
                {
                  "key": "54",
                  "name": "GOVT_BUS_POC_FIRST_NAME",
                  "type": "string"
                },
                {
                  "key": "55",
                  "name": "GOVT_BUS_POC_MIDDLE_INITIAL",
                  "type": "string"
                },
                {
                  "key": "56",
                  "name": "GOVT_BUS_POC_LAST_NAME",
                  "type": "string"
                },
                {
                  "key": "57",
                  "name": "GOVT_BUS_POC_TITLE",
                  "type": "string"
                },
                {
                  "key": "58",
                  "name": "GOVT_BUS_POC_ST_ADD_1",
                  "type": "string"
                },
                {
                  "key": "59",
                  "name": "GOVT_BUS_POC_ST_ADD_2",
                  "type": "string"
                },
                {
                  "key": "60",
                  "name": "GOVT_BUS_POC_CITY",
                  "type": "string"
                },
                {
                  "key": "61",
                  "name": "GOVT_BUS_POC_ZIP/POSTAL_CODE",
                  "type": "string"
                },
                {
                  "key": "62",
                  "name": "GOVT_BUS_POC_ZIP_CODE_4",
                  "type": "string"
                },
                {
                  "key": "63",
                  "name": "GOVT_BUS_POC_COUNTRY_CODE",
                  "type": "string"
                },
                {
                  "key": "64",
                  "name": "GOVT_BUS_POC_STATE_OR_PROVINCE",
                  "type": "string"
                },
                {
                  "key": "65",
                  "name": "ALT_GOVT_BUS_POC_FIRST_NAME",
                  "type": "string"
                },
                {
                  "key": "66",
                  "name": "ALT_GOVT_BUS_POC_MIDDLE_INITIAL",
                  "type": "string"
                },
                {
                  "key": "67",
                  "name": "ALT_GOVT_BUS_POC_LAST_NAME",
                  "type": "string"
                },
                {
                  "key": "68",
                  "name": "ALT_GOVT_BUS_POC_TITLE",
                  "type": "string"
                },
                {
                  "key": "69",
                  "name": "ALT_GOVT_BUS_POC_ST_ADD_1",
                  "type": "string"
                },
                {
                  "key": "70",
                  "name": "ALT_GOVT_BUS_POC_ST_ADD_2",
                  "type": "string"
                },
                {
                  "key": "71",
                  "name": "ALT_GOVT_BUS_POC_CITY",
                  "type": "string"
                },
                {
                  "key": "72",
                  "name": "ALT_GOVT_BUS_POC_ZIP/POSTAL_CODE",
                  "type": "string"
                },
                {
                  "key": "73",
                  "name": "ALT_GOVT_BUS_POC_ZIP_CODE_4",
                  "type": "string"
                },
                {
                  "key": "74",
                  "name": "ALT_GOVT_BUS_POC_COUNTRY_CODE",
                  "type": "string"
                },
                {
                  "key": "75",
                  "name": "ALT_GOVT_BUS_POC_STATE_OR_PROVINCE",
                  "type": "string"
                },
                {
                  "key": "76",
                  "name": "PAST_PERF_POC_POC_FIRST_NAME",
                  "type": "string"
                },
                {
                  "key": "77",
                  "name": "PAST_PERF_POC_POC_MIDDLE_INITIAL",
                  "type": "string"
                },
                {
                  "key": "78",
                  "name": "PAST_PERF_POC_POC_LAST_NAME",
                  "type": "string"
                },
                {
                  "key": "79",
                  "name": "PAST_PERF_POC_POC_TITLE",
                  "type": "string"
                },
                {
                  "key": "80",
                  "name": "PAST_PERF_POC_ST_ADD_1",
                  "type": "string"
                },
                {
                  "key": "81",
                  "name": "PAST_PERF_POC_ST_ADD_2",
                  "type": "string"
                },
                {
                  "key": "82",
                  "name": "PAST_PERF_POC_CITY",
                  "type": "string"
                },
                {
                  "key": "83",
                  "name": "PAST_PERF_POC_ZIP/POSTAL_CODE",
                  "type": "string"
                },
                {
                  "key": "84",
                  "name": "PAST_PERF_POC_ZIP_CODE_4",
                  "type": "string"
                },
                {
                  "key": "85",
                  "name": "PAST_PERF_POC_COUNTRY_CODE",
                  "type": "string"
                },
                {
                  "key": "86",
                  "name": "PAST_PERF_POC_STATE_OR_PROVINCE",
                  "type": "string"
                },
                {
                  "key": "87",
                  "name": "ALT_PAST_PERF_POC_FIRST_NAME",
                  "type": "string"
                },
                {
                  "key": "88",
                  "name": "ALT_PAST_PERF_POC_MIDDLE_INITIAL",
                  "type": "string"
                },
                {
                  "key": "89",
                  "name": "ALT_PAST_PERF_POC_LAST_NAME",
                  "type": "string"
                },
                {
                  "key": "90",
                  "name": "ALT_PAST_PERF_POC_TITLE",
                  "type": "string"
                },
                {
                  "key": "91",
                  "name": "ALT_PAST_PERF_POC_ST_ADD_1",
                  "type": "string"
                },
                {
                  "key": "92",
                  "name": "ALT_PAST_PERF_POC_ST_ADD_2",
                  "type": "string"
                },
                {
                  "key": "93",
                  "name": "ALT_PAST_PERF_POC_CITY",
                  "type": "string"
                },
                {
                  "key": "94",
                  "name": "ALT_PAST_PERF_POC_ZIP/POSTAL_CODE",
                  "type": "string"
                },
                {
                  "key": "95",
                  "name": "ALT_PAST_PERF_POC_ZIP_CODE_4",
                  "type": "string"
                },
                {
                  "key": "96",
                  "name": "ALT_PAST_PERF_POC_COUNTRY_CODE",
                  "type": "string"
                },
                {
                  "key": "97",
                  "name": "ALT_PAST_PERF_POC_STATE_OR_PROVINCE",
                  "type": "string"
                },
                {
                  "key": "98",
                  "name": "ELEC_BUS_POC_FIRST_NAME",
                  "type": "string"
                },
                {
                  "key": "99",
                  "name": "ELEC_BUS_POC_MIDDLE_INITIAL",
                  "type": "string"
                },
                {
                  "key": "100",
                  "name": "ELEC_BUS_POC_LAST_NAME",
                  "type": "string"
                },
                {
                  "key": "101",
                  "name": "ELEC_BUS_POC_TITLE",
                  "type": "string"
                },
                {
                  "key": "102",
                  "name": "ELEC_BUS_POC_ST_ADD_1",
                  "type": "string"
                },
                {
                  "key": "103",
                  "name": "ELEC_BUS_POC_ST_ADD_2",
                  "type": "string"
                },
                {
                  "key": "104",
                  "name": "ELEC_BUS_POC_CITY",
                  "type": "string"
                },
                {
                  "key": "105",
                  "name": "ELEC_BUS_POC_ZIP/POSTAL_CODE",
                  "type": "string"
                },
                {
                  "key": "106",
                  "name": "ELEC_BUS_POC_ZIP_CODE_4",
                  "type": "string"
                },
                {
                  "key": "107",
                  "name": "ELEC_BUS_POC_COUNTRY_CODE",
                  "type": "string"
                },
                {
                  "key": "108",
                  "name": "ELEC_BUS_POC_STATE_OR_PROVINCE",
                  "type": "string"
                },
                {
                  "key": "109",
                  "name": "ALT_ELEC_POC_BUS_POC_FIRST_NAME",
                  "type": "string"
                },
                {
                  "key": "110",
                  "name": "ALT_ELEC_POC_BUS_POC_MIDDLE_INITIAL",
                  "type": "string"
                },
                {
                  "key": "111",
                  "name": "ALT_ELEC_POC_BUS_POC_LAST_NAME",
                  "type": "string"
                },
                {
                  "key": "112",
                  "name": "ALT_ELEC_POC_BUS_POC_TITLE",
                  "type": "string"
                },
                {
                  "key": "113",
                  "name": "ALT_ELEC_POC_BUS_ST_ADD_1",
                  "type": "string"
                },
                {
                  "key": "114",
                  "name": "ALT_ELEC_POC_BUS_ST_ADD_2",
                  "type": "string"
                },
                {
                  "key": "115",
                  "name": "ALT_ELEC_POC_BUS_CITY",
                  "type": "string"
                },
                {
                  "key": "116",
                  "name": "ALT_ELEC_POC_BUS_ZIP/POSTAL_CODE",
                  "type": "string"
                },
                {
                  "key": "117",
                  "name": "ALT_ELEC_POC_BUS_ZIP_CODE_4",
                  "type": "string"
                },
                {
                  "key": "118",
                  "name": "ALT_ELEC_POC_BUS_COUNTRY_CODE",
                  "type": "string"
                },
                {
                  "key": "119",
                  "name": "ALT_ELEC_POC_BUS_STATE_OR_PROVINCE",
                  "type": "string"
                },
                {
                  "key": "120",
                  "name": "NAICS_EXCEPTION_COUNTER",
                  "type": "string"
                },
                {
                  "key": "121",
                  "name": "NAICS_EXCEPTION_STRING",
                  "type": "string"
                },
                {
                  "key": "122",
                  "name": "DEBT_SUBJECT_TO_OFFSET_FLAG",
                  "type": "string"
                },
                {
                  "key": "123",
                  "name": "EXCLUSION_STATUS_FLAG",
                  "type": "string"
                },
                {
                  "key": "124",
                  "name": "SBA_BUSINESS_TYPES_COUNTER",
                  "type": "string"
                },
                {
                  "key": "125",
                  "name": "SBA_BUSINESS_TYPES_STRING",
                  "type": "string"
                },
                {
                  "key": "126",
                  "name": "NO_PUBLIC_DISPLAY_FLAG",
                  "type": "string"
                },
                {
                  "key": "127",
                  "name": "DISASTER_RESPONSE_COUNTER",
                  "type": "string"
                },
                {
                  "key": "128",
                  "name": "DISASTER_RESPONSE_STRING",
                  "type": "string"
                },
                {
                  "key": "129",
                  "name": "ENTITY_EVS_SOURCE",
                  "type": "string"
                },
                {
                  "key": "130",
                  "name": "FLEX_FIELD_1",
                  "type": "string"
                },
                {
                  "key": "131",
                  "name": "FLEX_FIELD_2",
                  "type": "string"
                },
                {
                  "key": "132",
                  "name": "FLEX_FIELD_3",
                  "type": "string"
                },
                {
                  "key": "133",
                  "name": "FLEX_FIELD_4",
                  "type": "string"
                },
                {
                  "key": "134",
                  "name": "FLEX_FIELD_5",
                  "type": "string"
                },
                {
                  "key": "135",
                  "name": "FLEX_FIELD_6",
                  "type": "string"
                },
                {
                  "key": "136",
                  "name": "FLEX_FIELD_7",
                  "type": "string"
                },
                {
                  "key": "137",
                  "name": "FLEX_FIELD_8",
                  "type": "string"
                },
                {
                  "key": "138",
                  "name": "FLEX_FIELD_9",
                  "type": "string"
                },
                {
                  "key": "139",
                  "name": "FLEX_FIELD_10",
                  "type": "string"
                },
                {
                  "key": "140",
                  "name": "FLEX_FIELD_11",
                  "type": "string"
                },
                {
                  "key": "141",
                  "name": "FLEX_FIELD_12",
                  "type": "string"
                },
                {
                  "key": "142",
                  "name": "FLEX_FIELD_13",
                  "type": "string"
                },
                {
                  "key": "143",
                  "name": "FLEX_FIELD_14",
                  "type": "string"
                },
                {
                  "key": "144",
                  "name": "FLEX_FIELD_15",
                  "type": "string"
                },
                {
                  "key": "145",
                  "name": "FLEX_FIELD_16",
                  "type": "string"
                },
                {
                  "key": "146",
                  "name": "FLEX_FIELD_17",
                  "type": "string"
                },
                {
                  "key": "147",
                  "name": "FLEX_FIELD_18",
                  "type": "string"
                },
                {
                  "key": "148",
                  "name": "FLEX_FIELD_19",
                  "type": "string"
                },
                {
                  "key": "149",
                  "name": "END_OF_RECORD_INDICATOR",
                  "type": "string"
                },
                {
                  "key": "150",
                  "name": "PARTITION_KEY",
                  "type": "string"
                }
              ],
              "truncated": false
            },
            "isSummary": false,
            "language": "scala",
            "wranglerEntryContext": {
              "dataframeType": "pyspark"
            }
          },
          "persist_state": {
            "view": {
              "type": "details",
              "tableOptions": {},
              "chartOptions": {
                "chartType": "bar",
                "aggregationType": "sum",
                "categoryFieldKeys": [
                  "0"
                ],
                "seriesFieldKeys": [
                  "2"
                ],
                "isStacked": false
              }
            }
          }
        },
        "ac75d99c-bbbd-4d1a-b451-bfd1486a5786": {
          "type": "Synapse.DataFrame",
          "sync_state": {
            "table": {
              "rows": [
                {
                  "0": "N111LGYXDUM77VSA8",
                  "1": "c0e4b37a06ce32a22595954331703b8244baaacc711dc6ec1b41e5986a3c4e8e",
                  "2": "1310513",
                  "3": "Y",
                  "4": "abfss://bronze@staaz01synpilot.dfs.core.usgovcloudapi.net/GSA_SAM_PUBLIC/",
                  "5": "SAM_PUBLIC_MONTHLY_V2_20250504.dat",
                  "6": "2025-05-04",
                  "8": "N111LGYXDUM7",
                  "11": "7VSA8",
                  "13": "A",
                  "14": "Z2",
                  "15": "2017-05-09",
                  "16": "20260212",
                  "17": "20250227",
                  "18": "20250225",
                  "19": "ZOOM COMMUNICATIONS, INC.",
                  "23": "6TH FLOOR",
                  "24": "55, ALMADEN BOULEVARD",
                  "25": "SAN JOSE",
                  "26": "CA",
                  "27": "95113",
                  "28": "1612",
                  "29": "USA",
                  "30": "18",
                  "32": "20110421",
                  "33": "0131",
                  "35": "2L",
                  "36": "DE",
                  "37": "USA",
                  "38": "0001",
                  "39": "2X",
                  "40": "541519",
                  "41": "0002",
                  "42": "517810N~541519E",
                  "43": "0000",
                  "45": "Y",
                  "47": "55 ALMADEN BOULEVARD, 6TH FL",
                  "49": "SAN JOSE",
                  "50": "95113",
                  "51": "1612",
                  "52": "USA",
                  "53": "CA",
                  "54": "MATTHEW",
                  "56": "MANDRGOC",
                  "57": "HEAD OF U.S. PUBLIC SECTOR",
                  "58": "55 ALMADEN BLVD.",
                  "59": "6TH FLOOR",
                  "60": "SAN JOSE",
                  "61": "95113",
                  "63": "USA",
                  "64": "CA",
                  "98": "MATTHEW",
                  "100": "MANDRGOC",
                  "101": "HEAD OF U.S. PUBLIC SECTOR",
                  "102": "55 ALMADEN BLVD.",
                  "103": "6TH FLOOR",
                  "104": "SAN JOSE",
                  "105": "95113",
                  "107": "USA",
                  "108": "CA",
                  "120": "0001",
                  "121": "541519NN  ",
                  "122": "N",
                  "124": "0000",
                  "127": "0000",
                  "129": "E&Y",
                  "149": "!end",
                  "150": "N"
                },
                {
                  "0": "N112M7FD83H9",
                  "1": "3db73788b956d116d64ee7cfb4a6b4a02b354954187daab56151538fc012f37f",
                  "2": "1310516",
                  "3": "Y",
                  "4": "abfss://bronze@staaz01synpilot.dfs.core.usgovcloudapi.net/GSA_SAM_PUBLIC/",
                  "5": "SAM_PUBLIC_MONTHLY_V2_20250504.dat",
                  "6": "2025-05-04",
                  "8": "N112M7FD83H9",
                  "13": "A",
                  "14": "Z1",
                  "15": "2024-12-13",
                  "16": "20251213",
                  "17": "20241213",
                  "18": "20241213",
                  "19": "THE PARIS CONFERENCE ON AI & DIGITAL ETHICS",
                  "23": "3 RUE LA BOETIE",
                  "25": "PARIS",
                  "29": "FRA",
                  "32": "20241126",
                  "33": "1231",
                  "35": "ZZ",
                  "37": "FRA",
                  "38": "0002",
                  "39": "20~A8",
                  "41": "0000",
                  "43": "0000",
                  "45": "Y",
                  "47": "3 RUE LA BOETIE",
                  "49": "PARIS",
                  "52": "FRA",
                  "53": "PARIS",
                  "54": "HUBERT",
                  "56": "ETIENNE",
                  "58": "3 RUE LA BOETIE",
                  "60": "PARIS",
                  "63": "FRA",
                  "98": "HUBERT",
                  "100": "ETIENNE",
                  "102": "3 RUE LA BOETIE",
                  "104": "PARIS",
                  "107": "FRA",
                  "120": "0000",
                  "124": "0000",
                  "127": "0000",
                  "129": "E&Y",
                  "149": "!end",
                  "150": "N"
                },
                {
                  "0": "N114VGC3D2H39UKV2",
                  "1": "5daabdd5147667d9d9c61f753918e9b7c2cf7a673691f144334aed6e29730715",
                  "2": "1310519",
                  "3": "Y",
                  "4": "abfss://bronze@staaz01synpilot.dfs.core.usgovcloudapi.net/GSA_SAM_PUBLIC/",
                  "5": "SAM_PUBLIC_MONTHLY_V2_20250504.dat",
                  "6": "2025-05-04",
                  "8": "N114VGC3D2H3",
                  "11": "9UKV2",
                  "13": "A",
                  "14": "Z2",
                  "15": "2024-03-19",
                  "16": "20260121",
                  "17": "20250123",
                  "18": "20250123",
                  "19": "ZIONS HOUSE INC",
                  "21": "ZIONS HOUSE INC",
                  "23": "377 PLANTERS ST",
                  "25": "AYDEN",
                  "26": "NC",
                  "27": "28513",
                  "28": "2727",
                  "29": "USA",
                  "30": "01",
                  "32": "20240301",
                  "33": "1231",
                  "35": "ZZ",
                  "36": "NC",
                  "37": "USA",
                  "38": "0003",
                  "39": "23~A8~OY",
                  "40": "611710",
                  "41": "0001",
                  "42": "611710N",
                  "43": "0000",
                  "45": "N",
                  "47": "377 PLANTERS ST.",
                  "49": "AYDEN",
                  "50": "28513",
                  "52": "USA",
                  "53": "NC",
                  "54": "KORNISHA",
                  "56": "RUFFIN",
                  "57": "FINANCIAL SECRETARY",
                  "58": "377 PLANTERS ST.",
                  "60": "AYDEN",
                  "61": "28513",
                  "63": "USA",
                  "64": "NC",
                  "65": "KORNISHA",
                  "67": "RUFFIN",
                  "68": "FINANCIAL SECRETARY",
                  "69": "377 PLANTERS ST.",
                  "71": "AYDEN",
                  "72": "28513",
                  "74": "USA",
                  "75": "NC",
                  "76": "KORNISHA",
                  "78": "RUFFIN",
                  "79": "FINANCIAL SECRETARY",
                  "80": "377 PLANTERS ST.",
                  "82": "AYDEN",
                  "83": "28513",
                  "85": "USA",
                  "86": "NC",
                  "87": "KORNISHA",
                  "89": "RUFFIN",
                  "90": "FINANCIAL SECRETARY",
                  "91": "377 PLANTERS ST.",
                  "93": "AYDEN",
                  "94": "28513",
                  "96": "USA",
                  "97": "NC",
                  "98": "KORNISHA",
                  "100": "RUFFIN",
                  "101": "FINANCIAL SECRETARY",
                  "102": "377 PLANTERS ST.",
                  "104": "AYDEN",
                  "105": "28513",
                  "107": "USA",
                  "108": "NC",
                  "109": "KORNISHA",
                  "111": "RUFFIN",
                  "112": "FINANCIAL SECRETARY",
                  "113": "377 PLANTERS ST.",
                  "115": "AYDEN",
                  "116": "28513",
                  "118": "USA",
                  "119": "NC",
                  "120": "0000",
                  "122": "N",
                  "124": "0000",
                  "127": "0000",
                  "129": "E&Y",
                  "149": "!end",
                  "150": "N"
                },
                {
                  "0": "N115YWXR3CU39QQL5",
                  "1": "e4ebba7d1fbdc662e1a948f7ba3e25b4b7e7d8214b48e07fe9899a54ac286884",
                  "2": "1310522",
                  "3": "Y",
                  "4": "abfss://bronze@staaz01synpilot.dfs.core.usgovcloudapi.net/GSA_SAM_PUBLIC/",
                  "5": "SAM_PUBLIC_MONTHLY_V2_20250504.dat",
                  "6": "2025-05-04",
                  "8": "N115YWXR3CU3",
                  "11": "9QQL5",
                  "13": "A",
                  "14": "Z2",
                  "15": "2023-11-02",
                  "16": "20251105",
                  "17": "20241106",
                  "18": "20241106",
                  "19": "QUALITY TRANSPORTS & RELOCATION LLC",
                  "21": "QUALITY TRANSPORTS & RELOCATION LLC",
                  "23": "119 SUNNYBROOK RD",
                  "25": "RALEIGH",
                  "26": "NC",
                  "27": "27610",
                  "28": "1827",
                  "29": "USA",
                  "30": "13",
                  "32": "20231102",
                  "33": "1231",
                  "34": "www.QTRMOVERS.com",
                  "35": "2J",
                  "36": "NC",
                  "37": "USA",
                  "38": "0005",
                  "39": "23~27~2X~LJ~OY",
                  "40": "484210",
                  "41": "0001",
                  "42": "484210Y",
                  "43": "0001",
                  "44": "V112",
                  "45": "Y",
                  "47": "119 SUNNYBROOK RD",
                  "49": "RALEIGH",
                  "50": "27610",
                  "52": "USA",
                  "53": "NC",
                  "54": "JACOB",
                  "55": "L",
                  "56": "MANNS",
                  "57": "OWNER",
                  "58": "119 SUNNYBROOK RD",
                  "60": "RALEIGH",
                  "61": "27610",
                  "63": "USA",
                  "64": "NC",
                  "98": "JACOB",
                  "99": "L",
                  "100": "MANNS",
                  "101": "OWNER",
                  "102": "119 SUNNYBROOK RD",
                  "104": "RALEIGH",
                  "105": "27610",
                  "107": "USA",
                  "108": "NC",
                  "120": "0000",
                  "122": "N",
                  "124": "0000",
                  "127": "0003",
                  "128": "STAFL~STALA~STANC",
                  "129": "E&Y",
                  "149": "!end",
                  "150": "N"
                },
                {
                  "0": "N116LTFG7PH18X2Z0",
                  "1": "698981b73eab7b656d1618dd08cdc043430062b69e30fb3078dbde669f0603b0",
                  "2": "1310524",
                  "3": "Y",
                  "4": "abfss://bronze@staaz01synpilot.dfs.core.usgovcloudapi.net/GSA_SAM_PUBLIC/",
                  "5": "SAM_PUBLIC_MONTHLY_V2_20250504.dat",
                  "6": "2025-05-04",
                  "8": "N116LTFG7PH1",
                  "11": "8X2Z0",
                  "13": "A",
                  "14": "Z2",
                  "15": "2021-01-10",
                  "16": "20260129",
                  "17": "20250203",
                  "18": "20250203",
                  "19": "VISIBLE SPARKLE LLC",
                  "20": "VISIBLE SPARKLE",
                  "23": "658 DOUGLAS AVE STE 1102",
                  "25": "ALTAMONTE SPRINGS",
                  "26": "FL",
                  "27": "32714",
                  "28": "2548",
                  "29": "USA",
                  "30": "07",
                  "32": "20200201",
                  "33": "1231",
                  "34": "www.visiblesparkle.com",
                  "35": "2J",
                  "36": "FL",
                  "37": "USA",
                  "38": "0005",
                  "39": "23~27~2X~LJ~OY",
                  "40": "811192",
                  "41": "0002",
                  "42": "561720Y~811192Y",
                  "43": "0000",
                  "45": "Y",
                  "47": "658 DOUGLAS AVE STE 1102",
                  "49": "ALTAMONTE SPRINGS",
                  "50": "32714",
                  "51": "2548",
                  "52": "USA",
                  "53": "FL",
                  "54": "NATHAN",
                  "56": "BLAKE",
                  "58": "6858 DOUGLAS AVE STE 1102",
                  "60": "ALTAMONTE SPRINGS",
                  "61": "32714",
                  "63": "USA",
                  "64": "FL",
                  "98": "NATHAN",
                  "100": "BLAKE",
                  "102": "6858 DOUGLAS AVE STE 1102",
                  "104": "ALTAMONTE SPRINGS",
                  "105": "32714",
                  "107": "USA",
                  "108": "FL",
                  "120": "0000",
                  "122": "N",
                  "124": "0000",
                  "127": "0000",
                  "129": "E&Y",
                  "149": "!end",
                  "150": "N"
                }
              ],
              "schema": [
                {
                  "key": "0",
                  "name": "entityKey",
                  "type": "string"
                },
                {
                  "key": "1",
                  "name": "AUD_HASH_CODE",
                  "type": "string"
                },
                {
                  "key": "2",
                  "name": "AUD_SEQ_ID",
                  "type": "bigint"
                },
                {
                  "key": "3",
                  "name": "AUD_ACTIVE_FLAG",
                  "type": "string"
                },
                {
                  "key": "4",
                  "name": "AUD_DIRECTORY",
                  "type": "string"
                },
                {
                  "key": "5",
                  "name": "AUD_FILENAME",
                  "type": "string"
                },
                {
                  "key": "6",
                  "name": "EffectiveFromDate",
                  "type": "date"
                },
                {
                  "key": "7",
                  "name": "EffectiveToDate",
                  "type": "date"
                },
                {
                  "key": "8",
                  "name": "UNIQUE_ENTITY_ID",
                  "type": "string"
                },
                {
                  "key": "9",
                  "name": "BLANK_DEPRECATED",
                  "type": "string"
                },
                {
                  "key": "10",
                  "name": "ENTITY_EFT_INDICATOR",
                  "type": "string"
                },
                {
                  "key": "11",
                  "name": "CAGE_CODE",
                  "type": "string"
                },
                {
                  "key": "12",
                  "name": "DODAAC",
                  "type": "string"
                },
                {
                  "key": "13",
                  "name": "SAM_EXTRACT_CODE",
                  "type": "string"
                },
                {
                  "key": "14",
                  "name": "PURPOSE_OF_REGISTRATION",
                  "type": "string"
                },
                {
                  "key": "15",
                  "name": "INITIAL_REGISTRATION_DATE",
                  "type": "date"
                },
                {
                  "key": "16",
                  "name": "REGISTRATION_EXPIRATION_DATE",
                  "type": "string"
                },
                {
                  "key": "17",
                  "name": "LAST_UPDATE_DATE",
                  "type": "string"
                },
                {
                  "key": "18",
                  "name": "ACTIVATION_DATE",
                  "type": "string"
                },
                {
                  "key": "19",
                  "name": "LEGAL_BUSINESS_NAME",
                  "type": "string"
                },
                {
                  "key": "20",
                  "name": "DBA_NAME",
                  "type": "string"
                },
                {
                  "key": "21",
                  "name": "ENTITY_DIVISION_NAME",
                  "type": "string"
                },
                {
                  "key": "22",
                  "name": "ENTITY_DIVISION_NUMBER",
                  "type": "string"
                },
                {
                  "key": "23",
                  "name": "PHYSICAL_ADDRESS_LINE_1",
                  "type": "string"
                },
                {
                  "key": "24",
                  "name": "PHYSICAL_ADDRESS_LINE_2",
                  "type": "string"
                },
                {
                  "key": "25",
                  "name": "PHYSICAL_ADDRESS_CITY",
                  "type": "string"
                },
                {
                  "key": "26",
                  "name": "PHYSICAL_ADDRESS_PROVINCE_OR_STATE",
                  "type": "string"
                },
                {
                  "key": "27",
                  "name": "PHYSICAL_ADDRESS_ZIP/POSTAL_CODE",
                  "type": "string"
                },
                {
                  "key": "28",
                  "name": "PHYSICAL_ADDRESS_ZIP_CODE_4",
                  "type": "string"
                },
                {
                  "key": "29",
                  "name": "PHYSICAL_ADDRESS_COUNTRY_CODE",
                  "type": "string"
                },
                {
                  "key": "30",
                  "name": "PHYSICAL_ADDRESS_CONGRESSIONAL_DISTRICT",
                  "type": "string"
                },
                {
                  "key": "31",
                  "name": "D&B_OPEN_DATA_FLAG",
                  "type": "string"
                },
                {
                  "key": "32",
                  "name": "ENTITY_START_DATE",
                  "type": "string"
                },
                {
                  "key": "33",
                  "name": "FISCAL_YEAR_END_CLOSE_DATE",
                  "type": "string"
                },
                {
                  "key": "34",
                  "name": "ENTITY_URL",
                  "type": "string"
                },
                {
                  "key": "35",
                  "name": "ENTITY_STRUCTURE",
                  "type": "string"
                },
                {
                  "key": "36",
                  "name": "STATE_OF_INCORPORATION",
                  "type": "string"
                },
                {
                  "key": "37",
                  "name": "COUNTRY_OF_INCORPORATION",
                  "type": "string"
                },
                {
                  "key": "38",
                  "name": "BUSINESS_TYPE_COUNTER",
                  "type": "string"
                },
                {
                  "key": "39",
                  "name": "BUS_TYPE_STRING",
                  "type": "string"
                },
                {
                  "key": "40",
                  "name": "PRIMARY_NAICS",
                  "type": "string"
                },
                {
                  "key": "41",
                  "name": "NAICS_CODE_COUNTER",
                  "type": "string"
                },
                {
                  "key": "42",
                  "name": "NAICS_CODE_STRING",
                  "type": "string"
                },
                {
                  "key": "43",
                  "name": "PSC_CODE_COUNTER",
                  "type": "string"
                },
                {
                  "key": "44",
                  "name": "PSC_CODE_STRING",
                  "type": "string"
                },
                {
                  "key": "45",
                  "name": "CREDIT_CARD_USAGE",
                  "type": "string"
                },
                {
                  "key": "46",
                  "name": "CORRESPONDENCE_FLAG",
                  "type": "string"
                },
                {
                  "key": "47",
                  "name": "MAILING_ADDRESS_LINE_1",
                  "type": "string"
                },
                {
                  "key": "48",
                  "name": "MAILING_ADDRESS_LINE_2",
                  "type": "string"
                },
                {
                  "key": "49",
                  "name": "MAILING_ADDRESS_CITY",
                  "type": "string"
                },
                {
                  "key": "50",
                  "name": "MAILING_ADDRESS_ZIP/POSTAL_CODE",
                  "type": "string"
                },
                {
                  "key": "51",
                  "name": "MAILING_ADDRESS_ZIP_CODE_4",
                  "type": "string"
                },
                {
                  "key": "52",
                  "name": "MAILING_ADDRESS_COUNTRY",
                  "type": "string"
                },
                {
                  "key": "53",
                  "name": "MAILING_ADDRESS_STATE_OR_PROVINCE",
                  "type": "string"
                },
                {
                  "key": "54",
                  "name": "GOVT_BUS_POC_FIRST_NAME",
                  "type": "string"
                },
                {
                  "key": "55",
                  "name": "GOVT_BUS_POC_MIDDLE_INITIAL",
                  "type": "string"
                },
                {
                  "key": "56",
                  "name": "GOVT_BUS_POC_LAST_NAME",
                  "type": "string"
                },
                {
                  "key": "57",
                  "name": "GOVT_BUS_POC_TITLE",
                  "type": "string"
                },
                {
                  "key": "58",
                  "name": "GOVT_BUS_POC_ST_ADD_1",
                  "type": "string"
                },
                {
                  "key": "59",
                  "name": "GOVT_BUS_POC_ST_ADD_2",
                  "type": "string"
                },
                {
                  "key": "60",
                  "name": "GOVT_BUS_POC_CITY",
                  "type": "string"
                },
                {
                  "key": "61",
                  "name": "GOVT_BUS_POC_ZIP/POSTAL_CODE",
                  "type": "string"
                },
                {
                  "key": "62",
                  "name": "GOVT_BUS_POC_ZIP_CODE_4",
                  "type": "string"
                },
                {
                  "key": "63",
                  "name": "GOVT_BUS_POC_COUNTRY_CODE",
                  "type": "string"
                },
                {
                  "key": "64",
                  "name": "GOVT_BUS_POC_STATE_OR_PROVINCE",
                  "type": "string"
                },
                {
                  "key": "65",
                  "name": "ALT_GOVT_BUS_POC_FIRST_NAME",
                  "type": "string"
                },
                {
                  "key": "66",
                  "name": "ALT_GOVT_BUS_POC_MIDDLE_INITIAL",
                  "type": "string"
                },
                {
                  "key": "67",
                  "name": "ALT_GOVT_BUS_POC_LAST_NAME",
                  "type": "string"
                },
                {
                  "key": "68",
                  "name": "ALT_GOVT_BUS_POC_TITLE",
                  "type": "string"
                },
                {
                  "key": "69",
                  "name": "ALT_GOVT_BUS_POC_ST_ADD_1",
                  "type": "string"
                },
                {
                  "key": "70",
                  "name": "ALT_GOVT_BUS_POC_ST_ADD_2",
                  "type": "string"
                },
                {
                  "key": "71",
                  "name": "ALT_GOVT_BUS_POC_CITY",
                  "type": "string"
                },
                {
                  "key": "72",
                  "name": "ALT_GOVT_BUS_POC_ZIP/POSTAL_CODE",
                  "type": "string"
                },
                {
                  "key": "73",
                  "name": "ALT_GOVT_BUS_POC_ZIP_CODE_4",
                  "type": "string"
                },
                {
                  "key": "74",
                  "name": "ALT_GOVT_BUS_POC_COUNTRY_CODE",
                  "type": "string"
                },
                {
                  "key": "75",
                  "name": "ALT_GOVT_BUS_POC_STATE_OR_PROVINCE",
                  "type": "string"
                },
                {
                  "key": "76",
                  "name": "PAST_PERF_POC_POC_FIRST_NAME",
                  "type": "string"
                },
                {
                  "key": "77",
                  "name": "PAST_PERF_POC_POC_MIDDLE_INITIAL",
                  "type": "string"
                },
                {
                  "key": "78",
                  "name": "PAST_PERF_POC_POC_LAST_NAME",
                  "type": "string"
                },
                {
                  "key": "79",
                  "name": "PAST_PERF_POC_POC_TITLE",
                  "type": "string"
                },
                {
                  "key": "80",
                  "name": "PAST_PERF_POC_ST_ADD_1",
                  "type": "string"
                },
                {
                  "key": "81",
                  "name": "PAST_PERF_POC_ST_ADD_2",
                  "type": "string"
                },
                {
                  "key": "82",
                  "name": "PAST_PERF_POC_CITY",
                  "type": "string"
                },
                {
                  "key": "83",
                  "name": "PAST_PERF_POC_ZIP/POSTAL_CODE",
                  "type": "string"
                },
                {
                  "key": "84",
                  "name": "PAST_PERF_POC_ZIP_CODE_4",
                  "type": "string"
                },
                {
                  "key": "85",
                  "name": "PAST_PERF_POC_COUNTRY_CODE",
                  "type": "string"
                },
                {
                  "key": "86",
                  "name": "PAST_PERF_POC_STATE_OR_PROVINCE",
                  "type": "string"
                },
                {
                  "key": "87",
                  "name": "ALT_PAST_PERF_POC_FIRST_NAME",
                  "type": "string"
                },
                {
                  "key": "88",
                  "name": "ALT_PAST_PERF_POC_MIDDLE_INITIAL",
                  "type": "string"
                },
                {
                  "key": "89",
                  "name": "ALT_PAST_PERF_POC_LAST_NAME",
                  "type": "string"
                },
                {
                  "key": "90",
                  "name": "ALT_PAST_PERF_POC_TITLE",
                  "type": "string"
                },
                {
                  "key": "91",
                  "name": "ALT_PAST_PERF_POC_ST_ADD_1",
                  "type": "string"
                },
                {
                  "key": "92",
                  "name": "ALT_PAST_PERF_POC_ST_ADD_2",
                  "type": "string"
                },
                {
                  "key": "93",
                  "name": "ALT_PAST_PERF_POC_CITY",
                  "type": "string"
                },
                {
                  "key": "94",
                  "name": "ALT_PAST_PERF_POC_ZIP/POSTAL_CODE",
                  "type": "string"
                },
                {
                  "key": "95",
                  "name": "ALT_PAST_PERF_POC_ZIP_CODE_4",
                  "type": "string"
                },
                {
                  "key": "96",
                  "name": "ALT_PAST_PERF_POC_COUNTRY_CODE",
                  "type": "string"
                },
                {
                  "key": "97",
                  "name": "ALT_PAST_PERF_POC_STATE_OR_PROVINCE",
                  "type": "string"
                },
                {
                  "key": "98",
                  "name": "ELEC_BUS_POC_FIRST_NAME",
                  "type": "string"
                },
                {
                  "key": "99",
                  "name": "ELEC_BUS_POC_MIDDLE_INITIAL",
                  "type": "string"
                },
                {
                  "key": "100",
                  "name": "ELEC_BUS_POC_LAST_NAME",
                  "type": "string"
                },
                {
                  "key": "101",
                  "name": "ELEC_BUS_POC_TITLE",
                  "type": "string"
                },
                {
                  "key": "102",
                  "name": "ELEC_BUS_POC_ST_ADD_1",
                  "type": "string"
                },
                {
                  "key": "103",
                  "name": "ELEC_BUS_POC_ST_ADD_2",
                  "type": "string"
                },
                {
                  "key": "104",
                  "name": "ELEC_BUS_POC_CITY",
                  "type": "string"
                },
                {
                  "key": "105",
                  "name": "ELEC_BUS_POC_ZIP/POSTAL_CODE",
                  "type": "string"
                },
                {
                  "key": "106",
                  "name": "ELEC_BUS_POC_ZIP_CODE_4",
                  "type": "string"
                },
                {
                  "key": "107",
                  "name": "ELEC_BUS_POC_COUNTRY_CODE",
                  "type": "string"
                },
                {
                  "key": "108",
                  "name": "ELEC_BUS_POC_STATE_OR_PROVINCE",
                  "type": "string"
                },
                {
                  "key": "109",
                  "name": "ALT_ELEC_POC_BUS_POC_FIRST_NAME",
                  "type": "string"
                },
                {
                  "key": "110",
                  "name": "ALT_ELEC_POC_BUS_POC_MIDDLE_INITIAL",
                  "type": "string"
                },
                {
                  "key": "111",
                  "name": "ALT_ELEC_POC_BUS_POC_LAST_NAME",
                  "type": "string"
                },
                {
                  "key": "112",
                  "name": "ALT_ELEC_POC_BUS_POC_TITLE",
                  "type": "string"
                },
                {
                  "key": "113",
                  "name": "ALT_ELEC_POC_BUS_ST_ADD_1",
                  "type": "string"
                },
                {
                  "key": "114",
                  "name": "ALT_ELEC_POC_BUS_ST_ADD_2",
                  "type": "string"
                },
                {
                  "key": "115",
                  "name": "ALT_ELEC_POC_BUS_CITY",
                  "type": "string"
                },
                {
                  "key": "116",
                  "name": "ALT_ELEC_POC_BUS_ZIP/POSTAL_CODE",
                  "type": "string"
                },
                {
                  "key": "117",
                  "name": "ALT_ELEC_POC_BUS_ZIP_CODE_4",
                  "type": "string"
                },
                {
                  "key": "118",
                  "name": "ALT_ELEC_POC_BUS_COUNTRY_CODE",
                  "type": "string"
                },
                {
                  "key": "119",
                  "name": "ALT_ELEC_POC_BUS_STATE_OR_PROVINCE",
                  "type": "string"
                },
                {
                  "key": "120",
                  "name": "NAICS_EXCEPTION_COUNTER",
                  "type": "string"
                },
                {
                  "key": "121",
                  "name": "NAICS_EXCEPTION_STRING",
                  "type": "string"
                },
                {
                  "key": "122",
                  "name": "DEBT_SUBJECT_TO_OFFSET_FLAG",
                  "type": "string"
                },
                {
                  "key": "123",
                  "name": "EXCLUSION_STATUS_FLAG",
                  "type": "string"
                },
                {
                  "key": "124",
                  "name": "SBA_BUSINESS_TYPES_COUNTER",
                  "type": "string"
                },
                {
                  "key": "125",
                  "name": "SBA_BUSINESS_TYPES_STRING",
                  "type": "string"
                },
                {
                  "key": "126",
                  "name": "NO_PUBLIC_DISPLAY_FLAG",
                  "type": "string"
                },
                {
                  "key": "127",
                  "name": "DISASTER_RESPONSE_COUNTER",
                  "type": "string"
                },
                {
                  "key": "128",
                  "name": "DISASTER_RESPONSE_STRING",
                  "type": "string"
                },
                {
                  "key": "129",
                  "name": "ENTITY_EVS_SOURCE",
                  "type": "string"
                },
                {
                  "key": "130",
                  "name": "FLEX_FIELD_1",
                  "type": "string"
                },
                {
                  "key": "131",
                  "name": "FLEX_FIELD_2",
                  "type": "string"
                },
                {
                  "key": "132",
                  "name": "FLEX_FIELD_3",
                  "type": "string"
                },
                {
                  "key": "133",
                  "name": "FLEX_FIELD_4",
                  "type": "string"
                },
                {
                  "key": "134",
                  "name": "FLEX_FIELD_5",
                  "type": "string"
                },
                {
                  "key": "135",
                  "name": "FLEX_FIELD_6",
                  "type": "string"
                },
                {
                  "key": "136",
                  "name": "FLEX_FIELD_7",
                  "type": "string"
                },
                {
                  "key": "137",
                  "name": "FLEX_FIELD_8",
                  "type": "string"
                },
                {
                  "key": "138",
                  "name": "FLEX_FIELD_9",
                  "type": "string"
                },
                {
                  "key": "139",
                  "name": "FLEX_FIELD_10",
                  "type": "string"
                },
                {
                  "key": "140",
                  "name": "FLEX_FIELD_11",
                  "type": "string"
                },
                {
                  "key": "141",
                  "name": "FLEX_FIELD_12",
                  "type": "string"
                },
                {
                  "key": "142",
                  "name": "FLEX_FIELD_13",
                  "type": "string"
                },
                {
                  "key": "143",
                  "name": "FLEX_FIELD_14",
                  "type": "string"
                },
                {
                  "key": "144",
                  "name": "FLEX_FIELD_15",
                  "type": "string"
                },
                {
                  "key": "145",
                  "name": "FLEX_FIELD_16",
                  "type": "string"
                },
                {
                  "key": "146",
                  "name": "FLEX_FIELD_17",
                  "type": "string"
                },
                {
                  "key": "147",
                  "name": "FLEX_FIELD_18",
                  "type": "string"
                },
                {
                  "key": "148",
                  "name": "FLEX_FIELD_19",
                  "type": "string"
                },
                {
                  "key": "149",
                  "name": "END_OF_RECORD_INDICATOR",
                  "type": "string"
                },
                {
                  "key": "150",
                  "name": "PARTITION_KEY",
                  "type": "string"
                }
              ],
              "truncated": false
            },
            "isSummary": false,
            "language": "scala",
            "wranglerEntryContext": {
              "dataframeType": "pyspark"
            }
          },
          "persist_state": {
            "view": {
              "type": "details",
              "tableOptions": {},
              "chartOptions": {
                "chartType": "bar",
                "aggregationType": "sum",
                "categoryFieldKeys": [
                  "0"
                ],
                "seriesFieldKeys": [
                  "2"
                ],
                "isStacked": false
              }
            }
          }
        }
      }
    }
  },
  "nbformat": 4,
  "nbformat_minor": 2
}